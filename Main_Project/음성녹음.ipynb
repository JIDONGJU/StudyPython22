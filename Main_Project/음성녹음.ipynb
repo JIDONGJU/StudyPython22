{
 "cells": [
  {
   "cell_type": "code",
   "execution_count": 7,
   "metadata": {},
   "outputs": [
    {
     "name": "stdout",
     "output_type": "stream",
     "text": [
      "음성을 입력하세요\n",
      "음성변환 :어디 갔어 나 집에 가고 싶다\n",
      "음성을 입력하세요\n",
      "음성변환 :치킨 먹고 싶다\n",
      "음성을 입력하세요\n",
      " 어디 갔어 나 집에 가고 싶다 치킨 먹고 싶다\n"
     ]
    }
   ],
   "source": [
    "# pip install pyaudio\n",
    "import speech_recognition as sr\n",
    "\n",
    "text = \"\"\n",
    "\n",
    "\n",
    "try :\n",
    "    while True :\n",
    "        r = sr.Recognizer()\n",
    "        \n",
    "        with sr.Microphone() as source:                                          # 음성 입력\n",
    "            print('음성을 입력하세요')\n",
    "            audio = r.listen(source)\n",
    "            try :\n",
    "                print('음성변환 :'+ r.recognize_google(audio, language='ko-KR'))\n",
    "                text = text + \" \" + (r.recognize_google(audio, language='ko-KR')) #한글로 변환\n",
    "            except sr.UnknownValueError :                   # 오디오 불량 에러\n",
    "                # print('오디오를 이해할 수 없습니다')\n",
    "                # continue\n",
    "                break\n",
    "            except sr.RequestError as e :                   # 구글요청 에러\n",
    "                print(f'에러가 발생하였습니다. 에러원인 : {e}')\n",
    "\n",
    "except KeyboardInterrupt :\n",
    "    pass\n",
    "\n",
    "print(text)"
   ]
  },
  {
   "cell_type": "code",
   "execution_count": null,
   "metadata": {},
   "outputs": [],
   "source": []
  }
 ],
 "metadata": {
  "kernelspec": {
   "display_name": "Python 3.9.12 64-bit",
   "language": "python",
   "name": "python3"
  },
  "language_info": {
   "codemirror_mode": {
    "name": "ipython",
    "version": 3
   },
   "file_extension": ".py",
   "mimetype": "text/x-python",
   "name": "python",
   "nbconvert_exporter": "python",
   "pygments_lexer": "ipython3",
   "version": "3.9.12"
  },
  "orig_nbformat": 4,
  "vscode": {
   "interpreter": {
    "hash": "38ae1ba9371524da054e8e3fbefd778d16b5a8ac7937a3f395010f627bb73919"
   }
  }
 },
 "nbformat": 4,
 "nbformat_minor": 2
}
