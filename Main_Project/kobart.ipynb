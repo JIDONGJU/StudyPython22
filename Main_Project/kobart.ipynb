{
 "cells": [
  {
   "cell_type": "code",
   "execution_count": 1,
   "metadata": {},
   "outputs": [
    {
     "ename": "ModuleNotFoundError",
     "evalue": "No module named 'torch'",
     "output_type": "error",
     "traceback": [
      "\u001b[1;31m---------------------------------------------------------------------------\u001b[0m",
      "\u001b[1;31mModuleNotFoundError\u001b[0m                       Traceback (most recent call last)",
      "\u001b[1;32mc:\\STUDY\\StudyPython22\\Main_Project\\kobart.ipynb 셀 1\u001b[0m in \u001b[0;36m<cell line: 1>\u001b[1;34m()\u001b[0m\n\u001b[1;32m----> <a href='vscode-notebook-cell:/c%3A/STUDY/StudyPython22/Main_Project/kobart.ipynb#W0sZmlsZQ%3D%3D?line=0'>1</a>\u001b[0m \u001b[39mimport\u001b[39;00m \u001b[39mtorch\u001b[39;00m\n\u001b[0;32m      <a href='vscode-notebook-cell:/c%3A/STUDY/StudyPython22/Main_Project/kobart.ipynb#W0sZmlsZQ%3D%3D?line=1'>2</a>\u001b[0m \u001b[39mfrom\u001b[39;00m \u001b[39mtransformers\u001b[39;00m \u001b[39mimport\u001b[39;00m PreTrainedTokenizerFast\n\u001b[0;32m      <a href='vscode-notebook-cell:/c%3A/STUDY/StudyPython22/Main_Project/kobart.ipynb#W0sZmlsZQ%3D%3D?line=2'>3</a>\u001b[0m \u001b[39mfrom\u001b[39;00m \u001b[39mtransformers\u001b[39;00m \u001b[39mimport\u001b[39;00m BartForConditionalGeneration\n",
      "\u001b[1;31mModuleNotFoundError\u001b[0m: No module named 'torch'"
     ]
    }
   ],
   "source": [
    "import torch\n",
    "from transformers import PreTrainedTokenizerFast\n",
    "from transformers import BartForConditionalGeneration\n",
    "\n",
    "tokenizer = PreTrainedTokenizerFast.from_pretrained('digit82/kobart-summarization')\n",
    "model = BartForConditionalGeneration.from_pretrained('digit82/kobart-summarization')\n",
    "\n",
    "text = \"\"\"\n",
    "해리 케인(토트넘 홋스퍼)의 바이에른 뮌헨 이적설은 지난 여름 해프닝으로 끝났지만, 완전히 마무리 되지 않았다.\n",
    "\n",
    "영국 매체 ‘더 선’은 13일(한국시간) 보도에서 “케인이 뮌헨의 영입 제안에 유혹을 받고 있다”라고 전했다.\n",
    "\n",
    "케인은 이미 지난 여름 뮌헨과 강하게 연결됐다. 뮌헨은 로베르트 레반도프스키의 FC바르셀로나(이하 바르사) 이적으로 대체자가 필요했고, 케인을 낙점했다. 그러나 토트넘은 1년 전 맨체스터 시티의 사례와 마찬가지로 뮌헨 제의를 뿌리 쳤다.\n",
    "\n",
    "그러나 ‘스카이 스포츠 독일’ 플로리안 플레텐부르그 기자는 “케인 대리인이 뮌헨 구단과 협상 중이다”라고 전했다. 오는 2023년 여름이면 뮌헨으로 갈 가능성이 있다.\n",
    "\n",
    "특히, 케인에게도 뮌헨은 자신의 니즈를 채워줄 팀이다. 케인이 이적을 시도할 때 마다 가장 중요한 건 우승 가능성이 높은 팀이다. 뮌헨은 독일 분데스리가는 물론 UEFA 챔피언스리그 우승 가능성도 큰 팀이라 매력적이다.\n",
    "\n",
    "팀의 상징이자 에이스인 케인 이적은 토트넘에 반갑지 않다. 케인은 토트넘과 2024년 여름까지 계약되어 있다.\n",
    "\"\"\"\n",
    "\n",
    "text = text.replace('\\n', ' ')\n",
    "\n",
    "raw_input_ids = tokenizer.encode(text)\n",
    "input_ids = [tokenizer.bos_token_id] + raw_input_ids + [tokenizer.eos_token_id]\n",
    "\n",
    "summary_ids = model.generate(torch.tensor([input_ids]),  num_beams=4,  max_length=512,  eos_token_id=1)\n",
    "tokenizer.decode(summary_ids.squeeze().tolist(), skip_special_tokens=True)"
   ]
  },
  {
   "cell_type": "code",
   "execution_count": null,
   "metadata": {},
   "outputs": [],
   "source": []
  }
 ],
 "metadata": {
  "kernelspec": {
   "display_name": "Python 3.10.5 64-bit",
   "language": "python",
   "name": "python3"
  },
  "language_info": {
   "codemirror_mode": {
    "name": "ipython",
    "version": 3
   },
   "file_extension": ".py",
   "mimetype": "text/x-python",
   "name": "python",
   "nbconvert_exporter": "python",
   "pygments_lexer": "ipython3",
   "version": "3.10.5"
  },
  "orig_nbformat": 4,
  "vscode": {
   "interpreter": {
    "hash": "fb4569285eef3a3450cb62085a5b1e0da4bce0af555edc33dcf29baf3acc1368"
   }
  }
 },
 "nbformat": 4,
 "nbformat_minor": 2
}
