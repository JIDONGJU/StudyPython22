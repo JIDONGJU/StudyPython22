{
 "cells": [
  {
   "cell_type": "code",
   "execution_count": 2,
   "id": "a82c74b8",
   "metadata": {},
   "outputs": [
    {
     "data": {
      "text/plain": [
       "[(1, 2, 3), (4, 5, 6)]"
      ]
     },
     "execution_count": 2,
     "metadata": {},
     "output_type": "execute_result"
    }
   ],
   "source": [
    "# [(1, 2, 3), (4, 5, 6)]\n",
    "# 첫번째 for문 : 리스트에서 튜플 가지고 오기\n",
    "# 두번째 for문 : 튜플에서 각각의 값을 가지고 오기\n",
    "row = [(1, 2, 3), (4, 5, 6)]\n",
    "row"
   ]
  },
  {
   "cell_type": "code",
   "execution_count": 3,
   "id": "484b7a78",
   "metadata": {},
   "outputs": [
    {
     "data": {
      "text/plain": [
       "['no1', 'no2', 'no3']"
      ]
     },
     "execution_count": 3,
     "metadata": {},
     "output_type": "execute_result"
    }
   ],
   "source": [
    "col_name = ['no1', 'no2', 'no3']\n",
    "col_name"
   ]
  },
  {
   "cell_type": "code",
   "execution_count": 13,
   "id": "ffb8b33f",
   "metadata": {},
   "outputs": [
    {
     "name": "stdout",
     "output_type": "stream",
     "text": [
      "(1, 2, 3)\n",
      "1\n",
      "2\n",
      "3\n",
      "(4, 5, 6)\n",
      "4\n",
      "5\n",
      "6\n"
     ]
    }
   ],
   "source": [
    "# 딕셔너리 전체를 담을 리스트 변수\n",
    "list_row = []\n",
    "\n",
    "for tup in row :\n",
    "    print(tup)\n",
    "    dict_row = {}\n",
    "    \n",
    "    for i in range(0, len(tup), 1) :\n",
    "        print(tup[i])\n",
    "        dict_row[col_name[i]] = tup[i]\n",
    "    print(dict_row)\n",
    "    list_row.append(dict_row)\n",
    "print(list_row) "
   ]
  },
  {
   "cell_type": "code",
   "execution_count": null,
   "id": "6514a996",
   "metadata": {},
   "outputs": [],
   "source": [
    "\"\"\"\n",
    "[문제]\n",
    "dict_val이라는 딕셔너리 변수에\n",
    "아래값을 넣기\n",
    "a키에는 리스트 \"aa\", \"bb\", \"cc\" 넣기\n",
    "b키에는 리스트 \"a\", \"b\", \"c \" 넣기\n",
    "\n",
    "dict_val에 들어있는 키값에 대한 리스트 출력하기\n",
    "\n",
    "\"\"\""
   ]
  },
  {
   "cell_type": "code",
   "execution_count": 50,
   "id": "ce123c70",
   "metadata": {},
   "outputs": [
    {
     "data": {
      "text/plain": [
       "{'a': ['aaa', 'bbb', 'ccc', 'ddd'],\n",
       " 'b': ['aa', 'bb', 'cc', 'dd'],\n",
       " 'c': ['a', 'b', 'c', 'd']}"
      ]
     },
     "execution_count": 50,
     "metadata": {},
     "output_type": "execute_result"
    }
   ],
   "source": [
    "dict_val ={\"a\" : [\"aaa\",\"bbb\",\"ccc\",\"ddd\"],\n",
    "           \"b\" : [\"aa\",\"bb\", 'cc',\"dd\"],\n",
    "           \"c\" : [\"a\", \"b\",\"c\",\"d\"]}\n",
    "dict_val"
   ]
  },
  {
   "cell_type": "code",
   "execution_count": 51,
   "id": "5029fe2f",
   "metadata": {},
   "outputs": [
    {
     "data": {
      "text/plain": [
       "'b'"
      ]
     },
     "execution_count": 51,
     "metadata": {},
     "output_type": "execute_result"
    }
   ],
   "source": [
    "dict_val[\"c\"][1]"
   ]
  },
  {
   "cell_type": "code",
   "execution_count": 57,
   "id": "3a1aea0d",
   "metadata": {},
   "outputs": [
    {
     "name": "stdout",
     "output_type": "stream",
     "text": [
      "['aaa', 'bbb', 'ccc', 'ddd']\n",
      "['aa', 'bb', 'cc', 'dd']\n",
      "['a', 'b', 'c', 'd']\n"
     ]
    }
   ],
   "source": [
    "# key가 3개이기 때문에 dictionary는 키를 기준으로 돌림\n",
    "for k in dict_val :\n",
    "    print(dict_val[k])"
   ]
  },
  {
   "cell_type": "code",
   "execution_count": 62,
   "id": "2151ef78",
   "metadata": {},
   "outputs": [
    {
     "name": "stdout",
     "output_type": "stream",
     "text": [
      "aaa\n",
      "bbb\n",
      "ccc\n",
      "ddd\n",
      "aa\n",
      "bb\n",
      "cc\n",
      "dd\n",
      "a\n",
      "b\n",
      "c\n",
      "d\n"
     ]
    }
   ],
   "source": [
    "for k in dict_val :\n",
    "    for i in range(0, len(dict_val[k])) :\n",
    "        print(dict_val[k][i])"
   ]
  },
  {
   "cell_type": "code",
   "execution_count": 67,
   "id": "59a718f6",
   "metadata": {},
   "outputs": [
    {
     "name": "stdout",
     "output_type": "stream",
     "text": [
      "a\n",
      "b\n",
      "c\n"
     ]
    }
   ],
   "source": [
    "for k in dict_val : # dictionary의 key 값\n",
    "    print(k)"
   ]
  }
 ],
 "metadata": {
  "kernelspec": {
   "display_name": "Python 3.10.5 ('django')",
   "language": "python",
   "name": "python3"
  },
  "language_info": {
   "codemirror_mode": {
    "name": "ipython",
    "version": 3
   },
   "file_extension": ".py",
   "mimetype": "text/x-python",
   "name": "python",
   "nbconvert_exporter": "python",
   "pygments_lexer": "ipython3",
   "version": "3.10.5"
  },
  "vscode": {
   "interpreter": {
    "hash": "947a890199c58b057fb7db91b5ac834c8954d0d6b5c502c5d962cbbd75ebcd7f"
   }
  }
 },
 "nbformat": 4,
 "nbformat_minor": 5
}
