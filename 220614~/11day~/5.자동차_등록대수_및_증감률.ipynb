{
 "cells": [
  {
   "cell_type": "markdown",
   "metadata": {},
   "source": [
    "## 자동차 등록대수 및 증감률"
   ]
  },
  {
   "cell_type": "markdown",
   "metadata": {},
   "source": [
    "### 데이터 불러와서 전처리"
   ]
  },
  {
   "cell_type": "markdown",
   "metadata": {},
   "source": [
    "### 자동차 등록대수"
   ]
  },
  {
   "cell_type": "code",
   "execution_count": 103,
   "metadata": {},
   "outputs": [
    {
     "data": {
      "text/html": [
       "<div>\n",
       "<style scoped>\n",
       "    .dataframe tbody tr th:only-of-type {\n",
       "        vertical-align: middle;\n",
       "    }\n",
       "\n",
       "    .dataframe tbody tr th {\n",
       "        vertical-align: top;\n",
       "    }\n",
       "\n",
       "    .dataframe thead th {\n",
       "        text-align: right;\n",
       "    }\n",
       "</style>\n",
       "<table border=\"1\" class=\"dataframe\">\n",
       "  <thead>\n",
       "    <tr style=\"text-align: right;\">\n",
       "      <th></th>\n",
       "      <th>0</th>\n",
       "      <th>1</th>\n",
       "      <th>2</th>\n",
       "      <th>3</th>\n",
       "      <th>4</th>\n",
       "    </tr>\n",
       "  </thead>\n",
       "  <tbody>\n",
       "    <tr>\n",
       "      <th>구분(1)</th>\n",
       "      <td>구분(1)</td>\n",
       "      <td>총합계</td>\n",
       "      <td>총합계</td>\n",
       "      <td>총합계</td>\n",
       "      <td>총합계</td>\n",
       "    </tr>\n",
       "    <tr>\n",
       "      <th>레벨01(1)</th>\n",
       "      <td>레벨01(1)</td>\n",
       "      <td>승용</td>\n",
       "      <td>승합</td>\n",
       "      <td>화물</td>\n",
       "      <td>특수</td>\n",
       "    </tr>\n",
       "    <tr>\n",
       "      <th>2015</th>\n",
       "      <td>계</td>\n",
       "      <td>16561665</td>\n",
       "      <td>920320</td>\n",
       "      <td>3432937</td>\n",
       "      <td>74963</td>\n",
       "    </tr>\n",
       "    <tr>\n",
       "      <th>2015.1</th>\n",
       "      <td>관용</td>\n",
       "      <td>27004</td>\n",
       "      <td>19079</td>\n",
       "      <td>29052</td>\n",
       "      <td>2422</td>\n",
       "    </tr>\n",
       "    <tr>\n",
       "      <th>2015.2</th>\n",
       "      <td>자가용</td>\n",
       "      <td>15807517</td>\n",
       "      <td>776127</td>\n",
       "      <td>3020822</td>\n",
       "      <td>18103</td>\n",
       "    </tr>\n",
       "    <tr>\n",
       "      <th>2015.3</th>\n",
       "      <td>영업용</td>\n",
       "      <td>727144</td>\n",
       "      <td>125114</td>\n",
       "      <td>383063</td>\n",
       "      <td>54438</td>\n",
       "    </tr>\n",
       "    <tr>\n",
       "      <th>2016</th>\n",
       "      <td>계</td>\n",
       "      <td>17338160</td>\n",
       "      <td>892539</td>\n",
       "      <td>3492173</td>\n",
       "      <td>80479</td>\n",
       "    </tr>\n",
       "    <tr>\n",
       "      <th>2016.1</th>\n",
       "      <td>관용</td>\n",
       "      <td>27750</td>\n",
       "      <td>20260</td>\n",
       "      <td>29834</td>\n",
       "      <td>2532</td>\n",
       "    </tr>\n",
       "    <tr>\n",
       "      <th>2016.2</th>\n",
       "      <td>자가용</td>\n",
       "      <td>16505364</td>\n",
       "      <td>746360</td>\n",
       "      <td>3072915</td>\n",
       "      <td>20670</td>\n",
       "    </tr>\n",
       "    <tr>\n",
       "      <th>2016.3</th>\n",
       "      <td>영업용</td>\n",
       "      <td>805046</td>\n",
       "      <td>125919</td>\n",
       "      <td>389424</td>\n",
       "      <td>57277</td>\n",
       "    </tr>\n",
       "  </tbody>\n",
       "</table>\n",
       "</div>"
      ],
      "text/plain": [
       "               0         1       2        3      4\n",
       "구분(1)      구분(1)       총합계     총합계      총합계    총합계\n",
       "레벨01(1)  레벨01(1)        승용      승합       화물     특수\n",
       "2015           계  16561665  920320  3432937  74963\n",
       "2015.1        관용     27004   19079    29052   2422\n",
       "2015.2       자가용  15807517  776127  3020822  18103\n",
       "2015.3       영업용    727144  125114   383063  54438\n",
       "2016           계  17338160  892539  3492173  80479\n",
       "2016.1        관용     27750   20260    29834   2532\n",
       "2016.2       자가용  16505364  746360  3072915  20670\n",
       "2016.3       영업용    805046  125919   389424  57277"
      ]
     },
     "execution_count": 103,
     "metadata": {},
     "output_type": "execute_result"
    }
   ],
   "source": [
    "import pandas as pd\n",
    "import numpy as np\n",
    "\n",
    "file_path = './data/raw/자동차등록대수현황_연도별.csv'\n",
    "car_year = pd.read_csv(file_path, encoding='euc-kr')\n",
    "car_year = car_year.transpose()\n",
    "car_year.head(10)"
   ]
  },
  {
   "cell_type": "code",
   "execution_count": 104,
   "metadata": {},
   "outputs": [
    {
     "data": {
      "text/html": [
       "<div>\n",
       "<style scoped>\n",
       "    .dataframe tbody tr th:only-of-type {\n",
       "        vertical-align: middle;\n",
       "    }\n",
       "\n",
       "    .dataframe tbody tr th {\n",
       "        vertical-align: top;\n",
       "    }\n",
       "\n",
       "    .dataframe thead th {\n",
       "        text-align: right;\n",
       "    }\n",
       "</style>\n",
       "<table border=\"1\" class=\"dataframe\">\n",
       "  <thead>\n",
       "    <tr style=\"text-align: right;\">\n",
       "      <th></th>\n",
       "      <th>승용</th>\n",
       "      <th>승합</th>\n",
       "      <th>화물</th>\n",
       "      <th>특수</th>\n",
       "    </tr>\n",
       "  </thead>\n",
       "  <tbody>\n",
       "    <tr>\n",
       "      <th>2015</th>\n",
       "      <td>16561665</td>\n",
       "      <td>920320</td>\n",
       "      <td>3432937</td>\n",
       "      <td>74963</td>\n",
       "    </tr>\n",
       "    <tr>\n",
       "      <th>2016</th>\n",
       "      <td>17338160</td>\n",
       "      <td>892539</td>\n",
       "      <td>3492173</td>\n",
       "      <td>80479</td>\n",
       "    </tr>\n",
       "    <tr>\n",
       "      <th>2017</th>\n",
       "      <td>18034540</td>\n",
       "      <td>867522</td>\n",
       "      <td>3540323</td>\n",
       "      <td>85910</td>\n",
       "    </tr>\n",
       "    <tr>\n",
       "      <th>2018</th>\n",
       "      <td>18676924</td>\n",
       "      <td>843794</td>\n",
       "      <td>3590939</td>\n",
       "      <td>90898</td>\n",
       "    </tr>\n",
       "    <tr>\n",
       "      <th>2019</th>\n",
       "      <td>19177517</td>\n",
       "      <td>811799</td>\n",
       "      <td>3592586</td>\n",
       "      <td>95464</td>\n",
       "    </tr>\n",
       "    <tr>\n",
       "      <th>2020</th>\n",
       "      <td>19860955</td>\n",
       "      <td>783842</td>\n",
       "      <td>3615245</td>\n",
       "      <td>105937</td>\n",
       "    </tr>\n",
       "    <tr>\n",
       "      <th>2021</th>\n",
       "      <td>20410648</td>\n",
       "      <td>749968</td>\n",
       "      <td>3631975</td>\n",
       "      <td>118510</td>\n",
       "    </tr>\n",
       "  </tbody>\n",
       "</table>\n",
       "</div>"
      ],
      "text/plain": [
       "            승용      승합       화물      특수\n",
       "2015  16561665  920320  3432937   74963\n",
       "2016  17338160  892539  3492173   80479\n",
       "2017  18034540  867522  3540323   85910\n",
       "2018  18676924  843794  3590939   90898\n",
       "2019  19177517  811799  3592586   95464\n",
       "2020  19860955  783842  3615245  105937\n",
       "2021  20410648  749968  3631975  118510"
      ]
     },
     "execution_count": 104,
     "metadata": {},
     "output_type": "execute_result"
    }
   ],
   "source": [
    "car_total = car_year.loc[['2015','2016','2017','2018','2019','2020','2021']]\n",
    "car_total.columns = ['계','승용','승합','화물','특수']\n",
    "car_total = car_total.drop([\"계\"], axis=1)\n",
    "car_total = car_total.astype(int)\n",
    "car_total"
   ]
  },
  {
   "cell_type": "code",
   "execution_count": 105,
   "metadata": {},
   "outputs": [
    {
     "data": {
      "text/html": [
       "<div>\n",
       "<style scoped>\n",
       "    .dataframe tbody tr th:only-of-type {\n",
       "        vertical-align: middle;\n",
       "    }\n",
       "\n",
       "    .dataframe tbody tr th {\n",
       "        vertical-align: top;\n",
       "    }\n",
       "\n",
       "    .dataframe thead th {\n",
       "        text-align: right;\n",
       "    }\n",
       "</style>\n",
       "<table border=\"1\" class=\"dataframe\">\n",
       "  <thead>\n",
       "    <tr style=\"text-align: right;\">\n",
       "      <th></th>\n",
       "      <th>년도</th>\n",
       "      <th>승용</th>\n",
       "      <th>승합</th>\n",
       "      <th>화물</th>\n",
       "      <th>특수</th>\n",
       "    </tr>\n",
       "  </thead>\n",
       "  <tbody>\n",
       "    <tr>\n",
       "      <th>0</th>\n",
       "      <td>2015</td>\n",
       "      <td>16561665</td>\n",
       "      <td>920320</td>\n",
       "      <td>3432937</td>\n",
       "      <td>74963</td>\n",
       "    </tr>\n",
       "    <tr>\n",
       "      <th>1</th>\n",
       "      <td>2016</td>\n",
       "      <td>17338160</td>\n",
       "      <td>892539</td>\n",
       "      <td>3492173</td>\n",
       "      <td>80479</td>\n",
       "    </tr>\n",
       "    <tr>\n",
       "      <th>2</th>\n",
       "      <td>2017</td>\n",
       "      <td>18034540</td>\n",
       "      <td>867522</td>\n",
       "      <td>3540323</td>\n",
       "      <td>85910</td>\n",
       "    </tr>\n",
       "    <tr>\n",
       "      <th>3</th>\n",
       "      <td>2018</td>\n",
       "      <td>18676924</td>\n",
       "      <td>843794</td>\n",
       "      <td>3590939</td>\n",
       "      <td>90898</td>\n",
       "    </tr>\n",
       "    <tr>\n",
       "      <th>4</th>\n",
       "      <td>2019</td>\n",
       "      <td>19177517</td>\n",
       "      <td>811799</td>\n",
       "      <td>3592586</td>\n",
       "      <td>95464</td>\n",
       "    </tr>\n",
       "    <tr>\n",
       "      <th>5</th>\n",
       "      <td>2020</td>\n",
       "      <td>19860955</td>\n",
       "      <td>783842</td>\n",
       "      <td>3615245</td>\n",
       "      <td>105937</td>\n",
       "    </tr>\n",
       "    <tr>\n",
       "      <th>6</th>\n",
       "      <td>2021</td>\n",
       "      <td>20410648</td>\n",
       "      <td>749968</td>\n",
       "      <td>3631975</td>\n",
       "      <td>118510</td>\n",
       "    </tr>\n",
       "  </tbody>\n",
       "</table>\n",
       "</div>"
      ],
      "text/plain": [
       "     년도        승용      승합       화물      특수\n",
       "0  2015  16561665  920320  3432937   74963\n",
       "1  2016  17338160  892539  3492173   80479\n",
       "2  2017  18034540  867522  3540323   85910\n",
       "3  2018  18676924  843794  3590939   90898\n",
       "4  2019  19177517  811799  3592586   95464\n",
       "5  2020  19860955  783842  3615245  105937\n",
       "6  2021  20410648  749968  3631975  118510"
      ]
     },
     "execution_count": 105,
     "metadata": {},
     "output_type": "execute_result"
    }
   ],
   "source": [
    "car_total = car_total.reset_index()\n",
    "car_total.columns = ['년도','승용','승합','화물','특수']\n",
    "car_total "
   ]
  },
  {
   "cell_type": "markdown",
   "metadata": {},
   "source": [
    "### 증감률"
   ]
  },
  {
   "cell_type": "code",
   "execution_count": 134,
   "metadata": {},
   "outputs": [
    {
     "data": {
      "text/html": [
       "<div>\n",
       "<style scoped>\n",
       "    .dataframe tbody tr th:only-of-type {\n",
       "        vertical-align: middle;\n",
       "    }\n",
       "\n",
       "    .dataframe tbody tr th {\n",
       "        vertical-align: top;\n",
       "    }\n",
       "\n",
       "    .dataframe thead th {\n",
       "        text-align: right;\n",
       "    }\n",
       "</style>\n",
       "<table border=\"1\" class=\"dataframe\">\n",
       "  <thead>\n",
       "    <tr style=\"text-align: right;\">\n",
       "      <th></th>\n",
       "      <th>년도</th>\n",
       "      <th>승용</th>\n",
       "      <th>승합</th>\n",
       "      <th>화물</th>\n",
       "      <th>특수</th>\n",
       "      <th>총계</th>\n",
       "    </tr>\n",
       "  </thead>\n",
       "  <tbody>\n",
       "    <tr>\n",
       "      <th>0</th>\n",
       "      <td>2015</td>\n",
       "      <td>16561665</td>\n",
       "      <td>920320</td>\n",
       "      <td>3432937</td>\n",
       "      <td>74963</td>\n",
       "      <td>20989885</td>\n",
       "    </tr>\n",
       "    <tr>\n",
       "      <th>1</th>\n",
       "      <td>2016</td>\n",
       "      <td>17338160</td>\n",
       "      <td>892539</td>\n",
       "      <td>3492173</td>\n",
       "      <td>80479</td>\n",
       "      <td>21803351</td>\n",
       "    </tr>\n",
       "    <tr>\n",
       "      <th>2</th>\n",
       "      <td>2017</td>\n",
       "      <td>18034540</td>\n",
       "      <td>867522</td>\n",
       "      <td>3540323</td>\n",
       "      <td>85910</td>\n",
       "      <td>22528295</td>\n",
       "    </tr>\n",
       "    <tr>\n",
       "      <th>3</th>\n",
       "      <td>2018</td>\n",
       "      <td>18676924</td>\n",
       "      <td>843794</td>\n",
       "      <td>3590939</td>\n",
       "      <td>90898</td>\n",
       "      <td>23202555</td>\n",
       "    </tr>\n",
       "    <tr>\n",
       "      <th>4</th>\n",
       "      <td>2019</td>\n",
       "      <td>19177517</td>\n",
       "      <td>811799</td>\n",
       "      <td>3592586</td>\n",
       "      <td>95464</td>\n",
       "      <td>23677366</td>\n",
       "    </tr>\n",
       "    <tr>\n",
       "      <th>5</th>\n",
       "      <td>2020</td>\n",
       "      <td>19860955</td>\n",
       "      <td>783842</td>\n",
       "      <td>3615245</td>\n",
       "      <td>105937</td>\n",
       "      <td>24365979</td>\n",
       "    </tr>\n",
       "    <tr>\n",
       "      <th>6</th>\n",
       "      <td>2021</td>\n",
       "      <td>20410648</td>\n",
       "      <td>749968</td>\n",
       "      <td>3631975</td>\n",
       "      <td>118510</td>\n",
       "      <td>24911101</td>\n",
       "    </tr>\n",
       "  </tbody>\n",
       "</table>\n",
       "</div>"
      ],
      "text/plain": [
       "     년도        승용      승합       화물      특수        총계\n",
       "0  2015  16561665  920320  3432937   74963  20989885\n",
       "1  2016  17338160  892539  3492173   80479  21803351\n",
       "2  2017  18034540  867522  3540323   85910  22528295\n",
       "3  2018  18676924  843794  3590939   90898  23202555\n",
       "4  2019  19177517  811799  3592586   95464  23677366\n",
       "5  2020  19860955  783842  3615245  105937  24365979\n",
       "6  2021  20410648  749968  3631975  118510  24911101"
      ]
     },
     "execution_count": 134,
     "metadata": {},
     "output_type": "execute_result"
    }
   ],
   "source": [
    "car_total['총계'] = car_total['승용'] + car_total['승합'] + car_total['화물'] + car_total['특수']\n",
    "car_total"
   ]
  },
  {
   "cell_type": "code",
   "execution_count": 135,
   "metadata": {},
   "outputs": [
    {
     "data": {
      "text/html": [
       "<div>\n",
       "<style scoped>\n",
       "    .dataframe tbody tr th:only-of-type {\n",
       "        vertical-align: middle;\n",
       "    }\n",
       "\n",
       "    .dataframe tbody tr th {\n",
       "        vertical-align: top;\n",
       "    }\n",
       "\n",
       "    .dataframe thead th {\n",
       "        text-align: right;\n",
       "    }\n",
       "</style>\n",
       "<table border=\"1\" class=\"dataframe\">\n",
       "  <thead>\n",
       "    <tr style=\"text-align: right;\">\n",
       "      <th></th>\n",
       "      <th>증감비</th>\n",
       "      <th>년도</th>\n",
       "    </tr>\n",
       "  </thead>\n",
       "  <tbody>\n",
       "    <tr>\n",
       "      <th>0</th>\n",
       "      <td>NaN</td>\n",
       "      <td>2015</td>\n",
       "    </tr>\n",
       "    <tr>\n",
       "      <th>1</th>\n",
       "      <td>103.875514</td>\n",
       "      <td>2016</td>\n",
       "    </tr>\n",
       "    <tr>\n",
       "      <th>2</th>\n",
       "      <td>103.32492</td>\n",
       "      <td>2017</td>\n",
       "    </tr>\n",
       "    <tr>\n",
       "      <th>3</th>\n",
       "      <td>102.992947</td>\n",
       "      <td>2018</td>\n",
       "    </tr>\n",
       "    <tr>\n",
       "      <th>4</th>\n",
       "      <td>102.046374</td>\n",
       "      <td>2019</td>\n",
       "    </tr>\n",
       "    <tr>\n",
       "      <th>5</th>\n",
       "      <td>102.908318</td>\n",
       "      <td>2020</td>\n",
       "    </tr>\n",
       "    <tr>\n",
       "      <th>6</th>\n",
       "      <td>102.237226</td>\n",
       "      <td>2021</td>\n",
       "    </tr>\n",
       "  </tbody>\n",
       "</table>\n",
       "</div>"
      ],
      "text/plain": [
       "          증감비    년도\n",
       "0         NaN  2015\n",
       "1  103.875514  2016\n",
       "2   103.32492  2017\n",
       "3  102.992947  2018\n",
       "4  102.046374  2019\n",
       "5  102.908318  2020\n",
       "6  102.237226  2021"
      ]
     },
     "execution_count": 135,
     "metadata": {},
     "output_type": "execute_result"
    }
   ],
   "source": [
    "ratio = ['null']\n",
    "for i in range(0, 7, 1):\n",
    "    try:\n",
    "        ratio.append(car_total.iloc[i+1]['총계'] / car_total.iloc[i]['총계'] * 100)\n",
    "    except:\n",
    "        pass\n",
    "ratio = pd.DataFrame(ratio)\n",
    "ratio.columns = ['증감비']\n",
    "ratio.loc[0] = np.nan\n",
    "ratio['년도'] = ['2015','2016','2017','2018','2019','2020','2021']\n",
    "ratio"
   ]
  },
  {
   "cell_type": "code",
   "execution_count": 136,
   "metadata": {},
   "outputs": [
    {
     "data": {
      "text/html": [
       "<div>\n",
       "<style scoped>\n",
       "    .dataframe tbody tr th:only-of-type {\n",
       "        vertical-align: middle;\n",
       "    }\n",
       "\n",
       "    .dataframe tbody tr th {\n",
       "        vertical-align: top;\n",
       "    }\n",
       "\n",
       "    .dataframe thead th {\n",
       "        text-align: right;\n",
       "    }\n",
       "</style>\n",
       "<table border=\"1\" class=\"dataframe\">\n",
       "  <thead>\n",
       "    <tr style=\"text-align: right;\">\n",
       "      <th></th>\n",
       "      <th>년도</th>\n",
       "      <th>승용</th>\n",
       "      <th>승합</th>\n",
       "      <th>화물</th>\n",
       "      <th>특수</th>\n",
       "      <th>총계</th>\n",
       "      <th>증감비</th>\n",
       "    </tr>\n",
       "  </thead>\n",
       "  <tbody>\n",
       "    <tr>\n",
       "      <th>0</th>\n",
       "      <td>2015</td>\n",
       "      <td>16561665</td>\n",
       "      <td>920320</td>\n",
       "      <td>3432937</td>\n",
       "      <td>74963</td>\n",
       "      <td>20989885</td>\n",
       "      <td>NaN</td>\n",
       "    </tr>\n",
       "    <tr>\n",
       "      <th>1</th>\n",
       "      <td>2016</td>\n",
       "      <td>17338160</td>\n",
       "      <td>892539</td>\n",
       "      <td>3492173</td>\n",
       "      <td>80479</td>\n",
       "      <td>21803351</td>\n",
       "      <td>103.875514</td>\n",
       "    </tr>\n",
       "    <tr>\n",
       "      <th>2</th>\n",
       "      <td>2017</td>\n",
       "      <td>18034540</td>\n",
       "      <td>867522</td>\n",
       "      <td>3540323</td>\n",
       "      <td>85910</td>\n",
       "      <td>22528295</td>\n",
       "      <td>103.32492</td>\n",
       "    </tr>\n",
       "    <tr>\n",
       "      <th>3</th>\n",
       "      <td>2018</td>\n",
       "      <td>18676924</td>\n",
       "      <td>843794</td>\n",
       "      <td>3590939</td>\n",
       "      <td>90898</td>\n",
       "      <td>23202555</td>\n",
       "      <td>102.992947</td>\n",
       "    </tr>\n",
       "    <tr>\n",
       "      <th>4</th>\n",
       "      <td>2019</td>\n",
       "      <td>19177517</td>\n",
       "      <td>811799</td>\n",
       "      <td>3592586</td>\n",
       "      <td>95464</td>\n",
       "      <td>23677366</td>\n",
       "      <td>102.046374</td>\n",
       "    </tr>\n",
       "    <tr>\n",
       "      <th>5</th>\n",
       "      <td>2020</td>\n",
       "      <td>19860955</td>\n",
       "      <td>783842</td>\n",
       "      <td>3615245</td>\n",
       "      <td>105937</td>\n",
       "      <td>24365979</td>\n",
       "      <td>102.908318</td>\n",
       "    </tr>\n",
       "    <tr>\n",
       "      <th>6</th>\n",
       "      <td>2021</td>\n",
       "      <td>20410648</td>\n",
       "      <td>749968</td>\n",
       "      <td>3631975</td>\n",
       "      <td>118510</td>\n",
       "      <td>24911101</td>\n",
       "      <td>102.237226</td>\n",
       "    </tr>\n",
       "  </tbody>\n",
       "</table>\n",
       "</div>"
      ],
      "text/plain": [
       "     년도        승용      승합       화물      특수        총계         증감비\n",
       "0  2015  16561665  920320  3432937   74963  20989885         NaN\n",
       "1  2016  17338160  892539  3492173   80479  21803351  103.875514\n",
       "2  2017  18034540  867522  3540323   85910  22528295   103.32492\n",
       "3  2018  18676924  843794  3590939   90898  23202555  102.992947\n",
       "4  2019  19177517  811799  3592586   95464  23677366  102.046374\n",
       "5  2020  19860955  783842  3615245  105937  24365979  102.908318\n",
       "6  2021  20410648  749968  3631975  118510  24911101  102.237226"
      ]
     },
     "execution_count": 136,
     "metadata": {},
     "output_type": "execute_result"
    }
   ],
   "source": [
    "df = pd.merge(car_total, ratio, how='outer', on='년도')\n",
    "df"
   ]
  },
  {
   "cell_type": "markdown",
   "metadata": {},
   "source": [
    "### 시각화"
   ]
  },
  {
   "cell_type": "code",
   "execution_count": 137,
   "metadata": {},
   "outputs": [],
   "source": [
    "import seaborn as sns\n",
    "import matplotlib.pyplot as plt\n",
    "import pandas as pd\n",
    "import numpy as np"
   ]
  },
  {
   "cell_type": "code",
   "execution_count": 174,
   "metadata": {},
   "outputs": [],
   "source": [
    "k = ['2016','2017','2018','2019','2020','2021']"
   ]
  },
  {
   "cell_type": "code",
   "execution_count": 111,
   "metadata": {},
   "outputs": [
    {
     "data": {
      "text/plain": [
       "1    103.875514\n",
       "2     103.32492\n",
       "3    102.992947\n",
       "4    102.046374\n",
       "5    102.908318\n",
       "6    102.237226\n",
       "Name: 증감비, dtype: object"
      ]
     },
     "execution_count": 111,
     "metadata": {},
     "output_type": "execute_result"
    }
   ],
   "source": [
    "df.loc[1:]['증감비']"
   ]
  },
  {
   "cell_type": "code",
   "execution_count": 177,
   "metadata": {},
   "outputs": [
    {
     "data": {
      "image/png": "[encoded data removed]",
      "text/plain": [
       "<Figure size 1800x720 with 2 Axes>"
      ]
     },
     "metadata": {
      "needs_background": "light"
     },
     "output_type": "display_data"
    }
   ],
   "source": [
    "# 그래프 크기 지정하기 = 너비, 높이\n",
    "plt.rcParams['figure.figsize'] = (25, 10)\n",
    "\n",
    "# 선의 두께 지정\n",
    "plt.rcParams['lines.linewidth'] = 2\n",
    "# 폰트지정\n",
    "plt.rc(\"font\", family = \"Malgun Gothic\", size=10)\n",
    "\n",
    "# 데이터 넣기\n",
    "ax1 = df.loc[1:][['특수','승합','화물','승용']].plot.bar(stacked=True,\n",
    "                                                 color=['red','gold','green','midnightblue'],\n",
    "                                                 alpha=0.95)\n",
    "# x축 범위?\n",
    "a = list(range(0,7,1))\n",
    "plt.xticks([i for i in range(0,6,1)], ['2016','2017','2018','2019','2020','2021'], rotation = 0)\n",
    "\n",
    "# title\n",
    "plt.xlabel(\"년도\")\n",
    "plt.ylabel(\"차량 수(천만)\")\n",
    "plt.legend(loc=\"upper left\")\n",
    "\n",
    "ax2 = ax1.twinx()\n",
    "ax2 = df.loc[1:]['증감비'].plot(color='red', marker='o', markersize=10, linewidth = 5)\n",
    "\n",
    "plt.title(\"7년간 승용, 승합, 화물, 특수 차량 수 막대그래프, 증감률 선그래프\")\n",
    "plt.ylabel(\"증감률(%)\")\n",
    "plt.ylim(100, 105)\n",
    "# x축 범위?\n",
    "a = list(range(0,7,1))\n",
    "plt.xticks([i for i in range(0,6,1)], ['2016','2017','2018','2019','2020','2021'], rotation = 0)\n",
    "\n",
    "\n",
    "# 범례 위치 변경하기\n",
    "plt.legend(loc=\"upper right\")\n",
    "# 그래프 내에 그리드선 표시하기\n",
    "# plt.grid(True)\n",
    "\n",
    "plt.show()"
   ]
  },
  {
   "cell_type": "code",
   "execution_count": 173,
   "metadata": {},
   "outputs": [
    {
     "data": {
      "text/plain": [
       "<matplotlib.legend.Legend at 0x2d1c216b070>"
      ]
     },
     "execution_count": 173,
     "metadata": {},
     "output_type": "execute_result"
    },
    {
     "data": {
      "image/png": "[encoded data removed]",
      "text/plain": [
       "<Figure size 1800x720 with 1 Axes>"
      ]
     },
     "metadata": {
      "needs_background": "light"
     },
     "output_type": "display_data"
    }
   ],
   "source": [
    "# 그래프 크기 지정하기 = 너비, 높이\n",
    "plt.rcParams['figure.figsize'] = (25, 10)\n",
    "\n",
    "# 선의 두께 지정\n",
    "plt.rcParams['lines.linewidth'] = 2\n",
    "# 폰트지정\n",
    "plt.rc(\"font\", family = \"Malgun Gothic\", size=10)\n",
    "\n",
    "# 데이터 넣기\n",
    "ax1 = df.loc[1:][['특수','승합','화물','승용']].plot.bar(stacked=True,\n",
    "                                                 color=['red','gold','green','midnightblue'],\n",
    "                                                 alpha=0.95)\n",
    "# x축 범위?\n",
    "a = list(range(0,7,1))\n",
    "plt.xticks([i for i in range(0,6,1)], ['2016','2017','2018','2019','2020','2021'], rotation = 0)\n",
    "\n",
    "# title\n",
    "plt.xlabel(\"년도\")\n",
    "plt.ylabel(\"차량 수(천만)\")\n",
    "plt.legend(loc=\"upper left\")\n",
    "\n",
    "# ax2 = ax1.twinx()\n"
   ]
  },
  {
   "cell_type": "code",
   "execution_count": 172,
   "metadata": {},
   "outputs": [
    {
     "data": {
      "text/plain": [
       "<matplotlib.legend.Legend at 0x2d1c217f220>"
      ]
     },
     "execution_count": 172,
     "metadata": {},
     "output_type": "execute_result"
    },
    {
     "data": {
      "image/png": "[encoded data removed]",
      "text/plain": [
       "<Figure size 1800x720 with 1 Axes>"
      ]
     },
     "metadata": {
      "needs_background": "light"
     },
     "output_type": "display_data"
    }
   ],
   "source": [
    "ax2 = df.loc[1:]['증감비'].plot(color='red', marker='o', markersize=10, linewidth = 5)\n",
    "\n",
    "# x축 범위?\n",
    "a = list(range(0,6,1))\n",
    "plt.xticks([i for i in range(1,7,1)], ['2016','2017','2018','2019','2020','2021'], rotation = 0)\n",
    "\n",
    "plt.title(\"7년간 승용, 승합, 화물, 특수 차량 수 막대그래프, 증감률 선그래프\")\n",
    "plt.ylabel(\"증감률(%)\")\n",
    "plt.ylim(100, 105)\n",
    "\n",
    "# 범례 위치 변경하기\n",
    "plt.legend(loc=\"upper right\")"
   ]
  },
  {
   "cell_type": "code",
   "execution_count": 164,
   "metadata": {},
   "outputs": [
    {
     "data": {
      "text/plain": [
       "1    103.875514\n",
       "2     103.32492\n",
       "3    102.992947\n",
       "4    102.046374\n",
       "5    102.908318\n",
       "6    102.237226\n",
       "Name: 증감비, dtype: object"
      ]
     },
     "execution_count": 164,
     "metadata": {},
     "output_type": "execute_result"
    }
   ],
   "source": [
    "df.loc[1:]['증감비']"
   ]
  },
  {
   "cell_type": "code",
   "execution_count": null,
   "metadata": {},
   "outputs": [],
   "source": []
  }
 ],
 "metadata": {
  "kernelspec": {
   "display_name": "Python 3.9.12 64-bit",
   "language": "python",
   "name": "python3"
  },
  "language_info": {
   "codemirror_mode": {
    "name": "ipython",
    "version": 3
   },
   "file_extension": ".py",
   "mimetype": "text/x-python",
   "name": "python",
   "nbconvert_exporter": "python",
   "pygments_lexer": "ipython3",
   "version": "3.9.12"
  },
  "orig_nbformat": 4,
  "vscode": {
   "interpreter": {
    "hash": "38ae1ba9371524da054e8e3fbefd778d16b5a8ac7937a3f395010f627bb73919"
   }
  }
 },
 "nbformat": 4,
 "nbformat_minor": 2
}
