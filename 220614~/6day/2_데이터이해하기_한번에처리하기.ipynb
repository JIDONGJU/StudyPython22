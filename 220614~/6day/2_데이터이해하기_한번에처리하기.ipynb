{
 "cells": [
  {
   "cell_type": "code",
   "execution_count": 2,
   "metadata": {},
   "outputs": [],
   "source": [
    "import pandas as pd"
   ]
  },
  {
   "cell_type": "code",
   "execution_count": 6,
   "metadata": {},
   "outputs": [
    {
     "name": "stdout",
     "output_type": "stream",
     "text": [
      "a\n",
      "b\n",
      "c\n",
      "_________________________________\n",
      "a\n",
      "b\n",
      "c\n"
     ]
    }
   ],
   "source": [
    "list_temp = ['a','b','c']\n",
    "\n",
    "# index번호 이용\n",
    "for i in range(0, len(list_temp), 1):\n",
    "    # 값 출력\n",
    "    print(list_temp[i])\n",
    "\n",
    "print('_________________________________')\n",
    "# 값을 이용\n",
    "for val in list_temp:\n",
    "    #값 출력\n",
    "    print(val)"
   ]
  },
  {
   "cell_type": "code",
   "execution_count": null,
   "metadata": {},
   "outputs": [],
   "source": [
    "# 4개 데이터 기준값\n",
    "nm_list = ['20','30','40','53']\n",
    "\n",
    "# 4개 엑셀 시트 기준값\n",
    "sheep_list = ['20table_명세서일반내역',\n",
    "              '30tabel_진료내역',\n",
    "              '40table_상병',\n",
    "              '53table_처방전상세내역']\n",
    "\n",
    "# 4개의 데이터프레임 저장\n",
    "df_dict = {}\n",
    "\n",
    "# 4개의 시트 조회값 저장\n",
    "df_col_dict = {}"
   ]
  },
  {
   "cell_type": "code",
   "execution_count": 15,
   "metadata": {},
   "outputs": [],
   "source": [
    "nm_list = ['20','30','40','53']\n",
    "sheep_list = ['20table_명세서일반내역',\n",
    "              '30table_진료내역',\n",
    "              '40table_상병',\n",
    "              '53table_처방전상세내역']\n",
    "df_dict = {}\n",
    "df_col_dict = {}\n",
    "path = './files_org/표본자료 변수 테이블(2012-2013).xlsx'\n",
    "\n",
    "for i in range(0, len(nm_list), 1):\n",
    "    df_dict[nm_list[i]] = pd.read_csv('./files_org/SAMPLE_DB_{}TABLE_2013.txt'.format(nm_list[i], sep=\",\"))\n",
    "    df_col_dict[nm_list[i]] = pd.read_excel(path, sheet_name=sheep_list[i], usecols=\"A,D\")\n",
    "    new_dict = {}\n",
    "\n",
    "    for j in range(0, len(df_col_dict[nm_list[i]])):\n",
    "        new_dict[df_col_dict[nm_list[i]].to_dict(\"records\")[j][\"변수명\"]] = \\\n",
    "        df_col_dict[nm_list[i]].to_dict(\"records\")[j][\"표준한글컬럼명\"]\n",
    "\n",
    "    df_col_dict[nm_list[i]].rename(columns = new_dict).to_excel(\n",
    "        './files_new2/df_{}table_kor.xlsx'.format(sheep_list[i]), index=False\n",
    "    )"
   ]
  },
  {
   "cell_type": "code",
   "execution_count": null,
   "metadata": {},
   "outputs": [],
   "source": []
  }
 ],
 "metadata": {
  "kernelspec": {
   "display_name": "Python 3.9.12 64-bit",
   "language": "python",
   "name": "python3"
  },
  "language_info": {
   "codemirror_mode": {
    "name": "ipython",
    "version": 3
   },
   "file_extension": ".py",
   "mimetype": "text/x-python",
   "name": "python",
   "nbconvert_exporter": "python",
   "pygments_lexer": "ipython3",
   "version": "3.9.12"
  },
  "orig_nbformat": 4,
  "vscode": {
   "interpreter": {
    "hash": "38ae1ba9371524da054e8e3fbefd778d16b5a8ac7937a3f395010f627bb73919"
   }
  }
 },
 "nbformat": 4,
 "nbformat_minor": 2
}
