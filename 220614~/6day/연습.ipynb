{
 "cells": [
  {
   "cell_type": "markdown",
   "metadata": {},
   "source": [
    "##### 1. files_org 폴더의 파일 모두 불러오기\n",
    "##### 2. 메타정의서 '변수명', '표준한글컬럼명' 1~4sheep 컬럼명 가져오기\n",
    "##### 3. 데이터프레임의 '변수명','표준한글컬럼명'을 딕셔너리형태로 리스트에 넣기\n",
    "##### 4. {'변수명': 'key', '표준한글컬럼명': '명세서 연결코드'} 형태\n",
    "##### 5. 새로운 딕셔너리에 담아서 반복문으로 {'key': '명세서 연결코드'} 형태로 넣기\n",
    "##### 6. 초기 df_20table에 영어컬럼명을 한글컬럼명으로 바꾸기\n",
    "##### 7. xlsx형태로 저장하기"
   ]
  },
  {
   "cell_type": "code",
   "execution_count": 2,
   "metadata": {},
   "outputs": [],
   "source": [
    "import pandas as pd"
   ]
  },
  {
   "cell_type": "code",
   "execution_count": 17,
   "metadata": {},
   "outputs": [
    {
     "name": "stdout",
     "output_type": "stream",
     "text": [
      "       key   no  DMD_FRM_CD  DMD_TP_CD  FOM_CD  AGG  SelectionProb  \\\n",
      "0        1  169           3          0       3   13       0.030001   \n",
      "1        2  183           3          0       8   15       0.030000   \n",
      "2        3   23           3          0       3    3       0.030000   \n",
      "3        4   96           3          0       5   14       0.030000   \n",
      "4        5   28           3          0       3    4       0.030001   \n",
      "...    ...  ...         ...        ...     ...  ...            ...   \n",
      "5626  5627  178           3          0       5    2       0.030000   \n",
      "5627  5628  295           3          0       3    4       0.030001   \n",
      "5628  5629  246           3          0       3    1       0.030000   \n",
      "5629  5630  253           3          0       3   10       0.030000   \n",
      "5630  5631  250           3          0       3   13       0.030001   \n",
      "\n",
      "      SamplingWeight  PAT_AGE  SEX_TP_CD  ...  VST_DDCNT RVD_RPE_TAMT_AMT  \\\n",
      "0          33.332599     62.0          1  ...          1             9430   \n",
      "1          33.332882     74.0          2  ...          1             4380   \n",
      "2          33.332920     14.0          1  ...          1             3310   \n",
      "3          33.333002     68.0          1  ...          1            26660   \n",
      "4          33.332721     19.0          1  ...          1             9430   \n",
      "...              ...      ...        ...  ...        ...              ...   \n",
      "5626       33.332844      9.0          2  ...          1            13310   \n",
      "5627       33.332721     20.0          1  ...          1            71310   \n",
      "5628       33.333050      4.0          1  ...          1            13820   \n",
      "5629       33.332913     47.0          2  ...          1             9430   \n",
      "5630       33.332599     65.0          1  ...          1            14100   \n",
      "\n",
      "     RVD_SLF_BRDN_AMT  RVD_INSUP_BRDN_AMT  SOPR_YN  PRCL_SYM_TP_CD  MAIDCL_CD  \\\n",
      "0                2800                6630        0               $          $   \n",
      "1                 500                3880        0               $          $   \n",
      "2                1300                2010        0               $          $   \n",
      "3                7900               18760        0               $          $   \n",
      "4                2800                6630        0               $          $   \n",
      "...               ...                 ...      ...             ...        ...   \n",
      "5626             3900                9410        0               $          $   \n",
      "5627             3500               67810        0            V193          $   \n",
      "5628             2900               10920        0               $          $   \n",
      "5629             2800                6630        0               $          $   \n",
      "5630             5600                8500        0               $          $   \n",
      "\n",
      "     RADT_DIAG_YN  RADT_TRET_YN    yno  \n",
      "0               $             $  30796  \n",
      "1               $             $   9795  \n",
      "2               $             $  34835  \n",
      "3               $             $  35538  \n",
      "4               $             $   4665  \n",
      "...           ...           ...    ...  \n",
      "5626            $             $  21762  \n",
      "5627            $             $  45362  \n",
      "5628            $             $  12083  \n",
      "5629            $             $  21067  \n",
      "5630            $             $  33688  \n",
      "\n",
      "[5631 rows x 32 columns]\n"
     ]
    }
   ],
   "source": [
    "df_20table = pd.read_csv('./files_org/SAMPLE_DB_20TABLE_2013.txt')\n",
    "df_30table = pd.read_csv('./files_org/SAMPLE_DB_30TABLE_2013.txt')\n",
    "df_40table = pd.read_csv('./files_org/SAMPLE_DB_40TABLE_2013.txt')\n",
    "df_53table = pd.read_csv('./files_org/SAMPLE_DB_53TABLE_2013.txt')\n",
    "print(df_20table)\n"
   ]
  },
  {
   "cell_type": "code",
   "execution_count": 4,
   "metadata": {},
   "outputs": [
    {
     "name": "stdout",
     "output_type": "stream",
     "text": [
      "<class 'pandas.core.frame.DataFrame'>\n",
      "RangeIndex: 5631 entries, 0 to 5630\n",
      "Data columns (total 32 columns):\n",
      " #   Column               Non-Null Count  Dtype  \n",
      "---  ------               --------------  -----  \n",
      " 0   key                  5631 non-null   int64  \n",
      " 1   no                   5631 non-null   int64  \n",
      " 2   DMD_FRM_CD           5631 non-null   int64  \n",
      " 3   DMD_TP_CD            5631 non-null   int64  \n",
      " 4   FOM_CD               5631 non-null   int64  \n",
      " 5   AGG                  5631 non-null   int64  \n",
      " 6   SelectionProb        5631 non-null   float64\n",
      " 7   SamplingWeight       5631 non-null   float64\n",
      " 8   PAT_AGE              5631 non-null   float64\n",
      " 9   SEX_TP_CD            5631 non-null   int64  \n",
      " 10  INSUP_TP_CD          5631 non-null   int64  \n",
      " 11  MSICK_CD             5631 non-null   object \n",
      " 12  SSICK_CD             5631 non-null   object \n",
      " 13  RECU_FR_DD           5631 non-null   int64  \n",
      " 14  RECU_TO_DD           5527 non-null   float64\n",
      " 15  DGRSLT_TP_CD         5631 non-null   int64  \n",
      " 16  DGSBJT_CD            5631 non-null   int64  \n",
      " 17  DMD_DRG_NO           5631 non-null   object \n",
      " 18  FST_IPAT_DD          64 non-null     float64\n",
      " 19  IPAT_ARIV_PTH_TP_CD  5631 non-null   object \n",
      " 20  OINJ_TP_CD           5631 non-null   object \n",
      " 21  RECU_DDCNT           5631 non-null   int64  \n",
      " 22  VST_DDCNT            5631 non-null   int64  \n",
      " 23  RVD_RPE_TAMT_AMT     5631 non-null   int64  \n",
      " 24  RVD_SLF_BRDN_AMT     5631 non-null   int64  \n",
      " 25  RVD_INSUP_BRDN_AMT   5631 non-null   int64  \n",
      " 26  SOPR_YN              5631 non-null   int64  \n",
      " 27  PRCL_SYM_TP_CD       5631 non-null   object \n",
      " 28  MAIDCL_CD            5631 non-null   object \n",
      " 29  RADT_DIAG_YN         5631 non-null   object \n",
      " 30  RADT_TRET_YN         5631 non-null   object \n",
      " 31  yno                  5631 non-null   int64  \n",
      "dtypes: float64(5), int64(18), object(9)\n",
      "memory usage: 1.4+ MB\n",
      "None\n",
      "               key           no   DMD_FRM_CD    DMD_TP_CD       FOM_CD  \\\n",
      "count  5631.000000  5631.000000  5631.000000  5631.000000  5631.000000   \n",
      "mean   2816.000000   166.294974     2.995028     0.012254     3.220210   \n",
      "std    1625.674014    94.674305     0.079810     0.191356     0.839197   \n",
      "min       1.000000     1.000000     2.000000     0.000000     2.000000   \n",
      "25%    1408.500000    83.000000     3.000000     0.000000     3.000000   \n",
      "50%    2816.000000   174.000000     3.000000     0.000000     3.000000   \n",
      "75%    4223.500000   256.000000     3.000000     0.000000     3.000000   \n",
      "max    5631.000000   320.000000     4.000000     3.000000    11.000000   \n",
      "\n",
      "               AGG  SelectionProb  SamplingWeight      PAT_AGE    SEX_TP_CD  \\\n",
      "count  5631.000000   5.631000e+03     5631.000000  5631.000000  5631.000000   \n",
      "mean     10.049725   3.000031e-02       33.332984    47.783520     1.491387   \n",
      "std       4.786788   1.823953e-07        0.000203    23.707225     0.499970   \n",
      "min       1.000000   3.000000e-02       33.332569     2.000000     1.000000   \n",
      "25%       7.000000   3.000019e-02       33.332882    32.000000     1.000000   \n",
      "50%      12.000000   3.000030e-02       33.333002    56.000000     1.000000   \n",
      "75%      14.000000   3.000041e-02       33.333119    67.000000     2.000000   \n",
      "max      16.000000   3.000069e-02       33.333333    94.000000     2.000000   \n",
      "\n",
      "       ...  DGRSLT_TP_CD    DGSBJT_CD   FST_IPAT_DD   RECU_DDCNT    VST_DDCNT  \\\n",
      "count  ...   5631.000000  5631.000000  6.400000e+01  5631.000000  5631.000000   \n",
      "mean   ...      1.206713    10.157698  2.012841e+07     1.599183     1.136210   \n",
      "std    ...      1.144559    13.380986  4.339736e+03     3.915002     1.800657   \n",
      "min    ...      1.000000     0.000000  2.012050e+07     1.000000     1.000000   \n",
      "25%    ...      1.000000     1.000000  2.013012e+07     1.000000     1.000000   \n",
      "50%    ...      1.000000     5.000000  2.013061e+07     1.000000     1.000000   \n",
      "75%    ...      1.000000    13.000000  2.013101e+07     1.000000     1.000000   \n",
      "max    ...      9.000000    56.000000  2.013123e+07    66.000000    36.000000   \n",
      "\n",
      "       RVD_RPE_TAMT_AMT  RVD_SLF_BRDN_AMT  RVD_INSUP_BRDN_AMT      SOPR_YN  \\\n",
      "count      5.631000e+03      5.631000e+03        5.631000e+03  5631.000000   \n",
      "mean       5.185643e+04      1.076908e+04        4.101253e+04     0.187001   \n",
      "std        3.590136e+05      6.282138e+04        3.138938e+05     1.283872   \n",
      "min        0.000000e+00      0.000000e+00        0.000000e+00     0.000000   \n",
      "25%        1.103500e+04      1.800000e+03        7.890000e+03     0.000000   \n",
      "50%        1.382000e+04      3.900000e+03        1.039000e+04     0.000000   \n",
      "75%        2.305500e+04      7.000000e+03        1.591500e+04     0.000000   \n",
      "max        1.413802e+07      3.461590e+06        1.338616e+07     9.000000   \n",
      "\n",
      "                yno  \n",
      "count   5631.000000  \n",
      "mean   24711.570591  \n",
      "std    14722.537851  \n",
      "min        7.000000  \n",
      "25%    11281.000000  \n",
      "50%    24577.000000  \n",
      "75%    37938.000000  \n",
      "max    50866.000000  \n",
      "\n",
      "[8 rows x 23 columns]\n"
     ]
    }
   ],
   "source": [
    "print(df_20table.info())\n",
    "print(df_20table.describe())"
   ]
  },
  {
   "cell_type": "markdown",
   "metadata": {},
   "source": [
    "##### 메타정의서 eng&kor 컬럼명 가지고 오기"
   ]
  },
  {
   "cell_type": "code",
   "execution_count": 15,
   "metadata": {},
   "outputs": [
    {
     "name": "stdout",
     "output_type": "stream",
     "text": [
      "                    변수명     표준한글컬럼명\n",
      "0                   key    명세서 연결코드\n",
      "1             DMD_TP_CD      청구구분코드\n",
      "2            DMD_FRM_CD      청구형태코드\n",
      "3                FOM_CD        서식코드\n",
      "4                    no     수진자고유번호\n",
      "5                   AGG         연령군\n",
      "6         SelectionProb        추출확률\n",
      "7        SamplingWeight       샘플가중치\n",
      "8               PAT_AGE       수진자연령\n",
      "9             SEX_TP_CD      성별구분코드\n",
      "10          INSUP_TP_CD       보험자코드\n",
      "11             MSICK_CD       주상병코드\n",
      "12             SSICK_CD       부상병코드\n",
      "13           RECU_FR_DD      요양개시일자\n",
      "14           RECU_TO_DD      요양만료일자\n",
      "15         DGRSLT_TP_CD    진료결과구분코드\n",
      "16            DGSBJT_CD      진료과목코드\n",
      "17           DMD_DRG_NO     청구DRG번호\n",
      "18          FST_IPAT_DD      최초입원일자\n",
      "19  IPAT_ARIV_PTH_TP_CD  입원도착경로구분코드\n",
      "20           OINJ_TP_CD      공상구분코드\n",
      "21           RECU_DDCNT        요양일수\n",
      "22            VST_DDCNT        내원일수\n",
      "23     RVD_RPE_TAMT_AMT  심결요양급여비용총액\n",
      "24     RVD_SLF_BRDN_AMT     심결본인부담금\n",
      "25   RVD_INSUP_BRDN_AMT    심결보험자부담금\n",
      "26              SOPR_YN        수술여부\n",
      "27       PRCL_SYM_TP_CD    특정기호구분코드\n",
      "28            MAIDCL_CD    의료급여종별코드\n",
      "29         RADT_DIAG_YN     방사선진단여부\n",
      "30         RADT_TRET_YN     방사선치료여부\n",
      "31                  yno   요양기관 고유번호\n"
     ]
    }
   ],
   "source": [
    "filepath = './files_org/표본자료 변수 테이블(2012-2013).xlsx'\n",
    "df_20table_col = pd.read_excel(filepath,\n",
    "                               usecols = \"A,D\",\n",
    "                               sheet_name = \"20table_명세서일반내역\")\n",
    "df_20table_col\n",
    "df_30table_col = pd.read_excel(filepath,\n",
    "                               usecols = \"A,D\",\n",
    "                               sheet_name = \"30table_진료내역\")\n",
    "df_40table_col = pd.read_excel(filepath,\n",
    "                               usecols = \"A,D\",\n",
    "                               sheet_name = \"40table_상병\")\n",
    "df_53table_col = pd.read_excel(filepath,\n",
    "                               usecols = \"A,D\",\n",
    "                               sheet_name = \"53table_처방전상세내역\")\n",
    "print(df_20table_col)"
   ]
  },
  {
   "cell_type": "markdown",
   "metadata": {},
   "source": [
    "##### 데이터프레임의 컬럼명 == 딕셔너리의 key\n",
    "##### 딕셔너리의 value 값으로 대체"
   ]
  },
  {
   "cell_type": "code",
   "execution_count": 14,
   "metadata": {},
   "outputs": [
    {
     "name": "stdout",
     "output_type": "stream",
     "text": [
      "[{'변수명': 'key', '표준한글컬럼명': '명세서 연결코드'}, {'변수명': 'DMD_TP_CD', '표준한글컬럼명': '청구구분코드'}, {'변수명': 'DMD_FRM_CD', '표준한글컬럼명': '청구형태코드'}, {'변수명': 'FOM_CD', '표준한글컬럼명': '서식코드'}, {'변수명': 'no', '표준한글컬럼명': '수진자고유번호'}, {'변수명': 'AGG', '표준한글컬럼명': '연령군'}, {'변수명': 'SelectionProb', '표준한글컬럼명': '추출확률'}, {'변수명': 'SamplingWeight', '표준한글컬럼명': '샘플가중치'}, {'변수명': 'PAT_AGE', '표준한글컬럼명': '수진자연령'}, {'변수명': 'SEX_TP_CD', '표준한글컬럼명': '성별구분코드'}, {'변수명': 'INSUP_TP_CD', '표준한글컬럼명': '보험자코드'}, {'변수명': 'MSICK_CD', '표준한글컬럼명': '주상병코드'}, {'변수명': 'SSICK_CD', '표준한글컬럼명': '부상병코드'}, {'변수명': 'RECU_FR_DD', '표준한글컬럼명': '요양개시일자'}, {'변수명': 'RECU_TO_DD', '표준한글컬럼명': '요양만료일자'}, {'변수명': 'DGRSLT_TP_CD', '표준한글컬럼명': '진료결과구분코드'}, {'변수명': 'DGSBJT_CD', '표준한글컬럼명': '진료과목코드'}, {'변수명': 'DMD_DRG_NO', '표준한글컬럼명': '청구DRG번호'}, {'변수명': 'FST_IPAT_DD', '표준한글컬럼명': '최초입원일자'}, {'변수명': 'IPAT_ARIV_PTH_TP_CD', '표준한글컬럼명': '입원도착경로구분코드'}, {'변수명': 'OINJ_TP_CD', '표준한글컬럼명': '공상구분코드'}, {'변수명': 'RECU_DDCNT', '표준한글컬럼명': '요양일수'}, {'변수명': 'VST_DDCNT', '표준한글컬럼명': '내원일수'}, {'변수명': 'RVD_RPE_TAMT_AMT', '표준한글컬럼명': '심결요양급여비용총액'}, {'변수명': 'RVD_SLF_BRDN_AMT', '표준한글컬럼명': '심결본인부담금'}, {'변수명': 'RVD_INSUP_BRDN_AMT', '표준한글컬럼명': '심결보험자부담금'}, {'변수명': 'SOPR_YN', '표준한글컬럼명': '수술여부'}, {'변수명': 'PRCL_SYM_TP_CD', '표준한글컬럼명': '특정기호구분코드'}, {'변수명': 'MAIDCL_CD', '표준한글컬럼명': '의료급여종별코드'}, {'변수명': 'RADT_DIAG_YN', '표준한글컬럼명': '방사선진단여부'}, {'변수명': 'RADT_TRET_YN', '표준한글컬럼명': '방사선치료여부'}, {'변수명': 'yno', '표준한글컬럼명': '요양기관 고유번호'}]\n"
     ]
    }
   ],
   "source": [
    "df_20table_col_list = df_20table_col.to_dict(\"records\")\n",
    "df_30table_col_list = df_30table_col.to_dict(\"records\")\n",
    "df_40table_col_list = df_40table_col.to_dict(\"records\")\n",
    "df_53table_col_list = df_53table_col.to_dict(\"records\")\n",
    "print(df_20table_col_list)\n",
    "# 깨끗한 딕셔너리 변수 생성\n",
    "\n",
    "new_dict_20 = {}\n",
    "new_dict_30 = {}\n",
    "new_dict_40 = {}\n",
    "new_dict_53 = {}"
   ]
  },
  {
   "cell_type": "code",
   "execution_count": 18,
   "metadata": {},
   "outputs": [],
   "source": [
    "for i in df_20table_col_list:\n",
    "    new_dict_20[i[\"변수명\"]] = i[\"표준한글컬럼명\"]\n",
    "\n",
    "df_20table_kor = df_20table.rename(columns=new_dict_20)\n",
    "df_20table_kor\n",
    "\n",
    "for i in df_30table_col_list:\n",
    "    new_dict_30[i[\"변수명\"]] = i[\"표준한글컬럼명\"]\n",
    "\n",
    "df_30table_kor = df_30table.rename(columns=new_dict_30)\n",
    "\n",
    "for i in df_40table_col_list:\n",
    "    new_dict_40[i[\"변수명\"]] = i[\"표준한글컬럼명\"]\n",
    "\n",
    "df_40table_kor = df_40table.rename(columns=new_dict_40)\n",
    "\n",
    "for i in df_53table_col_list:\n",
    "    new_dict_53[i[\"변수명\"]] = i[\"표준한글컬럼명\"]\n",
    "\n",
    "df_53table_kor = df_53table.rename(columns=new_dict_53)"
   ]
  },
  {
   "cell_type": "code",
   "execution_count": 19,
   "metadata": {},
   "outputs": [],
   "source": [
    "df_20table_kor.to_excel('./practice/df_20table_kor.xlsx', index=False)\n",
    "df_30table_kor.to_excel('./practice/df_30table_kor.xlsx', index=False)\n",
    "df_40table_kor.to_excel('./practice/df_40table_kor.xlsx', index=False)\n",
    "df_53table_kor.to_excel('./practice/df_53table_kor.xlsx', index=False)"
   ]
  },
  {
   "cell_type": "code",
   "execution_count": null,
   "metadata": {},
   "outputs": [],
   "source": []
  }
 ],
 "metadata": {
  "kernelspec": {
   "display_name": "Python 3.10.5 64-bit",
   "language": "python",
   "name": "python3"
  },
  "language_info": {
   "codemirror_mode": {
    "name": "ipython",
    "version": 3
   },
   "file_extension": ".py",
   "mimetype": "text/x-python",
   "name": "python",
   "nbconvert_exporter": "python",
   "pygments_lexer": "ipython3",
   "version": "3.10.5"
  },
  "orig_nbformat": 4,
  "vscode": {
   "interpreter": {
    "hash": "fb4569285eef3a3450cb62085a5b1e0da4bce0af555edc33dcf29baf3acc1368"
   }
  }
 },
 "nbformat": 4,
 "nbformat_minor": 2
}
