{
 "cells": [
  {
   "cell_type": "markdown",
   "id": "64a1515d",
   "metadata": {},
   "source": [
    "### 파이썬 기초"
   ]
  },
  {
   "cell_type": "code",
   "execution_count": 1,
   "id": "6fc07483",
   "metadata": {},
   "outputs": [
    {
     "data": {
      "text/plain": [
       "\"\\n[문제]\\ndict_val이라는 딕셔너리 변수에\\n아래값을 넣기\\na키에는 리스트 'aa','bb','cc' 넣기\\nb키에는 리스트 'a','b','c'넣기\\n\\ndict_val에 들어있는 키값에 대한 리스트 출력하기\\n\""
      ]
     },
     "execution_count": 1,
     "metadata": {},
     "output_type": "execute_result"
    }
   ],
   "source": [
    "'''\n",
    "[문제]\n",
    "dict_val이라는 딕셔너리 변수에\n",
    "아래값을 넣기\n",
    "a키에는 리스트 'aa','bb','cc' 넣기\n",
    "b키에는 리스트 'a','b','c'넣기\n",
    "\n",
    "dict_val에 들어있는 키값에 대한 리스트 출력하기\n",
    "'''"
   ]
  },
  {
   "cell_type": "code",
   "execution_count": 8,
   "id": "cb2217f7",
   "metadata": {},
   "outputs": [
    {
     "name": "stdout",
     "output_type": "stream",
     "text": [
      "{'a': ['aa', 'bb', 'cc'], 'b': ['a', 'b', 'c']}\n",
      "['aa', 'bb', 'cc']\n",
      "['a', 'b', 'c']\n"
     ]
    }
   ],
   "source": [
    "dict_val = {'a':['aa','bb','cc'],\n",
    "            'b':['a','b','c']}\n",
    "print(dict_val)\n",
    "print(dict_val['a'])\n",
    "print(dict_val['b'])"
   ]
  },
  {
   "cell_type": "code",
   "execution_count": 11,
   "id": "270d4535",
   "metadata": {},
   "outputs": [
    {
     "name": "stdout",
     "output_type": "stream",
     "text": [
      "a ['aa', 'bb', 'cc']\n",
      "b ['a', 'b', 'c']\n"
     ]
    }
   ],
   "source": [
    "# items 사용\n",
    "for key, value in dict_val.items():\n",
    "    print(key, value)"
   ]
  },
  {
   "cell_type": "code",
   "execution_count": 31,
   "id": "147b0f7e",
   "metadata": {},
   "outputs": [
    {
     "name": "stdout",
     "output_type": "stream",
     "text": [
      "['aa', 'bb', 'cc']\n",
      "aa\n",
      "bb\n",
      "cc\n",
      "aa\n",
      "bb\n",
      "cc\n",
      "aa\n",
      "bb\n",
      "cc\n",
      "aa\n",
      "bb\n",
      "cc\n",
      "['a', 'b', 'c']\n",
      "a\n",
      "b\n",
      "c\n",
      "a\n",
      "b\n",
      "c\n",
      "a\n",
      "b\n",
      "c\n",
      "a\n",
      "b\n",
      "c\n"
     ]
    }
   ],
   "source": [
    "for k in dict_val:\n",
    "    # key의 값 가져오기\n",
    "    print(dict_val[k])\n",
    "    list_val = dict_val[k]\n",
    "    # 리스트의 값을 이용하는 방식\n",
    "    for m in dict_val[k]:\n",
    "        print(m)\n",
    "    # 리스트의 인덱스번호를 이용하는 방식\n",
    "    for i in range(0, len(dict_val[k])):\n",
    "        print(dict_val[k][i])\n",
    "        \n",
    "    for val in list_val:\n",
    "        print(val)\n",
    "    for l in range(0, len(list_val)):\n",
    "        print(list_val[l])"
   ]
  },
  {
   "cell_type": "code",
   "execution_count": 32,
   "id": "2bbfee5a",
   "metadata": {},
   "outputs": [
    {
     "data": {
      "text/plain": [
       "\"\\nlist_val 이라는 리스트 변수에 딕셔너리 값을 넣겠습니다\\n첫번째 리스트에는 a키, 값은 리스트 'aa','bb','cc'\\n두번째 리스트에는 b키, 값은 리스트 'a','b','c'\\n\""
      ]
     },
     "execution_count": 32,
     "metadata": {},
     "output_type": "execute_result"
    }
   ],
   "source": [
    "'''\n",
    "list_val 이라는 리스트 변수에 딕셔너리 값을 넣겠습니다\n",
    "첫번째 리스트에는 a키, 값은 리스트 'aa','bb','cc'\n",
    "두번째 리스트에는 b키, 값은 리스트 'a','b','c'\n",
    "'''"
   ]
  },
  {
   "cell_type": "code",
   "execution_count": 36,
   "id": "a2444c2b",
   "metadata": {},
   "outputs": [
    {
     "data": {
      "text/plain": [
       "[{'a': ['aa', 'bb', 'cc']}, {'b': ['a', 'b', 'c']}]"
      ]
     },
     "execution_count": 36,
     "metadata": {},
     "output_type": "execute_result"
    }
   ],
   "source": [
    "list_val = [{'a':['aa','bb','cc']}, {'b':['a','b','c']}]\n",
    "list_val"
   ]
  },
  {
   "cell_type": "code",
   "execution_count": 37,
   "id": "79e72571",
   "metadata": {},
   "outputs": [
    {
     "data": {
      "text/plain": [
       "[{'a': ['aa', 'bb', 'cc']}, {'b': ['a', 'b', 'c']}]"
      ]
     },
     "execution_count": 37,
     "metadata": {},
     "output_type": "execute_result"
    }
   ],
   "source": [
    "dict1 = {'a':['aa','bb','cc']}\n",
    "dict2 = {'b':['a','b','c']}\n",
    "list_val2 = [dict1, dict2]\n",
    "list_val2"
   ]
  },
  {
   "cell_type": "code",
   "execution_count": 86,
   "id": "b9205c34",
   "metadata": {},
   "outputs": [
    {
     "name": "stdout",
     "output_type": "stream",
     "text": [
      "{'a': ['aa', 'bb', 'cc']}\n",
      "['aa', 'bb', 'cc']\n",
      "aa\n",
      "bb\n",
      "cc\n",
      "{'b': ['a', 'b', 'c']}\n",
      "['a', 'b', 'c']\n",
      "a\n",
      "b\n",
      "c\n"
     ]
    }
   ],
   "source": [
    "# list_val에 들어있는 딕셔너리의 키에 대응하는 값들을 모두 출력해 주세요\n",
    "print(list_val[0])\n",
    "print(list_val[0]['a'])\n",
    "print(list_val[0]['a'][0])\n",
    "print(list_val[0]['a'][1])\n",
    "print(list_val[0]['a'][2])\n",
    "print(list_val[1])\n",
    "print(list_val[1]['b'])\n",
    "print(list_val[1]['b'][0])\n",
    "print(list_val[1]['b'][1])\n",
    "print(list_val[1]['b'][2])"
   ]
  },
  {
   "cell_type": "code",
   "execution_count": 93,
   "id": "ce599983",
   "metadata": {},
   "outputs": [
    {
     "name": "stdout",
     "output_type": "stream",
     "text": [
      "{'a': ['aa', 'bb', 'cc']}\n",
      "['aa', 'bb', 'cc']\n",
      "aa\n",
      "bb\n",
      "cc\n",
      "{'b': ['a', 'b', 'c']}\n",
      "['a', 'b', 'c']\n",
      "a\n",
      "b\n",
      "c\n"
     ]
    }
   ],
   "source": [
    "for d in list_val:\n",
    "    print(d)\n",
    "    for k in d:\n",
    "        print(d[k])\n",
    "        \n",
    "        for v in d[k]:\n",
    "            print(v)"
   ]
  },
  {
   "cell_type": "code",
   "execution_count": 94,
   "id": "3d2a7441",
   "metadata": {},
   "outputs": [],
   "source": [
    "# 위에 list_val에 들어있는 딕셔너리의 키에 대응하는 값 중에\n",
    "# 'b'라는 값이 들어 있으면 해당 키에 대응하는 값을\n",
    "# list_temp 라는 리스트변수에 담아주세요\n",
    "# list_temp에 값이 잘 담겨져 있는지 출력하기"
   ]
  },
  {
   "cell_type": "code",
   "execution_count": 134,
   "id": "e1cc43c2",
   "metadata": {},
   "outputs": [
    {
     "name": "stdout",
     "output_type": "stream",
     "text": [
      "['bb', 'b']\n"
     ]
    }
   ],
   "source": [
    "list_temp=[]\n",
    "for d in list_val:\n",
    "    #print(d)\n",
    "    for k in d:\n",
    "        #print(d[k])\n",
    "        for v in d[k]:\n",
    "#             print(v[0])\n",
    "#             if v[0] == 'b':\n",
    "#                 list_temp.append(v)\n",
    "            if v.find('b') == 0:\n",
    "                list_temp.append(v)\n",
    "                \n",
    "print(list_temp)\n"
   ]
  },
  {
   "cell_type": "code",
   "execution_count": 136,
   "id": "d9dc5bc9",
   "metadata": {},
   "outputs": [
    {
     "data": {
      "text/plain": [
       "2"
      ]
     },
     "execution_count": 136,
     "metadata": {},
     "output_type": "execute_result"
    }
   ],
   "source": [
    "len(list_val)"
   ]
  },
  {
   "cell_type": "code",
   "execution_count": 137,
   "id": "e6d9f8f7",
   "metadata": {},
   "outputs": [],
   "source": [
    "for i in range(0, len(list_val)):\n",
    "    list_val[i]"
   ]
  },
  {
   "cell_type": "code",
   "execution_count": 138,
   "id": "493455f7",
   "metadata": {},
   "outputs": [],
   "source": [
    "for v in list_val:\n",
    "    v"
   ]
  },
  {
   "cell_type": "code",
   "execution_count": null,
   "id": "7fc26967",
   "metadata": {},
   "outputs": [],
   "source": []
  }
 ],
 "metadata": {
  "kernelspec": {
   "display_name": "Python 3 (ipykernel)",
   "language": "python",
   "name": "python3"
  },
  "language_info": {
   "codemirror_mode": {
    "name": "ipython",
    "version": 3
   },
   "file_extension": ".py",
   "mimetype": "text/x-python",
   "name": "python",
   "nbconvert_exporter": "python",
   "pygments_lexer": "ipython3",
   "version": "3.9.12"
  }
 },
 "nbformat": 4,
 "nbformat_minor": 5
}
