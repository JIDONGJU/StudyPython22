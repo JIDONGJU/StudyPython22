{
 "cells": [
  {
   "cell_type": "code",
   "execution_count": 1,
   "metadata": {},
   "outputs": [],
   "source": [
    "import pandas as pd"
   ]
  },
  {
   "cell_type": "code",
   "execution_count": 11,
   "metadata": {},
   "outputs": [
    {
     "name": "stderr",
     "output_type": "stream",
     "text": [
      "C:\\Users\\user\\AppData\\Local\\Temp\\ipykernel_8304\\3353380807.py:1: ParserWarning: Falling back to the 'python' engine because the 'c' engine does not support regex separators (separators > 1 char and different from '\\s+' are interpreted as regex); you can avoid this warning by specifying engine='python'.\n",
      "  sale_df = pd.read_csv('./data/일별매출내역(시간대별).txt', encoding='euc-kr', sep='/t')\n"
     ]
    },
    {
     "data": {
      "text/html": [
       "<div>\n",
       "<style scoped>\n",
       "    .dataframe tbody tr th:only-of-type {\n",
       "        vertical-align: middle;\n",
       "    }\n",
       "\n",
       "    .dataframe tbody tr th {\n",
       "        vertical-align: top;\n",
       "    }\n",
       "\n",
       "    .dataframe thead th {\n",
       "        text-align: right;\n",
       "    }\n",
       "</style>\n",
       "<table border=\"1\" class=\"dataframe\">\n",
       "  <thead>\n",
       "    <tr style=\"text-align: right;\">\n",
       "      <th></th>\n",
       "      <th>구간합계(00~23)\\t*\\t00\\t*\\t01\\t*\\t02\\t*\\t03\\t*\\t04\\t*\\t05\\t*\\t06\\t*\\t07\\t*\\t08\\t*\\t09\\t*\\t10\\t*\\t11\\t*\\t12\\t*\\t13\\t*\\t14\\t*\\t15\\t*\\t16\\t*\\t17\\t*\\t18\\t*\\t19\\t*\\t20\\t*\\t21\\t*\\t22\\t*\\t23\\t*</th>\n",
       "    </tr>\n",
       "  </thead>\n",
       "  <tbody>\n",
       "    <tr>\n",
       "      <th>0</th>\n",
       "      <td>영업일자\\t요일\\t영수건수\\(일)\\t순매출\\(일)\\t영수건수\\t순매출\\t영수건수\\t...</td>\n",
       "    </tr>\n",
       "    <tr>\n",
       "      <th>1</th>\n",
       "      <td>2022-06-08\\t수\\t13\\t73300\\t13\\t73300\\t0\\t0\\t0\\t...</td>\n",
       "    </tr>\n",
       "    <tr>\n",
       "      <th>2</th>\n",
       "      <td>2022-06-09\\t목\\t20\\t182100\\t20\\t182100\\t0\\t0\\t0...</td>\n",
       "    </tr>\n",
       "    <tr>\n",
       "      <th>3</th>\n",
       "      <td>2022-06-10\\t금\\t12\\t99500\\t12\\t99500\\t0\\t0\\t0\\t...</td>\n",
       "    </tr>\n",
       "    <tr>\n",
       "      <th>4</th>\n",
       "      <td>2022-06-11\\t토\\t12\\t108800\\t12\\t108800\\t0\\t0\\t0...</td>\n",
       "    </tr>\n",
       "    <tr>\n",
       "      <th>5</th>\n",
       "      <td>2022-06-12\\t일\\t11\\t114600\\t11\\t114600\\t0\\t0\\t0...</td>\n",
       "    </tr>\n",
       "    <tr>\n",
       "      <th>6</th>\n",
       "      <td>2022-06-13\\t월\\t16\\t162300\\t16\\t162300\\t0\\t0\\t0...</td>\n",
       "    </tr>\n",
       "    <tr>\n",
       "      <th>7</th>\n",
       "      <td>2022-06-14\\t화\\t15\\t97600\\t15\\t97600\\t0\\t0\\t0\\t...</td>\n",
       "    </tr>\n",
       "    <tr>\n",
       "      <th>8</th>\n",
       "      <td>2022-06-15\\t수\\t14\\t126900\\t14\\t126900\\t0\\t0\\t0...</td>\n",
       "    </tr>\n",
       "    <tr>\n",
       "      <th>9</th>\n",
       "      <td>2022-06-16\\t목\\t17\\t161300\\t17\\t161300\\t0\\t0\\t0...</td>\n",
       "    </tr>\n",
       "    <tr>\n",
       "      <th>10</th>\n",
       "      <td>2022-06-17\\t금\\t13\\t167100\\t13\\t167100\\t0\\t0\\t0...</td>\n",
       "    </tr>\n",
       "    <tr>\n",
       "      <th>11</th>\n",
       "      <td>2022-06-18\\t토\\t10\\t65600\\t10\\t65600\\t0\\t0\\t0\\t...</td>\n",
       "    </tr>\n",
       "    <tr>\n",
       "      <th>12</th>\n",
       "      <td>2022-06-19\\t일\\t10\\t122000\\t10\\t122000\\t0\\t0\\t0...</td>\n",
       "    </tr>\n",
       "    <tr>\n",
       "      <th>13</th>\n",
       "      <td>2022-06-20\\t월\\t20\\t185100\\t20\\t185100\\t0\\t0\\t0...</td>\n",
       "    </tr>\n",
       "    <tr>\n",
       "      <th>14</th>\n",
       "      <td>2022-06-21\\t화\\t7\\t63700\\t7\\t63700\\t0\\t0\\t0\\t0\\...</td>\n",
       "    </tr>\n",
       "    <tr>\n",
       "      <th>15</th>\n",
       "      <td>2022-06-22\\t수\\t13\\t130600\\t13\\t130600\\t0\\t0\\t0...</td>\n",
       "    </tr>\n",
       "    <tr>\n",
       "      <th>16</th>\n",
       "      <td>2022-06-23\\t목\\t10\\t127500\\t10\\t127500\\t0\\t0\\t0...</td>\n",
       "    </tr>\n",
       "    <tr>\n",
       "      <th>17</th>\n",
       "      <td>2022-06-24\\t금\\t9\\t103400\\t9\\t103400\\t0\\t0\\t0\\t...</td>\n",
       "    </tr>\n",
       "    <tr>\n",
       "      <th>18</th>\n",
       "      <td>2022-06-25\\t토\\t5\\t55400\\t5\\t55400\\t0\\t0\\t0\\t0\\...</td>\n",
       "    </tr>\n",
       "    <tr>\n",
       "      <th>19</th>\n",
       "      <td>2022-06-26\\t일\\t6\\t106800\\t6\\t106800\\t0\\t0\\t0\\t...</td>\n",
       "    </tr>\n",
       "    <tr>\n",
       "      <th>20</th>\n",
       "      <td>2022-06-27\\t월\\t8\\t99000\\t8\\t99000\\t0\\t0\\t0\\t0\\...</td>\n",
       "    </tr>\n",
       "    <tr>\n",
       "      <th>21</th>\n",
       "      <td>2022-06-28\\t화\\t10\\t82900\\t10\\t82900\\t0\\t0\\t0\\t...</td>\n",
       "    </tr>\n",
       "    <tr>\n",
       "      <th>22</th>\n",
       "      <td>2022-06-29\\t수\\t9\\t86400\\t9\\t86400\\t0\\t0\\t0\\t0\\...</td>\n",
       "    </tr>\n",
       "    <tr>\n",
       "      <th>23</th>\n",
       "      <td>2022-06-30\\t목\\t14\\t162600\\t14\\t162600\\t0\\t0\\t0...</td>\n",
       "    </tr>\n",
       "    <tr>\n",
       "      <th>24</th>\n",
       "      <td>합   -계 -  \\t23\\t274\\t2684500\\t274\\t2684500\\t0\\...</td>\n",
       "    </tr>\n",
       "  </tbody>\n",
       "</table>\n",
       "</div>"
      ],
      "text/plain": [
       "   구간합계(00~23)\\t*\\t00\\t*\\t01\\t*\\t02\\t*\\t03\\t*\\t04\\t*\\t05\\t*\\t06\\t*\\t07\\t*\\t08\\t*\\t09\\t*\\t10\\t*\\t11\\t*\\t12\\t*\\t13\\t*\\t14\\t*\\t15\\t*\\t16\\t*\\t17\\t*\\t18\\t*\\t19\\t*\\t20\\t*\\t21\\t*\\t22\\t*\\t23\\t*\n",
       "0   영업일자\\t요일\\t영수건수\\(일)\\t순매출\\(일)\\t영수건수\\t순매출\\t영수건수\\t...                                                                                                                                    \n",
       "1   2022-06-08\\t수\\t13\\t73300\\t13\\t73300\\t0\\t0\\t0\\t...                                                                                                                                    \n",
       "2   2022-06-09\\t목\\t20\\t182100\\t20\\t182100\\t0\\t0\\t0...                                                                                                                                    \n",
       "3   2022-06-10\\t금\\t12\\t99500\\t12\\t99500\\t0\\t0\\t0\\t...                                                                                                                                    \n",
       "4   2022-06-11\\t토\\t12\\t108800\\t12\\t108800\\t0\\t0\\t0...                                                                                                                                    \n",
       "5   2022-06-12\\t일\\t11\\t114600\\t11\\t114600\\t0\\t0\\t0...                                                                                                                                    \n",
       "6   2022-06-13\\t월\\t16\\t162300\\t16\\t162300\\t0\\t0\\t0...                                                                                                                                    \n",
       "7   2022-06-14\\t화\\t15\\t97600\\t15\\t97600\\t0\\t0\\t0\\t...                                                                                                                                    \n",
       "8   2022-06-15\\t수\\t14\\t126900\\t14\\t126900\\t0\\t0\\t0...                                                                                                                                    \n",
       "9   2022-06-16\\t목\\t17\\t161300\\t17\\t161300\\t0\\t0\\t0...                                                                                                                                    \n",
       "10  2022-06-17\\t금\\t13\\t167100\\t13\\t167100\\t0\\t0\\t0...                                                                                                                                    \n",
       "11  2022-06-18\\t토\\t10\\t65600\\t10\\t65600\\t0\\t0\\t0\\t...                                                                                                                                    \n",
       "12  2022-06-19\\t일\\t10\\t122000\\t10\\t122000\\t0\\t0\\t0...                                                                                                                                    \n",
       "13  2022-06-20\\t월\\t20\\t185100\\t20\\t185100\\t0\\t0\\t0...                                                                                                                                    \n",
       "14  2022-06-21\\t화\\t7\\t63700\\t7\\t63700\\t0\\t0\\t0\\t0\\...                                                                                                                                    \n",
       "15  2022-06-22\\t수\\t13\\t130600\\t13\\t130600\\t0\\t0\\t0...                                                                                                                                    \n",
       "16  2022-06-23\\t목\\t10\\t127500\\t10\\t127500\\t0\\t0\\t0...                                                                                                                                    \n",
       "17  2022-06-24\\t금\\t9\\t103400\\t9\\t103400\\t0\\t0\\t0\\t...                                                                                                                                    \n",
       "18  2022-06-25\\t토\\t5\\t55400\\t5\\t55400\\t0\\t0\\t0\\t0\\...                                                                                                                                    \n",
       "19  2022-06-26\\t일\\t6\\t106800\\t6\\t106800\\t0\\t0\\t0\\t...                                                                                                                                    \n",
       "20  2022-06-27\\t월\\t8\\t99000\\t8\\t99000\\t0\\t0\\t0\\t0\\...                                                                                                                                    \n",
       "21  2022-06-28\\t화\\t10\\t82900\\t10\\t82900\\t0\\t0\\t0\\t...                                                                                                                                    \n",
       "22  2022-06-29\\t수\\t9\\t86400\\t9\\t86400\\t0\\t0\\t0\\t0\\...                                                                                                                                    \n",
       "23  2022-06-30\\t목\\t14\\t162600\\t14\\t162600\\t0\\t0\\t0...                                                                                                                                    \n",
       "24  합   -계 -  \\t23\\t274\\t2684500\\t274\\t2684500\\t0\\...                                                                                                                                    "
      ]
     },
     "execution_count": 11,
     "metadata": {},
     "output_type": "execute_result"
    }
   ],
   "source": [
    "sale_df = pd.read_csv('./data/일별매출내역(시간대별).txt', encoding='euc-kr', sep='/t')\n",
    "sale_df"
   ]
  },
  {
   "cell_type": "code",
   "execution_count": 12,
   "metadata": {},
   "outputs": [
    {
     "ename": "IndexError",
     "evalue": "only integers, slices (`:`), ellipsis (`...`), numpy.newaxis (`None`) and integer or boolean arrays are valid indices",
     "output_type": "error",
     "traceback": [
      "\u001b[1;31m---------------------------------------------------------------------------\u001b[0m",
      "\u001b[1;31mIndexError\u001b[0m                                Traceback (most recent call last)",
      "\u001b[1;32mc:\\STUDY\\StudyPython22\\ragreek\\ragreek01.ipynb 셀 3\u001b[0m in \u001b[0;36m<cell line: 1>\u001b[1;34m()\u001b[0m\n\u001b[1;32m----> <a href='vscode-notebook-cell:/c%3A/STUDY/StudyPython22/ragreek/ragreek01.ipynb#W2sZmlsZQ%3D%3D?line=0'>1</a>\u001b[0m sale_df\u001b[39m.\u001b[39;49mcolumns[\u001b[39m'\u001b[39;49m\u001b[39m일별매출\u001b[39;49m\u001b[39m'\u001b[39;49m]\n",
      "File \u001b[1;32mc:\\Users\\user\\AppData\\Local\\Programs\\Python\\Python310\\lib\\site-packages\\pandas\\core\\indexes\\base.py:5055\u001b[0m, in \u001b[0;36mIndex.__getitem__\u001b[1;34m(self, key)\u001b[0m\n\u001b[0;32m   5048\u001b[0m \u001b[39mif\u001b[39;00m com\u001b[39m.\u001b[39mis_bool_indexer(key):\n\u001b[0;32m   5049\u001b[0m     \u001b[39m# if we have list[bools, length=1e5] then doing this check+convert\u001b[39;00m\n\u001b[0;32m   5050\u001b[0m     \u001b[39m#  takes 166 µs + 2.1 ms and cuts the ndarray.__getitem__\u001b[39;00m\n\u001b[0;32m   5051\u001b[0m     \u001b[39m#  time below from 3.8 ms to 496 µs\u001b[39;00m\n\u001b[0;32m   5052\u001b[0m     \u001b[39m# if we already have ndarray[bool], the overhead is 1.4 µs or .25%\u001b[39;00m\n\u001b[0;32m   5053\u001b[0m     key \u001b[39m=\u001b[39m np\u001b[39m.\u001b[39masarray(key, dtype\u001b[39m=\u001b[39m\u001b[39mbool\u001b[39m)\n\u001b[1;32m-> 5055\u001b[0m result \u001b[39m=\u001b[39m getitem(key)\n\u001b[0;32m   5056\u001b[0m \u001b[39m# Because we ruled out integer above, we always get an arraylike here\u001b[39;00m\n\u001b[0;32m   5057\u001b[0m \u001b[39mif\u001b[39;00m result\u001b[39m.\u001b[39mndim \u001b[39m>\u001b[39m \u001b[39m1\u001b[39m:\n",
      "\u001b[1;31mIndexError\u001b[0m: only integers, slices (`:`), ellipsis (`...`), numpy.newaxis (`None`) and integer or boolean arrays are valid indices"
     ]
    }
   ],
   "source": [
    "sale_df.columns['일별매출']"
   ]
  },
  {
   "cell_type": "code",
   "execution_count": null,
   "metadata": {},
   "outputs": [],
   "source": []
  }
 ],
 "metadata": {
  "kernelspec": {
   "display_name": "Python 3.10.5 64-bit",
   "language": "python",
   "name": "python3"
  },
  "language_info": {
   "codemirror_mode": {
    "name": "ipython",
    "version": 3
   },
   "file_extension": ".py",
   "mimetype": "text/x-python",
   "name": "python",
   "nbconvert_exporter": "python",
   "pygments_lexer": "ipython3",
   "version": "3.10.5"
  },
  "orig_nbformat": 4,
  "vscode": {
   "interpreter": {
    "hash": "fb4569285eef3a3450cb62085a5b1e0da4bce0af555edc33dcf29baf3acc1368"
   }
  }
 },
 "nbformat": 4,
 "nbformat_minor": 2
}
