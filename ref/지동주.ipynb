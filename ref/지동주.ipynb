{
 "cells": [
  {
   "cell_type": "markdown",
   "metadata": {},
   "source": [
    "### 1번문제\n",
    "1. 반지름 값을 입력받아 원의 넓이를 구하여 출력하는 프로그램을 구현하세요. 파이는 3.141592 입니다."
   ]
  },
  {
   "cell_type": "code",
   "execution_count": 11,
   "metadata": {},
   "outputs": [
    {
     "name": "stdout",
     "output_type": "stream",
     "text": [
      "반지름은 5.0 일 때 넓이는 78.5398 입니다.\n"
     ]
    }
   ],
   "source": [
    "# 1번문제\n",
    "def circle(r):\n",
    "    pi=3.141592\n",
    "    radius = 2*pi*r\n",
    "    area = r**2*pi\n",
    "    print(\"반지름은 {} 일 때 넓이는 {} 입니다.\".format(r,area))\n",
    "    \n",
    "\n",
    "r=float(input(\"반지름을 입력해주세요.\"))\n",
    "circle(r)  "
   ]
  },
  {
   "cell_type": "markdown",
   "metadata": {},
   "source": [
    "### 2번문제\n",
    "2. 태양계는 수성, 금성, 지구, 화성, 목성, 토성, 천왕성, 혜왕성, 명왕성으로 구성됩니다. 영어이름은 Mercury, Venus, Earth, Mars, Jupiter,  Saturn, Uranus, Neptune 입니다.  행성의 한글이름을 입력하면 영어행성명이 출력되는 프로그램을 구현하세요."
   ]
  },
  {
   "cell_type": "code",
   "execution_count": 13,
   "metadata": {},
   "outputs": [
    {
     "data": {
      "text/plain": [
       "'Earth'"
      ]
     },
     "execution_count": 13,
     "metadata": {},
     "output_type": "execute_result"
    }
   ],
   "source": [
    "# 2번문제\n",
    "dic = {'수성': 'Mercury',\n",
    "       '금성': 'Venus',\n",
    "       '지구': 'Earth',\n",
    "       '화성': 'Mars',\n",
    "       '목성': 'Jupiter',\n",
    "       '토성': 'Saturn',\n",
    "       '천왕성': 'Uranus',\n",
    "       '혜왕성': 'Neptune',\n",
    "       '명왕성': 'Pluto'}\n",
    "name = input('찾을 과일의 영어이름을 적으세요')\n",
    "\n",
    "dic[name]"
   ]
  },
  {
   "cell_type": "markdown",
   "metadata": {},
   "source": [
    "### 3번문제\n",
    "3. 입력한 한글 문자열의 단어의 수를 출력하는 프로그램을 구현하세요. 예) 흐르는 강물을 거꾸로 거슬러 오르는 연어들의 = 6  "
   ]
  },
  {
   "cell_type": "code",
   "execution_count": 19,
   "metadata": {},
   "outputs": [
    {
     "name": "stdout",
     "output_type": "stream",
     "text": [
      "['흐르는 강물을 거꾸로 거슬러 오르는 연어들의']\n",
      "위 문장은 6 단어입니다.\n"
     ]
    }
   ],
   "source": [
    "list = input(f'글자를 입력하세요')\n",
    "\n",
    "result = len(list.split(' '))\n",
    "\n",
    "print(list.split(','))\n",
    "\n",
    "print(\"위 문장은 \" + str(result) + \" 단어입니다.\")"
   ]
  },
  {
   "cell_type": "markdown",
   "metadata": {},
   "source": [
    "### 4번문제\n",
    "4. 입력한 수를 거꾸로 출력하는 프로그램을 구현하세요. 예) 1 4 5 9 2 --> 2 9 5 4 1  (exam04.py)"
   ]
  },
  {
   "cell_type": "code",
   "execution_count": 16,
   "metadata": {},
   "outputs": [
    {
     "name": "stdout",
     "output_type": "stream",
     "text": [
      "9 8 7 6 5 4 3 2 1\n"
     ]
    }
   ],
   "source": [
    "a = input()\n",
    "print(str(a)[::-1])"
   ]
  },
  {
   "cell_type": "markdown",
   "metadata": {},
   "source": [
    "### 5번문제\n",
    "5. 구구단을 수행할 단번호를 입력하면 그 단의 9까지의 결과를 나열하는 프로그램을 입력하세요. 예) 3 --> 3 6 9 12 15 18 21 24 27"
   ]
  },
  {
   "cell_type": "code",
   "execution_count": 17,
   "metadata": {},
   "outputs": [
    {
     "name": "stdout",
     "output_type": "stream",
     "text": [
      "3 * 1 = 3\n",
      "3 * 2 = 6\n",
      "3 * 3 = 9\n",
      "3 * 4 = 12\n",
      "3 * 5 = 15\n",
      "3 * 6 = 18\n",
      "3 * 7 = 21\n",
      "3 * 8 = 24\n",
      "3 * 9 = 27\n"
     ]
    }
   ],
   "source": [
    "if __name__ == \"__main__\": \n",
    "\n",
    "    num = int(input(\"2-9 사이의 단을 입력하세요 : \"))\n",
    "\n",
    "    while (num < 2 or num > 9):\n",
    "\n",
    "        print(\"잘못 입력되었습니다\")\n",
    "        num = int(input(\"2-9 사이의 단을 다시 입력하세요 : \"))\n",
    "\n",
    "    for i in range(1, 10):\n",
    "        print(num, \"*\", i, \"=\", num * i)"
   ]
  },
  {
   "cell_type": "code",
   "execution_count": null,
   "metadata": {},
   "outputs": [],
   "source": []
  }
 ],
 "metadata": {
  "interpreter": {
   "hash": "38ae1ba9371524da054e8e3fbefd778d16b5a8ac7937a3f395010f627bb73919"
  },
  "kernelspec": {
   "display_name": "Python 3.9.12 64-bit",
   "language": "python",
   "name": "python3"
  },
  "language_info": {
   "codemirror_mode": {
    "name": "ipython",
    "version": 3
   },
   "file_extension": ".py",
   "mimetype": "text/x-python",
   "name": "python",
   "nbconvert_exporter": "python",
   "pygments_lexer": "ipython3",
   "version": "3.9.12"
  },
  "orig_nbformat": 4
 },
 "nbformat": 4,
 "nbformat_minor": 2
}
