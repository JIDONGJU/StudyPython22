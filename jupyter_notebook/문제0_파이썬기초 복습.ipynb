{
 "cells": [
  {
   "cell_type": "markdown",
   "id": "32103fe8",
   "metadata": {},
   "source": [
    "# 00_파이썬기초 복습"
   ]
  },
  {
   "cell_type": "markdown",
   "id": "8421a321",
   "metadata": {},
   "source": [
    "### 1) range()를 사용하여, 1~100의 수 중, 7의 배수를 리스트 a에 담으시오."
   ]
  },
  {
   "cell_type": "code",
   "execution_count": 25,
   "id": "f9bb61a1",
   "metadata": {
    "scrolled": false
   },
   "outputs": [
    {
     "data": {
      "text/plain": [
       "[7, 14, 21, 28, 35, 42, 49, 56, 63, 70, 77, 84, 91, 98]"
      ]
     },
     "execution_count": 25,
     "metadata": {},
     "output_type": "execute_result"
    }
   ],
   "source": [
    "a = list(range(7,101,7))\n",
    "a"
   ]
  },
  {
   "cell_type": "markdown",
   "id": "610d235c",
   "metadata": {},
   "source": [
    "### 2) a에서 인덱스 4~7까지 조회하시오."
   ]
  },
  {
   "cell_type": "code",
   "execution_count": 26,
   "id": "abfa02b3",
   "metadata": {},
   "outputs": [
    {
     "data": {
      "text/plain": [
       "[28, 35, 42, 49]"
      ]
     },
     "execution_count": 26,
     "metadata": {},
     "output_type": "execute_result"
    }
   ],
   "source": [
    "a[3:7]"
   ]
  },
  {
   "cell_type": "markdown",
   "id": "f267bed8",
   "metadata": {},
   "source": [
    "### 3) a의 끝에서 세번째 값을 조회하시오."
   ]
  },
  {
   "cell_type": "code",
   "execution_count": 5,
   "id": "1fa943c6",
   "metadata": {},
   "outputs": [
    {
     "data": {
      "text/plain": [
       "84"
      ]
     },
     "execution_count": 5,
     "metadata": {},
     "output_type": "execute_result"
    }
   ],
   "source": [
    "a[-3]"
   ]
  },
  {
   "cell_type": "markdown",
   "id": "2d029dd3",
   "metadata": {},
   "source": [
    "### 4) a에 데이터 갯수(길이)를 구하시오."
   ]
  },
  {
   "cell_type": "code",
   "execution_count": 8,
   "id": "b1c94ea5",
   "metadata": {},
   "outputs": [
    {
     "data": {
      "text/plain": [
       "15"
      ]
     },
     "execution_count": 8,
     "metadata": {},
     "output_type": "execute_result"
    }
   ],
   "source": [
    "len(a)"
   ]
  },
  {
   "cell_type": "markdown",
   "id": "3a351a5e",
   "metadata": {},
   "source": [
    "### 5) a 값들의 합과 평균을 구하시오."
   ]
  },
  {
   "cell_type": "code",
   "execution_count": 27,
   "id": "f55e185a",
   "metadata": {},
   "outputs": [
    {
     "name": "stdout",
     "output_type": "stream",
     "text": [
      "735\n",
      "52.5\n"
     ]
    }
   ],
   "source": [
    "print(sum(a))\n",
    "print(sum(a)/len(a))"
   ]
  },
  {
   "cell_type": "markdown",
   "id": "a1f9f7b2",
   "metadata": {},
   "source": [
    "### 6) [심화] 반복문을 이용하여 100이하의 소수(prime number)를 리스트에 담아봅시다.\n",
    "* 소수(prime number) : 1과 자기자신으로만 나누어 지는 수"
   ]
  },
  {
   "cell_type": "code",
   "execution_count": 23,
   "id": "0addfc8f",
   "metadata": {},
   "outputs": [
    {
     "name": "stdout",
     "output_type": "stream",
     "text": [
      "[2, 3, 5, 7, 11, 13, 17, 19, 23, 29, 31, 37, 41, 43, 47, 53, 59, 61, 67, 71, 73, 79, 83, 89, 97]\n"
     ]
    }
   ],
   "source": [
    "# 내 풀이\n",
    "primeNumber = [2]\n",
    "\n",
    "for i in range(1,100):\n",
    "    for j in range(2,i):\n",
    "        if i%j == 0:\n",
    "            break\n",
    "        if j == i-1:\n",
    "            primeNumber.append(i)\n",
    "            \n",
    "print(primeNumber)"
   ]
  },
  {
   "cell_type": "code",
   "execution_count": 31,
   "id": "00e60883",
   "metadata": {},
   "outputs": [
    {
     "name": "stdout",
     "output_type": "stream",
     "text": [
      "[2, 3, 5, 7, 11, 13, 17, 19, 23, 29, 31, 37, 41, 43, 47, 53, 59, 61, 67, 71, 73, 79, 83, 89, 97]\n"
     ]
    }
   ],
   "source": [
    "# 강사님 풀이\n",
    "prime_number = []\n",
    "\n",
    "for i in range(2,101):\n",
    "    devide = 0\n",
    "    for j in range(1,i+1):\n",
    "        if i % j == 0:     # 2 % 1 and 2 % 2 ==0\n",
    "            devide += 1\n",
    "    if devide == 2:\n",
    "        prime_number.append(i)\n",
    "         \n",
    "print(prime_number)"
   ]
  },
  {
   "cell_type": "markdown",
   "id": "cb218184",
   "metadata": {},
   "source": [
    "### 제곱근을 사용한 풀이 방법"
   ]
  },
  {
   "cell_type": "code",
   "execution_count": 32,
   "id": "ca5f1bbe",
   "metadata": {},
   "outputs": [
    {
     "name": "stdout",
     "output_type": "stream",
     "text": [
      "[2, 3, 2, 2, 2, 2, 2, 3, 3, 3, 3, 3, 3, 3, 4, 4, 4, 4, 4, 4, 4, 4, 4, 5, 5, 5, 5, 5, 5, 5, 5, 5, 5, 5, 6, 6, 6, 6, 6, 6, 6, 6, 6, 6, 6, 6, 6, 7, 7, 7, 7, 7, 7, 7, 7, 7, 7, 7, 7, 7, 7, 7, 8, 8, 8, 8, 8, 8, 8, 8, 8, 8, 8, 8, 8, 8, 8, 8, 8, 9, 9, 9, 9, 9, 9, 9, 9, 9, 9, 9, 9, 9, 9, 9, 9, 9, 9, 9, 10]\n"
     ]
    }
   ],
   "source": [
    "# 강사님 풀이2\n",
    "import math\n",
    "\n",
    "prime_number = []\n",
    "for i in range(2,101):\n",
    "    devide = 0\n",
    "    for i in range(2,int(math.sqrt(i))+ 1):\n",
    "        if i % j == 0:\n",
    "            devide += 1\n",
    "    if devide == 0:\n",
    "        prime_number.append(i)\n",
    "        \n",
    "print(prime_number)"
   ]
  },
  {
   "cell_type": "markdown",
   "id": "87a34e47",
   "metadata": {},
   "source": [
    "### 7) [심화] 6번의 코드를 참조하여, 소수 추출기 함수를 만들어봅시다.\n",
    "* 입력변수 : 정수 n\n",
    "* 처리 : n 이하의 소수를 리스트에 저장\n",
    "* 출력변수 : 소수 리스트\n",
    "* [주의] 입력변수 n은 2이상의 정수여야 함.(입력값 체크 부분 포함)"
   ]
  },
  {
   "cell_type": "code",
   "execution_count": 39,
   "id": "a27d5134",
   "metadata": {},
   "outputs": [
    {
     "name": "stdout",
     "output_type": "stream",
     "text": [
      "[2, 3, 5, 7, 11, 13, 17, 19, 23, 29, 31, 37, 41, 43, 47, 53, 59, 61, 67, 71, 73, 79, 83, 89, 97]\n"
     ]
    }
   ],
   "source": [
    "def prime1(n):\n",
    "    \n",
    "    prime_number = []\n",
    "\n",
    "    for i in range(2,n + 1):\n",
    "        devide = 0\n",
    "        for j in range(1,i+1):\n",
    "            if i % j == 0:     # 2 % 1 and 2 % 2 ==0\n",
    "                devide += 1\n",
    "        if devide == 2:\n",
    "            prime_number.append(i)\n",
    "\n",
    "    return prime_number\n",
    "\n",
    "print(prime1(100))"
   ]
  },
  {
   "cell_type": "code",
   "execution_count": 42,
   "id": "ae8c63de",
   "metadata": {},
   "outputs": [
    {
     "name": "stdout",
     "output_type": "stream",
     "text": [
      "[2, 3, 5, 7, 11, 13, 17, 19, 23, 29, 31, 37, 41, 43, 47, 53, 59, 61, 67, 71, 73, 79, 83, 89, 97]\n"
     ]
    }
   ],
   "source": [
    "import math\n",
    "\n",
    "def prime2(n):\n",
    "    \n",
    "    prime_number = []\n",
    "    \n",
    "    for i in range(2,n+1):\n",
    "        devide = 0\n",
    "        for j in range(2,int(math.sqrt(i))+ 1):\n",
    "            if i % j == 0:\n",
    "                devide += 1\n",
    "        if devide == 0:\n",
    "            prime_number.append(i)\n",
    "            \n",
    "    return prime_number\n",
    "\n",
    "print(prime2(100))"
   ]
  },
  {
   "cell_type": "markdown",
   "id": "e254da6e",
   "metadata": {},
   "source": [
    "### 속도 비교"
   ]
  },
  {
   "cell_type": "code",
   "execution_count": 44,
   "id": "99cdf808",
   "metadata": {},
   "outputs": [
    {
     "name": "stdout",
     "output_type": "stream",
     "text": [
      "prime1's time :  3.366340398788452\n",
      "prime2's time :  0.03334498405456543\n"
     ]
    }
   ],
   "source": [
    "import time\n",
    "\n",
    "start = time.time()\n",
    "prime1(10000)\n",
    "print(\"prime1's time : \", time.time() - start)\n",
    "\n",
    "start = time.time()\n",
    "prime2(10000)\n",
    "print(\"prime2's time : \", time.time() - start)"
   ]
  },
  {
   "cell_type": "markdown",
   "id": "2217cfb7",
   "metadata": {},
   "source": [
    "### 8) 아래 값으로 딕셔너리 d를 생성해봅시다."
   ]
  },
  {
   "cell_type": "markdown",
   "id": "b9f9a311",
   "metadata": {},
   "source": [
    "|key | value|\n",
    "|----|----|\n",
    "|v1 | [1,2,3]|\n",
    "|v2 | {'a':23, 'b':[4,5]}|"
   ]
  },
  {
   "cell_type": "code",
   "execution_count": 45,
   "id": "f3c973e3",
   "metadata": {},
   "outputs": [
    {
     "data": {
      "text/plain": [
       "{'v1': [1, 2, 3], 'v2': {'a': 23, 'b': [4, 5]}}"
      ]
     },
     "execution_count": 45,
     "metadata": {},
     "output_type": "execute_result"
    }
   ],
   "source": [
    "d = {'v1':[1,2,3], 'v2':{'a':23, 'b':[4,5]}}\n",
    "d"
   ]
  },
  {
   "cell_type": "markdown",
   "id": "ca6dc4e7",
   "metadata": {},
   "source": [
    "### 9) d에서 [1,2,3]을 출력해봅시다."
   ]
  },
  {
   "cell_type": "code",
   "execution_count": 46,
   "id": "a7e61d5c",
   "metadata": {},
   "outputs": [
    {
     "data": {
      "text/plain": [
       "{'a': 23, 'b': [4, 5]}"
      ]
     },
     "execution_count": 46,
     "metadata": {},
     "output_type": "execute_result"
    }
   ],
   "source": [
    "d['v2']"
   ]
  },
  {
   "cell_type": "markdown",
   "id": "0e94150f",
   "metadata": {},
   "source": [
    "### 10) d에서 23을 출력해봅시다."
   ]
  },
  {
   "cell_type": "code",
   "execution_count": 47,
   "id": "724ccbf1",
   "metadata": {},
   "outputs": [
    {
     "data": {
      "text/plain": [
       "23"
      ]
     },
     "execution_count": 47,
     "metadata": {},
     "output_type": "execute_result"
    }
   ],
   "source": [
    "d['v2']['a']"
   ]
  },
  {
   "cell_type": "markdown",
   "id": "50c78ee7",
   "metadata": {},
   "source": [
    "### 11) d에서 5를 출력해봅시다."
   ]
  },
  {
   "cell_type": "code",
   "execution_count": 52,
   "id": "daac49db",
   "metadata": {},
   "outputs": [
    {
     "data": {
      "text/plain": [
       "5"
      ]
     },
     "execution_count": 52,
     "metadata": {},
     "output_type": "execute_result"
    }
   ],
   "source": [
    "d['v2']['b'][1]"
   ]
  },
  {
   "cell_type": "markdown",
   "id": "0de984b1",
   "metadata": {},
   "source": [
    "### 12) d에 'newKey', value(1,2)를 추가하고 출력해봅시다."
   ]
  },
  {
   "cell_type": "code",
   "execution_count": null,
   "id": "4d0f0c06",
   "metadata": {
    "scrolled": true
   },
   "outputs": [],
   "source": []
  },
  {
   "cell_type": "markdown",
   "id": "a3b532d7",
   "metadata": {},
   "source": [
    "### 13) [심화] 반복문과 딕셔너리를 사용하여 주어진 단어에서 가장 많이 사용된 알파벳을 출력해봅시다.\n",
    "* 주어진 단어 : \"Big Data Analysis\"\n",
    "* 대문자, 소문자는 구분하지 않습니다.\n",
    "* 가장 많이 사용된 알파벳을 2개 이상일 경우, 전부 출력해줍니다."
   ]
  },
  {
   "cell_type": "code",
   "execution_count": 51,
   "id": "2a137d01",
   "metadata": {},
   "outputs": [
    {
     "name": "stdout",
     "output_type": "stream",
     "text": [
      "['a']\n"
     ]
    }
   ],
   "source": [
    "s = 'Big Data Analysis'\n",
    "# 띄어쓰기 없애기\n",
    "s = s.lower().split(' ')    # upper()\n",
    "\n",
    "alphabet = {}\n",
    "\n",
    "for i in s:\n",
    "    if i not in alphabet:\n",
    "        alphabet[i] = 1\n",
    "    else:\n",
    "        alphabet[i] += 1\n",
    "        \n",
    "alpha_list = []\n",
    "for k, v in alphabet.items():\n",
    "    if v == max(alphabet.values()):\n",
    "        alpha_list.append(k)\n",
    "        \n",
    "print(alpha_list)"
   ]
  },
  {
   "cell_type": "code",
   "execution_count": 56,
   "id": "598a882c",
   "metadata": {},
   "outputs": [
    {
     "data": {
      "text/plain": [
       "['big', 'data', 'analysis']"
      ]
     },
     "execution_count": 56,
     "metadata": {},
     "output_type": "execute_result"
    }
   ],
   "source": [
    "s = 'Big Data Analysis'\n",
    "s = s.lower().split(' ')\n",
    "s"
   ]
  },
  {
   "cell_type": "code",
   "execution_count": 60,
   "id": "1d9c8c93",
   "metadata": {},
   "outputs": [
    {
     "data": {
      "text/plain": [
       "'bigdataanalysis'"
      ]
     },
     "execution_count": 60,
     "metadata": {},
     "output_type": "execute_result"
    }
   ],
   "source": [
    "s = 'Big Data Analysis'\n",
    "''.join(s.lower().split(' '))"
   ]
  }
 ],
 "metadata": {
  "interpreter": {
   "hash": "e28d35bccbadb44b83755d1086fed42c654da6cd559b4dec83a572c4a59f5af3"
  },
  "kernelspec": {
   "display_name": "Python 3 (ipykernel)",
   "language": "python",
   "name": "python3"
  },
  "language_info": {
   "codemirror_mode": {
    "name": "ipython",
    "version": 3
   },
   "file_extension": ".py",
   "mimetype": "text/x-python",
   "name": "python",
   "nbconvert_exporter": "python",
   "pygments_lexer": "ipython3",
   "version": "3.9.12"
  }
 },
 "nbformat": 4,
 "nbformat_minor": 5
}
