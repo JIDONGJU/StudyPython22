{
 "cells": [
  {
   "cell_type": "code",
   "execution_count": 1,
   "id": "90763497",
   "metadata": {},
   "outputs": [],
   "source": [
    "import re"
   ]
  },
  {
   "cell_type": "code",
   "execution_count": 7,
   "id": "7f1af507",
   "metadata": {},
   "outputs": [],
   "source": [
    "a = re.match('Hello', 'Hello, World!')"
   ]
  },
  {
   "cell_type": "code",
   "execution_count": 11,
   "id": "541789ea",
   "metadata": {},
   "outputs": [],
   "source": [
    "b = re.match('python', 'Hello, World!')"
   ]
  },
  {
   "cell_type": "code",
   "execution_count": 10,
   "id": "1a23af7e",
   "metadata": {},
   "outputs": [
    {
     "data": {
      "text/plain": [
       "False"
      ]
     },
     "execution_count": 10,
     "metadata": {},
     "output_type": "execute_result"
    }
   ],
   "source": [
    "a == None"
   ]
  },
  {
   "cell_type": "code",
   "execution_count": 13,
   "id": "7eda615b",
   "metadata": {},
   "outputs": [
    {
     "data": {
      "text/plain": [
       "True"
      ]
     },
     "execution_count": 13,
     "metadata": {},
     "output_type": "execute_result"
    }
   ],
   "source": [
    "b == None"
   ]
  },
  {
   "cell_type": "code",
   "execution_count": 28,
   "id": "0d884fdd",
   "metadata": {},
   "outputs": [
    {
     "data": {
      "text/plain": [
       "<re.Match object; span=(0, 5), match='Hello'>"
      ]
     },
     "execution_count": 28,
     "metadata": {},
     "output_type": "execute_result"
    }
   ],
   "source": [
    "re.search('^Hello', 'Hello, World!')"
   ]
  },
  {
   "cell_type": "code",
   "execution_count": 25,
   "id": "9e1a7664",
   "metadata": {},
   "outputs": [
    {
     "data": {
      "text/plain": [
       "<re.Match object; span=(7, 13), match='World!'>"
      ]
     },
     "execution_count": 25,
     "metadata": {},
     "output_type": "execute_result"
    }
   ],
   "source": [
    "re.search('World!$', 'Hello, World!')"
   ]
  },
  {
   "cell_type": "code",
   "execution_count": 30,
   "id": "73b8a596",
   "metadata": {},
   "outputs": [
    {
     "data": {
      "text/plain": [
       "<re.Match object; span=(0, 5), match='world'>"
      ]
     },
     "execution_count": 30,
     "metadata": {},
     "output_type": "execute_result"
    }
   ],
   "source": [
    "re.match('hello|world', 'world')"
   ]
  },
  {
   "cell_type": "code",
   "execution_count": 36,
   "id": "35e2b652",
   "metadata": {},
   "outputs": [
    {
     "name": "stdout",
     "output_type": "stream",
     "text": [
      "<re.Match object; span=(0, 2), match='0e'>\n",
      "<re.Match object; span=(0, 1), match='h'>\n"
     ]
    }
   ],
   "source": [
    "# 숫자 [0-9]\n",
    "# 알파벳 소문자 [a-z]\n",
    "# 알파벳 대문자 [A-Z]\n",
    "print(re.match('[0-9][a-z]', '0ello, world!'))\n",
    "print(re.match('[0-9a-z]', 'hello, world!'))"
   ]
  },
  {
   "cell_type": "code",
   "execution_count": 42,
   "id": "d94715ac",
   "metadata": {},
   "outputs": [
    {
     "data": {
      "text/plain": [
       "<re.Match object; span=(0, 2), match='12'>"
      ]
     },
     "execution_count": 42,
     "metadata": {},
     "output_type": "execute_result"
    }
   ],
   "source": [
    "re.match('[0-9]*', '12a34')"
   ]
  },
  {
   "cell_type": "code",
   "execution_count": 47,
   "id": "3211ee6a",
   "metadata": {},
   "outputs": [
    {
     "data": {
      "text/plain": [
       "<re.Match object; span=(0, 4), match='1234'>"
      ]
     },
     "execution_count": 47,
     "metadata": {},
     "output_type": "execute_result"
    }
   ],
   "source": [
    "re.match('[0-9]+', '1234')"
   ]
  },
  {
   "cell_type": "code",
   "execution_count": 51,
   "id": "3010c4b6",
   "metadata": {},
   "outputs": [
    {
     "data": {
      "text/plain": [
       "<re.Match object; span=(0, 1), match='b'>"
      ]
     },
     "execution_count": 51,
     "metadata": {},
     "output_type": "execute_result"
    }
   ],
   "source": [
    "re.match('a*b', 'b')"
   ]
  },
  {
   "cell_type": "code",
   "execution_count": 53,
   "id": "63cba2ba",
   "metadata": {},
   "outputs": [
    {
     "data": {
      "text/plain": [
       "<re.Match object; span=(0, 3), match='aab'>"
      ]
     },
     "execution_count": 53,
     "metadata": {},
     "output_type": "execute_result"
    }
   ],
   "source": [
    "re.match('a*b', 'aabb')"
   ]
  },
  {
   "cell_type": "code",
   "execution_count": 89,
   "id": "648a5f21",
   "metadata": {},
   "outputs": [],
   "source": [
    "re.match('a+b', 'babaababb')"
   ]
  },
  {
   "cell_type": "code",
   "execution_count": 62,
   "id": "c1a4acf1",
   "metadata": {},
   "outputs": [
    {
     "data": {
      "text/plain": [
       "<re.Match object; span=(0, 2), match='ab'>"
      ]
     },
     "execution_count": 62,
     "metadata": {},
     "output_type": "execute_result"
    }
   ],
   "source": [
    "re.match('a+b', 'abbcd')"
   ]
  },
  {
   "cell_type": "code",
   "execution_count": 66,
   "id": "a13685f2",
   "metadata": {},
   "outputs": [
    {
     "data": {
      "text/plain": [
       "<re.Match object; span=(0, 4), match='abcd'>"
      ]
     },
     "execution_count": 66,
     "metadata": {},
     "output_type": "execute_result"
    }
   ],
   "source": [
    "re.match('abc?d','abcd')"
   ]
  },
  {
   "cell_type": "code",
   "execution_count": 71,
   "id": "7fc839bb",
   "metadata": {},
   "outputs": [
    {
     "data": {
      "text/plain": [
       "<re.Match object; span=(0, 4), match='ab1c'>"
      ]
     },
     "execution_count": 71,
     "metadata": {},
     "output_type": "execute_result"
    }
   ],
   "source": [
    "re.match('ab[0-9]?c', 'ab1c')"
   ]
  },
  {
   "cell_type": "code",
   "execution_count": 78,
   "id": "d6bcf637",
   "metadata": {},
   "outputs": [
    {
     "data": {
      "text/plain": [
       "<re.Match object; span=(0, 5), match='ab*1d'>"
      ]
     },
     "execution_count": 78,
     "metadata": {},
     "output_type": "execute_result"
    }
   ],
   "source": [
    "re.match('ab..d', 'ab*1d')"
   ]
  },
  {
   "cell_type": "code",
   "execution_count": 81,
   "id": "30a5608e",
   "metadata": {},
   "outputs": [
    {
     "data": {
      "text/plain": [
       "<re.Match object; span=(0, 3), match='hhh'>"
      ]
     },
     "execution_count": 81,
     "metadata": {},
     "output_type": "execute_result"
    }
   ],
   "source": [
    "re.match('h{3}', 'hhhhello')"
   ]
  },
  {
   "cell_type": "code",
   "execution_count": 92,
   "id": "e2a45c07",
   "metadata": {},
   "outputs": [],
   "source": [
    "re.match('(hello){3}', 'hellooohellohello abc')"
   ]
  },
  {
   "cell_type": "code",
   "execution_count": 94,
   "id": "c729faaa",
   "metadata": {},
   "outputs": [
    {
     "data": {
      "text/plain": [
       "<re.Match object; span=(0, 15), match='hellohellohello'>"
      ]
     },
     "execution_count": 94,
     "metadata": {},
     "output_type": "execute_result"
    }
   ],
   "source": [
    "re.match('hellohellohello', 'hellohellohello abc')"
   ]
  },
  {
   "cell_type": "code",
   "execution_count": 101,
   "id": "74821a39",
   "metadata": {},
   "outputs": [
    {
     "data": {
      "text/plain": [
       "<re.Match object; span=(0, 13), match='115-0000-1111'>"
      ]
     },
     "execution_count": 101,
     "metadata": {},
     "output_type": "execute_result"
    }
   ],
   "source": [
    "re.match('[1-5]{3}-[0-9]{4}-[0-9]{4}', \n",
    "          '115-0000-1111')"
   ]
  },
  {
   "cell_type": "code",
   "execution_count": 104,
   "id": "3c0a4ca3",
   "metadata": {},
   "outputs": [
    {
     "data": {
      "text/plain": [
       "<re.Match object; span=(0, 12), match='051-808-3700'>"
      ]
     },
     "execution_count": 104,
     "metadata": {},
     "output_type": "execute_result"
    }
   ],
   "source": [
    "re.match('[0-9]{2,3}-[0-9]{3,4}-[0-9]{4}',\n",
    "          '051-808-3700')"
   ]
  },
  {
   "cell_type": "code",
   "execution_count": 108,
   "id": "5651b860",
   "metadata": {},
   "outputs": [
    {
     "data": {
      "text/plain": [
       "<re.Match object; span=(0, 9), match='Hello1234'>"
      ]
     },
     "execution_count": 108,
     "metadata": {},
     "output_type": "execute_result"
    }
   ],
   "source": [
    "re.match('[0-9A-Za-z]+','Hello1234')"
   ]
  },
  {
   "cell_type": "code",
   "execution_count": 112,
   "id": "81a25418",
   "metadata": {},
   "outputs": [
    {
     "data": {
      "text/plain": [
       "<re.Match object; span=(0, 4), match='파이썬ㅏ'>"
      ]
     },
     "execution_count": 112,
     "metadata": {},
     "output_type": "execute_result"
    }
   ],
   "source": [
    "re.match('[가-힣ㄱ-ㅎㅏ-ㅣ]+', '파이썬ㅏ')"
   ]
  },
  {
   "cell_type": "code",
   "execution_count": 117,
   "id": "e8e674cb",
   "metadata": {},
   "outputs": [
    {
     "data": {
      "text/plain": [
       "<re.Match object; span=(0, 15), match='aaaaa81230**  !'>"
      ]
     },
     "execution_count": 117,
     "metadata": {},
     "output_type": "execute_result"
    }
   ],
   "source": [
    "re.match('[^A-Z]+','aaaaa81230**  !A')"
   ]
  },
  {
   "cell_type": "code",
   "execution_count": 119,
   "id": "44f86c49",
   "metadata": {},
   "outputs": [
    {
     "data": {
      "text/plain": [
       "<re.Match object; span=(5, 9), match='1234'>"
      ]
     },
     "execution_count": 119,
     "metadata": {},
     "output_type": "execute_result"
    }
   ],
   "source": [
    "re.search('[0-9]+$', 'Hello1234')"
   ]
  },
  {
   "cell_type": "code",
   "execution_count": 130,
   "id": "9a5b01e2",
   "metadata": {},
   "outputs": [
    {
     "data": {
      "text/plain": [
       "<re.Match object; span=(2, 4), match='++'>"
      ]
     },
     "execution_count": 130,
     "metadata": {},
     "output_type": "execute_result"
    }
   ],
   "source": [
    "re.search('\\++', '1 ++ 2')"
   ]
  },
  {
   "cell_type": "code",
   "execution_count": 138,
   "id": "22e1270b",
   "metadata": {},
   "outputs": [
    {
     "data": {
      "text/plain": [
       "<re.Match object; span=(0, 12), match='$(docume*nt)'>"
      ]
     },
     "execution_count": 138,
     "metadata": {},
     "output_type": "execute_result"
    }
   ],
   "source": [
    "re.match('[$()*a-z]+', '$(docume*nt)')"
   ]
  },
  {
   "cell_type": "code",
   "execution_count": 139,
   "id": "034c8eab",
   "metadata": {},
   "outputs": [
    {
     "data": {
      "text/plain": [
       "<re.Match object; span=(0, 11), match='10984091824'>"
      ]
     },
     "execution_count": 139,
     "metadata": {},
     "output_type": "execute_result"
    }
   ],
   "source": [
    "re.match('\\d+','10984091824')         # [0-9]"
   ]
  },
  {
   "cell_type": "code",
   "execution_count": 140,
   "id": "ffe14ca8",
   "metadata": {},
   "outputs": [
    {
     "data": {
      "text/plain": [
       "<re.Match object; span=(0, 17), match='aiosdh)_(&@!kAaF)'>"
      ]
     },
     "execution_count": 140,
     "metadata": {},
     "output_type": "execute_result"
    }
   ],
   "source": [
    "re.match('\\D+','aiosdh)_(&@!kAaF)')   # [^0-9]"
   ]
  },
  {
   "cell_type": "code",
   "execution_count": 141,
   "id": "49a8873f",
   "metadata": {},
   "outputs": [
    {
     "data": {
      "text/plain": [
       "<re.Match object; span=(0, 12), match='aasAF__12234'>"
      ]
     },
     "execution_count": 141,
     "metadata": {},
     "output_type": "execute_result"
    }
   ],
   "source": [
    "re.match('\\w+', 'aasAF__12234')     #[0-9a-zA-Z_]"
   ]
  },
  {
   "cell_type": "code",
   "execution_count": 142,
   "id": "e85f11a3",
   "metadata": {},
   "outputs": [
    {
     "data": {
      "text/plain": [
       "<re.Match object; span=(0, 9), match='^()&%^)  '>"
      ]
     },
     "execution_count": 142,
     "metadata": {},
     "output_type": "execute_result"
    }
   ],
   "source": [
    "re.match('\\W+', '^()&%^)  ')       #[^0-9a-zA-Z_]"
   ]
  },
  {
   "cell_type": "code",
   "execution_count": 144,
   "id": "22ff52f5",
   "metadata": {},
   "outputs": [
    {
     "data": {
      "text/plain": [
       "<re.Match object; span=(0, 24), match='    \\n         \\n         '>"
      ]
     },
     "execution_count": 144,
     "metadata": {},
     "output_type": "execute_result"
    }
   ],
   "source": [
    "re.match('\\s+', '''    \n",
    "         \n",
    "         ''')"
   ]
  },
  {
   "cell_type": "code",
   "execution_count": 145,
   "id": "4502a7e0",
   "metadata": {},
   "outputs": [
    {
     "data": {
      "text/plain": [
       "<re.Match object; span=(0, 17), match='aasdADFS*!()@1234'>"
      ]
     },
     "execution_count": 145,
     "metadata": {},
     "output_type": "execute_result"
    }
   ],
   "source": [
    "re.match('\\S+', '''aasdADFS*!()@1234   1232142''')"
   ]
  },
  {
   "cell_type": "code",
   "execution_count": 146,
   "id": "34a96e47",
   "metadata": {},
   "outputs": [],
   "source": [
    "p = re.compile('\\d+')"
   ]
  },
  {
   "cell_type": "code",
   "execution_count": 148,
   "id": "a9fac8a3",
   "metadata": {},
   "outputs": [
    {
     "data": {
      "text/plain": [
       "<re.Match object; span=(0, 5), match='12345'>"
      ]
     },
     "execution_count": 148,
     "metadata": {},
     "output_type": "execute_result"
    }
   ],
   "source": [
    "p.match('12345')"
   ]
  },
  {
   "cell_type": "code",
   "execution_count": 149,
   "id": "feeb787c",
   "metadata": {},
   "outputs": [
    {
     "data": {
      "text/plain": [
       "<re.Match object; span=(4, 8), match='1234'>"
      ]
     },
     "execution_count": 149,
     "metadata": {},
     "output_type": "execute_result"
    }
   ],
   "source": [
    "p.search('asdf1234')"
   ]
  },
  {
   "cell_type": "code",
   "execution_count": 152,
   "id": "8efd14fd",
   "metadata": {},
   "outputs": [
    {
     "data": {
      "text/plain": [
       "['1', '2', '4', '7', '89']"
      ]
     },
     "execution_count": 152,
     "metadata": {},
     "output_type": "execute_result"
    }
   ],
   "source": [
    "re.findall('[0-9]+', '1 2 Fizz 4 Buzz Fizz 7 89')"
   ]
  },
  {
   "cell_type": "code",
   "execution_count": 157,
   "id": "6bd11ce7",
   "metadata": {},
   "outputs": [
    {
     "data": {
      "text/plain": [
       "'fruit box orange tree'"
      ]
     },
     "execution_count": 157,
     "metadata": {},
     "output_type": "execute_result"
    }
   ],
   "source": [
    "re.sub('apple|orange','fruit','apple box orange tree',1)"
   ]
  },
  {
   "cell_type": "code",
   "execution_count": 159,
   "id": "c7ae5a87",
   "metadata": {},
   "outputs": [
    {
     "data": {
      "text/plain": [
       "'* * Fizz * Buzz Fizz * *'"
      ]
     },
     "execution_count": 159,
     "metadata": {},
     "output_type": "execute_result"
    }
   ],
   "source": [
    "re.sub('\\d+','*','1 2 Fizz 4 Buzz Fizz 7 89')"
   ]
  },
  {
   "cell_type": "code",
   "execution_count": 160,
   "id": "b220f29d",
   "metadata": {},
   "outputs": [
    {
     "name": "stdout",
     "output_type": "stream",
     "text": [
      "True True True True True False False False "
     ]
    }
   ],
   "source": [
    "p = re.compile('^[a-zA-Z0-9.+-_]+@[a-z-]+\\.[a-z.]+$')\n",
    "\n",
    "emails = ['python@mail.example.com', 'python+kr@example.com',              # 올바른 형식\n",
    "          'python-dojang@example.co.kr', 'python_10@example.info',         # 올바른 형식\n",
    "          'python.dojang@e-xample.com',                                    # 올바른 형식\n",
    "          '@example.com', 'python@example', 'python@example-com']\n",
    "\n",
    "for email in emails:\n",
    "    print(p.match(email) != None, end = ' ')"
   ]
  },
  {
   "cell_type": "code",
   "execution_count": null,
   "id": "9f1fd262",
   "metadata": {},
   "outputs": [],
   "source": []
  }
 ],
 "metadata": {
  "kernelspec": {
   "display_name": "Python 3 (ipykernel)",
   "language": "python",
   "name": "python3"
  },
  "language_info": {
   "codemirror_mode": {
    "name": "ipython",
    "version": 3
   },
   "file_extension": ".py",
   "mimetype": "text/x-python",
   "name": "python",
   "nbconvert_exporter": "python",
   "pygments_lexer": "ipython3",
   "version": "3.9.12"
  }
 },
 "nbformat": 4,
 "nbformat_minor": 5
}
