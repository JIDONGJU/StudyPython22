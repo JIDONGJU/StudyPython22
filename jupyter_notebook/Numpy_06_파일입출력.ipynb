{
 "cells": [
  {
   "cell_type": "code",
   "execution_count": 5,
   "id": "65eb86d8",
   "metadata": {},
   "outputs": [],
   "source": [
    "import numpy as np"
   ]
  },
  {
   "cell_type": "markdown",
   "id": "753ffc3d",
   "metadata": {},
   "source": [
    "### 파일 처리\n",
    "#### ndarray의 정보를 파일로 저장할 수 있다\n",
    "#### 일반적인 파일 확장자는 npy를 사용한다\n",
    "#### > 파일저장(tofile)"
   ]
  },
  {
   "cell_type": "code",
   "execution_count": 16,
   "id": "c0763523",
   "metadata": {},
   "outputs": [
    {
     "name": "stdout",
     "output_type": "stream",
     "text": [
      "[[-0.09260287 -2.44653968 -0.53214874  1.22801376 -0.6792629 ]\n",
      " [-0.55379885  0.44892923 -0.184086    0.02294976  1.51867838]\n",
      " [-0.8890115  -0.9099365   1.31653445 -0.78497859 -0.37641214]]\n"
     ]
    }
   ],
   "source": [
    "n = np.random.randn(3,5)\n",
    "print(n)\n",
    "n.tofile('n.txt')"
   ]
  },
  {
   "cell_type": "markdown",
   "id": "4bc664c8",
   "metadata": {},
   "source": [
    "### 파일 처리\n",
    "#### > 파일 불러오기(fromfile)"
   ]
  },
  {
   "cell_type": "code",
   "execution_count": 17,
   "id": "ad161d4f",
   "metadata": {},
   "outputs": [
    {
     "name": "stdout",
     "output_type": "stream",
     "text": [
      "[-0.56349543  0.5324758   0.38034709  0.08443707  0.19433338  0.65935538\n",
      " -0.44187372  1.165042    1.49462546  1.4348234  -0.98508045  1.27518907\n",
      "  1.19967667 -0.40788306 -0.47911074]\n"
     ]
    }
   ],
   "source": [
    "m = np.fromfile('n.npy')\n",
    "m1 = np.fromfile('C:/STUDY/Python/n.npy') # 절대경로 지정\n",
    "print(m) # shape 무너짐"
   ]
  },
  {
   "cell_type": "markdown",
   "id": "b734d16c",
   "metadata": {},
   "source": [
    "### 파일 처리\n",
    "#### > 파일 불러오기(np.save, np.load)"
   ]
  },
  {
   "cell_type": "code",
   "execution_count": 19,
   "id": "122280d0",
   "metadata": {},
   "outputs": [
    {
     "name": "stdout",
     "output_type": "stream",
     "text": [
      "[[-0.09260287 -2.44653968 -0.53214874  1.22801376 -0.6792629 ]\n",
      " [-0.55379885  0.44892923 -0.184086    0.02294976  1.51867838]\n",
      " [-0.8890115  -0.9099365   1.31653445 -0.78497859 -0.37641214]]\n"
     ]
    }
   ],
   "source": [
    "np.save('n.npy',n)\n",
    "m1 = np.load('n.npy')\n",
    "print(m1)"
   ]
  },
  {
   "cell_type": "code",
   "execution_count": 5,
   "id": "14009e10",
   "metadata": {},
   "outputs": [],
   "source": [
    "# n.tofile > n.npy 이렇게 저장한걸\n",
    "# np.load('n.npy') 이렇게 불러오진 못함 (배열이 안맞음)"
   ]
  },
  {
   "cell_type": "markdown",
   "id": "43705340",
   "metadata": {},
   "source": [
    "### 파일 처리\n",
    "#### > 파일 불러오기(np.save, np.load)"
   ]
  },
  {
   "cell_type": "code",
   "execution_count": 23,
   "id": "df31ee30",
   "metadata": {
    "scrolled": true
   },
   "outputs": [
    {
     "name": "stdout",
     "output_type": "stream",
     "text": [
      "n.csv\n"
     ]
    }
   ],
   "source": [
    "np.savetxt('n.csv',n)"
   ]
  },
  {
   "cell_type": "code",
   "execution_count": 24,
   "id": "86e1f1f3",
   "metadata": {},
   "outputs": [
    {
     "data": {
      "text/plain": [
       "array([[-0.09260287, -2.44653968, -0.53214874,  1.22801376, -0.6792629 ],\n",
       "       [-0.55379885,  0.44892923, -0.184086  ,  0.02294976,  1.51867838],\n",
       "       [-0.8890115 , -0.9099365 ,  1.31653445, -0.78497859, -0.37641214]])"
      ]
     },
     "execution_count": 24,
     "metadata": {},
     "output_type": "execute_result"
    }
   ],
   "source": [
    "np.loadtxt('n.csv')"
   ]
  },
  {
   "cell_type": "markdown",
   "id": "35ce893c",
   "metadata": {},
   "source": [
    "### 파일처리\n",
    "#### 문제"
   ]
  },
  {
   "cell_type": "code",
   "execution_count": 30,
   "id": "653b9f3a",
   "metadata": {},
   "outputs": [],
   "source": [
    "# 1~25 범위의 5x5 2차원 행렬을 생성하고 구분자(delimiter)는 ,(콤마)로 지정해서 data.csv에 지정해봅시다\n",
    "matrix = np.arange(1,26).reshape(5,5)\n",
    "matrix = np.savetxt('data.csv',n,delimiter = ',')\n",
    "\n",
    "arr = np.arange(1,26, dtype = np.int8).reshape(5,5)\n",
    "np.savetxt('data.csv',arr,delimiter=',')"
   ]
  },
  {
   "cell_type": "code",
   "execution_count": 35,
   "id": "4475deb1",
   "metadata": {},
   "outputs": [
    {
     "name": "stdout",
     "output_type": "stream",
     "text": [
      "[['1' '15' '14' '4']\n",
      " ['12' '6' '7' '9']\n",
      " ['8' '10' '11' '5']\n",
      " ['13' '3' '2' '16']]\n"
     ]
    }
   ],
   "source": [
    "# 06_data1.txt. 파일을 읽어와서 dtype = str으로 변수 arr1에 저장하고 출력해 봅시다\n",
    "arr1 = np.loadtxt('06_data1.txt', dtype = str)\n",
    "print(arr1)"
   ]
  },
  {
   "cell_type": "code",
   "execution_count": 45,
   "id": "9abc73d0",
   "metadata": {},
   "outputs": [
    {
     "name": "stdout",
     "output_type": "stream",
     "text": [
      "[[ 1. 15. 14.  4.]\n",
      " [12.  6.  7.  9.]\n",
      " [ 8. 10. 11.  5.]\n",
      " [13.  3.  2. 16.]]\n"
     ]
    }
   ],
   "source": [
    "# 06_data2.txt 파일을 읽어와서 변수 arr2에 저장핳고 출력해봅시다\n",
    "arr2 = np.loadtxt('06_data2.txt',delimiter = ',')\n",
    "print(arr2)"
   ]
  },
  {
   "cell_type": "markdown",
   "id": "e7d89cd3",
   "metadata": {},
   "source": [
    "### 문제2"
   ]
  },
  {
   "cell_type": "code",
   "execution_count": 60,
   "id": "8f1757d5",
   "metadata": {},
   "outputs": [
    {
     "name": "stdout",
     "output_type": "stream",
     "text": [
      "[[      1  565082     273   27177]\n",
      " [      2 2827233     444   45111]\n",
      " [      3 1144913     289   29043]\n",
      " [      4 1131034     230   22436]\n",
      " [      5  380425     391   38020]]\n"
     ]
    }
   ],
   "source": [
    "# 파일 읽어와서 상위 5개 데이터 출력\n",
    "data = np.loadtxt('./data/ex1_지역별전기요금.csv', delimiter = ',', dtype = int)\n",
    "print(data[:5,:])"
   ]
  },
  {
   "cell_type": "code",
   "execution_count": 61,
   "id": "32eb0d5c",
   "metadata": {},
   "outputs": [
    {
     "name": "stdout",
     "output_type": "stream",
     "text": [
      "(17, 4)\n",
      "[ 1  2  3  4  5  6  7  8  9 10 11 12 13 14 15 16 17]\n"
     ]
    }
   ],
   "source": [
    "# 데이터 모양 확인\n",
    "print(data.shape)\n",
    "# 중복 지역 확인\n",
    "print(np.unique(data[:,0]))"
   ]
  },
  {
   "cell_type": "code",
   "execution_count": 63,
   "id": "08015d40",
   "metadata": {},
   "outputs": [
    {
     "name": "stdout",
     "output_type": "stream",
     "text": [
      "[ 9 14 10  4  6  0 16 13  5 12 11 15  7  3  2  8  1]\n",
      "[[     10   49394     580   57091]\n",
      " [     15  258605     221   22180]\n",
      " [     11  323151     353   35470]\n",
      " [      5  380425     391   38020]\n",
      " [      7  425659     344   32331]\n",
      " [      1  565082     273   27177]\n",
      " [     17  584500     268   26899]\n",
      " [     14  634696     285   28556]\n",
      " [      6  668623     364   35245]\n",
      " [     13  726699     249   25120]\n",
      " [     12  734723     398   40049]\n",
      " [     16  742285     282   27901]\n",
      " [      8  947300     366   36274]\n",
      " [      4 1131034     230   22436]\n",
      " [      3 1144913     289   29043]\n",
      " [      9 2737725     361   36569]\n",
      " [      2 2827233     444   45111]]\n"
     ]
    }
   ],
   "source": [
    "# 데이터의 크기순 정렬 (argsort 사용)\n",
    "print(data[:,1].argsort())\n",
    "# fancy index\n",
    "print(data[data[:,1].argsort()])\n",
    "# 반대로 print(data[data[:,1].argsort()[::-1]])"
   ]
  },
  {
   "cell_type": "code",
   "execution_count": 64,
   "id": "06557284",
   "metadata": {},
   "outputs": [
    {
     "name": "stdout",
     "output_type": "stream",
     "text": [
      "14882047\n",
      "335.18\n"
     ]
    }
   ],
   "source": [
    "# 전국 대상 가구수의 합\n",
    "print(np.sum(data[:,1]))\n",
    "# 가구당 평균 전력 사용량의 전국 평균값\n",
    "print(round(data[:,2].mean(),2))"
   ]
  },
  {
   "cell_type": "code",
   "execution_count": 114,
   "id": "fc7a28f4",
   "metadata": {},
   "outputs": [
    {
     "name": "stdout",
     "output_type": "stream",
     "text": [
      "5698\n",
      "(17, 4)\n",
      "가구당 평균 전력 사용량의 전국 평균값 = 335.1764705882353\n"
     ]
    }
   ],
   "source": [
    "# 무식하게 평균 구하기\n",
    "a = np.sum(data[:,2])\n",
    "print(a)\n",
    "print(data.shape)\n",
    "print('가구당 평균 전력 사용량의 전국 평균값 =',a / 17)"
   ]
  },
  {
   "cell_type": "code",
   "execution_count": 71,
   "id": "71228da3",
   "metadata": {},
   "outputs": [
    {
     "name": "stdout",
     "output_type": "stream",
     "text": [
      "[[      2 2827233]\n",
      " [      5  380425]\n",
      " [      6  668623]\n",
      " [      7  425659]\n",
      " [      8  947300]\n",
      " [      9 2737725]\n",
      " [     10   49394]\n",
      " [     11  323151]\n",
      " [     12  734723]]\n"
     ]
    }
   ],
   "source": [
    "# 가구당 평균 전력 사용량이 평균 이상인 지역과 대상 가구수 추출\n",
    "avg_ = data[:,2].mean()   # 가구당 평균 전력 사용량의 전국 평균\n",
    "print(data[data[:,2] > avg_,0:2])"
   ]
  },
  {
   "cell_type": "markdown",
   "id": "7406d800",
   "metadata": {},
   "source": [
    "### 문제2\n",
    "#### ex2_전년대비_시도별_교통사망사고 데이터"
   ]
  },
  {
   "cell_type": "code",
   "execution_count": 93,
   "id": "e2d0ea25",
   "metadata": {},
   "outputs": [
    {
     "name": "stdout",
     "output_type": "stream",
     "text": [
      "[[2014    1  218    4   -9   -4]\n",
      " [2014    2  872   19  -45   -4]\n",
      " [2014    3  401    8  -45  -10]]\n"
     ]
    }
   ],
   "source": [
    "# 1 위 파일을 읽어오고 상위 3개의 (발생년도, 발생건수, 구성비) 의  데이터 추출\n",
    "ex2 = np.loadtxt('./data/ex2_전년대비_시도별_교통사망사고.csv',\n",
    "                 delimiter = ',',\n",
    "                 dtype = int)\n",
    "print(ex2[:3,:])\n"
   ]
  },
  {
   "cell_type": "code",
   "execution_count": 94,
   "id": "b8b64627",
   "metadata": {},
   "outputs": [
    {
     "name": "stdout",
     "output_type": "stream",
     "text": [
      "[2014    8  163    3  -47  -22]\n"
     ]
    }
   ],
   "source": [
    "# 2 위 데이터에서 부산에서 발생한 교통사망사고 모든 현황을 추출\n",
    "print(ex2[7,:])"
   ]
  },
  {
   "cell_type": "code",
   "execution_count": 96,
   "id": "9550fc8c",
   "metadata": {},
   "outputs": [
    {
     "name": "stdout",
     "output_type": "stream",
     "text": [
      "5698\n",
      "335.1764705882353\n"
     ]
    }
   ],
   "source": [
    "# 3 위 데이터에서 전국 사고 발생건수의 합계와 전국 평균을 계산\n",
    "print(np.sum(data[:,2]))\n",
    "print(np.mean(data[:,2]))"
   ]
  },
  {
   "cell_type": "code",
   "execution_count": 102,
   "id": "ded26493",
   "metadata": {},
   "outputs": [
    {
     "name": "stdout",
     "output_type": "stream",
     "text": [
      "[2014    6  182    4   19   11]\n"
     ]
    }
   ],
   "source": [
    "# 4 교통사고 증감수가 가장 큰 지역의 모든 현황을 추출\n",
    "a = ex2[ex2[:,4].argsort()[::-1]]\n",
    "print(a[0,:])"
   ]
  },
  {
   "cell_type": "code",
   "execution_count": 106,
   "id": "24f70771",
   "metadata": {},
   "outputs": [
    {
     "name": "stdout",
     "output_type": "stream",
     "text": [
      "[2014    8  163    3  -47  -22]\n"
     ]
    }
   ],
   "source": [
    "# 5 교통사고 증감률이 가장 낮은 지역의 모든 현황을 추출\n",
    "b = ex2[ex2[:,5].argsort()]\n",
    "print(b[0,:])"
   ]
  },
  {
   "cell_type": "code",
   "execution_count": 143,
   "id": "8048e619",
   "metadata": {},
   "outputs": [
    {
     "name": "stdout",
     "output_type": "stream",
     "text": [
      "[[  2 872 -45  -4]\n",
      " [  3 401 -45 -10]\n",
      " [  4 464 -41  -8]\n",
      " [ 13 400 -35  -8]]\n"
     ]
    }
   ],
   "source": [
    "# 위 데이터에서 사고 발생 건수가 400건 이상인 곳의 지역과 교통사고 발생건수, 증가수, 증감률 추출\n",
    "c = ex2[np.where(ex2[:,2]>=400)]\n",
    "c = c[:,[1,2,4,5]]\n",
    "print(c)"
   ]
  },
  {
   "cell_type": "code",
   "execution_count": null,
   "id": "7a98e82a",
   "metadata": {},
   "outputs": [],
   "source": []
  }
 ],
 "metadata": {
  "kernelspec": {
   "display_name": "Python 3 (ipykernel)",
   "language": "python",
   "name": "python3"
  },
  "language_info": {
   "codemirror_mode": {
    "name": "ipython",
    "version": 3
   },
   "file_extension": ".py",
   "mimetype": "text/x-python",
   "name": "python",
   "nbconvert_exporter": "python",
   "pygments_lexer": "ipython3",
   "version": "3.9.12"
  }
 },
 "nbformat": 4,
 "nbformat_minor": 5
}
