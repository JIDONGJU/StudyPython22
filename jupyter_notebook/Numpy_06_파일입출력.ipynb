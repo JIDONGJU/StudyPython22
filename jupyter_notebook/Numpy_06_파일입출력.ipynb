{
 "cells": [
  {
   "cell_type": "code",
   "execution_count": 1,
   "id": "65eb86d8",
   "metadata": {},
   "outputs": [],
   "source": [
    "import numpy as np"
   ]
  },
  {
   "cell_type": "markdown",
   "id": "753ffc3d",
   "metadata": {},
   "source": [
    "### 파일 처리\n",
    "#### ndarray의 정보를 파일로 저장할 수 있다\n",
    "#### 일반적인 파일 확장자는 npy를 사용한다\n",
    "#### > 파일저장(tofile)"
   ]
  },
  {
   "cell_type": "code",
   "execution_count": 2,
   "id": "c0763523",
   "metadata": {},
   "outputs": [
    {
     "name": "stdout",
     "output_type": "stream",
     "text": [
      "[[-0.56349543  0.5324758   0.38034709  0.08443707  0.19433338]\n",
      " [ 0.65935538 -0.44187372  1.165042    1.49462546  1.4348234 ]\n",
      " [-0.98508045  1.27518907  1.19967667 -0.40788306 -0.47911074]]\n"
     ]
    }
   ],
   "source": [
    "n = np.random.randn(3,5)\n",
    "print(n)\n",
    "n.tofile('n.npy')"
   ]
  },
  {
   "cell_type": "markdown",
   "id": "4bc664c8",
   "metadata": {},
   "source": [
    "### 파일 처리\n",
    "#### > 파일 불러오기(fromfile)"
   ]
  },
  {
   "cell_type": "code",
   "execution_count": 3,
   "id": "ad161d4f",
   "metadata": {},
   "outputs": [
    {
     "name": "stdout",
     "output_type": "stream",
     "text": [
      "[-0.56349543  0.5324758   0.38034709  0.08443707  0.19433338  0.65935538\n",
      " -0.44187372  1.165042    1.49462546  1.4348234  -0.98508045  1.27518907\n",
      "  1.19967667 -0.40788306 -0.47911074]\n"
     ]
    }
   ],
   "source": [
    "m = np.fromfile('n.npy')\n",
    "m1 = np.fromfile('C:/STUDY/Python/n.npy') # 절대경로 지정\n",
    "print(m) # shape 무너짐"
   ]
  },
  {
   "cell_type": "markdown",
   "id": "b734d16c",
   "metadata": {},
   "source": [
    "### 파일 처리\n",
    "#### > 파일 불러오기(np.save, np.load)"
   ]
  },
  {
   "cell_type": "code",
   "execution_count": 4,
   "id": "122280d0",
   "metadata": {},
   "outputs": [
    {
     "name": "stdout",
     "output_type": "stream",
     "text": [
      "[[-0.56349543  0.5324758   0.38034709  0.08443707  0.19433338]\n",
      " [ 0.65935538 -0.44187372  1.165042    1.49462546  1.4348234 ]\n",
      " [-0.98508045  1.27518907  1.19967667 -0.40788306 -0.47911074]]\n"
     ]
    }
   ],
   "source": [
    "np.save('n1.npy',n)\n",
    "m1 = np.load('n1.npy')\n",
    "print(m1)"
   ]
  },
  {
   "cell_type": "code",
   "execution_count": 5,
   "id": "14009e10",
   "metadata": {},
   "outputs": [],
   "source": [
    "# n.tofile > n.npy 이렇게 저장한걸\n",
    "# np.load('n.npy') 이렇게 불러오진 못함 (배열이 안맞음)"
   ]
  },
  {
   "cell_type": "code",
   "execution_count": null,
   "id": "df31ee30",
   "metadata": {},
   "outputs": [],
   "source": []
  }
 ],
 "metadata": {
  "kernelspec": {
   "display_name": "Python 3 (ipykernel)",
   "language": "python",
   "name": "python3"
  },
  "language_info": {
   "codemirror_mode": {
    "name": "ipython",
    "version": 3
   },
   "file_extension": ".py",
   "mimetype": "text/x-python",
   "name": "python",
   "nbconvert_exporter": "python",
   "pygments_lexer": "ipython3",
   "version": "3.9.12"
  }
 },
 "nbformat": 4,
 "nbformat_minor": 5
}
