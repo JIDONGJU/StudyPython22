{
 "cells": [
  {
   "cell_type": "markdown",
   "id": "5033827f",
   "metadata": {},
   "source": [
    "### 시리즈 만들기"
   ]
  },
  {
   "cell_type": "code",
   "execution_count": 2,
   "id": "270149d8",
   "metadata": {},
   "outputs": [],
   "source": [
    "import pandas as pd"
   ]
  },
  {
   "cell_type": "code",
   "execution_count": 3,
   "id": "51d539a8",
   "metadata": {},
   "outputs": [
    {
     "name": "stdout",
     "output_type": "stream",
     "text": [
      "0         Wes McKinney\n",
      "1    Creator of Pandas\n",
      "dtype: object\n"
     ]
    }
   ],
   "source": [
    "s = pd.Series(['Wes McKinney','Creator of Pandas'])\n",
    "print(s)"
   ]
  },
  {
   "cell_type": "markdown",
   "id": "682f8f8d",
   "metadata": {},
   "source": [
    "### 데이터프레임 만들기"
   ]
  },
  {
   "cell_type": "code",
   "execution_count": 4,
   "id": "95dc01f5",
   "metadata": {},
   "outputs": [
    {
     "name": "stdout",
     "output_type": "stream",
     "text": [
      "                Name    Occupation        Born        Died  Age\n",
      "0  Rosaline Franklin        Chemis  1920-07-25  1958-04-16   37\n",
      "1     William Gosset  Statistician  1876-06-13  1937-10-16   61\n"
     ]
    }
   ],
   "source": [
    "scientists = pd.DataFrame({\n",
    "    'Name' : ['Rosaline Franklin','William Gosset'],\n",
    "    'Occupation' : ['Chemis','Statistician'],\n",
    "    'Born' : ['1920-07-25','1876-06-13'],\n",
    "    'Died' : ['1958-04-16','1937-10-16'],\n",
    "    'Age' : [37,61]})\n",
    "print(scientists)"
   ]
  },
  {
   "cell_type": "code",
   "execution_count": 5,
   "id": "f9bb419a",
   "metadata": {},
   "outputs": [
    {
     "name": "stdout",
     "output_type": "stream",
     "text": [
      "                     Occupation        Born        Died  Age\n",
      "Rosaline Franklin        Chemis  1920-07-25  1958-04-16   37\n",
      "William Gosset     Statistician  1876-06-13  1937-10-16   61\n"
     ]
    }
   ],
   "source": [
    "scientists = pd.DataFrame(\n",
    "    index = ['Rosaline Franklin','William Gosset'],\n",
    "    data = {'Occupation' : ['Chemis','Statistician'],\n",
    "            'Born' : ['1920-07-25','1876-06-13'],\n",
    "            'Died' : ['1958-04-16','1937-10-16'],\n",
    "            'Age' : [37,61]},\n",
    "    columns = ['Occupation','Born','Died','Age'])\n",
    "print(scientists)"
   ]
  },
  {
   "cell_type": "markdown",
   "id": "1fb18735",
   "metadata": {},
   "source": [
    "### 시리즈 다루기 - 기초"
   ]
  },
  {
   "cell_type": "markdown",
   "id": "598eadb3",
   "metadata": {},
   "source": [
    "#### 데이터프레임에서 시리즈 선택하기"
   ]
  },
  {
   "cell_type": "code",
   "execution_count": 6,
   "id": "7f598f58",
   "metadata": {},
   "outputs": [],
   "source": [
    "scientists = pd.DataFrame(index = ['Rosaline Franklin','William Gosset'],\n",
    "                          data = {'Occupation' : ['Chemis','Statistician'],\n",
    "                                  'Born' : ['1920-07-25','1876-06-13'],\n",
    "                                  'Died' : ['1958-04-16','1937-10-16'],\n",
    "                                  'Age' : [37,61]},\n",
    "                          columns = ['Occupation','Born','Died','Age'])"
   ]
  },
  {
   "cell_type": "code",
   "execution_count": 7,
   "id": "64dcc565",
   "metadata": {},
   "outputs": [
    {
     "name": "stdout",
     "output_type": "stream",
     "text": [
      "<class 'pandas.core.series.Series'>\n",
      "Occupation    Statistician\n",
      "Born            1876-06-13\n",
      "Died            1937-10-16\n",
      "Age                     61\n",
      "Name: William Gosset, dtype: object\n"
     ]
    }
   ],
   "source": [
    "first_row = scientists.loc['William Gosset']\n",
    "print(type(first_row))\n",
    "print(first_row)"
   ]
  },
  {
   "cell_type": "markdown",
   "id": "17574be4",
   "metadata": {},
   "source": [
    "#### index, values 속성과 keys 메서드 사용하기"
   ]
  },
  {
   "cell_type": "code",
   "execution_count": 8,
   "id": "157dbff0",
   "metadata": {},
   "outputs": [
    {
     "name": "stdout",
     "output_type": "stream",
     "text": [
      "Index(['Occupation', 'Born', 'Died', 'Age'], dtype='object')\n",
      " \n",
      "['Statistician' '1876-06-13' '1937-10-16' 61]\n",
      " \n",
      "Index(['Occupation', 'Born', 'Died', 'Age'], dtype='object')\n",
      " \n",
      "Occupation\n",
      " \n",
      "Occupation\n"
     ]
    }
   ],
   "source": [
    "print(first_row.index)\n",
    "print(' ')\n",
    "print(first_row.values)\n",
    "print(' ')\n",
    "print(first_row.keys())\n",
    "print(' ')\n",
    "print(first_row.index[0])\n",
    "print(' ')\n",
    "print(first_row.keys()[0])"
   ]
  },
  {
   "cell_type": "markdown",
   "id": "ecc36e62",
   "metadata": {},
   "source": [
    "#### 시리즈의 mean, min, max, std 메서드 사용하기"
   ]
  },
  {
   "cell_type": "code",
   "execution_count": 9,
   "id": "a99febb3",
   "metadata": {},
   "outputs": [
    {
     "name": "stdout",
     "output_type": "stream",
     "text": [
      "Rosaline Franklin    37\n",
      "William Gosset       61\n",
      "Name: Age, dtype: int64\n",
      " \n",
      "49.0\n",
      " \n",
      "37\n",
      " \n",
      "61\n",
      " \n",
      "16.97056274847714\n"
     ]
    }
   ],
   "source": [
    "ages = scientists['Age']\n",
    "print(ages)\n",
    "print(' ')\n",
    "print(ages.mean())\n",
    "print(' ')\n",
    "print(ages.min())\n",
    "print(' ')\n",
    "print(ages.max())\n",
    "print(' ')\n",
    "print(ages.std())"
   ]
  },
  {
   "cell_type": "markdown",
   "id": "a651f183",
   "metadata": {},
   "source": [
    "### 시리즈 다루기 - 응용"
   ]
  },
  {
   "cell_type": "markdown",
   "id": "7bc30c2e",
   "metadata": {},
   "source": [
    "#### 시리즈와 불린 추출"
   ]
  },
  {
   "cell_type": "code",
   "execution_count": 10,
   "id": "0b8616a6",
   "metadata": {},
   "outputs": [
    {
     "name": "stdout",
     "output_type": "stream",
     "text": [
      "C:\\Users\\admin\n"
     ]
    }
   ],
   "source": [
    "cd"
   ]
  },
  {
   "cell_type": "code",
   "execution_count": 12,
   "id": "b635ea72",
   "metadata": {},
   "outputs": [
    {
     "name": "stdout",
     "output_type": "stream",
     "text": [
      "90\n",
      " \n",
      "59.125\n",
      " \n",
      "1    61\n",
      "2    90\n",
      "3    66\n",
      "7    77\n",
      "Name: Age, dtype: int64\n",
      " \n",
      "0    False\n",
      "1     True\n",
      "2     True\n",
      "3     True\n",
      "4    False\n",
      "5    False\n",
      "6    False\n",
      "7     True\n",
      "Name: Age, dtype: bool\n",
      " \n",
      "0    37\n",
      "1    61\n",
      "4    56\n",
      "5    45\n",
      "7    77\n",
      "Name: Age, dtype: int64\n"
     ]
    }
   ],
   "source": [
    "scientists = pd.read_csv('C:/STUDY/Python/data/scientists.csv')\n",
    "ages = scientists['Age']\n",
    "print(ages.max())\n",
    "print(' ')\n",
    "print(ages.mean())\n",
    "print(' ')\n",
    "print(ages[ages > ages.mean()])\n",
    "print(' ')\n",
    "print(ages > ages.mean())\n",
    "print(' ')\n",
    "manual_bool_values = [True,True,False,False,True,True,False,True]\n",
    "print(ages[manual_bool_values])"
   ]
  },
  {
   "cell_type": "markdown",
   "id": "84933dbf",
   "metadata": {},
   "source": [
    "#### 벡터와 스칼라로 브로드캐스팅 수행하기\n",
    "#### 브로드캐스팅 : 시리즈와 같이 여러개의 값을 가진 데이터(벡터)와\n",
    "#### 단순 크기를 나타내는 데이터(스칼라) 간의 연산을 지원하는 것"
   ]
  },
  {
   "cell_type": "code",
   "execution_count": 38,
   "id": "8146d5dc",
   "metadata": {},
   "outputs": [
    {
     "name": "stdout",
     "output_type": "stream",
     "text": [
      "0     74\n",
      "1    122\n",
      "2    180\n",
      "3    132\n",
      "4    112\n",
      "5     90\n",
      "6     82\n",
      "7    154\n",
      "Name: Age, dtype: int64\n",
      " \n",
      "0    1369\n",
      "1    3721\n",
      "2    8100\n",
      "3    4356\n",
      "4    3136\n",
      "5    2025\n",
      "6    1681\n",
      "7    5929\n",
      "Name: Age, dtype: int64\n",
      " \n",
      "0    137\n",
      "1    161\n",
      "2    190\n",
      "3    166\n",
      "4    156\n",
      "5    145\n",
      "6    141\n",
      "7    177\n",
      "Name: Age, dtype: int64\n",
      " \n",
      "0     74\n",
      "1    122\n",
      "2    180\n",
      "3    132\n",
      "4    112\n",
      "5     90\n",
      "6     82\n",
      "7    154\n",
      "Name: Age, dtype: int64\n",
      " \n",
      "0      1\n",
      "1    100\n",
      "dtype: int64\n",
      " \n",
      "0     38.0\n",
      "1    161.0\n",
      "2      NaN\n",
      "3      NaN\n",
      "4      NaN\n",
      "5      NaN\n",
      "6      NaN\n",
      "7      NaN\n",
      "dtype: float64\n"
     ]
    }
   ],
   "source": [
    "print(ages + ages)\n",
    "print(' ')\n",
    "print(ages * ages)\n",
    "print(' ')\n",
    "print(ages + 100)\n",
    "print(' ')\n",
    "print(ages * 2)\n",
    "print(' ')\n",
    "print(pd.Series([1,100]))\n",
    "print(' ')\n",
    "print(ages + pd.Series([1,100]))"
   ]
  },
  {
   "cell_type": "code",
   "execution_count": 39,
   "id": "6b1033e3",
   "metadata": {},
   "outputs": [
    {
     "name": "stdout",
     "output_type": "stream",
     "text": [
      "0      1\n",
      "1    100\n",
      "dtype: int64\n",
      " \n",
      "0     38.0\n",
      "1    161.0\n",
      "2      NaN\n",
      "3      NaN\n",
      "4      NaN\n",
      "5      NaN\n",
      "6      NaN\n",
      "7      NaN\n",
      "dtype: float64\n",
      " \n",
      "7    77\n",
      "6    41\n",
      "5    45\n",
      "4    56\n",
      "3    66\n",
      "2    90\n",
      "1    61\n",
      "0    37\n",
      "Name: Age, dtype: int64\n",
      " \n",
      "0     74\n",
      "1    122\n",
      "2    180\n",
      "3    132\n",
      "4    112\n",
      "5     90\n",
      "6     82\n",
      "7    154\n",
      "Name: Age, dtype: int64\n",
      " \n",
      "0     74\n",
      "1    122\n",
      "2    180\n",
      "3    132\n",
      "4    112\n",
      "5     90\n",
      "6     82\n",
      "7    154\n",
      "Name: Age, dtype: int64\n"
     ]
    }
   ],
   "source": [
    "print(pd.Series([1,100]))\n",
    "print(' ')\n",
    "print(ages + pd.Series([1,100])) # 인덱스가 일치한 값만 계산하고 나머진 NaN\n",
    "print(' ')\n",
    "rev_ages = ages.sort_index(ascending=False)\n",
    "print(rev_ages)\n",
    "print(' ')\n",
    "print(ages * 2)\n",
    "print(' ')\n",
    "print(ages + rev_ages)"
   ]
  },
  {
   "cell_type": "markdown",
   "id": "77744663",
   "metadata": {},
   "source": [
    "#### 불린추출과 브로드캐스팅"
   ]
  },
  {
   "cell_type": "code",
   "execution_count": 40,
   "id": "52c45334",
   "metadata": {},
   "outputs": [
    {
     "name": "stdout",
     "output_type": "stream",
     "text": [
      "                   Name        Born        Died  Age     Occupation\n",
      "1        William Gosset  1876-06-13  1937-10-16   61   Statistician\n",
      "2  Florence Nightingale  1820-05-12  1910-08-13   90          Nurse\n",
      "3           Marie Curie  1867-11-07  1934-07-04   66        Chemist\n",
      "7          Johann Gauss  1777-04-30  1855-02-23   77  Mathematician\n"
     ]
    }
   ],
   "source": [
    "print(scientists[scientists['Age'] > scientists['Age'].mean()])"
   ]
  },
  {
   "cell_type": "code",
   "execution_count": 41,
   "id": "1799d94d",
   "metadata": {},
   "outputs": [
    {
     "ename": "IndexError",
     "evalue": "Boolean index has wrong length: 4 instead of 8",
     "output_type": "error",
     "traceback": [
      "\u001b[1;31m---------------------------------------------------------------------------\u001b[0m",
      "\u001b[1;31mIndexError\u001b[0m                                Traceback (most recent call last)",
      "Input \u001b[1;32mIn [41]\u001b[0m, in \u001b[0;36m<cell line: 1>\u001b[1;34m()\u001b[0m\n\u001b[1;32m----> 1\u001b[0m \u001b[38;5;28mprint\u001b[39m(\u001b[43mscientists\u001b[49m\u001b[38;5;241;43m.\u001b[39;49m\u001b[43mloc\u001b[49m\u001b[43m[\u001b[49m\u001b[43m[\u001b[49m\u001b[38;5;28;43;01mTrue\u001b[39;49;00m\u001b[43m,\u001b[49m\u001b[43m \u001b[49m\u001b[38;5;28;43;01mTrue\u001b[39;49;00m\u001b[43m,\u001b[49m\u001b[43m \u001b[49m\u001b[38;5;28;43;01mFalse\u001b[39;49;00m\u001b[43m,\u001b[49m\u001b[43m \u001b[49m\u001b[38;5;28;43;01mTrue\u001b[39;49;00m\u001b[43m]\u001b[49m\u001b[43m]\u001b[49m)\n",
      "File \u001b[1;32m~\\anaconda3\\lib\\site-packages\\pandas\\core\\indexing.py:967\u001b[0m, in \u001b[0;36m_LocationIndexer.__getitem__\u001b[1;34m(self, key)\u001b[0m\n\u001b[0;32m    964\u001b[0m axis \u001b[38;5;241m=\u001b[39m \u001b[38;5;28mself\u001b[39m\u001b[38;5;241m.\u001b[39maxis \u001b[38;5;129;01mor\u001b[39;00m \u001b[38;5;241m0\u001b[39m\n\u001b[0;32m    966\u001b[0m maybe_callable \u001b[38;5;241m=\u001b[39m com\u001b[38;5;241m.\u001b[39mapply_if_callable(key, \u001b[38;5;28mself\u001b[39m\u001b[38;5;241m.\u001b[39mobj)\n\u001b[1;32m--> 967\u001b[0m \u001b[38;5;28;01mreturn\u001b[39;00m \u001b[38;5;28;43mself\u001b[39;49m\u001b[38;5;241;43m.\u001b[39;49m\u001b[43m_getitem_axis\u001b[49m\u001b[43m(\u001b[49m\u001b[43mmaybe_callable\u001b[49m\u001b[43m,\u001b[49m\u001b[43m \u001b[49m\u001b[43maxis\u001b[49m\u001b[38;5;241;43m=\u001b[39;49m\u001b[43maxis\u001b[49m\u001b[43m)\u001b[49m\n",
      "File \u001b[1;32m~\\anaconda3\\lib\\site-packages\\pandas\\core\\indexing.py:1182\u001b[0m, in \u001b[0;36m_LocIndexer._getitem_axis\u001b[1;34m(self, key, axis)\u001b[0m\n\u001b[0;32m   1180\u001b[0m     \u001b[38;5;28;01mreturn\u001b[39;00m \u001b[38;5;28mself\u001b[39m\u001b[38;5;241m.\u001b[39m_get_slice_axis(key, axis\u001b[38;5;241m=\u001b[39maxis)\n\u001b[0;32m   1181\u001b[0m \u001b[38;5;28;01melif\u001b[39;00m com\u001b[38;5;241m.\u001b[39mis_bool_indexer(key):\n\u001b[1;32m-> 1182\u001b[0m     \u001b[38;5;28;01mreturn\u001b[39;00m \u001b[38;5;28;43mself\u001b[39;49m\u001b[38;5;241;43m.\u001b[39;49m\u001b[43m_getbool_axis\u001b[49m\u001b[43m(\u001b[49m\u001b[43mkey\u001b[49m\u001b[43m,\u001b[49m\u001b[43m \u001b[49m\u001b[43maxis\u001b[49m\u001b[38;5;241;43m=\u001b[39;49m\u001b[43maxis\u001b[49m\u001b[43m)\u001b[49m\n\u001b[0;32m   1183\u001b[0m \u001b[38;5;28;01melif\u001b[39;00m is_list_like_indexer(key):\n\u001b[0;32m   1184\u001b[0m \n\u001b[0;32m   1185\u001b[0m     \u001b[38;5;66;03m# an iterable multi-selection\u001b[39;00m\n\u001b[0;32m   1186\u001b[0m     \u001b[38;5;28;01mif\u001b[39;00m \u001b[38;5;129;01mnot\u001b[39;00m (\u001b[38;5;28misinstance\u001b[39m(key, \u001b[38;5;28mtuple\u001b[39m) \u001b[38;5;129;01mand\u001b[39;00m \u001b[38;5;28misinstance\u001b[39m(labels, MultiIndex)):\n",
      "File \u001b[1;32m~\\anaconda3\\lib\\site-packages\\pandas\\core\\indexing.py:984\u001b[0m, in \u001b[0;36m_LocationIndexer._getbool_axis\u001b[1;34m(self, key, axis)\u001b[0m\n\u001b[0;32m    981\u001b[0m \u001b[38;5;28;01mdef\u001b[39;00m \u001b[38;5;21m_getbool_axis\u001b[39m(\u001b[38;5;28mself\u001b[39m, key, axis: \u001b[38;5;28mint\u001b[39m):\n\u001b[0;32m    982\u001b[0m     \u001b[38;5;66;03m# caller is responsible for ensuring non-None axis\u001b[39;00m\n\u001b[0;32m    983\u001b[0m     labels \u001b[38;5;241m=\u001b[39m \u001b[38;5;28mself\u001b[39m\u001b[38;5;241m.\u001b[39mobj\u001b[38;5;241m.\u001b[39m_get_axis(axis)\n\u001b[1;32m--> 984\u001b[0m     key \u001b[38;5;241m=\u001b[39m \u001b[43mcheck_bool_indexer\u001b[49m\u001b[43m(\u001b[49m\u001b[43mlabels\u001b[49m\u001b[43m,\u001b[49m\u001b[43m \u001b[49m\u001b[43mkey\u001b[49m\u001b[43m)\u001b[49m\n\u001b[0;32m    985\u001b[0m     inds \u001b[38;5;241m=\u001b[39m key\u001b[38;5;241m.\u001b[39mnonzero()[\u001b[38;5;241m0\u001b[39m]\n\u001b[0;32m    986\u001b[0m     \u001b[38;5;28;01mreturn\u001b[39;00m \u001b[38;5;28mself\u001b[39m\u001b[38;5;241m.\u001b[39mobj\u001b[38;5;241m.\u001b[39m_take_with_is_copy(inds, axis\u001b[38;5;241m=\u001b[39maxis)\n",
      "File \u001b[1;32m~\\anaconda3\\lib\\site-packages\\pandas\\core\\indexing.py:2396\u001b[0m, in \u001b[0;36mcheck_bool_indexer\u001b[1;34m(index, key)\u001b[0m\n\u001b[0;32m   2392\u001b[0m \u001b[38;5;28;01melif\u001b[39;00m \u001b[38;5;129;01mnot\u001b[39;00m is_array_like(result):\n\u001b[0;32m   2393\u001b[0m     \u001b[38;5;66;03m# GH 33924\u001b[39;00m\n\u001b[0;32m   2394\u001b[0m     \u001b[38;5;66;03m# key may contain nan elements, check_array_indexer needs bool array\u001b[39;00m\n\u001b[0;32m   2395\u001b[0m     result \u001b[38;5;241m=\u001b[39m pd_array(result, dtype\u001b[38;5;241m=\u001b[39m\u001b[38;5;28mbool\u001b[39m)\n\u001b[1;32m-> 2396\u001b[0m \u001b[38;5;28;01mreturn\u001b[39;00m \u001b[43mcheck_array_indexer\u001b[49m\u001b[43m(\u001b[49m\u001b[43mindex\u001b[49m\u001b[43m,\u001b[49m\u001b[43m \u001b[49m\u001b[43mresult\u001b[49m\u001b[43m)\u001b[49m\n",
      "File \u001b[1;32m~\\anaconda3\\lib\\site-packages\\pandas\\core\\indexers\\utils.py:579\u001b[0m, in \u001b[0;36mcheck_array_indexer\u001b[1;34m(array, indexer)\u001b[0m\n\u001b[0;32m    577\u001b[0m     \u001b[38;5;66;03m# GH26658\u001b[39;00m\n\u001b[0;32m    578\u001b[0m     \u001b[38;5;28;01mif\u001b[39;00m \u001b[38;5;28mlen\u001b[39m(indexer) \u001b[38;5;241m!=\u001b[39m \u001b[38;5;28mlen\u001b[39m(array):\n\u001b[1;32m--> 579\u001b[0m         \u001b[38;5;28;01mraise\u001b[39;00m \u001b[38;5;167;01mIndexError\u001b[39;00m(\n\u001b[0;32m    580\u001b[0m             \u001b[38;5;124mf\u001b[39m\u001b[38;5;124m\"\u001b[39m\u001b[38;5;124mBoolean index has wrong length: \u001b[39m\u001b[38;5;124m\"\u001b[39m\n\u001b[0;32m    581\u001b[0m             \u001b[38;5;124mf\u001b[39m\u001b[38;5;124m\"\u001b[39m\u001b[38;5;132;01m{\u001b[39;00m\u001b[38;5;28mlen\u001b[39m(indexer)\u001b[38;5;132;01m}\u001b[39;00m\u001b[38;5;124m instead of \u001b[39m\u001b[38;5;132;01m{\u001b[39;00m\u001b[38;5;28mlen\u001b[39m(array)\u001b[38;5;132;01m}\u001b[39;00m\u001b[38;5;124m\"\u001b[39m\n\u001b[0;32m    582\u001b[0m         )\n\u001b[0;32m    583\u001b[0m \u001b[38;5;28;01melif\u001b[39;00m is_integer_dtype(dtype):\n\u001b[0;32m    584\u001b[0m     \u001b[38;5;28;01mtry\u001b[39;00m:\n",
      "\u001b[1;31mIndexError\u001b[0m: Boolean index has wrong length: 4 instead of 8"
     ]
    }
   ],
   "source": [
    "print(scientists.loc[[True, True, False, True]])"
   ]
  },
  {
   "cell_type": "code",
   "execution_count": 20,
   "id": "6b875dd6",
   "metadata": {},
   "outputs": [
    {
     "name": "stdout",
     "output_type": "stream",
     "text": [
      "                                 Occupation                  Born  \\\n",
      "Rosaline Franklin              ChemisChemis  1920-07-251920-07-25   \n",
      "William Gosset     StatisticianStatistician  1876-06-131876-06-13   \n",
      "\n",
      "                                   Died  Age  \n",
      "Rosaline Franklin  1958-04-161958-04-16   74  \n",
      "William Gosset     1937-10-161937-10-16  122  \n"
     ]
    }
   ],
   "source": [
    "print(scientists * 2)"
   ]
  },
  {
   "cell_type": "markdown",
   "id": "f8af19ba",
   "metadata": {},
   "source": [
    "#### 시리즈와 데이터프레임의 데이터 처리하기"
   ]
  },
  {
   "cell_type": "code",
   "execution_count": 21,
   "id": "d4a59699",
   "metadata": {},
   "outputs": [
    {
     "name": "stdout",
     "output_type": "stream",
     "text": [
      "object\n",
      " \n",
      "object\n"
     ]
    }
   ],
   "source": [
    "print(scientists['Born'].dtype)\n",
    "print(' ')\n",
    "print(scientists['Died'].dtype)"
   ]
  },
  {
   "cell_type": "code",
   "execution_count": 22,
   "id": "28460a46",
   "metadata": {},
   "outputs": [
    {
     "name": "stdout",
     "output_type": "stream",
     "text": [
      "Rosaline Franklin   1920-07-25\n",
      "William Gosset      1876-06-13\n",
      "Name: Born, dtype: datetime64[ns]\n",
      "Rosaline Franklin   1958-04-16\n",
      "William Gosset      1937-10-16\n",
      "Name: Died, dtype: datetime64[ns]\n"
     ]
    }
   ],
   "source": [
    "born_datetime = pd.to_datetime(scientists['Born'], format='%Y-%m-%d')\n",
    "died_datetime = pd.to_datetime(scientists['Died'], format='%Y-%m-%d')\n",
    "print(born_datetime)\n",
    "print(died_datetime)"
   ]
  },
  {
   "cell_type": "code",
   "execution_count": 23,
   "id": "3f251b60",
   "metadata": {},
   "outputs": [
    {
     "name": "stdout",
     "output_type": "stream",
     "text": [
      "                     Occupation        Born        Died  Age    born_dt  \\\n",
      "Rosaline Franklin        Chemis  1920-07-25  1958-04-16   37 1920-07-25   \n",
      "William Gosset     Statistician  1876-06-13  1937-10-16   61 1876-06-13   \n",
      "\n",
      "                     died_dt  \n",
      "Rosaline Franklin 1958-04-16  \n",
      "William Gosset    1937-10-16  \n"
     ]
    }
   ],
   "source": [
    "scientists['born_dt'],scientists['died_dt'] = (born_datetime, died_datetime)\n",
    "print(scientists.head())"
   ]
  },
  {
   "cell_type": "code",
   "execution_count": 24,
   "id": "7edb98dc",
   "metadata": {},
   "outputs": [
    {
     "name": "stdout",
     "output_type": "stream",
     "text": [
      "                     Occupation        Born        Died  Age    born_dt  \\\n",
      "Rosaline Franklin        Chemis  1920-07-25  1958-04-16   37 1920-07-25   \n",
      "William Gosset     Statistician  1876-06-13  1937-10-16   61 1876-06-13   \n",
      "\n",
      "                     died_dt age_day_dt  \n",
      "Rosaline Franklin 1958-04-16 13779 days  \n",
      "William Gosset    1937-10-16 22404 days  \n"
     ]
    }
   ],
   "source": [
    "scientists['age_day_dt'] = (scientists['died_dt'] - scientists['born_dt'])\n",
    "print(scientists)"
   ]
  },
  {
   "cell_type": "code",
   "execution_count": 25,
   "id": "e5cabe7c",
   "metadata": {},
   "outputs": [
    {
     "name": "stdout",
     "output_type": "stream",
     "text": [
      "Rosaline Franklin    37\n",
      "William Gosset       61\n",
      "Name: Age, dtype: int64\n",
      "Index(['Occupation', 'Born', 'Died', 'Age', 'born_dt', 'died_dt',\n",
      "       'age_day_dt'],\n",
      "      dtype='object')\n",
      "Index(['Occupation', 'Born', 'Died', 'born_dt', 'died_dt', 'age_day_dt'], dtype='object')\n"
     ]
    }
   ],
   "source": [
    "print(scientists['Age'])\n",
    "import random\n",
    "print(scientists.columns)\n",
    "scientists_dropped = scientists.drop(['Age'], axis = 1)\n",
    "print(scientists_dropped.columns)"
   ]
  },
  {
   "cell_type": "markdown",
   "id": "24a02b25",
   "metadata": {},
   "source": [
    "#### 데이터를 피클, CSV, TSV 파일로 저장하고 불러오기"
   ]
  },
  {
   "cell_type": "code",
   "execution_count": 13,
   "id": "10bfed71",
   "metadata": {},
   "outputs": [
    {
     "name": "stdout",
     "output_type": "stream",
     "text": [
      "0       Rosaline Franklin\n",
      "1          William Gosset\n",
      "2    Florence Nightingale\n",
      "3             Marie Curie\n",
      "4           Rachel Carson\n",
      "5               John Snow\n",
      "6             Alan Turing\n",
      "7            Johann Gauss\n",
      "Name: Name, dtype: object\n",
      " \n",
      "                   Name        Born        Died  Age          Occupation\n",
      "0     Rosaline Franklin  1920-07-25  1958-04-16   37             Chemist\n",
      "1        William Gosset  1876-06-13  1937-10-16   61        Statistician\n",
      "2  Florence Nightingale  1820-05-12  1910-08-13   90               Nurse\n",
      "3           Marie Curie  1867-11-07  1934-07-04   66             Chemist\n",
      "4         Rachel Carson  1907-05-27  1964-04-14   56           Biologist\n",
      "5             John Snow  1813-03-15  1858-06-16   45           Physician\n",
      "6           Alan Turing  1912-06-23  1954-06-07   41  Computer Scientist\n",
      "7          Johann Gauss  1777-04-30  1855-02-23   77       Mathematician\n"
     ]
    }
   ],
   "source": [
    "names = scientists['Name']\n",
    "names.to_pickle('C:/STUDY/Python/data/scientist_df.pickle')\n",
    "scientists.to_pickle('C:/STUDY/Python/data/scientists_df.pickle')\n",
    "scientists_names_from_pickle = pd.read_pickle('C:/STUDY/Python/data/scientist_names_series.pickle')\n",
    "print(scientists_names_from_pickle)\n",
    "print(' ')\n",
    "scientists_from_pickle = pd.read_pickle('C:/STUDY/Python/data/scientists_df.pickle')\n",
    "print(scientists_from_pickle)"
   ]
  },
  {
   "cell_type": "code",
   "execution_count": 14,
   "id": "dcb45dd7",
   "metadata": {},
   "outputs": [],
   "source": [
    "names.to_csv('C:/STUDY/Python/data/scientists_names_series.csv')\n",
    "scientists.to_csv('C:/STUDY/Python/data/scientists_df.tsv', sep='\\t')"
   ]
  },
  {
   "cell_type": "code",
   "execution_count": 4,
   "id": "b379d8cc",
   "metadata": {},
   "outputs": [
    {
     "name": "stdout",
     "output_type": "stream",
     "text": [
      "Requirement already satisfied: xlwt in c:\\users\\admin\\anaconda3\\lib\\site-packages (1.3.0)\n"
     ]
    }
   ],
   "source": [
    "!pip install xlwt"
   ]
  },
  {
   "cell_type": "code",
   "execution_count": 5,
   "id": "00b4ead6",
   "metadata": {},
   "outputs": [
    {
     "name": "stdout",
     "output_type": "stream",
     "text": [
      "Requirement already satisfied: openpyxl in c:\\users\\admin\\anaconda3\\lib\\site-packages (3.0.9)\n",
      "Requirement already satisfied: et-xmlfile in c:\\users\\admin\\anaconda3\\lib\\site-packages (from openpyxl) (1.1.0)\n"
     ]
    }
   ],
   "source": [
    "!pip install openpyxl"
   ]
  },
  {
   "cell_type": "code",
   "execution_count": 15,
   "id": "bec0b5da",
   "metadata": {},
   "outputs": [
    {
     "name": "stdout",
     "output_type": "stream",
     "text": [
      "<bound method NDFrame.to_excel of                    Name\n",
      "0     Rosaline Franklin\n",
      "1        William Gosset\n",
      "2  Florence Nightingale\n",
      "3           Marie Curie\n",
      "4         Rachel Carson\n",
      "5             John Snow\n",
      "6           Alan Turing\n",
      "7          Johann Gauss>\n",
      " \n",
      "<bound method NDFrame.to_excel of                    Name\n",
      "0     Rosaline Franklin\n",
      "1        William Gosset\n",
      "2  Florence Nightingale\n",
      "3           Marie Curie\n",
      "4         Rachel Carson\n",
      "5             John Snow\n",
      "6           Alan Turing\n",
      "7          Johann Gauss>\n"
     ]
    },
    {
     "name": "stderr",
     "output_type": "stream",
     "text": [
      "C:\\Users\\admin\\AppData\\Local\\Temp\\ipykernel_1012\\3994533274.py:4: FutureWarning: As the xlwt package is no longer maintained, the xlwt engine will be removed in a future version of pandas. This is the only engine in pandas that supports writing in the xls format. Install openpyxl and write to an xlsx file instead. You can set the option io.excel.xls.writer to 'xlwt' to silence this warning. While this option is deprecated and will also raise a warning, it can be globally set and the warning suppressed.\n",
      "  names_df.to_excel('C:/STUDY/Python/data/scientists_names_series_df.xls')\n"
     ]
    }
   ],
   "source": [
    "import xlwt\n",
    "import openpyxl\n",
    "names_df = names.to_frame()\n",
    "names_df.to_excel('C:/STUDY/Python/data/scientists_names_series_df.xls')\n",
    "print(names_df.to_excel)\n",
    "print(' ')\n",
    "names_df.to_excel('C:/STUDY/Python/data/scientists_names_series_df.xlsx')\n",
    "print(names_df.to_excel)"
   ]
  },
  {
   "cell_type": "code",
   "execution_count": null,
   "id": "58faf259",
   "metadata": {},
   "outputs": [],
   "source": []
  }
 ],
 "metadata": {
  "kernelspec": {
   "display_name": "Python 3 (ipykernel)",
   "language": "python",
   "name": "python3"
  },
  "language_info": {
   "codemirror_mode": {
    "name": "ipython",
    "version": 3
   },
   "file_extension": ".py",
   "mimetype": "text/x-python",
   "name": "python",
   "nbconvert_exporter": "python",
   "pygments_lexer": "ipython3",
   "version": "3.9.12"
  }
 },
 "nbformat": 4,
 "nbformat_minor": 5
}
