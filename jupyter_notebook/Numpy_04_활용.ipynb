{
 "cells": [
  {
   "cell_type": "markdown",
   "id": "bc25d2d6",
   "metadata": {},
   "source": [
    "### Full\n",
    "#### 입력 값으로 채워지는 행렬\n",
    "#### > np.full((shape), value)"
   ]
  },
  {
   "cell_type": "code",
   "execution_count": 2,
   "id": "b86f278b",
   "metadata": {},
   "outputs": [],
   "source": [
    "import numpy as np"
   ]
  },
  {
   "cell_type": "code",
   "execution_count": 3,
   "id": "9bbefb01",
   "metadata": {},
   "outputs": [
    {
     "name": "stdout",
     "output_type": "stream",
     "text": [
      "[[3 3 3 3 3]\n",
      " [3 3 3 3 3]]\n"
     ]
    }
   ],
   "source": [
    "print(np.full((2,5), 3))"
   ]
  },
  {
   "cell_type": "code",
   "execution_count": 4,
   "id": "42d0f086",
   "metadata": {},
   "outputs": [
    {
     "name": "stdout",
     "output_type": "stream",
     "text": [
      "[['a' 'a' 'a' 'a']\n",
      " ['a' 'a' 'a' 'a']\n",
      " ['a' 'a' 'a' 'a']\n",
      " ['a' 'a' 'a' 'a']\n",
      " ['a' 'a' 'a' 'a']]\n"
     ]
    }
   ],
   "source": [
    "print(np.full((5,4),'a'))"
   ]
  },
  {
   "cell_type": "markdown",
   "id": "567b752b",
   "metadata": {},
   "source": [
    "### Random.randint\n",
    "#### 주어진 범위 안의 랜덤한 값을 뽑는 함수\n",
    "#### > np.random.randint(range)"
   ]
  },
  {
   "cell_type": "code",
   "execution_count": 5,
   "id": "f178eea6",
   "metadata": {},
   "outputs": [
    {
     "name": "stdout",
     "output_type": "stream",
     "text": [
      "4\n"
     ]
    }
   ],
   "source": [
    "# 0~5까지의 정수 중 하나 뽑기\n",
    "print(np.random.randint(6))"
   ]
  },
  {
   "cell_type": "code",
   "execution_count": 7,
   "id": "28f64b83",
   "metadata": {},
   "outputs": [
    {
     "name": "stdout",
     "output_type": "stream",
     "text": [
      "3\n"
     ]
    }
   ],
   "source": [
    "# 1~19까지의 정수 중 하나 뽑기\n",
    "print(np.random.randint(1,20))"
   ]
  },
  {
   "cell_type": "markdown",
   "id": "ccdd3208",
   "metadata": {},
   "source": [
    "### Random.randn\n",
    "#### 랜덤한 값으로 채워지는 배열\n",
    "#### 평균 0, 표준편차 1의 가우시안 표준정규분포 난수를 shape 형태의 배열로 생성\n",
    "#### > np.random.randn(shape)"
   ]
  },
  {
   "cell_type": "code",
   "execution_count": 8,
   "id": "3c602711",
   "metadata": {},
   "outputs": [
    {
     "name": "stdout",
     "output_type": "stream",
     "text": [
      "[2.09505173 3.19515661 0.36314263]\n"
     ]
    }
   ],
   "source": [
    "print(np.random.randn(3))"
   ]
  },
  {
   "cell_type": "code",
   "execution_count": 9,
   "id": "769b037d",
   "metadata": {},
   "outputs": [
    {
     "name": "stdout",
     "output_type": "stream",
     "text": [
      "[[ 0.6556611  -0.91621633]\n",
      " [-0.52565832 -0.74775063]\n",
      " [-1.76327033 -1.02068322]]\n"
     ]
    }
   ],
   "source": [
    "print(np.random.randn(3,2))"
   ]
  },
  {
   "cell_type": "markdown",
   "id": "0276e55b",
   "metadata": {},
   "source": [
    "### 합 (sum)\n",
    "#### 요소들의 합을 구해주는 함수\n",
    "#### 2차원 배열 합 > ndarray.sum()"
   ]
  },
  {
   "cell_type": "code",
   "execution_count": 11,
   "id": "e191a157",
   "metadata": {},
   "outputs": [],
   "source": [
    "matrix = np.arange(1,7).reshape(2,3)"
   ]
  },
  {
   "cell_type": "code",
   "execution_count": 12,
   "id": "e53abcd0",
   "metadata": {},
   "outputs": [
    {
     "data": {
      "text/plain": [
       "21"
      ]
     },
     "execution_count": 12,
     "metadata": {},
     "output_type": "execute_result"
    }
   ],
   "source": [
    "matrix.sum()"
   ]
  },
  {
   "cell_type": "code",
   "execution_count": 14,
   "id": "40dfa0e5",
   "metadata": {},
   "outputs": [
    {
     "name": "stdout",
     "output_type": "stream",
     "text": [
      "[5 7 9]\n"
     ]
    }
   ],
   "source": [
    "print(matrix.sum(axis=0))"
   ]
  },
  {
   "cell_type": "markdown",
   "id": "182d9ec5",
   "metadata": {},
   "source": [
    "### 합 (sum)\n",
    "#### 3차원 배열 합"
   ]
  },
  {
   "cell_type": "code",
   "execution_count": 15,
   "id": "d31b4cd9",
   "metadata": {},
   "outputs": [
    {
     "name": "stdout",
     "output_type": "stream",
     "text": [
      "[[[ 1  2  3]\n",
      "  [ 4  5  6]]\n",
      "\n",
      " [[ 7  8  9]\n",
      "  [10 11 12]]\n",
      "\n",
      " [[13 14 15]\n",
      "  [16 17 18]]]\n",
      "171\n"
     ]
    }
   ],
   "source": [
    "tensor = np.arange(1,19).reshape(3,2,3)\n",
    "print(tensor)\n",
    "print(tensor.sum())"
   ]
  },
  {
   "cell_type": "code",
   "execution_count": 19,
   "id": "c15b4fe7",
   "metadata": {},
   "outputs": [
    {
     "name": "stdout",
     "output_type": "stream",
     "text": [
      "[[21 24 27]\n",
      " [30 33 36]]\n",
      "[[ 5  7  9]\n",
      " [17 19 21]\n",
      " [29 31 33]]\n",
      "[[ 6 15]\n",
      " [24 33]\n",
      " [42 51]]\n"
     ]
    }
   ],
   "source": [
    "print(tensor.sum(axis=0))\n",
    "print(tensor.sum(axis=1))\n",
    "print(tensor.sum(axis=2))"
   ]
  },
  {
   "cell_type": "code",
   "execution_count": 21,
   "id": "8a54a2be",
   "metadata": {},
   "outputs": [
    {
     "name": "stdout",
     "output_type": "stream",
     "text": [
      "[[21 24 27]\n",
      " [30 33 36]]\n",
      "[[21 24 27]\n",
      " [30 33 36]]\n"
     ]
    }
   ],
   "source": [
    "print(tensor.sum(axis=0))\n",
    "print(np.sum(tensor, axis=0)) # 출력은 같으나 표현이 다름"
   ]
  },
  {
   "cell_type": "markdown",
   "id": "d67e9c8e",
   "metadata": {},
   "source": [
    "### 평균 (mean)\n",
    "#### 합과 동일\n",
    "#### > 2차원 배열 평균"
   ]
  },
  {
   "cell_type": "code",
   "execution_count": 18,
   "id": "c8da1c70",
   "metadata": {},
   "outputs": [
    {
     "name": "stdout",
     "output_type": "stream",
     "text": [
      "3.5\n",
      "[2.5 3.5 4.5]\n",
      "[2. 5.]\n"
     ]
    }
   ],
   "source": [
    "print(matrix.mean())       # 전체 평균\n",
    "print(matrix.mean(axis=0)) # 행끼리 평균(위 아래)\n",
    "print(matrix.mean(axis=1)) # 열끼리 평균(좌 우)"
   ]
  },
  {
   "cell_type": "markdown",
   "id": "6043ccb6",
   "metadata": {},
   "source": [
    "### 표준 편차 (std)\n",
    "#### 합, 평균과 동일\n",
    "#### > 2차원 배열 표준 편차"
   ]
  },
  {
   "cell_type": "code",
   "execution_count": 22,
   "id": "d799c77b",
   "metadata": {},
   "outputs": [
    {
     "name": "stdout",
     "output_type": "stream",
     "text": [
      "1.707825127659933\n",
      "[0.81649658 0.81649658]\n"
     ]
    },
    {
     "ename": "AxisError",
     "evalue": "axis 2 is out of bounds for array of dimension 2",
     "output_type": "error",
     "traceback": [
      "\u001b[1;31m---------------------------------------------------------------------------\u001b[0m",
      "\u001b[1;31mAxisError\u001b[0m                                 Traceback (most recent call last)",
      "Input \u001b[1;32mIn [22]\u001b[0m, in \u001b[0;36m<cell line: 3>\u001b[1;34m()\u001b[0m\n\u001b[0;32m      1\u001b[0m \u001b[38;5;28mprint\u001b[39m(matrix\u001b[38;5;241m.\u001b[39mstd())       \u001b[38;5;66;03m# 전체 표준 편차\u001b[39;00m\n\u001b[0;32m      2\u001b[0m \u001b[38;5;28mprint\u001b[39m(matrix\u001b[38;5;241m.\u001b[39mstd(axis\u001b[38;5;241m=\u001b[39m\u001b[38;5;241m1\u001b[39m)) \u001b[38;5;66;03m# 행끼리 표준 편차(위 아래)\u001b[39;00m\n\u001b[1;32m----> 3\u001b[0m \u001b[38;5;28mprint\u001b[39m(\u001b[43mmatrix\u001b[49m\u001b[38;5;241;43m.\u001b[39;49m\u001b[43mstd\u001b[49m\u001b[43m(\u001b[49m\u001b[43maxis\u001b[49m\u001b[38;5;241;43m=\u001b[39;49m\u001b[38;5;241;43m2\u001b[39;49m\u001b[43m)\u001b[49m)\n",
      "File \u001b[1;32m~\\anaconda3\\lib\\site-packages\\numpy\\core\\_methods.py:262\u001b[0m, in \u001b[0;36m_std\u001b[1;34m(a, axis, dtype, out, ddof, keepdims, where)\u001b[0m\n\u001b[0;32m    260\u001b[0m \u001b[38;5;28;01mdef\u001b[39;00m \u001b[38;5;21m_std\u001b[39m(a, axis\u001b[38;5;241m=\u001b[39m\u001b[38;5;28;01mNone\u001b[39;00m, dtype\u001b[38;5;241m=\u001b[39m\u001b[38;5;28;01mNone\u001b[39;00m, out\u001b[38;5;241m=\u001b[39m\u001b[38;5;28;01mNone\u001b[39;00m, ddof\u001b[38;5;241m=\u001b[39m\u001b[38;5;241m0\u001b[39m, keepdims\u001b[38;5;241m=\u001b[39m\u001b[38;5;28;01mFalse\u001b[39;00m, \u001b[38;5;241m*\u001b[39m,\n\u001b[0;32m    261\u001b[0m          where\u001b[38;5;241m=\u001b[39m\u001b[38;5;28;01mTrue\u001b[39;00m):\n\u001b[1;32m--> 262\u001b[0m     ret \u001b[38;5;241m=\u001b[39m \u001b[43m_var\u001b[49m\u001b[43m(\u001b[49m\u001b[43ma\u001b[49m\u001b[43m,\u001b[49m\u001b[43m \u001b[49m\u001b[43maxis\u001b[49m\u001b[38;5;241;43m=\u001b[39;49m\u001b[43maxis\u001b[49m\u001b[43m,\u001b[49m\u001b[43m \u001b[49m\u001b[43mdtype\u001b[49m\u001b[38;5;241;43m=\u001b[39;49m\u001b[43mdtype\u001b[49m\u001b[43m,\u001b[49m\u001b[43m \u001b[49m\u001b[43mout\u001b[49m\u001b[38;5;241;43m=\u001b[39;49m\u001b[43mout\u001b[49m\u001b[43m,\u001b[49m\u001b[43m \u001b[49m\u001b[43mddof\u001b[49m\u001b[38;5;241;43m=\u001b[39;49m\u001b[43mddof\u001b[49m\u001b[43m,\u001b[49m\n\u001b[0;32m    263\u001b[0m \u001b[43m               \u001b[49m\u001b[43mkeepdims\u001b[49m\u001b[38;5;241;43m=\u001b[39;49m\u001b[43mkeepdims\u001b[49m\u001b[43m,\u001b[49m\u001b[43m \u001b[49m\u001b[43mwhere\u001b[49m\u001b[38;5;241;43m=\u001b[39;49m\u001b[43mwhere\u001b[49m\u001b[43m)\u001b[49m\n\u001b[0;32m    265\u001b[0m     \u001b[38;5;28;01mif\u001b[39;00m \u001b[38;5;28misinstance\u001b[39m(ret, mu\u001b[38;5;241m.\u001b[39mndarray):\n\u001b[0;32m    266\u001b[0m         ret \u001b[38;5;241m=\u001b[39m um\u001b[38;5;241m.\u001b[39msqrt(ret, out\u001b[38;5;241m=\u001b[39mret)\n",
      "File \u001b[1;32m~\\anaconda3\\lib\\site-packages\\numpy\\core\\_methods.py:199\u001b[0m, in \u001b[0;36m_var\u001b[1;34m(a, axis, dtype, out, ddof, keepdims, where)\u001b[0m\n\u001b[0;32m    195\u001b[0m \u001b[38;5;28;01mdef\u001b[39;00m \u001b[38;5;21m_var\u001b[39m(a, axis\u001b[38;5;241m=\u001b[39m\u001b[38;5;28;01mNone\u001b[39;00m, dtype\u001b[38;5;241m=\u001b[39m\u001b[38;5;28;01mNone\u001b[39;00m, out\u001b[38;5;241m=\u001b[39m\u001b[38;5;28;01mNone\u001b[39;00m, ddof\u001b[38;5;241m=\u001b[39m\u001b[38;5;241m0\u001b[39m, keepdims\u001b[38;5;241m=\u001b[39m\u001b[38;5;28;01mFalse\u001b[39;00m, \u001b[38;5;241m*\u001b[39m,\n\u001b[0;32m    196\u001b[0m          where\u001b[38;5;241m=\u001b[39m\u001b[38;5;28;01mTrue\u001b[39;00m):\n\u001b[0;32m    197\u001b[0m     arr \u001b[38;5;241m=\u001b[39m asanyarray(a)\n\u001b[1;32m--> 199\u001b[0m     rcount \u001b[38;5;241m=\u001b[39m \u001b[43m_count_reduce_items\u001b[49m\u001b[43m(\u001b[49m\u001b[43marr\u001b[49m\u001b[43m,\u001b[49m\u001b[43m \u001b[49m\u001b[43maxis\u001b[49m\u001b[43m,\u001b[49m\u001b[43m \u001b[49m\u001b[43mkeepdims\u001b[49m\u001b[38;5;241;43m=\u001b[39;49m\u001b[43mkeepdims\u001b[49m\u001b[43m,\u001b[49m\u001b[43m \u001b[49m\u001b[43mwhere\u001b[49m\u001b[38;5;241;43m=\u001b[39;49m\u001b[43mwhere\u001b[49m\u001b[43m)\u001b[49m\n\u001b[0;32m    200\u001b[0m     \u001b[38;5;66;03m# Make this warning show up on top.\u001b[39;00m\n\u001b[0;32m    201\u001b[0m     \u001b[38;5;28;01mif\u001b[39;00m ddof \u001b[38;5;241m>\u001b[39m\u001b[38;5;241m=\u001b[39m rcount \u001b[38;5;28;01mif\u001b[39;00m where \u001b[38;5;129;01mis\u001b[39;00m \u001b[38;5;28;01mTrue\u001b[39;00m \u001b[38;5;28;01melse\u001b[39;00m umr_any(ddof \u001b[38;5;241m>\u001b[39m\u001b[38;5;241m=\u001b[39m rcount, axis\u001b[38;5;241m=\u001b[39m\u001b[38;5;28;01mNone\u001b[39;00m):\n",
      "File \u001b[1;32m~\\anaconda3\\lib\\site-packages\\numpy\\core\\_methods.py:76\u001b[0m, in \u001b[0;36m_count_reduce_items\u001b[1;34m(arr, axis, keepdims, where)\u001b[0m\n\u001b[0;32m     74\u001b[0m     items \u001b[38;5;241m=\u001b[39m nt\u001b[38;5;241m.\u001b[39mintp(\u001b[38;5;241m1\u001b[39m)\n\u001b[0;32m     75\u001b[0m     \u001b[38;5;28;01mfor\u001b[39;00m ax \u001b[38;5;129;01min\u001b[39;00m axis:\n\u001b[1;32m---> 76\u001b[0m         items \u001b[38;5;241m*\u001b[39m\u001b[38;5;241m=\u001b[39m arr\u001b[38;5;241m.\u001b[39mshape[\u001b[43mmu\u001b[49m\u001b[38;5;241;43m.\u001b[39;49m\u001b[43mnormalize_axis_index\u001b[49m\u001b[43m(\u001b[49m\u001b[43max\u001b[49m\u001b[43m,\u001b[49m\u001b[43m \u001b[49m\u001b[43marr\u001b[49m\u001b[38;5;241;43m.\u001b[39;49m\u001b[43mndim\u001b[49m\u001b[43m)\u001b[49m]\n\u001b[0;32m     77\u001b[0m \u001b[38;5;28;01melse\u001b[39;00m:\n\u001b[0;32m     78\u001b[0m     \u001b[38;5;66;03m# TODO: Optimize case when `where` is broadcast along a non-reduction\u001b[39;00m\n\u001b[0;32m     79\u001b[0m     \u001b[38;5;66;03m# axis and full sum is more excessive than needed.\u001b[39;00m\n\u001b[0;32m     80\u001b[0m \n\u001b[0;32m     81\u001b[0m     \u001b[38;5;66;03m# guarded to protect circular imports\u001b[39;00m\n\u001b[0;32m     82\u001b[0m     \u001b[38;5;28;01mfrom\u001b[39;00m \u001b[38;5;21;01mnumpy\u001b[39;00m\u001b[38;5;21;01m.\u001b[39;00m\u001b[38;5;21;01mlib\u001b[39;00m\u001b[38;5;21;01m.\u001b[39;00m\u001b[38;5;21;01mstride_tricks\u001b[39;00m \u001b[38;5;28;01mimport\u001b[39;00m broadcast_to\n",
      "\u001b[1;31mAxisError\u001b[0m: axis 2 is out of bounds for array of dimension 2"
     ]
    }
   ],
   "source": [
    "print(matrix.std())       # 전체 표준 편차\n",
    "print(matrix.std(axis=1)) # 행끼리 표준 편차(위 아래)\n",
    "print(matrix.std(axis=2)) # 열끼리 표준 편차(좌 우)"
   ]
  },
  {
   "cell_type": "markdown",
   "id": "8f6eaa91",
   "metadata": {},
   "source": [
    "### 그 외 수학 연산자\n",
    "#### 지수 > exp\n",
    "#### 로그 > log\n",
    "#### 제곱근 > sqrt\n",
    "#### 삼각함수 > sin\n",
    "#### 삼각함수 > cos\n",
    "#### 삼각함수 > tan"
   ]
  },
  {
   "cell_type": "code",
   "execution_count": 26,
   "id": "833734a5",
   "metadata": {},
   "outputs": [
    {
     "name": "stdout",
     "output_type": "stream",
     "text": [
      "[[  2.71828183   7.3890561   20.08553692]\n",
      " [ 54.59815003 148.4131591  403.42879349]]\n",
      "[[0.         0.69314718 1.09861229]\n",
      " [1.38629436 1.60943791 1.79175947]]\n",
      "[[1.         1.41421356 1.73205081]\n",
      " [2.         2.23606798 2.44948974]]\n",
      "[[ 0.84147098  0.90929743  0.14112001]\n",
      " [-0.7568025  -0.95892427 -0.2794155 ]]\n",
      "[[ 0.54030231 -0.41614684 -0.9899925 ]\n",
      " [-0.65364362  0.28366219  0.96017029]]\n",
      "[[ 1.55740772 -2.18503986 -0.14254654]\n",
      " [ 1.15782128 -3.38051501 -0.29100619]]\n"
     ]
    }
   ],
   "source": [
    "print(np.exp(matrix))\n",
    "print(np.log(matrix))\n",
    "print(np.sqrt(matrix))\n",
    "print(np.sin(matrix))\n",
    "print(np.cos(matrix))\n",
    "print(np.tan(matrix))"
   ]
  },
  {
   "cell_type": "markdown",
   "id": "47138ee4",
   "metadata": {},
   "source": [
    "### 배열 정렬 (Sort)\n",
    "#### 1차원 배열 정렬"
   ]
  },
  {
   "cell_type": "code",
   "execution_count": 27,
   "id": "70042f58",
   "metadata": {},
   "outputs": [
    {
     "name": "stdout",
     "output_type": "stream",
     "text": [
      "[16 28 77 30 10]\n"
     ]
    }
   ],
   "source": [
    "# 1~100 숫자 중 5개를 뽑아 배열 생성\n",
    "vector = np.array([np.random.randint(1,100) for n in range(5)])\n",
    "print(vector)"
   ]
  },
  {
   "cell_type": "code",
   "execution_count": 29,
   "id": "ef675df0",
   "metadata": {},
   "outputs": [
    {
     "name": "stdout",
     "output_type": "stream",
     "text": [
      "[10 16 28 30 77]\n",
      "[77 30 28 16 10]\n"
     ]
    }
   ],
   "source": [
    "print(np.sort(vector))       # 오름차순 정렬\n",
    "print(np.sort(vector)[::-1]) # 내림차순 정렬"
   ]
  },
  {
   "cell_type": "code",
   "execution_count": 30,
   "id": "0d94c728",
   "metadata": {},
   "outputs": [
    {
     "data": {
      "text/plain": [
       "[3, 9, 15, 21, 27]"
      ]
     },
     "execution_count": 30,
     "metadata": {},
     "output_type": "execute_result"
    }
   ],
   "source": [
    "# 리스트 내 for문\n",
    "list_ = [1,2,3,4,5,6,7,8,9,10]\n",
    "list_1 = [num * 3 for num in list_ if num % 2 == 1]\n",
    "list_1"
   ]
  },
  {
   "cell_type": "markdown",
   "id": "3f18a09e",
   "metadata": {},
   "source": [
    "### 배열 정렬 (Sort)\n",
    "#### 2차원 배열 정렬"
   ]
  },
  {
   "cell_type": "code",
   "execution_count": 32,
   "id": "fef5aa69",
   "metadata": {},
   "outputs": [
    {
     "name": "stdout",
     "output_type": "stream",
     "text": [
      "[[  7   5  27  28  41]\n",
      " [ 66  79  92  71   4]\n",
      " [ 17  69  95  53  63]\n",
      " [ 10  94 100  51  16]]\n"
     ]
    }
   ],
   "source": [
    "# randint를 사용하여 1~100 숫자 중 20개를 뽑아 배열 생성\n",
    "matrix = np.array([np.random.randint(1,101)\n",
    "                  for n in range(20)]).reshape(4,5)\n",
    "print(matrix)"
   ]
  },
  {
   "cell_type": "code",
   "execution_count": 33,
   "id": "69724dcb",
   "metadata": {},
   "outputs": [
    {
     "name": "stdout",
     "output_type": "stream",
     "text": [
      "[[  5   7  27  28  41]\n",
      " [  4  66  71  79  92]\n",
      " [ 17  53  63  69  95]\n",
      " [ 10  16  51  94 100]]\n"
     ]
    }
   ],
   "source": [
    "print(np.sort(matrix)) # 열 기준으로 정렬"
   ]
  },
  {
   "cell_type": "code",
   "execution_count": 34,
   "id": "cd7ee2c8",
   "metadata": {},
   "outputs": [
    {
     "name": "stdout",
     "output_type": "stream",
     "text": [
      "[[  7   5  27  28   4]\n",
      " [ 10  69  92  51  16]\n",
      " [ 17  79  95  53  41]\n",
      " [ 66  94 100  71  63]]\n"
     ]
    }
   ],
   "source": [
    "print(np.sort(matrix, axis = 0)) # 행 기준으로 정렬"
   ]
  },
  {
   "cell_type": "markdown",
   "id": "82bb0f90",
   "metadata": {},
   "source": [
    "### 배열 합치기 (Vstack)\n",
    "#### 2개 이상의 배열을 수직으로 합체\n",
    "#### > np.vstack(arr1, arr2)\n",
    "#### 2개 이상의 배열을 수평으로 합체\n",
    "#### > np.hstack(arr1, arr2)"
   ]
  },
  {
   "cell_type": "code",
   "execution_count": 36,
   "id": "d982e18d",
   "metadata": {},
   "outputs": [
    {
     "data": {
      "text/plain": [
       "array([[1, 2, 3],\n",
       "       [4, 5, 6]])"
      ]
     },
     "execution_count": 36,
     "metadata": {},
     "output_type": "execute_result"
    }
   ],
   "source": [
    "vector1 = np.array([1,2,3])\n",
    "vector2 = np.array([4,5,6])\n",
    "\n",
    "np.vstack([vector1,vector2])"
   ]
  },
  {
   "cell_type": "code",
   "execution_count": 37,
   "id": "019ea3d0",
   "metadata": {},
   "outputs": [
    {
     "data": {
      "text/plain": [
       "array([[1, 4],\n",
       "       [2, 5],\n",
       "       [3, 6]])"
      ]
     },
     "execution_count": 37,
     "metadata": {},
     "output_type": "execute_result"
    }
   ],
   "source": [
    "vector1 = np.array([1,2,3]).reshape(3,1)\n",
    "vector2 = np.array([4,5,6]).reshape(3,1)\n",
    "\n",
    "np.hstack([vector1,vector2])"
   ]
  },
  {
   "cell_type": "markdown",
   "id": "9bfe28b6",
   "metadata": {},
   "source": [
    "### 배열 합치기 (Concatenate)\n",
    "#### 2개 이상의 배열을 수평, 수직으로 합체\n",
    "#### > np.concatenate(arr1, arr2, axis)"
   ]
  },
  {
   "cell_type": "code",
   "execution_count": 46,
   "id": "a65676c9",
   "metadata": {},
   "outputs": [
    {
     "data": {
      "text/plain": [
       "array([1, 2, 3, 4, 5, 6])"
      ]
     },
     "execution_count": 46,
     "metadata": {},
     "output_type": "execute_result"
    }
   ],
   "source": [
    "vector1 = np.array([1,2,3])\n",
    "vector2 = np.array([4,5,6])\n",
    "np.concatenate([vector1, vector2])"
   ]
  },
  {
   "cell_type": "code",
   "execution_count": 45,
   "id": "942cf123",
   "metadata": {},
   "outputs": [
    {
     "data": {
      "text/plain": [
       "array([[1, 4],\n",
       "       [2, 5],\n",
       "       [3, 6]])"
      ]
     },
     "execution_count": 45,
     "metadata": {},
     "output_type": "execute_result"
    }
   ],
   "source": [
    "vector1 = np.array([1,2,3]).reshape(3,1)\n",
    "vector2 = np.array([4,5,6]).reshape(3,1)\n",
    "np.concatenate([vector1, vector2], axis=1)"
   ]
  },
  {
   "cell_type": "code",
   "execution_count": 65,
   "id": "8ea7792f",
   "metadata": {},
   "outputs": [
    {
     "name": "stdout",
     "output_type": "stream",
     "text": [
      "[[1 2]\n",
      " [3 4]\n",
      " [5 6]\n",
      " [7 8]]\n"
     ]
    }
   ],
   "source": [
    "matrix1 = np.arange(1,5).reshape(2,2)\n",
    "matrix2 = np.arange(5,9).reshape(2,2)\n",
    "print(np.concatenate([matrix1, matrix2],axis=0))"
   ]
  },
  {
   "cell_type": "markdown",
   "id": "4739263c",
   "metadata": {},
   "source": [
    "### 행 / 열 바꾸기 (transpose)\n",
    "#### 행과 열을 뒤집어 주는 함수\n",
    "#### > ndarray.transpose()\n",
    "#### > ndarray.T"
   ]
  },
  {
   "cell_type": "code",
   "execution_count": 51,
   "id": "b830aba0",
   "metadata": {},
   "outputs": [
    {
     "name": "stdout",
     "output_type": "stream",
     "text": [
      "[[5 6]]\n"
     ]
    }
   ],
   "source": [
    "matrix3 = np.array([[5,6]])\n",
    "print(matrix3)\n"
   ]
  },
  {
   "cell_type": "code",
   "execution_count": 59,
   "id": "becdcb40",
   "metadata": {},
   "outputs": [
    {
     "name": "stdout",
     "output_type": "stream",
     "text": [
      "[[5]\n",
      " [6]]\n"
     ]
    }
   ],
   "source": [
    "print(matrix3.transpose())"
   ]
  },
  {
   "cell_type": "markdown",
   "id": "fcc18fcc",
   "metadata": {},
   "source": [
    "### Transpose + Concatenate\n",
    "#### > 형태를 바꿔 서로 결합할 수 없는 배열을 합칠 수 있다"
   ]
  },
  {
   "cell_type": "code",
   "execution_count": 66,
   "id": "311b7202",
   "metadata": {},
   "outputs": [
    {
     "name": "stdout",
     "output_type": "stream",
     "text": [
      "[[1 2]\n",
      " [3 4]\n",
      " [5 6]]\n"
     ]
    }
   ],
   "source": [
    "print(np.concatenate([matrix1,matrix3]))"
   ]
  },
  {
   "cell_type": "code",
   "execution_count": null,
   "id": "48ef8bd0",
   "metadata": {},
   "outputs": [],
   "source": [
    "print(np.concatenate([matrix1,matrix3]))"
   ]
  },
  {
   "cell_type": "markdown",
   "id": "0a2369a1",
   "metadata": {},
   "source": [
    "### 인덱스 반환 함수\n",
    "#### > 최대값, 최소값의 인덱스\n",
    "#### argmax, argmin"
   ]
  },
  {
   "cell_type": "code",
   "execution_count": 69,
   "id": "ea31a048",
   "metadata": {},
   "outputs": [
    {
     "name": "stdout",
     "output_type": "stream",
     "text": [
      "[[ 1  2  3  4  5]\n",
      " [ 6  7  8  9 10]]\n"
     ]
    }
   ],
   "source": [
    "a = np.arange(1,11).reshape(2,5)\n",
    "print(a)"
   ]
  },
  {
   "cell_type": "code",
   "execution_count": 70,
   "id": "53283cdc",
   "metadata": {},
   "outputs": [
    {
     "name": "stdout",
     "output_type": "stream",
     "text": [
      "9 0\n"
     ]
    }
   ],
   "source": [
    "print(np.argmax(a), np.argmin(a))"
   ]
  },
  {
   "cell_type": "code",
   "execution_count": 71,
   "id": "86d030aa",
   "metadata": {},
   "outputs": [
    {
     "name": "stdout",
     "output_type": "stream",
     "text": [
      "[1 1 1 1 1]\n"
     ]
    }
   ],
   "source": [
    "print(np.argmax(a, axis=0)) # 수직 비교"
   ]
  },
  {
   "cell_type": "code",
   "execution_count": 72,
   "id": "f9301079",
   "metadata": {},
   "outputs": [
    {
     "name": "stdout",
     "output_type": "stream",
     "text": [
      "[[1 2 3 4]\n",
      " [2 3 4 1]\n",
      " [3 4 1 2]]\n"
     ]
    }
   ],
   "source": [
    "b = np.array([[1,2,3,4],[2,3,4,1],[3,4,1,2]])\n",
    "print(b)"
   ]
  },
  {
   "cell_type": "code",
   "execution_count": 75,
   "id": "9d770349",
   "metadata": {},
   "outputs": [
    {
     "name": "stdout",
     "output_type": "stream",
     "text": [
      "[3 2 1]\n"
     ]
    }
   ],
   "source": [
    "print(np.argmax(b, axis=1)) # 가로 비교"
   ]
  },
  {
   "cell_type": "code",
   "execution_count": 74,
   "id": "4685fa36",
   "metadata": {},
   "outputs": [
    {
     "name": "stdout",
     "output_type": "stream",
     "text": [
      "[2 2 1 0]\n"
     ]
    }
   ],
   "source": [
    "print(np.argmax(b, axis=0)) # 세로 비교"
   ]
  },
  {
   "cell_type": "markdown",
   "id": "3a3c1cee",
   "metadata": {},
   "source": [
    "### 배열 인덱싱(Fancy Index)\n",
    "#### > 인덱스의 값을 가지는 배열을 통해 인덱싱"
   ]
  },
  {
   "cell_type": "code",
   "execution_count": 76,
   "id": "1ee8cea6",
   "metadata": {},
   "outputs": [
    {
     "name": "stdout",
     "output_type": "stream",
     "text": [
      "[ 1  2  3  4  5  6  7  8  9 10]\n",
      "[3 4 5 6]\n"
     ]
    }
   ],
   "source": [
    "a = np.arange(1,11)\n",
    "b = np.array([3,4,5,6])\n",
    "print(a)\n",
    "print(b)"
   ]
  },
  {
   "cell_type": "code",
   "execution_count": 77,
   "id": "ccd0d19d",
   "metadata": {},
   "outputs": [
    {
     "name": "stdout",
     "output_type": "stream",
     "text": [
      "[4 5 6 7]\n"
     ]
    }
   ],
   "source": [
    "print(a[b])"
   ]
  },
  {
   "cell_type": "markdown",
   "id": "eedae9cf",
   "metadata": {},
   "source": [
    "### 배열 인덱싱\n",
    "#### > 인덱스 반환 함수 + fancy index"
   ]
  },
  {
   "cell_type": "code",
   "execution_count": 78,
   "id": "53bb3762",
   "metadata": {},
   "outputs": [
    {
     "name": "stdout",
     "output_type": "stream",
     "text": [
      "[10 11 12 13 14 15 16 17 18 19]\n",
      "9\n"
     ]
    }
   ],
   "source": [
    "a = np.arange(10,20)\n",
    "b = np.argmax(a)\n",
    "print(a)\n",
    "print(b)"
   ]
  },
  {
   "cell_type": "code",
   "execution_count": 79,
   "id": "926532d8",
   "metadata": {},
   "outputs": [
    {
     "name": "stdout",
     "output_type": "stream",
     "text": [
      "19\n"
     ]
    }
   ],
   "source": [
    "print(a[b])"
   ]
  }
 ],
 "metadata": {
  "kernelspec": {
   "display_name": "Python 3 (ipykernel)",
   "language": "python",
   "name": "python3"
  },
  "language_info": {
   "codemirror_mode": {
    "name": "ipython",
    "version": 3
   },
   "file_extension": ".py",
   "mimetype": "text/x-python",
   "name": "python",
   "nbconvert_exporter": "python",
   "pygments_lexer": "ipython3",
   "version": "3.9.12"
  }
 },
 "nbformat": 4,
 "nbformat_minor": 5
}
