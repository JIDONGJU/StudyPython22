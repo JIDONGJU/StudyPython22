{
 "cells": [
  {
   "cell_type": "markdown",
   "id": "c37f7aa7",
   "metadata": {},
   "source": [
    "### numpy 모듈 호출"
   ]
  },
  {
   "cell_type": "code",
   "execution_count": 8,
   "id": "8fa35076",
   "metadata": {},
   "outputs": [],
   "source": [
    "import numpy as np"
   ]
  },
  {
   "cell_type": "code",
   "execution_count": 12,
   "id": "f1537dad",
   "metadata": {},
   "outputs": [
    {
     "data": {
      "text/plain": [
       "array(1)"
      ]
     },
     "execution_count": 12,
     "metadata": {},
     "output_type": "execute_result"
    }
   ],
   "source": [
    "a = np.array(1)\n",
    "a"
   ]
  },
  {
   "cell_type": "markdown",
   "id": "4adb5584",
   "metadata": {},
   "source": [
    "### 배열 생성"
   ]
  },
  {
   "cell_type": "code",
   "execution_count": 13,
   "id": "3334bcf2",
   "metadata": {},
   "outputs": [
    {
     "name": "stdout",
     "output_type": "stream",
     "text": [
      "[1 2 3]\n"
     ]
    }
   ],
   "source": [
    "ndarr_1 = np.array([1,2,3])\n",
    "print(ndarr_1)"
   ]
  },
  {
   "cell_type": "code",
   "execution_count": 14,
   "id": "6a0c0b28",
   "metadata": {},
   "outputs": [
    {
     "name": "stdout",
     "output_type": "stream",
     "text": [
      "[1. 2. 3.]\n"
     ]
    }
   ],
   "source": [
    "ndarr_2 = np.array([1,2.0,3])\n",
    "print(ndarr_2)\n",
    "# float형식으로 저장됨"
   ]
  },
  {
   "cell_type": "code",
   "execution_count": 15,
   "id": "a330f601",
   "metadata": {},
   "outputs": [
    {
     "name": "stdout",
     "output_type": "stream",
     "text": [
      "['1' '2.0' '3']\n"
     ]
    }
   ],
   "source": [
    "ndarr_3 = np.array([1,2.0,'3'])\n",
    "print(ndarr_3)\n",
    "# string형식으로 저장됨"
   ]
  },
  {
   "cell_type": "markdown",
   "id": "a6738666",
   "metadata": {},
   "source": [
    "### 배열의 정보 확인\n",
    "#### > 자료형 확인 속성\n",
    "#### ndarray.dtype"
   ]
  },
  {
   "cell_type": "code",
   "execution_count": 16,
   "id": "e2aff30f",
   "metadata": {},
   "outputs": [
    {
     "name": "stdout",
     "output_type": "stream",
     "text": [
      "int32\n",
      "float64\n",
      "<U32\n"
     ]
    }
   ],
   "source": [
    "print(ndarr_1.dtype)\n",
    "print(ndarr_2.dtype)\n",
    "print(ndarr_3.dtype)"
   ]
  },
  {
   "cell_type": "code",
   "execution_count": 17,
   "id": "c7751036",
   "metadata": {
    "scrolled": true
   },
   "outputs": [
    {
     "name": "stdout",
     "output_type": "stream",
     "text": [
      "complex128\n",
      "object\n"
     ]
    }
   ],
   "source": [
    "print(np.array(1+2j).dtype)\n",
    "print(np.array(print).dtype)"
   ]
  },
  {
   "cell_type": "markdown",
   "id": "1a4666b5",
   "metadata": {},
   "source": [
    "### 자료형 지정\n",
    "#### > dtype 속성을 사용하여 자료형 지정"
   ]
  },
  {
   "cell_type": "code",
   "execution_count": 18,
   "id": "78914e18",
   "metadata": {},
   "outputs": [
    {
     "name": "stdout",
     "output_type": "stream",
     "text": [
      "int8\n"
     ]
    }
   ],
   "source": [
    "# int\n",
    "dtype1 = np.array([1,2,3], dtype=np.int8)\n",
    "print(dtype1.dtype)"
   ]
  },
  {
   "cell_type": "code",
   "execution_count": 19,
   "id": "b2d3997c",
   "metadata": {},
   "outputs": [
    {
     "name": "stdout",
     "output_type": "stream",
     "text": [
      "float64\n"
     ]
    }
   ],
   "source": [
    "# float\n",
    "dtype2 = np.array([1,2,3], dtype=float)\n",
    "print(dtype2.dtype)"
   ]
  },
  {
   "cell_type": "code",
   "execution_count": 20,
   "id": "3c9541b8",
   "metadata": {},
   "outputs": [
    {
     "name": "stdout",
     "output_type": "stream",
     "text": [
      "<U1\n"
     ]
    }
   ],
   "source": [
    "# string\n",
    "dtype3 = np.array([1,2,3], dtype=str)\n",
    "print(dtype3.dtype)"
   ]
  },
  {
   "cell_type": "markdown",
   "id": "3848e2b5",
   "metadata": {},
   "source": [
    "### 자료형 지정\n",
    "#### > 주의해야할점"
   ]
  },
  {
   "cell_type": "code",
   "execution_count": 21,
   "id": "4773413e",
   "metadata": {
    "scrolled": true
   },
   "outputs": [
    {
     "name": "stdout",
     "output_type": "stream",
     "text": [
      "[1 2 3]\n",
      "int32\n"
     ]
    }
   ],
   "source": [
    "dtype4 = np.array([1,2.1,'3'], dtype=int)\n",
    "print(dtype4)\n",
    "print(dtype4.dtype)"
   ]
  },
  {
   "cell_type": "code",
   "execution_count": 22,
   "id": "fc46ae8a",
   "metadata": {},
   "outputs": [
    {
     "ename": "ValueError",
     "evalue": "could not convert string to float: 'data'",
     "output_type": "error",
     "traceback": [
      "\u001b[1;31m---------------------------------------------------------------------------\u001b[0m",
      "\u001b[1;31mValueError\u001b[0m                                Traceback (most recent call last)",
      "Input \u001b[1;32mIn [22]\u001b[0m, in \u001b[0;36m<cell line: 1>\u001b[1;34m()\u001b[0m\n\u001b[1;32m----> 1\u001b[0m dtype5 \u001b[38;5;241m=\u001b[39m \u001b[43mnp\u001b[49m\u001b[38;5;241;43m.\u001b[39;49m\u001b[43marray\u001b[49m\u001b[43m(\u001b[49m\u001b[43m[\u001b[49m\u001b[38;5;241;43m1\u001b[39;49m\u001b[43m,\u001b[49m\u001b[38;5;124;43m'\u001b[39;49m\u001b[38;5;124;43mdata\u001b[39;49m\u001b[38;5;124;43m'\u001b[39;49m\u001b[43m,\u001b[49m\u001b[38;5;28;43mprint\u001b[39;49m\u001b[43m]\u001b[49m\u001b[43m,\u001b[49m\u001b[43m \u001b[49m\u001b[43mdtype\u001b[49m\u001b[38;5;241;43m=\u001b[39;49m\u001b[38;5;28;43mfloat\u001b[39;49m\u001b[43m)\u001b[49m\n\u001b[0;32m      2\u001b[0m \u001b[38;5;28mprint\u001b[39m(dtype5\u001b[38;5;241m.\u001b[39mdtype)\n",
      "\u001b[1;31mValueError\u001b[0m: could not convert string to float: 'data'"
     ]
    }
   ],
   "source": [
    "dtype5 = np.array([1,'data',print], dtype=float)\n",
    "print(dtype5.dtype)"
   ]
  },
  {
   "cell_type": "markdown",
   "id": "7b69fc61",
   "metadata": {},
   "source": [
    "### 배열의 정보 확인\n",
    "#### > 배열 크기 확인\n",
    "#### ndarray.shape"
   ]
  },
  {
   "cell_type": "code",
   "execution_count": 23,
   "id": "10d843fb",
   "metadata": {},
   "outputs": [
    {
     "name": "stdout",
     "output_type": "stream",
     "text": [
      "(3,)\n"
     ]
    }
   ],
   "source": [
    "print(ndarr_1.shape)"
   ]
  },
  {
   "cell_type": "markdown",
   "id": "a38d4563",
   "metadata": {},
   "source": [
    "#### > 배열 차원 확인\n",
    "#### ndarray.ndim"
   ]
  },
  {
   "cell_type": "code",
   "execution_count": 24,
   "id": "29e53955",
   "metadata": {},
   "outputs": [
    {
     "name": "stdout",
     "output_type": "stream",
     "text": [
      "1\n"
     ]
    }
   ],
   "source": [
    "print(ndarr_1.ndim)"
   ]
  },
  {
   "cell_type": "markdown",
   "id": "b7a8ded1",
   "metadata": {},
   "source": [
    "### N차원 배열\n",
    "#### Scalar : 숫자\n",
    "#### Vector : Scalar의 배열, 1차월 배열\n",
    "#### Matrix : Vector의 배열, 2차원 배열\n",
    "#### Tensor : Matrix의 배열, 3차원 배열"
   ]
  },
  {
   "cell_type": "markdown",
   "id": "706c4408",
   "metadata": {},
   "source": [
    "### 배열 생성\n",
    "#### 1차원 배열 생성"
   ]
  },
  {
   "cell_type": "code",
   "execution_count": 25,
   "id": "b436f9d5",
   "metadata": {},
   "outputs": [
    {
     "name": "stdout",
     "output_type": "stream",
     "text": [
      "[1 2 3]\n",
      "(3,)\n",
      "1\n",
      "int32\n"
     ]
    }
   ],
   "source": [
    "vector = np.array([1,2,3])\n",
    "print(vector)\n",
    "print(vector.shape)\n",
    "print(vector.ndim)\n",
    "print(vector.dtype)"
   ]
  },
  {
   "cell_type": "markdown",
   "id": "4dea7a06",
   "metadata": {},
   "source": [
    "#### 2차원 배열 생성"
   ]
  },
  {
   "cell_type": "code",
   "execution_count": 26,
   "id": "bdd007fb",
   "metadata": {
    "scrolled": true
   },
   "outputs": [
    {
     "name": "stdout",
     "output_type": "stream",
     "text": [
      "[[1 2 3]\n",
      " [4 5 6]]\n",
      "(2, 3)\n",
      "2\n",
      "int32\n"
     ]
    }
   ],
   "source": [
    "matrix = np.array([[1,2,3],[4,5,6]])\n",
    "print(matrix)\n",
    "print(matrix.shape)\n",
    "print(matrix.ndim)\n",
    "print(matrix.dtype)"
   ]
  },
  {
   "cell_type": "markdown",
   "id": "37becc9f",
   "metadata": {},
   "source": [
    "#### 3차원 배열 생성"
   ]
  },
  {
   "cell_type": "code",
   "execution_count": 27,
   "id": "6121de69",
   "metadata": {},
   "outputs": [
    {
     "name": "stdout",
     "output_type": "stream",
     "text": [
      "[[[ 1  2  3]\n",
      "  [ 4  5  6]]\n",
      "\n",
      " [[ 7  8  9]\n",
      "  [10 11 12]]]\n",
      "(2, 2, 3)\n",
      "3\n",
      "int32\n"
     ]
    }
   ],
   "source": [
    "tensor = np.array([[[1,2,3],[4,5,6]],[[7,8,9],[10,11,12]]])\n",
    "print(tensor)\n",
    "print(tensor.shape)\n",
    "print(tensor.ndim)\n",
    "print(tensor.dtype)"
   ]
  },
  {
   "cell_type": "markdown",
   "id": "5b8a8811",
   "metadata": {},
   "source": [
    "### 배열의 정보 확인\n",
    "#### > 배열 요소의 개수 확인\n",
    "#### ndarray.size"
   ]
  },
  {
   "cell_type": "code",
   "execution_count": 28,
   "id": "9eb883b1",
   "metadata": {},
   "outputs": [
    {
     "name": "stdout",
     "output_type": "stream",
     "text": [
      "3\n",
      "6\n",
      "12\n"
     ]
    }
   ],
   "source": [
    "print(vector.size)\n",
    "print(matrix.size)\n",
    "print(tensor.size)"
   ]
  },
  {
   "cell_type": "code",
   "execution_count": 32,
   "id": "789c6278",
   "metadata": {},
   "outputs": [
    {
     "name": "stdout",
     "output_type": "stream",
     "text": [
      "[[1 2 3]\n",
      " [2 4 6]\n",
      " [3 6 9]]\n",
      "(3, 3)\n",
      "2\n",
      "int32\n"
     ]
    }
   ],
   "source": [
    "m1 = np.array([[1,2,3],[2,4,6],[3,6,9]])\n",
    "print(m1)\n",
    "print(m1.shape) # 크기\n",
    "print(m1.ndim) # 차원\n",
    "print(m1.dtype) # 타입"
   ]
  },
  {
   "cell_type": "markdown",
   "id": "32868a42",
   "metadata": {},
   "source": [
    "### 자료형 변환(리스트)\n",
    "#### > 리스트 -> ndarray 변환"
   ]
  },
  {
   "cell_type": "code",
   "execution_count": 33,
   "id": "4bf6a2ea",
   "metadata": {},
   "outputs": [
    {
     "name": "stdout",
     "output_type": "stream",
     "text": [
      "[1 2 3]\n"
     ]
    }
   ],
   "source": [
    "list1 = [1,2,3]\n",
    "arr1 = np.array(list1)\n",
    "print(arr1)"
   ]
  },
  {
   "cell_type": "markdown",
   "id": "71d81b9f",
   "metadata": {},
   "source": [
    "#### > ndarray -> 리스트 변환"
   ]
  },
  {
   "cell_type": "code",
   "execution_count": 34,
   "id": "e001e2cc",
   "metadata": {},
   "outputs": [
    {
     "name": "stdout",
     "output_type": "stream",
     "text": [
      "[1, 2, 3]\n"
     ]
    }
   ],
   "source": [
    "arr2 = np.array([1,2,3])\n",
    "list2 = list(arr2)\n",
    "print(list2)"
   ]
  },
  {
   "cell_type": "markdown",
   "id": "d436f17c",
   "metadata": {},
   "source": [
    "### 자료형 변환(리스트)\n",
    "#### > 2차원 리스트 변환"
   ]
  },
  {
   "cell_type": "code",
   "execution_count": 35,
   "id": "82101080",
   "metadata": {},
   "outputs": [
    {
     "name": "stdout",
     "output_type": "stream",
     "text": [
      "[[1 2 3]\n",
      " [4 5 6]]\n"
     ]
    }
   ],
   "source": [
    "list3 = [[1,2,3],[4,5,6]]\n",
    "arr3 = np.array(list3)\n",
    "print(arr3)"
   ]
  },
  {
   "cell_type": "markdown",
   "id": "1d90afba",
   "metadata": {},
   "source": [
    "#### 주의해야 할 점 - list의 shape 다른 경우"
   ]
  },
  {
   "cell_type": "code",
   "execution_count": 38,
   "id": "587c701b",
   "metadata": {},
   "outputs": [
    {
     "name": "stdout",
     "output_type": "stream",
     "text": [
      "[list([1, 2, 3, 4]) list([5, 6, 7])]\n"
     ]
    },
    {
     "name": "stderr",
     "output_type": "stream",
     "text": [
      "C:\\Users\\admin\\AppData\\Local\\Temp\\ipykernel_11644\\2158651982.py:2: VisibleDeprecationWarning: Creating an ndarray from ragged nested sequences (which is a list-or-tuple of lists-or-tuples-or ndarrays with different lengths or shapes) is deprecated. If you meant to do this, you must specify 'dtype=object' when creating the ndarray.\n",
      "  arr4 = np.array(list4)\n"
     ]
    }
   ],
   "source": [
    "list4 = [[1,2,3,4],[5,6,7]]\n",
    "arr4 = np.array(list4)\n",
    "print(arr4)### 자료형 변환(리스트)\n",
    "#### > 2차원 리스트 변환"
   ]
  },
  {
   "cell_type": "markdown",
   "id": "9cf50e3d",
   "metadata": {},
   "source": [
    "### 자료형 변환(튜플) - 리스트와 동일\n",
    "#### > 튜플 -> ndarray 변환"
   ]
  },
  {
   "cell_type": "code",
   "execution_count": 39,
   "id": "d3730c41",
   "metadata": {},
   "outputs": [
    {
     "name": "stdout",
     "output_type": "stream",
     "text": [
      "[1 2 3]\n"
     ]
    }
   ],
   "source": [
    "tuple1 = (1,2,3)\n",
    "arr = np.array(tuple1)\n",
    "print(arr)"
   ]
  },
  {
   "cell_type": "markdown",
   "id": "075b40f5",
   "metadata": {},
   "source": [
    "#### > ndarray -> 튜플 변환"
   ]
  },
  {
   "cell_type": "code",
   "execution_count": 40,
   "id": "9b142bb7",
   "metadata": {},
   "outputs": [
    {
     "name": "stdout",
     "output_type": "stream",
     "text": [
      "(1, 2, 3)\n"
     ]
    }
   ],
   "source": [
    "arr2 = np.array([1,2,3])\n",
    "tuple2 = tuple(arr2)\n",
    "print(tuple2### 자료형 변환(튜플) - 리스트와 동일\n",
    "#### > 튜플 -> ndarray 변환)"
   ]
  },
  {
   "cell_type": "markdown",
   "id": "cc2f411a",
   "metadata": {},
   "source": [
    "### 자료형 변환(세트, 딕셔너리)\n",
    "#### > 세트 변환"
   ]
  },
  {
   "cell_type": "code",
   "execution_count": 41,
   "id": "64ab2033",
   "metadata": {},
   "outputs": [
    {
     "name": "stdout",
     "output_type": "stream",
     "text": [
      "{1, 2, 3}\n"
     ]
    }
   ],
   "source": [
    "set1 = {1,2,3}\n",
    "arr = np.array(set1)\n",
    "print(arr)"
   ]
  },
  {
   "cell_type": "code",
   "execution_count": 42,
   "id": "24ba0d8e",
   "metadata": {},
   "outputs": [
    {
     "name": "stdout",
     "output_type": "stream",
     "text": [
      "1\n"
     ]
    }
   ],
   "source": [
    "print(arr.size)"
   ]
  },
  {
   "cell_type": "markdown",
   "id": "61297d58",
   "metadata": {},
   "source": [
    "### 자료형 변환(세트, 딕셔너리)\n",
    "#### > 딕셔너리 변환"
   ]
  },
  {
   "cell_type": "code",
   "execution_count": 43,
   "id": "750acd48",
   "metadata": {},
   "outputs": [
    {
     "name": "stdout",
     "output_type": "stream",
     "text": [
      "{'a': 1, 'b': 2, 'c': 3}\n"
     ]
    }
   ],
   "source": [
    "dict1 = {'a':1,'b':2,'c':3}\n",
    "arr = np.array(dict1)\n",
    "print(arr)"
   ]
  },
  {
   "cell_type": "code",
   "execution_count": 44,
   "id": "9e5124ec",
   "metadata": {},
   "outputs": [
    {
     "name": "stdout",
     "output_type": "stream",
     "text": [
      "1\n"
     ]
    }
   ],
   "source": [
    "print(arr.size)"
   ]
  },
  {
   "cell_type": "markdown",
   "id": "00a4adfa",
   "metadata": {},
   "source": [
    "### 배열 인덱싱\n",
    "#### > 리스트 인덱싱과 유사\n",
    "#### - ndarray[col]\n",
    "#### - ndarray[row][col]\n",
    "#### - ndarray[rank][row][col]"
   ]
  },
  {
   "cell_type": "code",
   "execution_count": 46,
   "id": "c129f899",
   "metadata": {},
   "outputs": [
    {
     "name": "stdout",
     "output_type": "stream",
     "text": [
      "1\n",
      "4\n",
      "7\n"
     ]
    }
   ],
   "source": [
    "list_ = [[[1,2],[3,4]],[[5,6],[7,8]]]\n",
    "# 1 가져오기\n",
    "print(list_[0][0][0])\n",
    "# 4 가져오기\n",
    "print(list_[0][1][1])\n",
    "# 7 가져오기\n",
    "print(list_[1][1][0])"
   ]
  },
  {
   "cell_type": "markdown",
   "id": "e6e4628f",
   "metadata": {},
   "source": [
    "### 배열 인덱싱\n",
    "#### > 리스트 인덱싱과 유사\n",
    "#### - array[col]\n",
    "#### - array[row][col]\n",
    "#### - array[rank][row][col]"
   ]
  },
  {
   "cell_type": "code",
   "execution_count": 48,
   "id": "1fc12143",
   "metadata": {},
   "outputs": [
    {
     "name": "stdout",
     "output_type": "stream",
     "text": [
      "1\n",
      "4\n",
      "7\n"
     ]
    }
   ],
   "source": [
    "arr_ = np.array([[[1,2],[3,4]],[[5,6],[7,8]]])\n",
    "# 1 가져오기\n",
    "print(arr_[0,0,0])\n",
    "# 4 가져오기\n",
    "print(arr_[0,1,1])\n",
    "# 7 가져오기\n",
    "print(arr_[1,1,0])"
   ]
  },
  {
   "cell_type": "code",
   "execution_count": 49,
   "id": "1fbb11be",
   "metadata": {},
   "outputs": [
    {
     "name": "stdout",
     "output_type": "stream",
     "text": [
      "[[1 2]]\n",
      "[[1 2]\n",
      " [5 6]]\n",
      "[1 4 5]\n",
      "[2 2]\n"
     ]
    }
   ],
   "source": [
    "arr_1 = np.array([[1,2],\n",
    "                 [3,4],\n",
    "                 [5,6]])\n",
    "# 0행 가져와 2차원 배열 만들기\n",
    "print(arr_1[[0]])\n",
    "# 0,2행 가져와 2차원 배열 만들기\n",
    "print(arr_1[[0,2]])\n",
    "# 0,2행 가져와 2차원 배열 만들기\n",
    "print(arr_1[[0,1,2],    # row1,co1 = 0.0 \n",
    "            [0,1,0]])   # row2,col2 = 1.1 / row3,col3 = 2,0\n",
    "# 같은 위치 데이터 여러번 사용가능\n",
    "print(arr_1[[0,0],[1,1]])"
   ]
  },
  {
   "cell_type": "code",
   "execution_count": 51,
   "id": "93827144",
   "metadata": {},
   "outputs": [
    {
     "name": "stdout",
     "output_type": "stream",
     "text": [
      "[ 1  6  7 11]\n"
     ]
    }
   ],
   "source": [
    "arr_2 = np.array([[1,2,3],\n",
    "                 [4,5,6],\n",
    "                 [7,8,9],\n",
    "                 [10,11,12]])\n",
    "# 두 개의 1차원 배열 만들기\n",
    "b = np.array([0,1,2,3])\n",
    "c = np.array([0,2,0,1])\n",
    "# 다음 코드의 실행 결과는?\n",
    "print(arr_2[b,c])"
   ]
  },
  {
   "cell_type": "markdown",
   "id": "5e9886f5",
   "metadata": {},
   "source": [
    "### 배열 인덱싱\n",
    "#### > Boolean 인덱싱\n"
   ]
  },
  {
   "cell_type": "code",
   "execution_count": 52,
   "id": "48692d13",
   "metadata": {},
   "outputs": [],
   "source": [
    "# 기본 데이터\n",
    "arr = np.array([1,2,3,4,5])"
   ]
  },
  {
   "cell_type": "code",
   "execution_count": 55,
   "id": "9fb13d35",
   "metadata": {},
   "outputs": [
    {
     "name": "stdout",
     "output_type": "stream",
     "text": [
      "[1 3 4]\n"
     ]
    }
   ],
   "source": [
    "# True, False\n",
    "print(arr[[True,False,True,True,False]])"
   ]
  },
  {
   "cell_type": "code",
   "execution_count": 56,
   "id": "a8f8583e",
   "metadata": {},
   "outputs": [
    {
     "name": "stdout",
     "output_type": "stream",
     "text": [
      "[3 4 5]\n"
     ]
    }
   ],
   "source": [
    "# 조건\n",
    "print(arr[arr>=3])"
   ]
  },
  {
   "cell_type": "markdown",
   "id": "88794fb9",
   "metadata": {},
   "source": [
    "### 배열 인덱싱\n",
    "#### [문제2]\n"
   ]
  },
  {
   "cell_type": "code",
   "execution_count": 59,
   "id": "27645792",
   "metadata": {},
   "outputs": [
    {
     "name": "stdout",
     "output_type": "stream",
     "text": [
      "[91 93]\n",
      "[96 91]\n"
     ]
    }
   ],
   "source": [
    "score = np.array([[78,91,84,89,93,65],\n",
    "                  [82,87,96,79,91,73]])\n",
    "print(score[0][score[0] >= 90])\n",
    "print(score[1][score[1] >= 90])"
   ]
  },
  {
   "cell_type": "code",
   "execution_count": null,
   "id": "657f3da4",
   "metadata": {},
   "outputs": [],
   "source": []
  }
 ],
 "metadata": {
  "kernelspec": {
   "display_name": "Python 3 (ipykernel)",
   "language": "python",
   "name": "python3"
  },
  "language_info": {
   "codemirror_mode": {
    "name": "ipython",
    "version": 3
   },
   "file_extension": ".py",
   "mimetype": "text/x-python",
   "name": "python",
   "nbconvert_exporter": "python",
   "pygments_lexer": "ipython3",
   "version": "3.9.12"
  }
 },
 "nbformat": 4,
 "nbformat_minor": 5
}
