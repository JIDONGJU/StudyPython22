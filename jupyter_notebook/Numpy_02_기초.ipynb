{
 "cells": [
  {
   "cell_type": "markdown",
   "id": "c37f7aa7",
   "metadata": {},
   "source": [
    "### 배열 슬라이싱\n",
    "#### > ndarray의 슬라이싱"
   ]
  },
  {
   "cell_type": "code",
   "execution_count": 9,
   "id": "b1ba402d",
   "metadata": {},
   "outputs": [],
   "source": [
    "import numpy as np"
   ]
  },
  {
   "cell_type": "code",
   "execution_count": 24,
   "id": "3e81fed7",
   "metadata": {},
   "outputs": [
    {
     "data": {
      "text/plain": [
       "array([[ 1,  2,  3,  4,  5],\n",
       "       [ 6,  7,  8,  9, 10],\n",
       "       [11, 12, 13, 14, 15],\n",
       "       [16, 17, 18, 19, 20]])"
      ]
     },
     "execution_count": 24,
     "metadata": {},
     "output_type": "execute_result"
    }
   ],
   "source": [
    "matrix = np.array([[1,2,3,4,5],\n",
    "          [6,7,8,9,10],\n",
    "          [11,12,13,14,15],\n",
    "          [16,17,18,19,20]])\n",
    "matrix"
   ]
  },
  {
   "cell_type": "code",
   "execution_count": 25,
   "id": "2b3b6542",
   "metadata": {},
   "outputs": [
    {
     "name": "stdout",
     "output_type": "stream",
     "text": [
      "[ 1  6 11 16]\n"
     ]
    }
   ],
   "source": [
    "# 0열 전체 슬라이싱\n",
    "print(matrix[:,0])"
   ]
  },
  {
   "cell_type": "code",
   "execution_count": 26,
   "id": "ae9aeb3c",
   "metadata": {},
   "outputs": [
    {
     "name": "stdout",
     "output_type": "stream",
     "text": [
      "[[ 1]\n",
      " [ 6]\n",
      " [11]\n",
      " [16]]\n"
     ]
    }
   ],
   "source": [
    "# 0열 전체 슬라이싱(2차원 유지)\n",
    "print(matrix[:,:1])"
   ]
  },
  {
   "cell_type": "code",
   "execution_count": 27,
   "id": "94c62bb7",
   "metadata": {},
   "outputs": [
    {
     "name": "stdout",
     "output_type": "stream",
     "text": [
      "[ 6  7  8  9 10]\n"
     ]
    }
   ],
   "source": [
    "# 1행 전체 슬라이싱\n",
    "print(matrix[1,:])"
   ]
  },
  {
   "cell_type": "code",
   "execution_count": 28,
   "id": "8abf34a6",
   "metadata": {},
   "outputs": [
    {
     "name": "stdout",
     "output_type": "stream",
     "text": [
      "[ 6  7  8  9 10]\n"
     ]
    }
   ],
   "source": [
    "# 1행 전체 슬라이싱\n",
    "print(matrix[1]) # rank > row > col 순으로 :(콜론) 생략가능"
   ]
  },
  {
   "cell_type": "code",
   "execution_count": 29,
   "id": "ca26b05d",
   "metadata": {},
   "outputs": [
    {
     "name": "stdout",
     "output_type": "stream",
     "text": [
      "[[ 6  7  8  9 10]]\n"
     ]
    }
   ],
   "source": [
    "# 1행 전체 슬라이싱 (2차원 유지)\n",
    "print(matrix[1:2,:]) # or print(matrix[[1]])"
   ]
  },
  {
   "cell_type": "code",
   "execution_count": 30,
   "id": "a9e6035a",
   "metadata": {},
   "outputs": [
    {
     "name": "stdout",
     "output_type": "stream",
     "text": [
      "[[ 4  5]\n",
      " [ 9 10]\n",
      " [14 15]\n",
      " [19 20]]\n"
     ]
    }
   ],
   "source": [
    "# 3~4열 전체 슬라이싱\n",
    "print(matrix[:,3:])"
   ]
  },
  {
   "cell_type": "code",
   "execution_count": 32,
   "id": "0a3f3541",
   "metadata": {},
   "outputs": [
    {
     "name": "stdout",
     "output_type": "stream",
     "text": [
      "[2 3 4]\n"
     ]
    }
   ],
   "source": [
    "# 0행, 1~3열 슬라이싱\n",
    "print(matrix[0,1:-1])"
   ]
  },
  {
   "cell_type": "code",
   "execution_count": 34,
   "id": "c37f33e0",
   "metadata": {},
   "outputs": [
    {
     "name": "stdout",
     "output_type": "stream",
     "text": [
      "[[13 14 15]\n",
      " [18 19 20]]\n"
     ]
    }
   ],
   "source": [
    "# 2~3행, 2~4열 슬라이싱\n",
    "print(matrix[-2:,-3:])"
   ]
  },
  {
   "cell_type": "code",
   "execution_count": 35,
   "id": "a3d4f952",
   "metadata": {},
   "outputs": [
    {
     "name": "stdout",
     "output_type": "stream",
     "text": [
      "[[ 7  8]\n",
      " [12 13]]\n"
     ]
    }
   ],
   "source": [
    "# 1~2행, 1~2열 슬라이싱\n",
    "print(matrix[1:-1,1:3])"
   ]
  },
  {
   "cell_type": "markdown",
   "id": "77dbc63b",
   "metadata": {},
   "source": [
    "### 배열 인덱싱, 슬라이싱 복합\n",
    "#### > ndarray의 슬라이싱"
   ]
  },
  {
   "cell_type": "code",
   "execution_count": 36,
   "id": "953a1780",
   "metadata": {},
   "outputs": [
    {
     "name": "stdout",
     "output_type": "stream",
     "text": [
      "[[ 8  9 10]\n",
      " [18 19 20]]\n"
     ]
    }
   ],
   "source": [
    "# 1,3행, 2~4열 슬라이싱\n",
    "print(matrix[[1,3],2:])"
   ]
  },
  {
   "cell_type": "code",
   "execution_count": 37,
   "id": "d4e53df0",
   "metadata": {},
   "outputs": [
    {
     "name": "stdout",
     "output_type": "stream",
     "text": [
      "[[ 7  9]\n",
      " [12 14]]\n"
     ]
    }
   ],
   "source": [
    "# 1~2행, 1,3열 슬라이싱\n",
    "print(matrix[1:-1,[1,3]])"
   ]
  },
  {
   "cell_type": "code",
   "execution_count": 51,
   "id": "b425f683",
   "metadata": {},
   "outputs": [
    {
     "name": "stdout",
     "output_type": "stream",
     "text": [
      "[[[ 1  2  3]\n",
      "  [ 4  5  6]]\n",
      "\n",
      " [[ 7  8  9]\n",
      "  [10 11 12]]]\n",
      "[10  2  6]\n"
     ]
    }
   ],
   "source": [
    "# [문제3]\n",
    "# [10 2 6] 뽑아내기\n",
    "tensor = np.array([[[1,2,3],[4,5,6]],\n",
    "                  [[7,8,9],[10,11,12]]])\n",
    "print(tensor)\n",
    "print(tensor[[1,0,0],[1,0,1],[0,1,2]])\n",
    "# [rank][row][col]"
   ]
  },
  {
   "cell_type": "code",
   "execution_count": 57,
   "id": "1e7d4215",
   "metadata": {},
   "outputs": [
    {
     "name": "stdout",
     "output_type": "stream",
     "text": [
      "[[1 2]\n",
      " [4 5]]\n",
      "[ 9 12]\n"
     ]
    }
   ],
   "source": [
    "# [문제4]\n",
    "# 문제3의 tensor 배열에서 인덱싱, 슬라이싱을 사용해 [[1 2][4 5]] 배열과 [9 12] 배열을 추출해봅시다\n",
    "print(tensor[0,:,0:2])\n",
    "print(tensor[1,:,-1])"
   ]
  },
  {
   "cell_type": "code",
   "execution_count": null,
   "id": "77df7b5c",
   "metadata": {},
   "outputs": [],
   "source": []
  }
 ],
 "metadata": {
  "kernelspec": {
   "display_name": "Python 3 (ipykernel)",
   "language": "python",
   "name": "python3"
  },
  "language_info": {
   "codemirror_mode": {
    "name": "ipython",
    "version": 3
   },
   "file_extension": ".py",
   "mimetype": "text/x-python",
   "name": "python",
   "nbconvert_exporter": "python",
   "pygments_lexer": "ipython3",
   "version": "3.9.12"
  }
 },
 "nbformat": 4,
 "nbformat_minor": 5
}
