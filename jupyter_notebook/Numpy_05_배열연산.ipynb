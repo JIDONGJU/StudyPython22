{
 "cells": [
  {
   "cell_type": "markdown",
   "id": "daaee287",
   "metadata": {},
   "source": [
    "### 산술연산\n",
    "#### 배열은 기본적으로 요소의 연산이 가능"
   ]
  },
  {
   "cell_type": "code",
   "execution_count": 3,
   "id": "b9e10019",
   "metadata": {},
   "outputs": [],
   "source": [
    "import numpy as np"
   ]
  },
  {
   "cell_type": "code",
   "execution_count": 1,
   "id": "cdbc6eba",
   "metadata": {},
   "outputs": [
    {
     "name": "stdout",
     "output_type": "stream",
     "text": [
      "[1, 2, 3, 4, 5, 6]\n"
     ]
    }
   ],
   "source": [
    "# 리스트의 덧셈\n",
    "list1 = [1,2,3]\n",
    "list2 = [4,5,6]\n",
    "print(list1+list2)"
   ]
  },
  {
   "cell_type": "code",
   "execution_count": 4,
   "id": "ad9b1c84",
   "metadata": {},
   "outputs": [
    {
     "name": "stdout",
     "output_type": "stream",
     "text": [
      "[5 7 9]\n"
     ]
    }
   ],
   "source": [
    "# 배열의 덧셈\n",
    "arr1 = np.array([1,2,3])\n",
    "arr2 = np.array([4,5,6])\n",
    "print(arr1 + arr2)"
   ]
  },
  {
   "cell_type": "markdown",
   "id": "f7137f7b",
   "metadata": {},
   "source": [
    "### 산술연산\n",
    "#### shape이 같은 배열은 연산 가능"
   ]
  },
  {
   "cell_type": "code",
   "execution_count": 16,
   "id": "004861af",
   "metadata": {},
   "outputs": [
    {
     "name": "stdout",
     "output_type": "stream",
     "text": [
      "[[15 17 19]\n",
      " [18 20 22]]\n"
     ]
    }
   ],
   "source": [
    "arr1 = np.arange(1,7).reshape(2,3)\n",
    "arr1 = np.arange(11,17).reshape(2,3)\n",
    "print(arr1+arr2) # 더하기"
   ]
  },
  {
   "cell_type": "code",
   "execution_count": 17,
   "id": "59ff1e9b",
   "metadata": {},
   "outputs": [
    {
     "name": "stdout",
     "output_type": "stream",
     "text": [
      "[[ -7  -7  -7]\n",
      " [-10 -10 -10]]\n",
      "[[44 60 78]\n",
      " [56 75 96]]\n",
      "[[2.75       2.4        2.16666667]\n",
      " [3.5        3.         2.66666667]]\n",
      "[[   14641   248832  4826809]\n",
      " [   38416   759375 16777216]]\n",
      "[[2 2 2]\n",
      " [3 3 2]]\n",
      "[[4 5 6]\n",
      " [4 5 6]]\n"
     ]
    }
   ],
   "source": [
    "print(arr2 - arr1)  # 뺄셈\n",
    "print(arr1 * arr2)  # 곱셈\n",
    "print(arr1 / arr2)  # 나누기\n",
    "print(arr1 ** arr2) # 제곱\n",
    "print(arr1 // arr2) # 몫\n",
    "print(arr2 % arr1)  # 나머지"
   ]
  },
  {
   "cell_type": "code",
   "execution_count": 18,
   "id": "9a617902",
   "metadata": {},
   "outputs": [
    {
     "data": {
      "text/plain": [
       "dtype('int32')"
      ]
     },
     "execution_count": 18,
     "metadata": {},
     "output_type": "execute_result"
    }
   ],
   "source": [
    "arr1.dtype"
   ]
  },
  {
   "cell_type": "markdown",
   "id": "3c6986b7",
   "metadata": {},
   "source": [
    "### 산술연산\n",
    "#### Numpy의 연산 함수\n",
    "#### np.add(arr1, arr2)\n",
    "#### np.subtract(arr1, arr2)\n",
    "#### np.multiply(arr1, arr2)\n",
    "#### np.divide(arr1, arr2)"
   ]
  },
  {
   "cell_type": "code",
   "execution_count": 21,
   "id": "7ca6f8e8",
   "metadata": {},
   "outputs": [
    {
     "name": "stdout",
     "output_type": "stream",
     "text": [
      "[[15 17 19]\n",
      " [18 20 22]]\n",
      "[[15 17 19]\n",
      " [18 20 22]]\n",
      "[[ 7  7  7]\n",
      " [10 10 10]]\n",
      "[[44 60 78]\n",
      " [56 75 96]]\n",
      "[[2.75       2.4        2.16666667]\n",
      " [3.5        3.         2.66666667]]\n"
     ]
    }
   ],
   "source": [
    "print(arr1 +arr2)\n",
    "print(np.add(arr1, arr2))\n",
    "print(np.subtract(arr1, arr2))\n",
    "print(np.multiply(arr1, arr2))\n",
    "print(np.divide(arr1, arr2))"
   ]
  },
  {
   "cell_type": "markdown",
   "id": "9f8cc528",
   "metadata": {},
   "source": [
    "### 산술연산\n",
    "#### Broadcasting\n",
    "#### 연산하고자 하는 배열의 모양이 다른 경우의 연산"
   ]
  },
  {
   "cell_type": "code",
   "execution_count": 23,
   "id": "62dd4802",
   "metadata": {},
   "outputs": [],
   "source": [
    "arr3 = np.arange(10).reshape(5,2)\n",
    "arr4 = np.arange(10).reshape(2,5)\n",
    "# print(arr3 + arr4) 에러"
   ]
  },
  {
   "cell_type": "code",
   "execution_count": 26,
   "id": "c986ee50",
   "metadata": {},
   "outputs": [
    {
     "name": "stdout",
     "output_type": "stream",
     "text": [
      "[11 12 13]\n",
      "[9 8 7]\n",
      "[10 20 30]\n",
      "[10.          5.          3.33333333]\n"
     ]
    }
   ],
   "source": [
    "# 배열과 스칼라의 연산\n",
    "scalar = 10\n",
    "vector = np.array([1,2,3])\n",
    "print(scalar + vector)\n",
    "print(scalar - vector)\n",
    "print(scalar * vector)\n",
    "print(scalar / vector)"
   ]
  },
  {
   "cell_type": "code",
   "execution_count": 27,
   "id": "3eaf40b2",
   "metadata": {},
   "outputs": [
    {
     "name": "stdout",
     "output_type": "stream",
     "text": [
      "[[11 12 13]\n",
      " [14 15 16]]\n",
      "[[9 8 7]\n",
      " [6 5 4]]\n",
      "[[10 20 30]\n",
      " [40 50 60]]\n",
      "[[10.          5.          3.33333333]\n",
      " [ 2.5         2.          1.66666667]]\n"
     ]
    }
   ],
   "source": [
    "scalar = 10\n",
    "matrix = np.array([[1,2,3],[4,5,6]])\n",
    "print(scalar + matrix)\n",
    "print(scalar - matrix)\n",
    "print(scalar * matrix)\n",
    "print(scalar / matrix)"
   ]
  },
  {
   "cell_type": "code",
   "execution_count": 29,
   "id": "6f9f15f1",
   "metadata": {},
   "outputs": [
    {
     "name": "stderr",
     "output_type": "stream",
     "text": [
      "C:\\Users\\admin\\AppData\\Local\\Temp\\ipykernel_13356\\109059102.py:2: VisibleDeprecationWarning: Creating an ndarray from ragged nested sequences (which is a list-or-tuple of lists-or-tuples-or ndarrays with different lengths or shapes) is deprecated. If you meant to do this, you must specify 'dtype=object' when creating the ndarray.\n",
      "  tensor = np.array([[[1,2,3,],[4,5,6]],\n"
     ]
    },
    {
     "ename": "TypeError",
     "evalue": "unsupported operand type(s) for +: 'int' and 'list'",
     "output_type": "error",
     "traceback": [
      "\u001b[1;31m---------------------------------------------------------------------------\u001b[0m",
      "\u001b[1;31mTypeError\u001b[0m                                 Traceback (most recent call last)",
      "Input \u001b[1;32mIn [29]\u001b[0m, in \u001b[0;36m<cell line: 5>\u001b[1;34m()\u001b[0m\n\u001b[0;32m      1\u001b[0m scalar \u001b[38;5;241m=\u001b[39m \u001b[38;5;241m10\u001b[39m\n\u001b[0;32m      2\u001b[0m tensor \u001b[38;5;241m=\u001b[39m np\u001b[38;5;241m.\u001b[39marray([[[\u001b[38;5;241m1\u001b[39m,\u001b[38;5;241m2\u001b[39m,\u001b[38;5;241m3\u001b[39m,],[\u001b[38;5;241m4\u001b[39m,\u001b[38;5;241m5\u001b[39m,\u001b[38;5;241m6\u001b[39m]],\n\u001b[0;32m      3\u001b[0m                    [[\u001b[38;5;241m7\u001b[39m,\u001b[38;5;241m8\u001b[39m,\u001b[38;5;241m9\u001b[39m],[\u001b[38;5;241m10\u001b[39m,\u001b[38;5;241m11\u001b[39m,\u001b[38;5;241m12\u001b[39m]],\n\u001b[0;32m      4\u001b[0m                    [\u001b[38;5;241m13\u001b[39m,\u001b[38;5;241m14\u001b[39m,\u001b[38;5;241m15\u001b[39m],[\u001b[38;5;241m16\u001b[39m,\u001b[38;5;241m17\u001b[39m,\u001b[38;5;241m18\u001b[39m]])\n\u001b[1;32m----> 5\u001b[0m \u001b[38;5;28mprint\u001b[39m(\u001b[43mscalar\u001b[49m\u001b[43m \u001b[49m\u001b[38;5;241;43m+\u001b[39;49m\u001b[43m \u001b[49m\u001b[43mtensor\u001b[49m)\n",
      "\u001b[1;31mTypeError\u001b[0m: unsupported operand type(s) for +: 'int' and 'list'"
     ]
    }
   ],
   "source": [
    "scalar = 10\n",
    "tensor = np.array([[[1,2,3,],[4,5,6]],\n",
    "                   [[7,8,9],[10,11,12]],\n",
    "                   [13,14,15],[16,17,18]])\n",
    "print(scalar + tensor)"
   ]
  },
  {
   "cell_type": "code",
   "execution_count": 30,
   "id": "17cc4155",
   "metadata": {},
   "outputs": [
    {
     "name": "stdout",
     "output_type": "stream",
     "text": [
      "[[12 14 16]\n",
      " [15 17 19]\n",
      " [18 20 22]]\n"
     ]
    }
   ],
   "source": [
    "# 벡터와 매트릭스의 연산\n",
    "matrix = np.arange(1,10).reshape(3,3)\n",
    "vector = np.arange(11,14).reshape(1,3)\n",
    "print(matrix+vector)"
   ]
  },
  {
   "cell_type": "code",
   "execution_count": 31,
   "id": "f800aeae",
   "metadata": {},
   "outputs": [
    {
     "name": "stdout",
     "output_type": "stream",
     "text": [
      "[1 2 3]\n",
      "[[1]\n",
      " [2]\n",
      " [3]]\n",
      "[[2 3 4]\n",
      " [3 4 5]\n",
      " [4 5 6]]\n"
     ]
    }
   ],
   "source": [
    "# 벡터와 벡터의 브로드캐스팅 연산\n",
    "arr1 = np.array([1,2,3])\n",
    "arr2 = np.array([1,2,3]).reshape(3,1)\n",
    "print(arr1)\n",
    "print(arr2)\n",
    "print(arr1 + arr2)"
   ]
  },
  {
   "cell_type": "markdown",
   "id": "5ac42030",
   "metadata": {},
   "source": [
    "### 행렬연산\n",
    "#### np.dot(arr1, arr2) 함수사용"
   ]
  },
  {
   "cell_type": "code",
   "execution_count": 32,
   "id": "69dce898",
   "metadata": {},
   "outputs": [
    {
     "name": "stdout",
     "output_type": "stream",
     "text": [
      "[1 4 9]\n"
     ]
    }
   ],
   "source": [
    "# 일반적인 행렬곱\n",
    "arr1 = np.array([1,2,3])\n",
    "arr2 = np.array([1,2,3])\n",
    "print(arr1 * arr2)"
   ]
  },
  {
   "cell_type": "code",
   "execution_count": 34,
   "id": "78172b6b",
   "metadata": {},
   "outputs": [
    {
     "name": "stdout",
     "output_type": "stream",
     "text": [
      "14\n",
      "14\n",
      "14\n"
     ]
    }
   ],
   "source": [
    "# np.dot 사용 행렬곱\n",
    "arr1 = np.array([1,2,3])\n",
    "arr2 = np.array([1,2,3])\n",
    "print(np.dot(arr1,arr2))\n",
    "print(arr1.dot(arr2))\n",
    "print(arr1 @ arr2)"
   ]
  },
  {
   "cell_type": "code",
   "execution_count": 36,
   "id": "6d02ab4b",
   "metadata": {},
   "outputs": [
    {
     "name": "stdout",
     "output_type": "stream",
     "text": [
      "[[ 82  88]\n",
      " [199 214]]\n"
     ]
    }
   ],
   "source": [
    "# 2차원 배열 행렬곱\n",
    "arr3 = np.arange(1,7).reshape(2,3)\n",
    "arr4 = np.arange(11,17).reshape(3,2)\n",
    "print(np.dot(arr3,arr4))"
   ]
  },
  {
   "cell_type": "code",
   "execution_count": null,
   "id": "cde12de9",
   "metadata": {},
   "outputs": [],
   "source": []
  }
 ],
 "metadata": {
  "kernelspec": {
   "display_name": "Python 3 (ipykernel)",
   "language": "python",
   "name": "python3"
  },
  "language_info": {
   "codemirror_mode": {
    "name": "ipython",
    "version": 3
   },
   "file_extension": ".py",
   "mimetype": "text/x-python",
   "name": "python",
   "nbconvert_exporter": "python",
   "pygments_lexer": "ipython3",
   "version": "3.9.12"
  }
 },
 "nbformat": 4,
 "nbformat_minor": 5
}
