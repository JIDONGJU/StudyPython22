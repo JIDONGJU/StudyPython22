{
 "cells": [
  {
   "cell_type": "markdown",
   "id": "779bc6f5",
   "metadata": {},
   "source": [
    "### Numpy 활용\n",
    "#### Reshape\n",
    "#### - 배열의 shape을 변형해주는 함수\n",
    "#### - 배열의 요소 개수를 유지하며 형태만 변경\n",
    "#### - 변형 전 size와 변형 후 size가 동일해야 함\n",
    "#### > array.reshape(size)"
   ]
  },
  {
   "cell_type": "code",
   "execution_count": 2,
   "id": "5ef9f125",
   "metadata": {},
   "outputs": [],
   "source": [
    "import numpy as np"
   ]
  },
  {
   "cell_type": "code",
   "execution_count": 4,
   "id": "bfcf1fda",
   "metadata": {},
   "outputs": [
    {
     "name": "stdout",
     "output_type": "stream",
     "text": [
      "[[1 2 3]\n",
      " [4 5 6]]\n",
      "[[1 2]\n",
      " [3 4]\n",
      " [5 6]]\n"
     ]
    }
   ],
   "source": [
    "arr = np.array([[1,2,3],[4,5,6]])\n",
    "print(arr)\n",
    "print(arr.reshape(3,2))"
   ]
  },
  {
   "cell_type": "code",
   "execution_count": 5,
   "id": "48826224",
   "metadata": {},
   "outputs": [
    {
     "name": "stdout",
     "output_type": "stream",
     "text": [
      "[[[1 2]]\n",
      "\n",
      " [[3 4]]\n",
      "\n",
      " [[5 6]]]\n"
     ]
    }
   ],
   "source": [
    "# 3 x 1 x 2 배열로 변형\n",
    "print(arr.reshape(3,1,2))"
   ]
  },
  {
   "cell_type": "code",
   "execution_count": 6,
   "id": "3ac06246",
   "metadata": {},
   "outputs": [
    {
     "name": "stdout",
     "output_type": "stream",
     "text": [
      "[1 2 3 4 5 6]\n"
     ]
    }
   ],
   "source": [
    "# \n",
    "print(arr.reshape(6))"
   ]
  },
  {
   "cell_type": "code",
   "execution_count": null,
   "id": "df89d736",
   "metadata": {},
   "outputs": [],
   "source": [
    "# [문제 1]\n",
    "range() 함수를 사용해 1부터 36까지의 숫자가 나열된 tensor배열을 생성하고 (3,3,4)"
   ]
  },
  {
   "cell_type": "markdown",
   "id": "e1d1526a",
   "metadata": {},
   "source": [
    "#### 배열을 2차원 배열로 변형시켜봅니다. 열의 개수는 9"
   ]
  },
  {
   "cell_type": "code",
   "execution_count": 9,
   "id": "29975629",
   "metadata": {},
   "outputs": [
    {
     "data": {
      "text/plain": [
       "array([ 1,  2,  3,  4,  5,  6,  7,  8,  9, 10, 11, 12, 13, 14, 15, 16, 17,\n",
       "       18, 19, 20, 21, 22, 23, 24, 25, 26, 27, 28, 29, 30, 31, 32, 33, 34,\n",
       "       35, 36])"
      ]
     },
     "execution_count": 9,
     "metadata": {},
     "output_type": "execute_result"
    }
   ],
   "source": [
    "tensor = np.array(range(1,37))\n",
    "tensor"
   ]
  },
  {
   "cell_type": "code",
   "execution_count": 12,
   "id": "183ac9a4",
   "metadata": {},
   "outputs": [
    {
     "name": "stdout",
     "output_type": "stream",
     "text": [
      "[[ 1  2  3  4]\n",
      " [ 5  6  7  8]\n",
      " [ 9 10 11 12]\n",
      " [13 14 15 16]\n",
      " [17 18 19 20]\n",
      " [21 22 23 24]\n",
      " [25 26 27 28]\n",
      " [29 30 31 32]\n",
      " [33 34 35 36]]\n"
     ]
    }
   ],
   "source": [
    "print(tensor.reshape(9,4))"
   ]
  },
  {
   "cell_type": "markdown",
   "id": "052b71c2",
   "metadata": {},
   "source": [
    "### Flatten\n",
    "#### 다차원 배열은 1차원 배열로 만들기\n",
    "#### > flatten()"
   ]
  },
  {
   "cell_type": "code",
   "execution_count": 13,
   "id": "d3b8e99d",
   "metadata": {},
   "outputs": [
    {
     "name": "stdout",
     "output_type": "stream",
     "text": [
      "[1 2 3 4 5 6]\n"
     ]
    }
   ],
   "source": [
    "print(arr.flatten())"
   ]
  },
  {
   "cell_type": "code",
   "execution_count": 17,
   "id": "d73481bc",
   "metadata": {},
   "outputs": [
    {
     "name": "stdout",
     "output_type": "stream",
     "text": [
      "[ 1  2  3  4  5  6  7  8  9 10 11 12 13 14 15 16 17 18 19 20 21 22 23 24\n",
      " 25 26 27 28 29 30 31 32 33 34 35 36]\n"
     ]
    }
   ],
   "source": [
    "print(tensor.reshape(3,3,4).flatten())"
   ]
  },
  {
   "cell_type": "markdown",
   "id": "09825fb7",
   "metadata": {},
   "source": [
    "### Arange\n",
    "#### range 함수와 비슷한 기능\n",
    "#### 값의 범위를 지정하여 값이 채워져 있는 배열을 생성\n",
    "#### 특정한 규칙에 따라 증가하는 값을 넣는 것도 가능\n",
    "#### > np.arange(size)"
   ]
  },
  {
   "cell_type": "code",
   "execution_count": 18,
   "id": "851cdb73",
   "metadata": {},
   "outputs": [
    {
     "name": "stdout",
     "output_type": "stream",
     "text": [
      "[ 0  1  2  3  4  5  6  7  8  9 10 11 12 13 14 15 16 17 18 19 20 21 22 23\n",
      " 24 25 26 27 28 29]\n"
     ]
    }
   ],
   "source": [
    "print(np.arange(30))"
   ]
  },
  {
   "cell_type": "markdown",
   "id": "6296a4f8",
   "metadata": {},
   "source": [
    "### Arange\n",
    "#### 간격 지정 : np.arange()\n",
    "#### > np.arange(start, end, step)"
   ]
  },
  {
   "cell_type": "code",
   "execution_count": 19,
   "id": "f604476f",
   "metadata": {},
   "outputs": [
    {
     "name": "stdout",
     "output_type": "stream",
     "text": [
      "[0 2 4 6 8]\n"
     ]
    }
   ],
   "source": [
    "print(np.arange(0, 10, 2))"
   ]
  },
  {
   "cell_type": "code",
   "execution_count": 21,
   "id": "6c6f277d",
   "metadata": {},
   "outputs": [
    {
     "name": "stdout",
     "output_type": "stream",
     "text": [
      "[10  8  6  4  2]\n"
     ]
    }
   ],
   "source": [
    "print(np.arange(10, 0, -2))"
   ]
  },
  {
   "cell_type": "markdown",
   "id": "aba26e0e",
   "metadata": {},
   "source": [
    "### Arange + Reshape\n",
    "#### 배열 요소를 순서대로 가지는 다차원 배열 생성 가능\n",
    "#### > arange().reshape()"
   ]
  },
  {
   "cell_type": "code",
   "execution_count": 22,
   "id": "a5da51d3",
   "metadata": {},
   "outputs": [
    {
     "data": {
      "text/plain": [
       "array([[ 1,  2,  3,  4,  5],\n",
       "       [ 6,  7,  8,  9, 10],\n",
       "       [11, 12, 13, 14, 15],\n",
       "       [16, 17, 18, 19, 20],\n",
       "       [21, 22, 23, 24, 25]])"
      ]
     },
     "execution_count": 22,
     "metadata": {},
     "output_type": "execute_result"
    }
   ],
   "source": [
    "np.arange(1,26).reshape(5,5)"
   ]
  },
  {
   "cell_type": "code",
   "execution_count": 23,
   "id": "a42bf66a",
   "metadata": {},
   "outputs": [
    {
     "data": {
      "text/plain": [
       "array([[[0. , 0.2, 0.4, 0.6, 0.8],\n",
       "        [1. , 1.2, 1.4, 1.6, 1.8]],\n",
       "\n",
       "       [[2. , 2.2, 2.4, 2.6, 2.8],\n",
       "        [3. , 3.2, 3.4, 3.6, 3.8]],\n",
       "\n",
       "       [[4. , 4.2, 4.4, 4.6, 4.8],\n",
       "        [5. , 5.2, 5.4, 5.6, 5.8]]])"
      ]
     },
     "execution_count": 23,
     "metadata": {},
     "output_type": "execute_result"
    }
   ],
   "source": [
    "np.arange(0,6,0.2).reshape(3,2,5)"
   ]
  },
  {
   "cell_type": "code",
   "execution_count": 39,
   "id": "41693838",
   "metadata": {},
   "outputs": [
    {
     "name": "stdout",
     "output_type": "stream",
     "text": [
      "[[100 110 120 130 140]\n",
      " [150 160 170 180 190]]\n"
     ]
    }
   ],
   "source": [
    "# [문제3] 100부터 190까지의 숫자가 10간격으로 배열 생성, (2,5)형태의 2차원 배열로 변형\n",
    "print(np.arange(100,191,10).reshape(2,5))"
   ]
  },
  {
   "cell_type": "code",
   "execution_count": 38,
   "id": "0722d876",
   "metadata": {},
   "outputs": [
    {
     "name": "stdout",
     "output_type": "stream",
     "text": [
      "[[[-2.  -1.5 -1. ]]\n",
      "\n",
      " [[-0.5  0.   0.5]]\n",
      "\n",
      " [[ 1.   1.5  2. ]]]\n"
     ]
    }
   ],
   "source": [
    "# [문제4] -2부터 2까지의 숫자가 0.5로 나열된 배열 생성, 3차원 배열로 변형\n",
    "print(np.arange(-2, 2.1, 0.5).reshape(3,1,3))"
   ]
  },
  {
   "cell_type": "markdown",
   "id": "841ddf4f",
   "metadata": {},
   "source": [
    "### Zeros\n",
    "#### 0으로 채워진 배열 생성\n",
    "#### shape 지정이 가능\n",
    "#### > np.zeros(shape, dtype)"
   ]
  },
  {
   "cell_type": "code",
   "execution_count": 40,
   "id": "cd92b248",
   "metadata": {},
   "outputs": [
    {
     "name": "stdout",
     "output_type": "stream",
     "text": [
      "[0 0 0 0 0]\n"
     ]
    }
   ],
   "source": [
    "print(np.zeros(shape=(5,), dtype=np.int8))"
   ]
  },
  {
   "cell_type": "code",
   "execution_count": 41,
   "id": "f60d828c",
   "metadata": {},
   "outputs": [
    {
     "data": {
      "text/plain": [
       "array([0, 0, 0, 0, 0])"
      ]
     },
     "execution_count": 41,
     "metadata": {},
     "output_type": "execute_result"
    }
   ],
   "source": [
    "np.zeros((5),int)"
   ]
  },
  {
   "cell_type": "code",
   "execution_count": 42,
   "id": "7b692b24",
   "metadata": {},
   "outputs": [
    {
     "name": "stdout",
     "output_type": "stream",
     "text": [
      "[[0. 0. 0.]\n",
      " [0. 0. 0.]]\n"
     ]
    }
   ],
   "source": [
    "print(np.zeros((2,3)))"
   ]
  },
  {
   "cell_type": "markdown",
   "id": "368c12bd",
   "metadata": {},
   "source": [
    "### Ones\n",
    "#### 1으로 채워진 배열 생성\n",
    "#### shape 지정이 가능\n",
    "#### > np.ones(shape, dtype)"
   ]
  },
  {
   "cell_type": "code",
   "execution_count": 43,
   "id": "d06b4c24",
   "metadata": {},
   "outputs": [
    {
     "name": "stdout",
     "output_type": "stream",
     "text": [
      "[1 1 1 1 1]\n"
     ]
    }
   ],
   "source": [
    "print(np.ones(shape=(5,), dtype=np.int8))"
   ]
  },
  {
   "cell_type": "code",
   "execution_count": 44,
   "id": "429d821c",
   "metadata": {},
   "outputs": [
    {
     "data": {
      "text/plain": [
       "array([1, 1, 1, 1, 1])"
      ]
     },
     "execution_count": 44,
     "metadata": {},
     "output_type": "execute_result"
    }
   ],
   "source": [
    "np.ones((5),int)"
   ]
  },
  {
   "cell_type": "code",
   "execution_count": 45,
   "id": "3453ac89",
   "metadata": {},
   "outputs": [
    {
     "name": "stdout",
     "output_type": "stream",
     "text": [
      "[[1. 1. 1.]\n",
      " [1. 1. 1.]]\n"
     ]
    }
   ],
   "source": [
    "print(np.ones((2,3)))"
   ]
  },
  {
   "cell_type": "markdown",
   "id": "a88a73c7",
   "metadata": {},
   "source": [
    "### Empty\n",
    "#### shape만 주어지고 비어있는 배열 생성\n",
    "#### 배열을 생성만 하고 값을 주지 않아 메모리에 저장되어 있던 기존값이 저장될 수 있음\n",
    "#### > np.empty(shape, dtype)"
   ]
  },
  {
   "cell_type": "code",
   "execution_count": 47,
   "id": "55b6e22f",
   "metadata": {},
   "outputs": [
    {
     "name": "stdout",
     "output_type": "stream",
     "text": [
      "[100 110 120 130 140 150 160 170 180 190]\n"
     ]
    }
   ],
   "source": [
    "print(np.empty(shape = (10,), dtype = np.int32))"
   ]
  },
  {
   "cell_type": "code",
   "execution_count": 48,
   "id": "de8af179",
   "metadata": {},
   "outputs": [
    {
     "name": "stdout",
     "output_type": "stream",
     "text": [
      "[[ 96  96  72 -31   1]\n",
      " [  1   0   0   0   0]]\n"
     ]
    }
   ],
   "source": [
    "print(np.empty((2,5),np.int8))"
   ]
  },
  {
   "cell_type": "code",
   "execution_count": null,
   "id": "3775f598",
   "metadata": {},
   "outputs": [],
   "source": []
  }
 ],
 "metadata": {
  "kernelspec": {
   "display_name": "Python 3 (ipykernel)",
   "language": "python",
   "name": "python3"
  },
  "language_info": {
   "codemirror_mode": {
    "name": "ipython",
    "version": 3
   },
   "file_extension": ".py",
   "mimetype": "text/x-python",
   "name": "python",
   "nbconvert_exporter": "python",
   "pygments_lexer": "ipython3",
   "version": "3.9.12"
  }
 },
 "nbformat": 4,
 "nbformat_minor": 5
}
