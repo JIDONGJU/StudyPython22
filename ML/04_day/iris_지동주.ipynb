{
 "cells": [
  {
   "cell_type": "markdown",
   "metadata": {},
   "source": [
    "#### 데이터 준비"
   ]
  },
  {
   "cell_type": "code",
   "execution_count": 150,
   "metadata": {},
   "outputs": [
    {
     "name": "stdout",
     "output_type": "stream",
     "text": [
      "dict_keys(['data', 'target', 'frame', 'target_names', 'DESCR', 'feature_names', 'filename', 'data_module'])\n",
      "{'data': array([[5.1, 3.5, 1.4, 0.2],\n",
      "       [4.9, 3. , 1.4, 0.2],\n",
      "       [4.7, 3.2, 1.3, 0.2],\n",
      "       [4.6, 3.1, 1.5, 0.2],\n",
      "       [5. , 3.6, 1.4, 0.2],\n",
      "       [5.4, 3.9, 1.7, 0.4],\n",
      "       [4.6, 3.4, 1.4, 0.3],\n",
      "       [5. , 3.4, 1.5, 0.2],\n",
      "       [4.4, 2.9, 1.4, 0.2],\n",
      "       [4.9, 3.1, 1.5, 0.1],\n",
      "       [5.4, 3.7, 1.5, 0.2],\n",
      "       [4.8, 3.4, 1.6, 0.2],\n",
      "       [4.8, 3. , 1.4, 0.1],\n",
      "       [4.3, 3. , 1.1, 0.1],\n",
      "       [5.8, 4. , 1.2, 0.2],\n",
      "       [5.7, 4.4, 1.5, 0.4],\n",
      "       [5.4, 3.9, 1.3, 0.4],\n",
      "       [5.1, 3.5, 1.4, 0.3],\n",
      "       [5.7, 3.8, 1.7, 0.3],\n",
      "       [5.1, 3.8, 1.5, 0.3],\n",
      "       [5.4, 3.4, 1.7, 0.2],\n",
      "       [5.1, 3.7, 1.5, 0.4],\n",
      "       [4.6, 3.6, 1. , 0.2],\n",
      "       [5.1, 3.3, 1.7, 0.5],\n",
      "       [4.8, 3.4, 1.9, 0.2],\n",
      "       [5. , 3. , 1.6, 0.2],\n",
      "       [5. , 3.4, 1.6, 0.4],\n",
      "       [5.2, 3.5, 1.5, 0.2],\n",
      "       [5.2, 3.4, 1.4, 0.2],\n",
      "       [4.7, 3.2, 1.6, 0.2],\n",
      "       [4.8, 3.1, 1.6, 0.2],\n",
      "       [5.4, 3.4, 1.5, 0.4],\n",
      "       [5.2, 4.1, 1.5, 0.1],\n",
      "       [5.5, 4.2, 1.4, 0.2],\n",
      "       [4.9, 3.1, 1.5, 0.2],\n",
      "       [5. , 3.2, 1.2, 0.2],\n",
      "       [5.5, 3.5, 1.3, 0.2],\n",
      "       [4.9, 3.6, 1.4, 0.1],\n",
      "       [4.4, 3. , 1.3, 0.2],\n",
      "       [5.1, 3.4, 1.5, 0.2],\n",
      "       [5. , 3.5, 1.3, 0.3],\n",
      "       [4.5, 2.3, 1.3, 0.3],\n",
      "       [4.4, 3.2, 1.3, 0.2],\n",
      "       [5. , 3.5, 1.6, 0.6],\n",
      "       [5.1, 3.8, 1.9, 0.4],\n",
      "       [4.8, 3. , 1.4, 0.3],\n",
      "       [5.1, 3.8, 1.6, 0.2],\n",
      "       [4.6, 3.2, 1.4, 0.2],\n",
      "       [5.3, 3.7, 1.5, 0.2],\n",
      "       [5. , 3.3, 1.4, 0.2],\n",
      "       [7. , 3.2, 4.7, 1.4],\n",
      "       [6.4, 3.2, 4.5, 1.5],\n",
      "       [6.9, 3.1, 4.9, 1.5],\n",
      "       [5.5, 2.3, 4. , 1.3],\n",
      "       [6.5, 2.8, 4.6, 1.5],\n",
      "       [5.7, 2.8, 4.5, 1.3],\n",
      "       [6.3, 3.3, 4.7, 1.6],\n",
      "       [4.9, 2.4, 3.3, 1. ],\n",
      "       [6.6, 2.9, 4.6, 1.3],\n",
      "       [5.2, 2.7, 3.9, 1.4],\n",
      "       [5. , 2. , 3.5, 1. ],\n",
      "       [5.9, 3. , 4.2, 1.5],\n",
      "       [6. , 2.2, 4. , 1. ],\n",
      "       [6.1, 2.9, 4.7, 1.4],\n",
      "       [5.6, 2.9, 3.6, 1.3],\n",
      "       [6.7, 3.1, 4.4, 1.4],\n",
      "       [5.6, 3. , 4.5, 1.5],\n",
      "       [5.8, 2.7, 4.1, 1. ],\n",
      "       [6.2, 2.2, 4.5, 1.5],\n",
      "       [5.6, 2.5, 3.9, 1.1],\n",
      "       [5.9, 3.2, 4.8, 1.8],\n",
      "       [6.1, 2.8, 4. , 1.3],\n",
      "       [6.3, 2.5, 4.9, 1.5],\n",
      "       [6.1, 2.8, 4.7, 1.2],\n",
      "       [6.4, 2.9, 4.3, 1.3],\n",
      "       [6.6, 3. , 4.4, 1.4],\n",
      "       [6.8, 2.8, 4.8, 1.4],\n",
      "       [6.7, 3. , 5. , 1.7],\n",
      "       [6. , 2.9, 4.5, 1.5],\n",
      "       [5.7, 2.6, 3.5, 1. ],\n",
      "       [5.5, 2.4, 3.8, 1.1],\n",
      "       [5.5, 2.4, 3.7, 1. ],\n",
      "       [5.8, 2.7, 3.9, 1.2],\n",
      "       [6. , 2.7, 5.1, 1.6],\n",
      "       [5.4, 3. , 4.5, 1.5],\n",
      "       [6. , 3.4, 4.5, 1.6],\n",
      "       [6.7, 3.1, 4.7, 1.5],\n",
      "       [6.3, 2.3, 4.4, 1.3],\n",
      "       [5.6, 3. , 4.1, 1.3],\n",
      "       [5.5, 2.5, 4. , 1.3],\n",
      "       [5.5, 2.6, 4.4, 1.2],\n",
      "       [6.1, 3. , 4.6, 1.4],\n",
      "       [5.8, 2.6, 4. , 1.2],\n",
      "       [5. , 2.3, 3.3, 1. ],\n",
      "       [5.6, 2.7, 4.2, 1.3],\n",
      "       [5.7, 3. , 4.2, 1.2],\n",
      "       [5.7, 2.9, 4.2, 1.3],\n",
      "       [6.2, 2.9, 4.3, 1.3],\n",
      "       [5.1, 2.5, 3. , 1.1],\n",
      "       [5.7, 2.8, 4.1, 1.3],\n",
      "       [6.3, 3.3, 6. , 2.5],\n",
      "       [5.8, 2.7, 5.1, 1.9],\n",
      "       [7.1, 3. , 5.9, 2.1],\n",
      "       [6.3, 2.9, 5.6, 1.8],\n",
      "       [6.5, 3. , 5.8, 2.2],\n",
      "       [7.6, 3. , 6.6, 2.1],\n",
      "       [4.9, 2.5, 4.5, 1.7],\n",
      "       [7.3, 2.9, 6.3, 1.8],\n",
      "       [6.7, 2.5, 5.8, 1.8],\n",
      "       [7.2, 3.6, 6.1, 2.5],\n",
      "       [6.5, 3.2, 5.1, 2. ],\n",
      "       [6.4, 2.7, 5.3, 1.9],\n",
      "       [6.8, 3. , 5.5, 2.1],\n",
      "       [5.7, 2.5, 5. , 2. ],\n",
      "       [5.8, 2.8, 5.1, 2.4],\n",
      "       [6.4, 3.2, 5.3, 2.3],\n",
      "       [6.5, 3. , 5.5, 1.8],\n",
      "       [7.7, 3.8, 6.7, 2.2],\n",
      "       [7.7, 2.6, 6.9, 2.3],\n",
      "       [6. , 2.2, 5. , 1.5],\n",
      "       [6.9, 3.2, 5.7, 2.3],\n",
      "       [5.6, 2.8, 4.9, 2. ],\n",
      "       [7.7, 2.8, 6.7, 2. ],\n",
      "       [6.3, 2.7, 4.9, 1.8],\n",
      "       [6.7, 3.3, 5.7, 2.1],\n",
      "       [7.2, 3.2, 6. , 1.8],\n",
      "       [6.2, 2.8, 4.8, 1.8],\n",
      "       [6.1, 3. , 4.9, 1.8],\n",
      "       [6.4, 2.8, 5.6, 2.1],\n",
      "       [7.2, 3. , 5.8, 1.6],\n",
      "       [7.4, 2.8, 6.1, 1.9],\n",
      "       [7.9, 3.8, 6.4, 2. ],\n",
      "       [6.4, 2.8, 5.6, 2.2],\n",
      "       [6.3, 2.8, 5.1, 1.5],\n",
      "       [6.1, 2.6, 5.6, 1.4],\n",
      "       [7.7, 3. , 6.1, 2.3],\n",
      "       [6.3, 3.4, 5.6, 2.4],\n",
      "       [6.4, 3.1, 5.5, 1.8],\n",
      "       [6. , 3. , 4.8, 1.8],\n",
      "       [6.9, 3.1, 5.4, 2.1],\n",
      "       [6.7, 3.1, 5.6, 2.4],\n",
      "       [6.9, 3.1, 5.1, 2.3],\n",
      "       [5.8, 2.7, 5.1, 1.9],\n",
      "       [6.8, 3.2, 5.9, 2.3],\n",
      "       [6.7, 3.3, 5.7, 2.5],\n",
      "       [6.7, 3. , 5.2, 2.3],\n",
      "       [6.3, 2.5, 5. , 1.9],\n",
      "       [6.5, 3. , 5.2, 2. ],\n",
      "       [6.2, 3.4, 5.4, 2.3],\n",
      "       [5.9, 3. , 5.1, 1.8]]), 'target': array([0, 0, 0, 0, 0, 0, 0, 0, 0, 0, 0, 0, 0, 0, 0, 0, 0, 0, 0, 0, 0, 0,\n",
      "       0, 0, 0, 0, 0, 0, 0, 0, 0, 0, 0, 0, 0, 0, 0, 0, 0, 0, 0, 0, 0, 0,\n",
      "       0, 0, 0, 0, 0, 0, 1, 1, 1, 1, 1, 1, 1, 1, 1, 1, 1, 1, 1, 1, 1, 1,\n",
      "       1, 1, 1, 1, 1, 1, 1, 1, 1, 1, 1, 1, 1, 1, 1, 1, 1, 1, 1, 1, 1, 1,\n",
      "       1, 1, 1, 1, 1, 1, 1, 1, 1, 1, 1, 1, 2, 2, 2, 2, 2, 2, 2, 2, 2, 2,\n",
      "       2, 2, 2, 2, 2, 2, 2, 2, 2, 2, 2, 2, 2, 2, 2, 2, 2, 2, 2, 2, 2, 2,\n",
      "       2, 2, 2, 2, 2, 2, 2, 2, 2, 2, 2, 2, 2, 2, 2, 2, 2, 2]), 'frame': None, 'target_names': array(['setosa', 'versicolor', 'virginica'], dtype='<U10'), 'DESCR': '.. _iris_dataset:\\n\\nIris plants dataset\\n--------------------\\n\\n**Data Set Characteristics:**\\n\\n    :Number of Instances: 150 (50 in each of three classes)\\n    :Number of Attributes: 4 numeric, predictive attributes and the class\\n    :Attribute Information:\\n        - sepal length in cm\\n        - sepal width in cm\\n        - petal length in cm\\n        - petal width in cm\\n        - class:\\n                - Iris-Setosa\\n                - Iris-Versicolour\\n                - Iris-Virginica\\n                \\n    :Summary Statistics:\\n\\n    ============== ==== ==== ======= ===== ====================\\n                    Min  Max   Mean    SD   Class Correlation\\n    ============== ==== ==== ======= ===== ====================\\n    sepal length:   4.3  7.9   5.84   0.83    0.7826\\n    sepal width:    2.0  4.4   3.05   0.43   -0.4194\\n    petal length:   1.0  6.9   3.76   1.76    0.9490  (high!)\\n    petal width:    0.1  2.5   1.20   0.76    0.9565  (high!)\\n    ============== ==== ==== ======= ===== ====================\\n\\n    :Missing Attribute Values: None\\n    :Class Distribution: 33.3% for each of 3 classes.\\n    :Creator: R.A. Fisher\\n    :Donor: Michael Marshall (MARSHALL%PLU@io.arc.nasa.gov)\\n    :Date: July, 1988\\n\\nThe famous Iris database, first used by Sir R.A. Fisher. The dataset is taken\\nfrom Fisher\\'s paper. Note that it\\'s the same as in R, but not as in the UCI\\nMachine Learning Repository, which has two wrong data points.\\n\\nThis is perhaps the best known database to be found in the\\npattern recognition literature.  Fisher\\'s paper is a classic in the field and\\nis referenced frequently to this day.  (See Duda & Hart, for example.)  The\\ndata set contains 3 classes of 50 instances each, where each class refers to a\\ntype of iris plant.  One class is linearly separable from the other 2; the\\nlatter are NOT linearly separable from each other.\\n\\n.. topic:: References\\n\\n   - Fisher, R.A. \"The use of multiple measurements in taxonomic problems\"\\n     Annual Eugenics, 7, Part II, 179-188 (1936); also in \"Contributions to\\n     Mathematical Statistics\" (John Wiley, NY, 1950).\\n   - Duda, R.O., & Hart, P.E. (1973) Pattern Classification and Scene Analysis.\\n     (Q327.D83) John Wiley & Sons.  ISBN 0-471-22361-1.  See page 218.\\n   - Dasarathy, B.V. (1980) \"Nosing Around the Neighborhood: A New System\\n     Structure and Classification Rule for Recognition in Partially Exposed\\n     Environments\".  IEEE Transactions on Pattern Analysis and Machine\\n     Intelligence, Vol. PAMI-2, No. 1, 67-71.\\n   - Gates, G.W. (1972) \"The Reduced Nearest Neighbor Rule\".  IEEE Transactions\\n     on Information Theory, May 1972, 431-433.\\n   - See also: 1988 MLC Proceedings, 54-64.  Cheeseman et al\"s AUTOCLASS II\\n     conceptual clustering system finds 3 classes in the data.\\n   - Many, many more ...', 'feature_names': ['sepal length (cm)', 'sepal width (cm)', 'petal length (cm)', 'petal width (cm)'], 'filename': 'iris.csv', 'data_module': 'sklearn.datasets.data'}\n"
     ]
    }
   ],
   "source": [
    "# [문제]\n",
    "# 붓꽃 품종 데이터를 이용해서 품종 분ㄹ하기\n",
    "\n",
    "from sklearn.datasets import load_iris\n",
    "\n",
    "## 붓꽃 품종 데이터\n",
    "# 품종 : setosa, versicolor, virginica\n",
    "# sepal length : 꽃받침 길이\n",
    "# sepal width : 꽃받침 폭\n",
    "# petal length : 꽃잎 길이\n",
    "# petal width : 꽃잎 폭\n",
    "\n",
    "iris = load_iris()\n",
    "print(iris.keys())\n",
    "print(iris)"
   ]
  },
  {
   "cell_type": "code",
   "execution_count": 41,
   "metadata": {},
   "outputs": [
    {
     "name": "stdout",
     "output_type": "stream",
     "text": [
      "[[5.1 3.5 1.4 0.2]\n",
      " [4.9 3.  1.4 0.2]\n",
      " [4.7 3.2 1.3 0.2]\n",
      " [4.6 3.1 1.5 0.2]\n",
      " [5.  3.6 1.4 0.2]\n",
      " [5.4 3.9 1.7 0.4]\n",
      " [4.6 3.4 1.4 0.3]\n",
      " [5.  3.4 1.5 0.2]\n",
      " [4.4 2.9 1.4 0.2]\n",
      " [4.9 3.1 1.5 0.1]\n",
      " [5.4 3.7 1.5 0.2]\n",
      " [4.8 3.4 1.6 0.2]\n",
      " [4.8 3.  1.4 0.1]\n",
      " [4.3 3.  1.1 0.1]\n",
      " [5.8 4.  1.2 0.2]]\n",
      "[0 0 0 0 0 0 0 0 0 0 0 0 0 0 0]\n"
     ]
    }
   ],
   "source": [
    "data = iris['data']\n",
    "print(data[:15])\n",
    "target = iris['target']\n",
    "print(target[:15])"
   ]
  },
  {
   "cell_type": "code",
   "execution_count": 42,
   "metadata": {},
   "outputs": [
    {
     "data": {
      "text/plain": [
       "array([5.1, 4.9, 4.7, 4.6, 5. , 5.4, 4.6, 5. , 4.4, 4.9, 5.4, 4.8, 4.8,\n",
       "       4.3, 5.8, 5.7, 5.4, 5.1, 5.7, 5.1, 5.4, 5.1, 4.6, 5.1, 4.8, 5. ,\n",
       "       5. , 5.2, 5.2, 4.7, 4.8, 5.4, 5.2, 5.5, 4.9, 5. , 5.5, 4.9, 4.4,\n",
       "       5.1, 5. , 4.5, 4.4, 5. , 5.1, 4.8, 5.1, 4.6, 5.3, 5. , 7. , 6.4,\n",
       "       6.9, 5.5, 6.5, 5.7, 6.3, 4.9, 6.6, 5.2, 5. , 5.9, 6. , 6.1, 5.6,\n",
       "       6.7, 5.6, 5.8, 6.2, 5.6, 5.9, 6.1, 6.3, 6.1, 6.4, 6.6, 6.8, 6.7,\n",
       "       6. , 5.7, 5.5, 5.5, 5.8, 6. , 5.4, 6. , 6.7, 6.3, 5.6, 5.5, 5.5,\n",
       "       6.1, 5.8, 5. , 5.6, 5.7, 5.7, 6.2, 5.1, 5.7, 6.3, 5.8, 7.1, 6.3,\n",
       "       6.5, 7.6, 4.9, 7.3, 6.7, 7.2, 6.5, 6.4, 6.8, 5.7, 5.8, 6.4, 6.5,\n",
       "       7.7, 7.7, 6. , 6.9, 5.6, 7.7, 6.3, 6.7, 7.2, 6.2, 6.1, 6.4, 7.2,\n",
       "       7.4, 7.9, 6.4, 6.3, 6.1, 7.7, 6.3, 6.4, 6. , 6.9, 6.7, 6.9, 5.8,\n",
       "       6.8, 6.7, 6.7, 6.3, 6.5, 6.2, 5.9])"
      ]
     },
     "execution_count": 42,
     "metadata": {},
     "output_type": "execute_result"
    }
   ],
   "source": [
    "import numpy as np\n",
    "sepal_length = []\n",
    "\n",
    "for i in range(0, len(data), 1):\n",
    "    sepal_length.append(data[i][0])\n",
    "    \n",
    "np.array(sepal_length)"
   ]
  },
  {
   "cell_type": "code",
   "execution_count": 47,
   "metadata": {},
   "outputs": [],
   "source": [
    "from sklearn.model_selection import train_test_split\n",
    "\n",
    "train_input, test_input, train_target, test_target = train_test_split(sepal_length,\n",
    "                                                                      target,\n",
    "                                                                      random_state=42)"
   ]
  },
  {
   "cell_type": "code",
   "execution_count": 48,
   "metadata": {},
   "outputs": [
    {
     "name": "stdout",
     "output_type": "stream",
     "text": [
      "[5.0, 5.2, 5.8, 6.0, 6.7, 5.4, 5.4, 5.5, 6.3, 6.4, 6.6, 7.2, 5.7, 7.6, 5.6, 5.1, 7.7, 5.8, 5.2, 5.0, 5.1, 5.0, 6.3, 4.8, 5.0, 5.1, 5.6, 5.1, 5.7, 7.7, 4.6, 6.2, 5.7, 5.5, 6.0, 5.8, 6.0, 5.4, 6.2, 5.5, 5.4, 5.0, 6.4, 5.0, 5.0, 5.5, 6.7, 4.9, 5.8, 5.0, 5.0, 5.9, 5.1, 6.9, 6.0, 6.1, 7.7, 5.5, 4.4, 4.3, 6.0, 7.2, 4.6, 5.1, 4.4, 6.3, 6.3, 4.6, 6.8, 6.3, 4.7, 6.1, 6.5, 6.2, 7.0, 6.4, 5.1, 6.9, 5.9, 6.5, 5.7, 5.2, 6.1, 4.5, 6.6, 5.5, 5.3, 5.6, 7.3, 6.7, 5.1, 4.9, 6.7, 7.2, 4.9, 6.7, 4.9, 6.9, 7.4, 6.3, 5.7, 6.5, 6.3, 6.4, 5.6, 5.9, 5.4, 6.1, 4.9, 5.8, 5.8, 7.1]\n",
      "\n",
      "[6.1, 5.7, 7.7, 6.0, 6.8, 5.4, 5.6, 6.9, 6.2, 5.8, 6.5, 4.8, 5.5, 4.9, 5.1, 6.3, 6.5, 5.6, 5.7, 6.4, 4.7, 6.1, 5.0, 6.4, 7.9, 6.7, 6.7, 6.8, 4.8, 4.8, 4.6, 5.7, 6.7, 4.8, 4.4, 6.3, 6.4, 5.2]\n",
      "\n",
      "[0 0 2 1 1 0 0 1 2 2 1 2 1 2 1 0 2 1 0 0 0 1 2 0 0 0 1 0 1 2 0 1 2 0 2 2 1\n",
      " 1 2 1 0 1 2 0 0 1 1 0 2 0 0 1 1 2 1 2 2 1 0 0 2 2 0 0 0 1 2 0 2 2 0 1 1 2\n",
      " 1 2 0 2 1 2 1 1 1 0 1 1 0 1 2 2 0 1 2 2 0 2 0 1 2 2 1 2 1 1 2 2 0 1 2 0 1\n",
      " 2]\n",
      "\n",
      "[1 0 2 1 1 0 1 2 1 1 2 0 0 0 0 1 2 1 1 2 0 2 0 2 2 2 2 2 0 0 0 0 1 0 0 2 1\n",
      " 0]\n"
     ]
    }
   ],
   "source": [
    "print(train_input)\n",
    "print()\n",
    "print(test_input)\n",
    "print()\n",
    "print(train_target)\n",
    "print()\n",
    "print(test_target)"
   ]
  },
  {
   "cell_type": "markdown",
   "metadata": {},
   "source": [
    "#### K-최근접이웃"
   ]
  },
  {
   "cell_type": "code",
   "execution_count": 52,
   "metadata": {},
   "outputs": [],
   "source": [
    "train_input = np.array([train_input])\n",
    "test_input = np.array([test_input])"
   ]
  },
  {
   "cell_type": "code",
   "execution_count": 53,
   "metadata": {},
   "outputs": [
    {
     "data": {
      "text/plain": [
       "array([[5. , 5.2, 5.8, 6. , 6.7, 5.4, 5.4, 5.5, 6.3, 6.4, 6.6, 7.2, 5.7,\n",
       "        7.6, 5.6, 5.1, 7.7, 5.8, 5.2, 5. , 5.1, 5. , 6.3, 4.8, 5. , 5.1,\n",
       "        5.6, 5.1, 5.7, 7.7, 4.6, 6.2, 5.7, 5.5, 6. , 5.8, 6. , 5.4, 6.2,\n",
       "        5.5, 5.4, 5. , 6.4, 5. , 5. , 5.5, 6.7, 4.9, 5.8, 5. , 5. , 5.9,\n",
       "        5.1, 6.9, 6. , 6.1, 7.7, 5.5, 4.4, 4.3, 6. , 7.2, 4.6, 5.1, 4.4,\n",
       "        6.3, 6.3, 4.6, 6.8, 6.3, 4.7, 6.1, 6.5, 6.2, 7. , 6.4, 5.1, 6.9,\n",
       "        5.9, 6.5, 5.7, 5.2, 6.1, 4.5, 6.6, 5.5, 5.3, 5.6, 7.3, 6.7, 5.1,\n",
       "        4.9, 6.7, 7.2, 4.9, 6.7, 4.9, 6.9, 7.4, 6.3, 5.7, 6.5, 6.3, 6.4,\n",
       "        5.6, 5.9, 5.4, 6.1, 4.9, 5.8, 5.8, 7.1]])"
      ]
     },
     "execution_count": 53,
     "metadata": {},
     "output_type": "execute_result"
    }
   ],
   "source": [
    "train_input"
   ]
  },
  {
   "cell_type": "code",
   "execution_count": 54,
   "metadata": {},
   "outputs": [],
   "source": [
    "train_input = train_input.reshape(-1,1)\n",
    "test_input = test_input.reshape(-1,1)"
   ]
  },
  {
   "cell_type": "code",
   "execution_count": 55,
   "metadata": {},
   "outputs": [
    {
     "data": {
      "text/plain": [
       "array([[5. ],\n",
       "       [5.2],\n",
       "       [5.8],\n",
       "       [6. ],\n",
       "       [6.7],\n",
       "       [5.4],\n",
       "       [5.4],\n",
       "       [5.5],\n",
       "       [6.3],\n",
       "       [6.4],\n",
       "       [6.6],\n",
       "       [7.2],\n",
       "       [5.7],\n",
       "       [7.6],\n",
       "       [5.6],\n",
       "       [5.1],\n",
       "       [7.7],\n",
       "       [5.8],\n",
       "       [5.2],\n",
       "       [5. ],\n",
       "       [5.1],\n",
       "       [5. ],\n",
       "       [6.3],\n",
       "       [4.8],\n",
       "       [5. ],\n",
       "       [5.1],\n",
       "       [5.6],\n",
       "       [5.1],\n",
       "       [5.7],\n",
       "       [7.7],\n",
       "       [4.6],\n",
       "       [6.2],\n",
       "       [5.7],\n",
       "       [5.5],\n",
       "       [6. ],\n",
       "       [5.8],\n",
       "       [6. ],\n",
       "       [5.4],\n",
       "       [6.2],\n",
       "       [5.5],\n",
       "       [5.4],\n",
       "       [5. ],\n",
       "       [6.4],\n",
       "       [5. ],\n",
       "       [5. ],\n",
       "       [5.5],\n",
       "       [6.7],\n",
       "       [4.9],\n",
       "       [5.8],\n",
       "       [5. ],\n",
       "       [5. ],\n",
       "       [5.9],\n",
       "       [5.1],\n",
       "       [6.9],\n",
       "       [6. ],\n",
       "       [6.1],\n",
       "       [7.7],\n",
       "       [5.5],\n",
       "       [4.4],\n",
       "       [4.3],\n",
       "       [6. ],\n",
       "       [7.2],\n",
       "       [4.6],\n",
       "       [5.1],\n",
       "       [4.4],\n",
       "       [6.3],\n",
       "       [6.3],\n",
       "       [4.6],\n",
       "       [6.8],\n",
       "       [6.3],\n",
       "       [4.7],\n",
       "       [6.1],\n",
       "       [6.5],\n",
       "       [6.2],\n",
       "       [7. ],\n",
       "       [6.4],\n",
       "       [5.1],\n",
       "       [6.9],\n",
       "       [5.9],\n",
       "       [6.5],\n",
       "       [5.7],\n",
       "       [5.2],\n",
       "       [6.1],\n",
       "       [4.5],\n",
       "       [6.6],\n",
       "       [5.5],\n",
       "       [5.3],\n",
       "       [5.6],\n",
       "       [7.3],\n",
       "       [6.7],\n",
       "       [5.1],\n",
       "       [4.9],\n",
       "       [6.7],\n",
       "       [7.2],\n",
       "       [4.9],\n",
       "       [6.7],\n",
       "       [4.9],\n",
       "       [6.9],\n",
       "       [7.4],\n",
       "       [6.3],\n",
       "       [5.7],\n",
       "       [6.5],\n",
       "       [6.3],\n",
       "       [6.4],\n",
       "       [5.6],\n",
       "       [5.9],\n",
       "       [5.4],\n",
       "       [6.1],\n",
       "       [4.9],\n",
       "       [5.8],\n",
       "       [5.8],\n",
       "       [7.1]])"
      ]
     },
     "execution_count": 55,
     "metadata": {},
     "output_type": "execute_result"
    }
   ],
   "source": [
    "train_input"
   ]
  },
  {
   "cell_type": "code",
   "execution_count": 62,
   "metadata": {},
   "outputs": [
    {
     "name": "stdout",
     "output_type": "stream",
     "text": [
      "Sepal Length\n",
      "테스트데이터 0.7105263157894737\n",
      "훈련데이터 0.7678571428571429\n"
     ]
    }
   ],
   "source": [
    "from sklearn.neighbors import KNeighborsClassifier\n",
    "\n",
    "kn = KNeighborsClassifier()\n",
    "\n",
    "kn.fit(train_input, train_target)\n",
    "\n",
    "print('Sepal Length')\n",
    "\n",
    "print('테스트데이터',kn.score(test_input, test_target))\n",
    "\n",
    "print('훈련데이터',kn.score(train_input, train_target))\n"
   ]
  },
  {
   "cell_type": "code",
   "execution_count": 70,
   "metadata": {},
   "outputs": [
    {
     "name": "stdout",
     "output_type": "stream",
     "text": [
      "Sepal Length\n",
      "테스트데이터 0.6578947368421053\n",
      "훈련데이터 0.7142857142857143\n",
      "\n",
      "Sepal Length\n",
      "테스트데이터 0.7368421052631579\n",
      "훈련데이터 0.6964285714285714\n",
      "\n",
      "Sepal Length\n",
      "테스트데이터 0.7368421052631579\n",
      "훈련데이터 0.7767857142857143\n",
      "\n",
      "Sepal Length\n",
      "테스트데이터 0.7105263157894737\n",
      "훈련데이터 0.7678571428571429\n",
      "\n",
      "Sepal Length\n",
      "테스트데이터 0.7368421052631579\n",
      "훈련데이터 0.7678571428571429\n",
      "\n"
     ]
    }
   ],
   "source": [
    "for i in range(1,6,1):\n",
    "    kn = KNeighborsClassifier(n_neighbors=i)\n",
    "\n",
    "    kn.fit(train_input, train_target)\n",
    "\n",
    "    print('Sepal Length')\n",
    "\n",
    "    print('테스트데이터',kn.score(test_input, test_target))\n",
    "\n",
    "    print('훈련데이터',kn.score(train_input, train_target))\n",
    "    \n",
    "    print()"
   ]
  },
  {
   "cell_type": "markdown",
   "metadata": {},
   "source": [
    "#### 다중회귀모델 (target이 범주형이라 할 필요가 없었음 ㅠㅠ)"
   ]
  },
  {
   "cell_type": "code",
   "execution_count": 114,
   "metadata": {},
   "outputs": [],
   "source": [
    "from sklearn.preprocessing import PolynomialFeatures\n",
    "from sklearn.linear_model import LinearRegression"
   ]
  },
  {
   "cell_type": "code",
   "execution_count": 74,
   "metadata": {},
   "outputs": [
    {
     "name": "stdout",
     "output_type": "stream",
     "text": [
      "(112, 2) (38, 2)\n"
     ]
    }
   ],
   "source": [
    "### train_input, test_input 데이터 변환하기\n",
    "# 변수명 : train_poly, test_poly 사용\n",
    "## 객체생성(모델)\n",
    "poly = PolynomialFeatures(include_bias=False)\n",
    "\n",
    "## 훈련시키기 : 새롭게 만들 스스로 특성 조합 찾기\n",
    "poly.fit(train_input) \n",
    "\n",
    "## 찾은 특성 조합으로 데이터 변환하기\n",
    "# 훈련데이터 변환하기\n",
    "train_poly = poly.transform(train_input)\n",
    "\n",
    "# 테스트데이터 변환하기\n",
    "test_poly = poly.transform(test_input)\n",
    "\n",
    "print(train_poly.shape, test_poly.shape)"
   ]
  },
  {
   "cell_type": "code",
   "execution_count": 81,
   "metadata": {},
   "outputs": [
    {
     "data": {
      "text/plain": [
       "array(['x0', 'x0^2'], dtype=object)"
      ]
     },
     "execution_count": 81,
     "metadata": {},
     "output_type": "execute_result"
    }
   ],
   "source": [
    "# 훈련모델 패턴\n",
    "poly.get_feature_names_out()"
   ]
  },
  {
   "cell_type": "code",
   "execution_count": 77,
   "metadata": {},
   "outputs": [
    {
     "name": "stdout",
     "output_type": "stream",
     "text": [
      "훈련 = 0.6046198785131539\n",
      "테스트 = 0.6983804879697589\n"
     ]
    }
   ],
   "source": [
    "lr = LinearRegression()\n",
    "lr.fit(train_poly, train_target)\n",
    "print(\"훈련 =\",lr.score(train_poly, train_target))\n",
    "print(\"테스트 =\",lr.score(test_poly, test_target))"
   ]
  },
  {
   "cell_type": "code",
   "execution_count": 87,
   "metadata": {},
   "outputs": [
    {
     "name": "stdout",
     "output_type": "stream",
     "text": [
      "(112, 1) (38, 1)\n",
      "훈련 = 0.5796935837812193\n",
      "테스트 = 0.6877769815024958\n",
      "(112, 2) (38, 2)\n",
      "훈련 = 0.6046198785131539\n",
      "테스트 = 0.6983804879697589\n",
      "(112, 3) (38, 3)\n",
      "훈련 = 0.6136097283385858\n",
      "테스트 = 0.7173815808574084\n",
      "(112, 4) (38, 4)\n",
      "훈련 = 0.6313994989719771\n",
      "테스트 = 0.7126796366437028\n",
      "(112, 5) (38, 5)\n",
      "훈련 = 0.6315208000778076\n",
      "테스트 = 0.7113704816840284\n"
     ]
    }
   ],
   "source": [
    "for i in range(1, 6, 1):\n",
    "    ## 객체생성(모델)\n",
    "    poly = PolynomialFeatures(degree = i, include_bias=False)\n",
    "\n",
    "    ## 훈련시키기 : 새롭게 만들 스스로 특성 조합 찾기\n",
    "    poly.fit(train_input) \n",
    "\n",
    "    ## 찾은 특성 조합으로 데이터 변환하기\n",
    "    # 훈련데이터 변환하기\n",
    "    train_poly = poly.transform(train_input)\n",
    "\n",
    "    # 테스트데이터 변환하기\n",
    "    test_poly = poly.transform(test_input)\n",
    "\n",
    "    print(train_poly.shape, test_poly.shape)\n",
    "\n",
    "    # 훈련모델 패턴\n",
    "    poly.get_feature_names_out()\n",
    "\n",
    "    ### 훈련데이터 학습 다시 하기\n",
    "    lr.fit(train_poly, train_target)\n",
    "\n",
    "    print('훈련 =',lr.score(train_poly, train_target))\n",
    "    print('테스트 =',lr.score(test_poly, test_target))"
   ]
  },
  {
   "cell_type": "markdown",
   "metadata": {},
   "source": [
    "#### 규제 (릿지, 라쏘) (target이 범주형이라 할 필요가 없었음 ㅠㅠ)"
   ]
  },
  {
   "cell_type": "code",
   "execution_count": 88,
   "metadata": {},
   "outputs": [],
   "source": [
    "from sklearn.preprocessing import StandardScaler"
   ]
  },
  {
   "cell_type": "code",
   "execution_count": 89,
   "metadata": {},
   "outputs": [
    {
     "name": "stdout",
     "output_type": "stream",
     "text": [
      "[5.83035714e+00 3.46580357e+01 2.10011696e+02 1.29663047e+03\n",
      " 8.15122860e+03] [8.15457725e-01 9.76990412e+00 8.95793162e+01 7.44404098e+02\n",
      " 5.90691925e+03]\n"
     ]
    }
   ],
   "source": [
    "### 클래스(모델) 생성하기\n",
    "ss = StandardScaler()\n",
    "\n",
    "### 스스로 표준점수를 만들어 냄\n",
    "ss.fit(train_poly, train_target)\n",
    "\n",
    "### 훈련데이터 표준점수로 변환하기\n",
    "train_scaled = ss.transform(train_poly)\n",
    "test_scaled = ss.transform(test_poly)\n",
    "\n",
    "### 각 데이터는 55개씩\n",
    "# 평균 및 표준편차 확인\n",
    "print(ss.mean_, ss.scale_)"
   ]
  },
  {
   "cell_type": "code",
   "execution_count": 90,
   "metadata": {},
   "outputs": [
    {
     "name": "stdout",
     "output_type": "stream",
     "text": [
      "훈련 = 0.6088196921622311\n",
      "테스트 = 0.7171441293040262\n"
     ]
    },
    {
     "name": "stderr",
     "output_type": "stream",
     "text": [
      "C:\\Users\\admin\\AppData\\Roaming\\Python\\Python39\\site-packages\\sklearn\\linear_model\\_coordinate_descent.py:648: ConvergenceWarning: Objective did not converge. You might want to increase the number of iterations, check the scale of the features or consider increasing regularisation. Duality gap: 2.158e+00, tolerance: 7.292e-03\n",
      "  model = cd_fast.enet_coordinate_descent(\n"
     ]
    }
   ],
   "source": [
    "from sklearn.linear_model import Lasso\n",
    "\n",
    "### 객체(모델) 생성\n",
    "lasso = Lasso()\n",
    "\n",
    "### 훈련모델 생성\n",
    "lasso.fit(train_poly, train_target)\n",
    "\n",
    "### 훈련데이터 결정계수\n",
    "print('훈련 =',lasso.score(train_poly, train_target))\n",
    "\n",
    "## 테스트데이터 결정계수\n",
    "print('테스트 =',lasso.score(test_poly, test_target))"
   ]
  },
  {
   "cell_type": "code",
   "execution_count": 91,
   "metadata": {},
   "outputs": [
    {
     "name": "stdout",
     "output_type": "stream",
     "text": [
      "훈련 = 0.6112735476274611\n",
      "테스트 = 0.712417522305462\n"
     ]
    }
   ],
   "source": [
    "from sklearn.linear_model import Ridge\n",
    "\n",
    "### 객체(모델) 생성\n",
    "ridge = Ridge()\n",
    "\n",
    "### 훈련모델 생성\n",
    "ridge.fit(train_poly, train_target)\n",
    "\n",
    "### 훈련데이터 결정계수\n",
    "print('훈련 =',ridge.score(train_poly, train_target))\n",
    "\n",
    "## 테스트데이터 결정계수\n",
    "print('테스트 =',ridge.score(test_poly, test_target))"
   ]
  },
  {
   "cell_type": "code",
   "execution_count": 92,
   "metadata": {},
   "outputs": [],
   "source": [
    "### alpha 강도 조절값 찾아보기\n",
    "import matplotlib.pyplot as plt"
   ]
  },
  {
   "cell_type": "code",
   "execution_count": 112,
   "metadata": {},
   "outputs": [
    {
     "data": {
      "image/png": "[encoded data removed]",
      "text/plain": [
       "<Figure size 432x288 with 1 Axes>"
      ]
     },
     "metadata": {
      "needs_background": "light"
     },
     "output_type": "display_data"
    }
   ],
   "source": [
    "# 훈련시 발생하는 결정계수를 저장할 리스트\n",
    "train_score = []\n",
    "# 테스트시 발생하는 결정계수를 저장할 리스트\n",
    "test_score = []\n",
    "\n",
    "# 임의 alpha값 설정(x축으로 설정) (범위설정)\n",
    "alpha_list = [0.00000001, 0.0000001, 0.000001, 0.00001, 0.0001, 0.001, 0.01, 0.1, 1, 10, 100, 1000]\n",
    "\n",
    "### 훈련 및 테스트 결정계수 데이터 조회하기\n",
    "for alpha in alpha_list:\n",
    "    # 릿지모델\n",
    "    ridge = Ridge(alpha = alpha)\n",
    "    ridge.fit(train_scaled, train_target)\n",
    "    train_score.append(ridge.score(train_scaled, train_target))\n",
    "    test_score.append(ridge.score(test_scaled, test_target))\n",
    "    \n",
    "### 그래프로 시각화\n",
    "# log10 : 지수로 표현\n",
    "plt.plot(np.log10(alpha_list), train_score)\n",
    "plt.plot(np.log10(alpha_list), test_score)\n",
    "plt.show()"
   ]
  },
  {
   "cell_type": "code",
   "execution_count": 113,
   "metadata": {},
   "outputs": [
    {
     "name": "stdout",
     "output_type": "stream",
     "text": [
      "훈련데이터 0.6315187502749238\n",
      "테스트데이터 0.7115758355364507\n",
      "훈련데이터-테스트데이터 0.08005708526152688\n",
      "\n",
      "훈련데이터 0.6315108505195949\n",
      "테스트데이터 0.711890950157132\n",
      "훈련데이터-테스트데이터 0.08038009963753712\n",
      "\n",
      "훈련데이터 0.6314912286834913\n",
      "테스트데이터 0.7129099825032557\n",
      "훈련데이터-테스트데이터 0.08141875381976438\n",
      "\n",
      "훈련데이터 0.6304387477520902\n",
      "테스트데이터 0.7187628799142933\n",
      "훈련데이터-테스트데이터 0.08832413216220314\n",
      "\n",
      "훈련데이터 0.620161472272116\n",
      "테스트데이터 0.7204297086585709\n",
      "훈련데이터-테스트데이터 0.10026823638645488\n",
      "\n",
      "훈련데이터 0.6125747305497402\n",
      "테스트데이터 0.7151670295571749\n",
      "훈련데이터-테스트데이터 0.10259229900743472\n",
      "\n",
      "훈련데이터 0.6111853420176518\n",
      "테스트데이터 0.7126607081598929\n",
      "훈련데이터-테스트데이터 0.10147536614224106\n",
      "\n",
      "훈련데이터 0.609641371657453\n",
      "테스트데이터 0.7084771290502072\n",
      "훈련데이터-테스트데이터 0.09883575739275419\n",
      "\n",
      "훈련데이터 0.6074214381961465\n",
      "테스트데이터 0.708373043378262\n",
      "훈련데이터-테스트데이터 0.10095160518211554\n",
      "\n",
      "훈련데이터 0.5784776640633518\n",
      "테스트데이터 0.6825721116147745\n",
      "훈련데이터-테스트데이터 0.10409444755142272\n",
      "\n",
      "훈련데이터 0.5261829963074156\n",
      "테스트데이터 0.6120910069923241\n",
      "훈련데이터-테스트데이터 0.0859080106849085\n",
      "\n",
      "훈련데이터 0.3112045315509745\n",
      "테스트데이터 0.3403239953511299\n",
      "훈련데이터-테스트데이터 0.0291194638001554\n",
      "\n"
     ]
    }
   ],
   "source": [
    "# 릿지모델\n",
    "\n",
    "for i in alpha_list:\n",
    "    ridge = Ridge(alpha = i)\n",
    "    ridge.fit(train_scaled, train_target)\n",
    "    print('훈련데이터',ridge.score(train_scaled, train_target))\n",
    "    print('테스트데이터',ridge.score(test_scaled, test_target))\n",
    "    print('훈련데이터-테스트데이터',ridge.score(test_scaled, test_target)-ridge.score(train_scaled, train_target))\n",
    "    print()"
   ]
  },
  {
   "cell_type": "markdown",
   "metadata": {},
   "source": [
    "#### 이진분류"
   ]
  },
  {
   "cell_type": "markdown",
   "metadata": {},
   "source": [
    "##### 데이터준비"
   ]
  },
  {
   "cell_type": "code",
   "execution_count": 151,
   "metadata": {},
   "outputs": [
    {
     "name": "stdout",
     "output_type": "stream",
     "text": [
      "dict_keys(['data', 'target', 'frame', 'target_names', 'DESCR', 'feature_names', 'filename', 'data_module'])\n",
      "{'data': array([[5.1, 3.5, 1.4, 0.2],\n",
      "       [4.9, 3. , 1.4, 0.2],\n",
      "       [4.7, 3.2, 1.3, 0.2],\n",
      "       [4.6, 3.1, 1.5, 0.2],\n",
      "       [5. , 3.6, 1.4, 0.2],\n",
      "       [5.4, 3.9, 1.7, 0.4],\n",
      "       [4.6, 3.4, 1.4, 0.3],\n",
      "       [5. , 3.4, 1.5, 0.2],\n",
      "       [4.4, 2.9, 1.4, 0.2],\n",
      "       [4.9, 3.1, 1.5, 0.1],\n",
      "       [5.4, 3.7, 1.5, 0.2],\n",
      "       [4.8, 3.4, 1.6, 0.2],\n",
      "       [4.8, 3. , 1.4, 0.1],\n",
      "       [4.3, 3. , 1.1, 0.1],\n",
      "       [5.8, 4. , 1.2, 0.2],\n",
      "       [5.7, 4.4, 1.5, 0.4],\n",
      "       [5.4, 3.9, 1.3, 0.4],\n",
      "       [5.1, 3.5, 1.4, 0.3],\n",
      "       [5.7, 3.8, 1.7, 0.3],\n",
      "       [5.1, 3.8, 1.5, 0.3],\n",
      "       [5.4, 3.4, 1.7, 0.2],\n",
      "       [5.1, 3.7, 1.5, 0.4],\n",
      "       [4.6, 3.6, 1. , 0.2],\n",
      "       [5.1, 3.3, 1.7, 0.5],\n",
      "       [4.8, 3.4, 1.9, 0.2],\n",
      "       [5. , 3. , 1.6, 0.2],\n",
      "       [5. , 3.4, 1.6, 0.4],\n",
      "       [5.2, 3.5, 1.5, 0.2],\n",
      "       [5.2, 3.4, 1.4, 0.2],\n",
      "       [4.7, 3.2, 1.6, 0.2],\n",
      "       [4.8, 3.1, 1.6, 0.2],\n",
      "       [5.4, 3.4, 1.5, 0.4],\n",
      "       [5.2, 4.1, 1.5, 0.1],\n",
      "       [5.5, 4.2, 1.4, 0.2],\n",
      "       [4.9, 3.1, 1.5, 0.2],\n",
      "       [5. , 3.2, 1.2, 0.2],\n",
      "       [5.5, 3.5, 1.3, 0.2],\n",
      "       [4.9, 3.6, 1.4, 0.1],\n",
      "       [4.4, 3. , 1.3, 0.2],\n",
      "       [5.1, 3.4, 1.5, 0.2],\n",
      "       [5. , 3.5, 1.3, 0.3],\n",
      "       [4.5, 2.3, 1.3, 0.3],\n",
      "       [4.4, 3.2, 1.3, 0.2],\n",
      "       [5. , 3.5, 1.6, 0.6],\n",
      "       [5.1, 3.8, 1.9, 0.4],\n",
      "       [4.8, 3. , 1.4, 0.3],\n",
      "       [5.1, 3.8, 1.6, 0.2],\n",
      "       [4.6, 3.2, 1.4, 0.2],\n",
      "       [5.3, 3.7, 1.5, 0.2],\n",
      "       [5. , 3.3, 1.4, 0.2],\n",
      "       [7. , 3.2, 4.7, 1.4],\n",
      "       [6.4, 3.2, 4.5, 1.5],\n",
      "       [6.9, 3.1, 4.9, 1.5],\n",
      "       [5.5, 2.3, 4. , 1.3],\n",
      "       [6.5, 2.8, 4.6, 1.5],\n",
      "       [5.7, 2.8, 4.5, 1.3],\n",
      "       [6.3, 3.3, 4.7, 1.6],\n",
      "       [4.9, 2.4, 3.3, 1. ],\n",
      "       [6.6, 2.9, 4.6, 1.3],\n",
      "       [5.2, 2.7, 3.9, 1.4],\n",
      "       [5. , 2. , 3.5, 1. ],\n",
      "       [5.9, 3. , 4.2, 1.5],\n",
      "       [6. , 2.2, 4. , 1. ],\n",
      "       [6.1, 2.9, 4.7, 1.4],\n",
      "       [5.6, 2.9, 3.6, 1.3],\n",
      "       [6.7, 3.1, 4.4, 1.4],\n",
      "       [5.6, 3. , 4.5, 1.5],\n",
      "       [5.8, 2.7, 4.1, 1. ],\n",
      "       [6.2, 2.2, 4.5, 1.5],\n",
      "       [5.6, 2.5, 3.9, 1.1],\n",
      "       [5.9, 3.2, 4.8, 1.8],\n",
      "       [6.1, 2.8, 4. , 1.3],\n",
      "       [6.3, 2.5, 4.9, 1.5],\n",
      "       [6.1, 2.8, 4.7, 1.2],\n",
      "       [6.4, 2.9, 4.3, 1.3],\n",
      "       [6.6, 3. , 4.4, 1.4],\n",
      "       [6.8, 2.8, 4.8, 1.4],\n",
      "       [6.7, 3. , 5. , 1.7],\n",
      "       [6. , 2.9, 4.5, 1.5],\n",
      "       [5.7, 2.6, 3.5, 1. ],\n",
      "       [5.5, 2.4, 3.8, 1.1],\n",
      "       [5.5, 2.4, 3.7, 1. ],\n",
      "       [5.8, 2.7, 3.9, 1.2],\n",
      "       [6. , 2.7, 5.1, 1.6],\n",
      "       [5.4, 3. , 4.5, 1.5],\n",
      "       [6. , 3.4, 4.5, 1.6],\n",
      "       [6.7, 3.1, 4.7, 1.5],\n",
      "       [6.3, 2.3, 4.4, 1.3],\n",
      "       [5.6, 3. , 4.1, 1.3],\n",
      "       [5.5, 2.5, 4. , 1.3],\n",
      "       [5.5, 2.6, 4.4, 1.2],\n",
      "       [6.1, 3. , 4.6, 1.4],\n",
      "       [5.8, 2.6, 4. , 1.2],\n",
      "       [5. , 2.3, 3.3, 1. ],\n",
      "       [5.6, 2.7, 4.2, 1.3],\n",
      "       [5.7, 3. , 4.2, 1.2],\n",
      "       [5.7, 2.9, 4.2, 1.3],\n",
      "       [6.2, 2.9, 4.3, 1.3],\n",
      "       [5.1, 2.5, 3. , 1.1],\n",
      "       [5.7, 2.8, 4.1, 1.3],\n",
      "       [6.3, 3.3, 6. , 2.5],\n",
      "       [5.8, 2.7, 5.1, 1.9],\n",
      "       [7.1, 3. , 5.9, 2.1],\n",
      "       [6.3, 2.9, 5.6, 1.8],\n",
      "       [6.5, 3. , 5.8, 2.2],\n",
      "       [7.6, 3. , 6.6, 2.1],\n",
      "       [4.9, 2.5, 4.5, 1.7],\n",
      "       [7.3, 2.9, 6.3, 1.8],\n",
      "       [6.7, 2.5, 5.8, 1.8],\n",
      "       [7.2, 3.6, 6.1, 2.5],\n",
      "       [6.5, 3.2, 5.1, 2. ],\n",
      "       [6.4, 2.7, 5.3, 1.9],\n",
      "       [6.8, 3. , 5.5, 2.1],\n",
      "       [5.7, 2.5, 5. , 2. ],\n",
      "       [5.8, 2.8, 5.1, 2.4],\n",
      "       [6.4, 3.2, 5.3, 2.3],\n",
      "       [6.5, 3. , 5.5, 1.8],\n",
      "       [7.7, 3.8, 6.7, 2.2],\n",
      "       [7.7, 2.6, 6.9, 2.3],\n",
      "       [6. , 2.2, 5. , 1.5],\n",
      "       [6.9, 3.2, 5.7, 2.3],\n",
      "       [5.6, 2.8, 4.9, 2. ],\n",
      "       [7.7, 2.8, 6.7, 2. ],\n",
      "       [6.3, 2.7, 4.9, 1.8],\n",
      "       [6.7, 3.3, 5.7, 2.1],\n",
      "       [7.2, 3.2, 6. , 1.8],\n",
      "       [6.2, 2.8, 4.8, 1.8],\n",
      "       [6.1, 3. , 4.9, 1.8],\n",
      "       [6.4, 2.8, 5.6, 2.1],\n",
      "       [7.2, 3. , 5.8, 1.6],\n",
      "       [7.4, 2.8, 6.1, 1.9],\n",
      "       [7.9, 3.8, 6.4, 2. ],\n",
      "       [6.4, 2.8, 5.6, 2.2],\n",
      "       [6.3, 2.8, 5.1, 1.5],\n",
      "       [6.1, 2.6, 5.6, 1.4],\n",
      "       [7.7, 3. , 6.1, 2.3],\n",
      "       [6.3, 3.4, 5.6, 2.4],\n",
      "       [6.4, 3.1, 5.5, 1.8],\n",
      "       [6. , 3. , 4.8, 1.8],\n",
      "       [6.9, 3.1, 5.4, 2.1],\n",
      "       [6.7, 3.1, 5.6, 2.4],\n",
      "       [6.9, 3.1, 5.1, 2.3],\n",
      "       [5.8, 2.7, 5.1, 1.9],\n",
      "       [6.8, 3.2, 5.9, 2.3],\n",
      "       [6.7, 3.3, 5.7, 2.5],\n",
      "       [6.7, 3. , 5.2, 2.3],\n",
      "       [6.3, 2.5, 5. , 1.9],\n",
      "       [6.5, 3. , 5.2, 2. ],\n",
      "       [6.2, 3.4, 5.4, 2.3],\n",
      "       [5.9, 3. , 5.1, 1.8]]), 'target': array([0, 0, 0, 0, 0, 0, 0, 0, 0, 0, 0, 0, 0, 0, 0, 0, 0, 0, 0, 0, 0, 0,\n",
      "       0, 0, 0, 0, 0, 0, 0, 0, 0, 0, 0, 0, 0, 0, 0, 0, 0, 0, 0, 0, 0, 0,\n",
      "       0, 0, 0, 0, 0, 0, 1, 1, 1, 1, 1, 1, 1, 1, 1, 1, 1, 1, 1, 1, 1, 1,\n",
      "       1, 1, 1, 1, 1, 1, 1, 1, 1, 1, 1, 1, 1, 1, 1, 1, 1, 1, 1, 1, 1, 1,\n",
      "       1, 1, 1, 1, 1, 1, 1, 1, 1, 1, 1, 1, 2, 2, 2, 2, 2, 2, 2, 2, 2, 2,\n",
      "       2, 2, 2, 2, 2, 2, 2, 2, 2, 2, 2, 2, 2, 2, 2, 2, 2, 2, 2, 2, 2, 2,\n",
      "       2, 2, 2, 2, 2, 2, 2, 2, 2, 2, 2, 2, 2, 2, 2, 2, 2, 2]), 'frame': None, 'target_names': array(['setosa', 'versicolor', 'virginica'], dtype='<U10'), 'DESCR': '.. _iris_dataset:\\n\\nIris plants dataset\\n--------------------\\n\\n**Data Set Characteristics:**\\n\\n    :Number of Instances: 150 (50 in each of three classes)\\n    :Number of Attributes: 4 numeric, predictive attributes and the class\\n    :Attribute Information:\\n        - sepal length in cm\\n        - sepal width in cm\\n        - petal length in cm\\n        - petal width in cm\\n        - class:\\n                - Iris-Setosa\\n                - Iris-Versicolour\\n                - Iris-Virginica\\n                \\n    :Summary Statistics:\\n\\n    ============== ==== ==== ======= ===== ====================\\n                    Min  Max   Mean    SD   Class Correlation\\n    ============== ==== ==== ======= ===== ====================\\n    sepal length:   4.3  7.9   5.84   0.83    0.7826\\n    sepal width:    2.0  4.4   3.05   0.43   -0.4194\\n    petal length:   1.0  6.9   3.76   1.76    0.9490  (high!)\\n    petal width:    0.1  2.5   1.20   0.76    0.9565  (high!)\\n    ============== ==== ==== ======= ===== ====================\\n\\n    :Missing Attribute Values: None\\n    :Class Distribution: 33.3% for each of 3 classes.\\n    :Creator: R.A. Fisher\\n    :Donor: Michael Marshall (MARSHALL%PLU@io.arc.nasa.gov)\\n    :Date: July, 1988\\n\\nThe famous Iris database, first used by Sir R.A. Fisher. The dataset is taken\\nfrom Fisher\\'s paper. Note that it\\'s the same as in R, but not as in the UCI\\nMachine Learning Repository, which has two wrong data points.\\n\\nThis is perhaps the best known database to be found in the\\npattern recognition literature.  Fisher\\'s paper is a classic in the field and\\nis referenced frequently to this day.  (See Duda & Hart, for example.)  The\\ndata set contains 3 classes of 50 instances each, where each class refers to a\\ntype of iris plant.  One class is linearly separable from the other 2; the\\nlatter are NOT linearly separable from each other.\\n\\n.. topic:: References\\n\\n   - Fisher, R.A. \"The use of multiple measurements in taxonomic problems\"\\n     Annual Eugenics, 7, Part II, 179-188 (1936); also in \"Contributions to\\n     Mathematical Statistics\" (John Wiley, NY, 1950).\\n   - Duda, R.O., & Hart, P.E. (1973) Pattern Classification and Scene Analysis.\\n     (Q327.D83) John Wiley & Sons.  ISBN 0-471-22361-1.  See page 218.\\n   - Dasarathy, B.V. (1980) \"Nosing Around the Neighborhood: A New System\\n     Structure and Classification Rule for Recognition in Partially Exposed\\n     Environments\".  IEEE Transactions on Pattern Analysis and Machine\\n     Intelligence, Vol. PAMI-2, No. 1, 67-71.\\n   - Gates, G.W. (1972) \"The Reduced Nearest Neighbor Rule\".  IEEE Transactions\\n     on Information Theory, May 1972, 431-433.\\n   - See also: 1988 MLC Proceedings, 54-64.  Cheeseman et al\"s AUTOCLASS II\\n     conceptual clustering system finds 3 classes in the data.\\n   - Many, many more ...', 'feature_names': ['sepal length (cm)', 'sepal width (cm)', 'petal length (cm)', 'petal width (cm)'], 'filename': 'iris.csv', 'data_module': 'sklearn.datasets.data'}\n"
     ]
    }
   ],
   "source": [
    "iris = load_iris()\n",
    "print(iris.keys())\n",
    "print(iris)"
   ]
  },
  {
   "cell_type": "code",
   "execution_count": 156,
   "metadata": {},
   "outputs": [
    {
     "data": {
      "text/plain": [
       "array([0, 0, 0, 0, 0, 0, 0, 0, 0, 0, 0, 0, 0, 0, 0, 0, 0, 0, 0, 0, 0, 0,\n",
       "       0, 0, 0, 0, 0, 0, 0, 0, 0, 0, 0, 0, 0, 0, 0, 0, 0, 0, 0, 0, 0, 0,\n",
       "       0, 0, 0, 0, 0, 0, 1, 1, 1, 1, 1, 1, 1, 1, 1, 1, 1, 1, 1, 1, 1, 1,\n",
       "       1, 1, 1, 1, 1, 1, 1, 1, 1, 1, 1, 1, 1, 1, 1, 1, 1, 1, 1, 1, 1, 1,\n",
       "       1, 1, 1, 1, 1, 1, 1, 1, 1, 1, 1, 1, 2, 2, 2, 2, 2, 2, 2, 2, 2, 2,\n",
       "       2, 2, 2, 2, 2, 2, 2, 2, 2, 2, 2, 2, 2, 2, 2, 2, 2, 2, 2, 2, 2, 2,\n",
       "       2, 2, 2, 2, 2, 2, 2, 2, 2, 2, 2, 2, 2, 2, 2, 2, 2, 2])"
      ]
     },
     "execution_count": 156,
     "metadata": {},
     "output_type": "execute_result"
    }
   ],
   "source": [
    "iris_input = iris['data']\n",
    "iris_input\n",
    "iris_target = iris['target']\n",
    "iris_target"
   ]
  },
  {
   "cell_type": "code",
   "execution_count": 158,
   "metadata": {},
   "outputs": [
    {
     "name": "stdout",
     "output_type": "stream",
     "text": [
      "(112, 4)\n",
      "(38, 4)\n",
      "(112,)\n",
      "(38,)\n"
     ]
    }
   ],
   "source": [
    "train_input, test_input, train_target, test_target = train_test_split(iris_input,\n",
    "                                                                      iris_target,\n",
    "                                                                      random_state=42)\n",
    "# 차원 확인하기\n",
    "print(train_input.shape)\n",
    "print(test_input.shape)\n",
    "print(train_target.shape)\n",
    "print(test_target.shape)"
   ]
  },
  {
   "cell_type": "code",
   "execution_count": null,
   "metadata": {},
   "outputs": [],
   "source": []
  },
  {
   "cell_type": "markdown",
   "metadata": {},
   "source": [
    "##### 데이터 정규화"
   ]
  },
  {
   "cell_type": "code",
   "execution_count": 160,
   "metadata": {},
   "outputs": [
    {
     "name": "stdout",
     "output_type": "stream",
     "text": [
      "[5.83035714 3.04017857 3.80714286 1.21428571] [0.81545772 0.43516414 1.72754545 0.74460646]\n"
     ]
    }
   ],
   "source": [
    "# 사용패키지\n",
    "from sklearn.preprocessing import StandardScaler\n",
    "# from sklearn.linear_model import StandardScaler\n",
    "\n",
    "# 클래스(모델) 생성하기\n",
    "ss = StandardScaler()\n",
    "\n",
    "# 스스로 표준점수를 만들어 냄\n",
    "ss.fit(train_input, train_target)\n",
    "\n",
    "# 훈련데이터 표준점수로 변환하기\n",
    "train_scaled = ss.transform(train_input)\n",
    "# 훈련데이터 표준점수로 변환하기\n",
    "test_scaled = ss.transform(test_input)\n",
    "\n",
    "# 평균 및 표준편차 확인\n",
    "print(ss.mean_, ss.scale_)"
   ]
  },
  {
   "cell_type": "code",
   "execution_count": 167,
   "metadata": {},
   "outputs": [
    {
     "name": "stdout",
     "output_type": "stream",
     "text": [
      "0.9642857142857143\n",
      "1.0\n"
     ]
    }
   ],
   "source": [
    "from sklearn.linear_model import LogisticRegression\n",
    "\n",
    "lg = LogisticRegression()\n",
    "\n",
    "lg.fit(train_scaled, train_target)\n",
    "print(lg.score(train_scaled, train_target))\n",
    "print(lg.score(test_scaled, test_target))"
   ]
  },
  {
   "cell_type": "code",
   "execution_count": 173,
   "metadata": {},
   "outputs": [
    {
     "name": "stdout",
     "output_type": "stream",
     "text": [
      "[1 0 2 1 1]\n",
      "[1 0 2 1 1]\n"
     ]
    },
    {
     "data": {
      "text/plain": [
       "array([[1, 1],\n",
       "       [0, 0],\n",
       "       [2, 2],\n",
       "       [1, 1],\n",
       "       [1, 1]])"
      ]
     },
     "execution_count": 173,
     "metadata": {},
     "output_type": "execute_result"
    }
   ],
   "source": [
    "# 상위 5개 예측하기\n",
    "print(lg.predict(test_scaled[:5]))\n",
    "print(test_target[:5])\n",
    "\n",
    "# [[실제값,예측값],[실제값,예측값],[],,]\n",
    "import numpy as np\n",
    "\n",
    "np.column_stack((test_target[:5], lg.predict(test_scaled[:5])))"
   ]
  },
  {
   "cell_type": "code",
   "execution_count": 174,
   "metadata": {},
   "outputs": [
    {
     "data": {
      "text/plain": [
       "array([[0.0117, 0.8705, 0.1178],\n",
       "       [0.9647, 0.0353, 0.    ],\n",
       "       [0.    , 0.0032, 0.9968],\n",
       "       [0.0134, 0.7523, 0.2343],\n",
       "       [0.002 , 0.7446, 0.2534]])"
      ]
     },
     "execution_count": 174,
     "metadata": {},
     "output_type": "execute_result"
    }
   ],
   "source": [
    "# 사이킷런 분류 모델 공통으로 사용\n",
    "proba = lg.predict_proba(test_scaled[:5])\n",
    "np.round(proba, decimals=4)"
   ]
  },
  {
   "cell_type": "code",
   "execution_count": 175,
   "metadata": {},
   "outputs": [
    {
     "name": "stdout",
     "output_type": "stream",
     "text": [
      "[0 1 2]\n"
     ]
    }
   ],
   "source": [
    "# 범주의 항목\n",
    "print(lg.classes_)"
   ]
  },
  {
   "cell_type": "markdown",
   "metadata": {},
   "source": [
    "##### 이진분류"
   ]
  },
  {
   "cell_type": "code",
   "execution_count": 176,
   "metadata": {},
   "outputs": [
    {
     "name": "stdout",
     "output_type": "stream",
     "text": [
      "[0 0 1 1 0 0 1 1 1 1 0 1 0 0 0 1 0 0 0 1 0 1 0 1 0 1 1 1 0 1 0 0 1 1 0 0 0\n",
      " 1 1 1 1 0 0 0 0 0 1 0 0 1 1 1 0 1 1 1 1 0 1 1 0 1 0 1 0 0 1 1 1 1 0 1 0 1]\n",
      "(74,)\n",
      "[[-1.01827123  1.2864604  -1.39338902 -1.3621769 ]\n",
      " [-0.7730102   2.43545215 -1.33550342 -1.49647603]\n",
      " [ 0.20803391  0.8268637   0.4010645   0.51801093]\n",
      " [ 1.06644751  0.13746866  0.51683569  0.3837118 ]\n",
      " [-0.52774918  1.97585545 -1.45127462 -1.09357864]\n",
      " [-0.52774918  1.51625875 -1.33550342 -1.3621769 ]\n",
      " [-0.40511866 -1.47111979 -0.06202028 -0.28778385]\n",
      " [ 0.94381699 -0.09232969  0.3431789   0.24941267]\n",
      " [-0.15985763 -0.32212804  0.2274077   0.11511354]\n",
      " [-0.28248815 -0.09232969  0.4010645   0.3837118 ]\n",
      " [-0.89564072  1.05666205 -1.39338902 -1.3621769 ]\n",
      " [-0.03722712 -0.78172474  0.16952211 -0.28778385]\n",
      " [-0.7730102   0.8268637  -1.39338902 -1.3621769 ]\n",
      " [-1.01827123  1.05666205 -1.45127462 -1.22787777]\n",
      " [-0.89564072  1.7460571  -1.10396103 -1.09357864]\n",
      " [-1.01827123 -2.39031318 -0.17779148 -0.28778385]\n",
      " [-1.26353226  0.8268637  -1.10396103 -1.3621769 ]\n",
      " [-1.01827123 -0.09232969 -1.27761783 -1.3621769 ]\n",
      " [-0.89564072  0.59706535 -1.21973223 -0.95927951]\n",
      " [-0.28248815 -0.78172474  0.2274077   0.11511354]\n",
      " [-0.89564072  0.8268637  -1.33550342 -1.3621769 ]\n",
      " [-0.15985763 -0.09232969  0.2274077  -0.01918559]\n",
      " [-1.50879329  0.367267   -1.39338902 -1.3621769 ]\n",
      " [ 0.45329494 -0.32212804  0.2852933   0.11511354]\n",
      " [-0.40511866  2.66525049 -1.39338902 -1.3621769 ]\n",
      " [ 0.20803391 -1.93071649  0.11163651 -0.28778385]\n",
      " [-0.52774918 -0.09232969  0.4010645   0.3837118 ]\n",
      " [-0.40511866 -1.70091814  0.11163651  0.11511354]\n",
      " [-0.52774918  1.97585545 -1.21973223 -1.09357864]\n",
      " [-1.01827123 -1.70091814 -0.29356267 -0.28778385]\n",
      " [-1.01827123  0.59706535 -1.39338902 -1.3621769 ]\n",
      " [-1.01827123  0.367267   -1.50916022 -1.3621769 ]\n",
      " [-0.40511866 -1.47111979 -0.00413469 -0.15348472]\n",
      " [ 1.06644751 -0.09232969  0.69049248  0.65231006]\n",
      " [-1.14090175  0.13746866 -1.33550342 -1.3621769 ]\n",
      " [-1.01827123  0.8268637  -1.33550342 -1.3621769 ]\n",
      " [-1.01827123  1.05666205 -1.27761783 -0.82498038]\n",
      " [ 0.08540339  0.367267    0.57472129  0.7866092 ]\n",
      " [-0.89564072 -1.24132144 -0.46721946 -0.15348472]\n",
      " [ 0.20803391 -0.78172474  0.74837808  0.51801093]\n",
      " [-0.40511866 -1.24132144  0.11163651  0.11511354]\n",
      " [-1.75405432 -0.32212804 -1.39338902 -1.3621769 ]\n",
      " [-1.87668483 -0.09232969 -1.56704581 -1.49647603]\n",
      " [-1.50879329  0.13746866 -1.33550342 -1.3621769 ]\n",
      " [-0.89564072  1.05666205 -1.39338902 -1.22787777]\n",
      " [-1.75405432 -0.09232969 -1.45127462 -1.3621769 ]\n",
      " [ 0.57592545 -1.24132144  0.63260689  0.3837118 ]\n",
      " [-1.50879329  0.8268637  -1.39338902 -1.22787777]\n",
      " [-1.38616278  0.367267   -1.45127462 -1.3621769 ]\n",
      " [ 0.33066442 -0.32212804  0.51683569  0.24941267]\n",
      " [ 0.82118648 -0.55192639  0.45895009  0.3837118 ]\n",
      " [ 1.43433905  0.367267    0.51683569  0.24941267]\n",
      " [-0.89564072  1.7460571  -1.27761783 -1.3621769 ]\n",
      " [ 0.08540339 -0.09232969  0.2274077   0.3837118 ]\n",
      " [-0.15985763 -1.01152309 -0.17779148 -0.28778385]\n",
      " [-0.7730102  -0.78172474  0.05375091  0.24941267]\n",
      " [ 0.33066442 -0.09232969  0.45895009  0.24941267]\n",
      " [-1.6314238  -1.70091814 -1.45127462 -1.22787777]\n",
      " [ 0.94381699 -0.32212804  0.45895009  0.11511354]\n",
      " [-0.40511866 -1.01152309  0.3431789  -0.01918559]\n",
      " [-0.65037969  1.51625875 -1.33550342 -1.3621769 ]\n",
      " [-0.28248815 -0.09232969  0.16952211  0.11511354]\n",
      " [-0.89564072  1.51625875 -1.33550342 -1.09357864]\n",
      " [-1.14090175 -1.47111979 -0.29356267 -0.28778385]\n",
      " [-1.14090175  1.2864604  -1.39338902 -1.49647603]\n",
      " [-1.14090175 -0.09232969 -1.39338902 -1.3621769 ]\n",
      " [ 1.31170853  0.13746866  0.63260689  0.3837118 ]\n",
      " [-0.15985763 -0.55192639  0.16952211  0.11511354]\n",
      " [ 0.57592545 -1.70091814  0.3431789   0.11511354]\n",
      " [ 0.69855596 -0.32212804  0.2852933   0.11511354]\n",
      " [-0.52774918  0.8268637  -1.21973223 -1.3621769 ]\n",
      " [ 0.33066442 -0.55192639  0.11163651  0.11511354]\n",
      " [-0.03722712  2.2056538  -1.50916022 -1.3621769 ]\n",
      " [-0.03722712 -1.01152309  0.11163651 -0.01918559]]\n",
      "(74, 4)\n"
     ]
    }
   ],
   "source": [
    "target_bream_smelt = train_target[(train_target == 0) | (train_target == 1)]\n",
    "print(target_bream_smelt)\n",
    "print(target_bream_smelt.shape)\n",
    "\n",
    "train_bream_smelt = train_scaled[(train_target == 0) | (train_target == 1)]\n",
    "print(train_bream_smelt)\n",
    "print(train_bream_smelt.shape)"
   ]
  },
  {
   "cell_type": "code",
   "execution_count": 177,
   "metadata": {},
   "outputs": [
    {
     "data": {
      "text/plain": [
       "1.0"
      ]
     },
     "execution_count": 177,
     "metadata": {},
     "output_type": "execute_result"
    }
   ],
   "source": [
    "### 이진분류 하기\n",
    "### 사용할 패키지 불러들이기\n",
    "from sklearn.linear_model import LogisticRegression\n",
    "\n",
    "### 클래스(모델) 만들기\n",
    "lr = LogisticRegression()\n",
    "\n",
    "### 훈련하기\n",
    "lr.fit(train_bream_smelt, target_bream_smelt)\n",
    "\n",
    "### 테스트하기\n",
    "lr.score(train_bream_smelt, target_bream_smelt)"
   ]
  },
  {
   "cell_type": "code",
   "execution_count": 178,
   "metadata": {},
   "outputs": [
    {
     "data": {
      "text/plain": [
       "array([0, 0, 1, 1, 0])"
      ]
     },
     "execution_count": 178,
     "metadata": {},
     "output_type": "execute_result"
    }
   ],
   "source": [
    "### 예측 상위 5개\n",
    "lr.predict(train_bream_smelt[:5])"
   ]
  },
  {
   "cell_type": "code",
   "execution_count": 179,
   "metadata": {},
   "outputs": [
    {
     "name": "stdout",
     "output_type": "stream",
     "text": [
      "[[0.98638718 0.01361282]\n",
      " [0.99584222 0.00415778]\n",
      " [0.04291844 0.95708156]\n",
      " [0.00889086 0.99110914]\n",
      " [0.98672414 0.01327586]]\n"
     ]
    }
   ],
   "source": [
    "### 5개 행에 대한 범주별 확률 조회\n",
    "print(lr.predict_proba(train_bream_smelt[:5]))"
   ]
  },
  {
   "cell_type": "code",
   "execution_count": 180,
   "metadata": {},
   "outputs": [
    {
     "name": "stdout",
     "output_type": "stream",
     "text": [
      "[0 1]\n"
     ]
    }
   ],
   "source": [
    "### 훈련모델이 가지고 있는 범주의 순서\n",
    "print(lr.classes_)"
   ]
  },
  {
   "cell_type": "code",
   "execution_count": 181,
   "metadata": {},
   "outputs": [
    {
     "name": "stdout",
     "output_type": "stream",
     "text": [
      "[[ 0.9579382  -1.15499708  1.62543353  1.47075842]] [2.44655599]\n"
     ]
    }
   ],
   "source": [
    "### 계수(또는 가중치) 및 y절편값 조회하기\n",
    "print(lr.coef_, lr.intercept_)"
   ]
  },
  {
   "cell_type": "code",
   "execution_count": 183,
   "metadata": {},
   "outputs": [],
   "source": [
    "# 선형식\n",
    "# 0.9579382 * petal_length + -1.15499708 * petal_width + 1.62543353 sepal_length + 1.47075842 * sepal_width + 2.44655599"
   ]
  },
  {
   "cell_type": "code",
   "execution_count": 182,
   "metadata": {},
   "outputs": [
    {
     "name": "stdout",
     "output_type": "stream",
     "text": [
      "[-4.2830373  -5.47860689  3.10458708  4.71380033 -4.30844279]\n",
      "[0.01361282 0.00415778 0.95708156 0.99110914 0.01327586]\n"
     ]
    }
   ],
   "source": [
    "# 이진분류에서 z값(선형방정식의 결과값들)을 0~1로 변환\n",
    "# z값 조회하기\n",
    "decisions = lr.decision_function(train_bream_smelt[:5])\n",
    "print(decisions)\n",
    "\n",
    "# 시그모이드 함수 : scipy 패키지의 expit()\n",
    "# 오른쪽에 있는 1열값 반환(양수)\n",
    "from scipy.special import expit\n",
    "print(expit(decisions))"
   ]
  },
  {
   "cell_type": "markdown",
   "metadata": {},
   "source": [
    "##### 다중분류"
   ]
  },
  {
   "cell_type": "code",
   "execution_count": 184,
   "metadata": {},
   "outputs": [
    {
     "name": "stdout",
     "output_type": "stream",
     "text": [
      "0.9821428571428571\n",
      "1.0\n"
     ]
    }
   ],
   "source": [
    "lr = LogisticRegression(C=20, max_iter=1000)\n",
    "lr.fit(train_scaled, train_target)\n",
    "print(lr.score(train_scaled, train_target))\n",
    "print(lr.score(test_scaled, test_target))"
   ]
  },
  {
   "cell_type": "code",
   "execution_count": 185,
   "metadata": {},
   "outputs": [
    {
     "data": {
      "text/plain": [
       "array([1, 0, 2, 1, 1])"
      ]
     },
     "execution_count": 185,
     "metadata": {},
     "output_type": "execute_result"
    }
   ],
   "source": [
    "### 예측 상위 5개\n",
    "lr.predict(test_scaled[:5])"
   ]
  },
  {
   "cell_type": "code",
   "execution_count": 186,
   "metadata": {},
   "outputs": [
    {
     "name": "stdout",
     "output_type": "stream",
     "text": [
      "[[0.    0.99  0.01 ]\n",
      " [0.995 0.005 0.   ]\n",
      " [0.    0.    1.   ]\n",
      " [0.    0.955 0.044]\n",
      " [0.    0.959 0.041]]\n",
      "[0 1 2]\n"
     ]
    }
   ],
   "source": [
    "### 전체 범주별 확률 확인\n",
    "proba = lr.predict_proba(test_scaled[:5])\n",
    "print(np.round(proba, decimals=3))\n",
    "\n",
    "print(lr.classes_)"
   ]
  },
  {
   "cell_type": "code",
   "execution_count": 187,
   "metadata": {},
   "outputs": [
    {
     "name": "stdout",
     "output_type": "stream",
     "text": [
      "[[-1.70140279  2.04602755 -3.96852069 -3.70539168]\n",
      " [ 1.29254313 -0.14914774 -1.65051652 -1.44353552]\n",
      " [ 0.40885966 -1.89687981  5.61903721  5.1489272 ]] [-0.16133701  4.52621375 -4.36487674]\n"
     ]
    }
   ],
   "source": [
    "### 계수(또는 가중치) 및 y절편값 조회하기\n",
    "print(lr.coef_, lr.intercept_)"
   ]
  },
  {
   "cell_type": "code",
   "execution_count": 188,
   "metadata": {},
   "outputs": [
    {
     "name": "stdout",
     "output_type": "stream",
     "text": [
      "[[ 14.78037805   7.28434394 -22.06472198]\n",
      " [ 16.98186971   7.5283093  -24.51017901]\n",
      " [ -2.33456671   3.26205094  -0.92748422]\n",
      " [ -5.16740477   4.47719255   0.69021222]\n",
      " [ 14.59078214   7.52335314 -22.11413528]]\n"
     ]
    }
   ],
   "source": [
    "# z값 조회하기\n",
    "decisions = lr.decision_function(train_bream_smelt[:5])\n",
    "print(decisions)"
   ]
  },
  {
   "cell_type": "code",
   "execution_count": 189,
   "metadata": {},
   "outputs": [
    {
     "name": "stdout",
     "output_type": "stream",
     "text": [
      "[[0.999 0.001 0.   ]\n",
      " [1.    0.    0.   ]\n",
      " [0.004 0.981 0.015]\n",
      " [0.    0.978 0.022]\n",
      " [0.999 0.001 0.   ]]\n"
     ]
    }
   ],
   "source": [
    "### 소프트맥스(softmax)\n",
    "# 사용하는 패키지 : scipy.special\n",
    "# 사용하는 모듈 : softmax\n",
    "\n",
    "from scipy.special import softmax\n",
    "\n",
    "proba = softmax(decisions, axis=1)\n",
    "print(np.round(proba, decimals=3))"
   ]
  },
  {
   "cell_type": "markdown",
   "metadata": {},
   "source": [
    "#### 해석\n",
    "- 코드가 제대로 돌아간건지도 모르겠습니다 ㅠㅠ\n",
    "- 주말에 코드정리 하면서 개념 익히겠습니다 ㅠㅠ"
   ]
  }
 ],
 "metadata": {
  "kernelspec": {
   "display_name": "Python 3.9.12 64-bit",
   "language": "python",
   "name": "python3"
  },
  "language_info": {
   "codemirror_mode": {
    "name": "ipython",
    "version": 3
   },
   "file_extension": ".py",
   "mimetype": "text/x-python",
   "name": "python",
   "nbconvert_exporter": "python",
   "pygments_lexer": "ipython3",
   "version": "3.9.12"
  },
  "orig_nbformat": 4,
  "vscode": {
   "interpreter": {
    "hash": "38ae1ba9371524da054e8e3fbefd778d16b5a8ac7937a3f395010f627bb73919"
   }
  }
 },
 "nbformat": 4,
 "nbformat_minor": 2
}
