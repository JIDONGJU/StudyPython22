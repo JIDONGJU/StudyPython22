{
 "cells": [
  {
   "cell_type": "code",
   "execution_count": null,
   "id": "2f7e708c",
   "metadata": {},
   "outputs": [],
   "source": [
    "import requests\n",
    "\n",
    "apikey = 'PJxL%2BXY%2F3jCY4HSnB6mvwYVVe%2FRjjeO2Mh0HsQUsNo%2FrFTh3m87PBCzUhIEDInkArvhb5jRrWxzoq5JWW97Eow%3D%3D'\n",
    "\n",
    "pageNo = 1\n",
    "numOfRows = 10\n",
    "sidoCd = 110000\n",
    "sgguCd=110019\n",
    "emdongNm = '신내동'\n",
    "yadmNm = '온누리'\n",
    "xPos = 127.0965441345503\n",
    "yPos=37.60765568913871\n",
    "radius=3000\n",
    "\n",
    "\n",
    "\n",
    "api = \"http://apis.data.go.kr/B551182/pharmacyInfoService/getParmacyBasisList?pageNo={no}&numOfRows={row}&sidoCd={sido}&sgguCd={sigu}&emdongNm={dong}&yadmNm={yanm}&xPos={x}&yPos={y}&radius={r}&ServiceKey={key}\"\n",
    "\n",
    "url = api.format(no=pageNo,\n",
    "                row=numOfRows,\n",
    "                sido=sidoCd,\n",
    "                sigu=sgguCd,\n",
    "                dong=emdongNm,\n",
    "                yanm=yadmNm,\n",
    "                x=xPos,\n",
    "                y=yPos,\n",
    "                r=radius,\n",
    "                key = apikey)\n",
    "\n",
    "\n",
    "response = requests.get(url)\n",
    "print(response.content)"
   ]
  }
 ],
 "metadata": {
  "kernelspec": {
   "display_name": "Python 3 (ipykernel)",
   "language": "python",
   "name": "python3"
  },
  "language_info": {
   "codemirror_mode": {
    "name": "ipython",
    "version": 3
   },
   "file_extension": ".py",
   "mimetype": "text/x-python",
   "name": "python",
   "nbconvert_exporter": "python",
   "pygments_lexer": "ipython3",
   "version": "3.9.12"
  }
 },
 "nbformat": 4,
 "nbformat_minor": 5
}
