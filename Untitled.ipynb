{
 "cells": [
  {
   "cell_type": "code",
   "execution_count": 1,
   "id": "24a0a821-a1bb-4077-8882-4e207717319c",
   "metadata": {},
   "outputs": [],
   "source": [
    "import numpy as np\n",
    "import pandas as pd\n",
    "import matplotlib.pyplot as plt\n",
    "import scipy.stats as stats\n",
    "import seaborn as sns"
   ]
  },
  {
   "cell_type": "code",
   "execution_count": 2,
   "id": "6fb30426-9c9b-4a24-b5ff-ec114b6b2790",
   "metadata": {},
   "outputs": [
    {
     "name": "stdout",
     "output_type": "stream",
     "text": [
      "one_sample 평균 =  177.21999999999997\n",
      "one_sample2 평균 =  169.21999999999997\n"
     ]
    }
   ],
   "source": [
    "# 데이터 갱신하기\n",
    "one_sample = [177.0, 182.7, 169.6, 176.8, 180.0]\n",
    "print(\"one_sample 평균 = \", np.array(one_sample).mean())\n",
    "\n",
    "one_sample2 = [167.0, 162.7, 169.6, 176.8, 170.0]\n",
    "print(\"one_sample2 평균 = \", np.array(one_sample2).mean())"
   ]
  },
  {
   "cell_type": "code",
   "execution_count": 104,
   "id": "e595535d-4476-4e32-9b50-415c4fa109a0",
   "metadata": {},
   "outputs": [],
   "source": [
    "def one_stats(df, a):\n",
    "    tTestResult = stats.ttest_1samp(df, popmean = a)\n",
    "    print(\"한 집단 평균 검정 (단일 표본검정) =\",tTestResult)\n",
    "    print(\"t-검정 통계량 = %.3f, p-value = %.3f\" %(tTestResult))\n",
    "    if tTestResult[1] > 0.05:\n",
    "        print(\"<해석>\")\n",
    "        print(\"1. p-value = \",tTestResult[1].round(3),\" > 0.05 이므로, 귀무가설 채택\")\n",
    "        print(\"2. 귀무가설 채택 : 한개의 집단과 관측값의 평균은 서로 같다.\")\n",
    "    elif tTestResult[1] <= 0.05:\n",
    "        print(\" \")\n",
    "        print(\"<해석>\")\n",
    "        print(\"1. p-value = \",{tTestResult[1].round(3)},\" > 0.05 이므로, 귀무가설 기각\")\n",
    "        print(\"2. 대립가설 채택 : 한개의 집단과 관측값의 평균은 서로 다르다.\")\n",
    "    print(\" \")\n",
    "    resultSh = stats.shapiro(df)\n",
    "    print(\"정규성 검정 결과 = \", resultSh)\n",
    "    print(\"검정 통계량 = %.3f, p-value = %.3f\" %(resultSh))\n",
    "    if resultSh[1] > 0.05:\n",
    "        print(\"<해석>\")\n",
    "        print(\"p-value = \",round(resultSh[1],3),\" > 0.05 이므로, 정규성을 만족한다\")\n",
    "    elif resultSh[1] <= 0.05:\n",
    "        print(\"<해석>\")\n",
    "        print(\"p-value = \",round(resultSh[1],3),\" <= 0.05 이므로, 정규성을 불만족한다\")\n",
    "        "
   ]
  },
  {
   "cell_type": "code",
   "execution_count": 106,
   "id": "a0886b59-fcd7-44dc-9865-886e7f1daf97",
   "metadata": {},
   "outputs": [
    {
     "name": "stdout",
     "output_type": "stream",
     "text": [
      "한 집단 평균 검정 (단일 표본검정) = Ttest_1sampResult(statistic=0.10039070766877535, pvalue=0.9248646407498543)\n",
      "t-검정 통계량 = 0.100, p-value = 0.925\n",
      "<해석>\n",
      "1. p-value =  0.925  > 0.05 이므로, 귀무가설 채택\n",
      "2. 귀무가설 채택 : 한개의 집단과 관측값의 평균은 서로 같다.\n",
      " \n",
      "정규성 검정 결과 =  ShapiroResult(statistic=0.9355093836784363, pvalue=0.634389340877533)\n",
      "검정 통계량 = 0.936, p-value = 0.634\n",
      "<해석>\n",
      "p-value =  0.634  > 0.05 이므로, 정규성을 만족한다\n"
     ]
    }
   ],
   "source": [
    "one_stats(one_sample, 177)"
   ]
  },
  {
   "cell_type": "code",
   "execution_count": 112,
   "id": "9480142b-9df3-487c-9ec5-75b8737da794",
   "metadata": {},
   "outputs": [],
   "source": [
    "def two_stats(df1, df2):\n",
    "    tResult = stats.ttest_ind(df1, df2)\n",
    "    print(\"한 집단 평균 검정 (단일 표본검정) = \", tResult)\n",
    "    print(\"t-검정 통계량 = %.3f, p-value = %.3f\" %(tResult))\n",
    "    \n",
    "    if tResult[1] > 0.05:\n",
    "        print(\"<해석>\")\n",
    "        print(\"1. p-value = \",tResult[1].round(3),\" > 0.05 이므로, 귀무가설 채택\")\n",
    "        print(\"2. 귀무가설 채택 : 한개의 집단과 관측값의 평균은 서로 같다.\")\n",
    "    elif tResult[1] <= 0.05:\n",
    "        print(\"<해석>\")\n",
    "        print(\"1. p-value = \",tResult[1].round(3),\" <= 0.05 이므로, 귀무가설 기각\")\n",
    "        print(\"2. 대립가설 채택 : 한개의 집단과 관측값의 평균은 서로 같지 않다.\")"
   ]
  },
  {
   "cell_type": "code",
   "execution_count": 113,
   "id": "9fa78968-6b6f-46cd-8bc2-505c8ba109a8",
   "metadata": {},
   "outputs": [
    {
     "name": "stdout",
     "output_type": "stream",
     "text": [
      "한 집단 평균 검정 (단일 표본검정) =  Ttest_indResult(statistic=2.5191634239674787, pvalue=0.03585546615141586)\n",
      "t-검정 통계량 = 2.519, p-value = 0.036\n",
      "<해석>\n",
      "1. p-value =  0.036  <= 0.05 이므로, 귀무가설 기각\n",
      "2. 대립가설 채택 : 한개의 집단과 관측값의 평균은 서로 같지 않다.\n"
     ]
    }
   ],
   "source": [
    "two_stats(one_sample, one_sample2)"
   ]
  },
  {
   "cell_type": "code",
   "execution_count": null,
   "id": "df6281b7-6c33-4bcd-9a1a-24a225bc12d3",
   "metadata": {},
   "outputs": [],
   "source": []
  }
 ],
 "metadata": {
  "kernelspec": {
   "display_name": "Python 3 (ipykernel)",
   "language": "python",
   "name": "python3"
  },
  "language_info": {
   "codemirror_mode": {
    "name": "ipython",
    "version": 3
   },
   "file_extension": ".py",
   "mimetype": "text/x-python",
   "name": "python",
   "nbconvert_exporter": "python",
   "pygments_lexer": "ipython3",
   "version": "3.9.12"
  }
 },
 "nbformat": 4,
 "nbformat_minor": 5
}
