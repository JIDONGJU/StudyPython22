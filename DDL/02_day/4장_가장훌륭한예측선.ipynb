{
 "cells": [
  {
   "cell_type": "markdown",
   "metadata": {},
   "source": [
    "- 예제소스 : (https://github.com/taehojo/deeplearning)"
   ]
  },
  {
   "cell_type": "markdown",
   "metadata": {},
   "source": [
    "### 가장 훌륭한 예측선\n",
    "- 딥러닝의 가장 말단에서 이루어지는 기본적인 두가지 계산 원리를 알아야 함\n",
    "- '선형회귀'와 '로지스틱회귀'"
   ]
  },
  {
   "cell_type": "markdown",
   "metadata": {},
   "source": [
    "### 선형회귀의 정의\n",
    "- x값이 변함에 따라 y값도 변한다\n",
    "- x 를 독립변수\n",
    "- y 를 종속변수\n",
    "- 하나의 x값 만으로도 y값을 설명할 수 있다면 단순 선형회귀(simple linear regression)\n",
    "- x값이 여러개 필요하다면 다중 선형회귀(multiple linear regression)\n",
    "- 정확한 선을 그려내는 과정 = 최적의 a값과 b값을 찾아내는 작업"
   ]
  },
  {
   "cell_type": "markdown",
   "metadata": {},
   "source": [
    "<img src = 'https://thebook.io/img/080324/fx-5.jpg' width ='40%' height='40%'/>"
   ]
  },
  {
   "cell_type": "markdown",
   "metadata": {},
   "source": [
    "### 최소제곱법\n",
    "- 우리의 목표는 가장 정확한 선을 긋는 것 = 정확한 기울기 a와 정확한 절편 절편 b 알아내기\n",
    "- 최소제곱법 공식을 적용한다면 일차함수의 기울기와 절편을 바로 구할 수 있음\n",
    "- <img src = 'https://thebook.io/img/080324/fx-44.jpg' width ='40%' height='40%'/>\n",
    "- x의 편차를 제곱해서 합한 값을 분모로, x와 y의 편차를 곱해서 합한 값을 분자로 두면 기울기\n",
    "- \n",
    "- y절편인 b를 구하는 공식 \n",
    "- <img src = 'https://thebook.io/img/080324/fx-48.jpg' width ='40%' height='40%'/>\n",
    "- y의 평균에서 x의 평균과 기울기의 곱을 빼면 b값"
   ]
  },
  {
   "cell_type": "markdown",
   "metadata": {},
   "source": [
    "### 파이썬 코딩으로 확인하는 최소 제곱"
   ]
  },
  {
   "cell_type": "code",
   "execution_count": 14,
   "metadata": {},
   "outputs": [
    {
     "name": "stdout",
     "output_type": "stream",
     "text": [
      "x의 평균값 : 5.0\n",
      "y의 평균값 : 90.5\n",
      "분모 : 20.0\n",
      "분자 : 46.0\n",
      "기울기 a = 2.3\n",
      "절편 b = 79.0\n"
     ]
    }
   ],
   "source": [
    "import numpy as np\n",
    "\n",
    "# 공부한 시간과 점수를 각각 x, y라는 이름의 넘파이 배열로 만들기\n",
    "x = np.array([2,4,6,8])\n",
    "y = np.array([81,93,91,97])\n",
    "\n",
    "# 최소 제곱근 공식으로 기울기 a 와 절편 b 구하기\n",
    "mx = np.mean(x)\n",
    "my = np.mean(y)\n",
    "\n",
    "# x의 각 원소와 x의 평균값들의 차를 제곱하라\n",
    "# sum()은 시그마에 해당하는 함수\n",
    "# 제곱을 구하라는 의미\n",
    "# x의 각 원소를 한번씩 i 자리에 대입하라는 의미\n",
    "divisor = sum([(i - mx) ** 2 for i in x])\n",
    "\n",
    "# 분자에 해당하는 부분 구하기\n",
    "# x와 y의 편차를 곱해서 합한 값을 구하면 됨\n",
    "# dividend 변수에 분자 값 저장\n",
    "# 임의의 변수 d의 초기값을 0으로 설정\n",
    "# x의 개수만큼 실행\n",
    "# d에 x의 각 원소와 평균의 차, y의 각 원소와 평균의 차를 곱해서\n",
    "# 차례로 더하는 최소제곱법 구현\n",
    "def top(x, mx, y, my):\n",
    "    d = 0\n",
    "    for i in range(len(x)):\n",
    "        d += (x[i] - mx) * (y[i] - my)\n",
    "    return d\n",
    "dividend = top(x, mx, y, my)\n",
    "\n",
    "# 기울기 a 구하기\n",
    "a = dividend / divisor\n",
    "# 절편 b 구하기\n",
    "b = my - (mx*a)\n",
    "\n",
    "# 출력으로 확인하기\n",
    "print('x의 평균값 :',mx)\n",
    "print('y의 평균값 :',my)\n",
    "print('분모 :',divisor)\n",
    "print('분자 :',dividend)\n",
    "print('기울기 a =',a)\n",
    "print('절편 b =',b)"
   ]
  },
  {
   "cell_type": "markdown",
   "metadata": {},
   "source": [
    "### 평균 제곱 오차\n",
    "- 최소제곱법 공식 만으로는 모든 상황 해결 어려움\n",
    "- 다른 방법 필요\n",
    "- 가장 많이 사용하는 방법 '일단 그리고 조금씩 수정해 나가기'\n",
    "- 가설을 하나 세운 후 이값이 주어진 요건을 충족하는지 판단해서 조금씩 변화를 주고\n",
    "- 이 변화가 긍정적이면 오차가 최소가 될 때까지 이 과정을 계속 반복하는 방법\n",
    "- 딥러닝을 가능하게 하는 가장 중요한 원리 중 하나\n",
    "- \n",
    "- 선을 긋고 나서 수정하는 과정에서 빠지면 안되는 것\n",
    "- 나중에 그린 선이 먼저 그린 선보다 더 좋은지 나쁜지 판단하는 방법\n",
    "- 각 선의 오차를 계산할 수 있어야 하고, 오차가 작은 쪽으로 바꾸는 알고리즘 필요\n",
    "- \n",
    "- 선의 오차를 평가하는 방법 = '평균 제곱 오차(Mean Square Error, MSE)'"
   ]
  },
  {
   "cell_type": "markdown",
   "metadata": {},
   "source": [
    "#### 예시\n",
    "- 임의의 값을 대입한 후 오차를 구하고\n",
    "- 이 오차를 최소화 하는 방식을 사용해서 최종 a와 b를 구하기\n",
    "- <img src = 'https://thebook.io/img/080324/073_2.jpg' width ='40%' height='40%'/>\n",
    "- \n",
    "- 임의의 직선이 어느 정도 오차가 있는지 확인하려면 각 점과 그래프 사이의 거리 재기\n",
    "- <img src = 'https://thebook.io/img/080324/074_1.jpg' width ='40%' height='40%'/>\n",
    "- \n",
    "- 그래프의 기울기가 잘못되었을수록 오차의 합도 커짐\n",
    "- 오차 = 실제값 - 예측값\n",
    "- 오차에 양수와 음수가 섞여 있어 정확한 오차를 구할 수 없음\n",
    "- 오차의 합을 구할때는 각 옹차 값을 제곱해 줌\n",
    "- \n",
    "- <img src = 'https://thebook.io/img/080324/fx-2.jpg' width ='40%' height='40%'/>\n",
    "- i는 x가 나오는 순서를, n은 x 원소의 총개수를 의미\n",
    "- yi는 xi에 대응하는 '실제값', yi^는 xi가 대입되었을 때 방정식이 만드는 예측값\n",
    "- \n",
    "- <img src = 'https://thebook.io/img/080324/fx-3.jpg' width ='40%' height='40%'/>\n",
    "- 우리가 구하고자 하는 평균 제곱 오차는 오차의 합을 n으로 나눈 것\n",
    "- \n",
    "- '선형 회귀'란 임의의 직선을 그어 평균 제곱 오차를 구하고,\n",
    "- 이 값을 가장 작게 만드는 a와 b를 찾아가는 작업"
   ]
  },
  {
   "cell_type": "markdown",
   "metadata": {},
   "source": [
    "### 파이썬 코딩으로 확인하는 제곱 오차"
   ]
  },
  {
   "cell_type": "code",
   "execution_count": 17,
   "metadata": {},
   "outputs": [
    {
     "name": "stdout",
     "output_type": "stream",
     "text": [
      "공부시간 = 2, 실제점수 = 81, 예측점수 = 82\n",
      "공부시간 = 4, 실제점수 = 93, 예측점수 = 88\n",
      "공부시간 = 6, 실제점수 = 91, 예측점수 = 94\n",
      "공부시간 = 8, 실제점수 = 97, 예측점수 = 100\n",
      "평균 제곱 오차 :11.0\n"
     ]
    }
   ],
   "source": [
    "# 임의로 정한 기울기 a와 절편 b의 값이 각각 3과 76이라고 가정\n",
    "# 가상의 기울기가 fake_a, 가상의 절편이 fake_y인 함수식 predict() 정의\n",
    "fake_a = 3\n",
    "fake_b = 76\n",
    "\n",
    "def predict(x):\n",
    "    return fake_a * x + fake_b\n",
    "\n",
    "# 위 코드의 결과값이 들어갈 빈 리스트 만들기\n",
    "predcit_result = []\n",
    "\n",
    "# 모든 x값을 predict() 함수에 대입해 예측 값 리스트를 채우는 코드\n",
    "for i in range(len(x)):\n",
    "    predcit_result.append(predict(x[i]))\n",
    "    print('공부시간 = %.f, 실제점수 = %.f, 예측점수 = %.f' % (x[i], y[i], predict(x[i])))\n",
    "    \n",
    "# 평균 제곱 오차를 구하는 함수 만들기\n",
    "# 1/전체개수 * 합((실제값 - 예측값)제곱)\n",
    "n = len(x)\n",
    "def mse(y, y_pred):\n",
    "    return (1/n) * sum((y - y_pred) ** 2)\n",
    "\n",
    "# 평균 제곱 오차 값을 출력\n",
    "print('평균 제곱 오차 :' + str(mse(y, predcit_result)))"
   ]
  },
  {
   "cell_type": "code",
   "execution_count": null,
   "metadata": {},
   "outputs": [],
   "source": []
  }
 ],
 "metadata": {
  "kernelspec": {
   "display_name": "Python 3.9.12 64-bit",
   "language": "python",
   "name": "python3"
  },
  "language_info": {
   "codemirror_mode": {
    "name": "ipython",
    "version": 3
   },
   "file_extension": ".py",
   "mimetype": "text/x-python",
   "name": "python",
   "nbconvert_exporter": "python",
   "pygments_lexer": "ipython3",
   "version": "3.9.12"
  },
  "orig_nbformat": 4,
  "vscode": {
   "interpreter": {
    "hash": "38ae1ba9371524da054e8e3fbefd778d16b5a8ac7937a3f395010f627bb73919"
   }
  }
 },
 "nbformat": 4,
 "nbformat_minor": 2
}
