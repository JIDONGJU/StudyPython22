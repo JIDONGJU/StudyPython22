{
 "cells": [
  {
   "cell_type": "markdown",
   "metadata": {},
   "source": [
    "### 인공지능? 머신러닝? 딥러닝?\n",
    "- 기존의 데이터를 이용해 앞으로 일을 예측하는 '머신러닝(machine learning)'이 효과적임을 발견\n",
    "- 머신러닝 안에는 여러 알고리즘이 있는데 가장 좋은 효과를 내는 것이 딥러닝\n",
    "- 범위 : 인공지능 > 머신러닝 > 딥러닝"
   ]
  },
  {
   "cell_type": "markdown",
   "metadata": {},
   "source": [
    "### 딥러닝 실행을 위해 필요한 세가지\n",
    "- 데이터, 컴퓨터, 프로그램\n",
    "- 데이터\n",
    "    - 딥러닝은 데이터를 이용해 예측 또는 판별을 수행\n",
    "        - 이름표가 붙어 있다면 '지도학습'\n",
    "        - 이름표가 없다면 '비지도학습'\n",
    "- 컴퓨터\n",
    "    - 일반 CPU에서 동작시킬 지\n",
    "    - 고속 그래픽 처릴에 특화된 GPU에서 동작시킬 지\n",
    "    - (더 많은 데이터에 적용하려면 GPU 작업 환경 추천)\n",
    "- 프로그램\n",
    "    - 데이터와 컴퓨터가 준비되었다면 프로그래밍을 해야함\n",
    "    - 수학에 자신이 없어도 딥러닝 라이브러리를 활용하여 구현"
   ]
  },
  {
   "cell_type": "markdown",
   "metadata": {},
   "source": [
    "### 구글 코랩 실행하기\n",
    "- 딥러닝을 만들고 작동시키는 대표적인 방법\n",
    "    - 구글 코랩\n",
    "    - 장점\n",
    "        - 설치가 필요없음\n",
    "        - GPU TPU 무료 사용\n",
    "        - 구글 드라이브 연동 가능\n",
    "    - 단점\n",
    "        - 아무 작업도 하지 않으면 90분 후 세션 종료\n",
    "        - 최대 세션 유지시간 12시간(무료버젼)\n",
    "    - 아나콘다\n",
    "    - 장점\n",
    "        - 세션 유지 시간에 제약 없음\n",
    "    - 단점\n",
    "        - 아나콘다 설치해야 이용 가능\n",
    "        - 컴퓨터 사양에 작업 성능이 종속됨"
   ]
  },
  {
   "cell_type": "code",
   "execution_count": 1,
   "metadata": {},
   "outputs": [
    {
     "name": "stdout",
     "output_type": "stream",
     "text": [
      "2.9.1\n"
     ]
    }
   ],
   "source": [
    "import tensorflow as tf\n",
    "print(tf.__version__)"
   ]
  }
 ],
 "metadata": {
  "kernelspec": {
   "display_name": "Python 3.9.12 64-bit",
   "language": "python",
   "name": "python3"
  },
  "language_info": {
   "codemirror_mode": {
    "name": "ipython",
    "version": 3
   },
   "file_extension": ".py",
   "mimetype": "text/x-python",
   "name": "python",
   "nbconvert_exporter": "python",
   "pygments_lexer": "ipython3",
   "version": "3.9.12"
  },
  "orig_nbformat": 4,
  "vscode": {
   "interpreter": {
    "hash": "38ae1ba9371524da054e8e3fbefd778d16b5a8ac7937a3f395010f627bb73919"
   }
  }
 },
 "nbformat": 4,
 "nbformat_minor": 2
}
