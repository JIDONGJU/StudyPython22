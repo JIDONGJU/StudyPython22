{
 "cells": [
  {
   "cell_type": "markdown",
   "metadata": {},
   "source": [
    "### 미지의 일을 예측하는 원리\n",
    "- 머신러닝은 데이터 안에서 규칙을 발견하고 새로운 데이터에 적용해서 새로운 결과 도출\n",
    "### <수술하기 전에 수술 후의 생존율을 수치로 예측할 방법이 없을까?>\n",
    "1. 수술 전 상태와 수술 후 생존율을 정리해놓은 '데이터'를 머신러닝 알고리즘에 넣기\n",
    "2. 머신러닝이 데이터가 가진 패턴과 규칙을 분석해서 저장해둠 > '학습'\n",
    "- 우리가 배우려는 것이 학습과 예측의 구체적인 과정\n",
    "- 머신러닝의 예측 성공률은 얼마나 정확한 경계선을 긋느냐에 달림\n",
    "    - 퍼셉트론(perceptron), 아달라인(adaline), 선형회귀(linear regression) 등으로 딥러닝 탄생"
   ]
  },
  {
   "cell_type": "markdown",
   "metadata": {},
   "source": [
    "### 딥러닝 코드 실행해보기\n",
    "- 소스코드 깃허브 (http://github.com/taehojo/deeplearning)"
   ]
  },
  {
   "cell_type": "code",
   "execution_count": 5,
   "metadata": {},
   "outputs": [],
   "source": [
    "# 환경 준비\n",
    "# 텐서플로의 케라스라는 API에 있는 모델클래스로부터 Sequential() 함수를 불러옴\n",
    "from tensorflow.keras.models import Sequential\n",
    "from tensorflow.keras.layers import Dense\n",
    "import numpy as np"
   ]
  },
  {
   "cell_type": "code",
   "execution_count": 8,
   "metadata": {},
   "outputs": [
    {
     "name": "stderr",
     "output_type": "stream",
     "text": [
      "fatal: destination path 'data' already exists and is not an empty directory.\n"
     ]
    }
   ],
   "source": [
    "# 데이터 준비\n",
    "# 깃허브에서 data폴더로 불러오기\n",
    "!git clone https://github.com/taehojo/data.git\n",
    "\n",
    "# 데이터 불러오기\n",
    "Data_set = np.loadtxt('./data/ThoraricSurgery3.csv', delimiter=',')\n",
    "X = Data_set[:,0:16] # 1번째 항목부터 16번째 항목까지 속성(attribute)\n",
    "y = Data_set[:,16]   # 17번째 항목을 클래스(class) = 이름표(label)"
   ]
  },
  {
   "cell_type": "code",
   "execution_count": 9,
   "metadata": {},
   "outputs": [],
   "source": [
    "# 구조 결정\n",
    "model = Sequential() # 모델 선언, 딥러닝은 여러층이 쌓여있는 구조\n",
    "model.add(Dense(30, input_dim = 16, activation = 'relu')) # 딥러닝의 한층을 추가\n",
    "model.add(Dense(1, activation = 'sigmoid')) # Dense() : 각 층의 입력과 출력을 촘촘하게 모두 연결하라는 뜻\n",
    "\n",
    "# 좋은 딥러닝 모델을 만들려면 몇 개의 층을 쌓아 올려야 하는가?\n",
    "# Dense 함수 안에 있는 숫자와 설정의 의미는 무엇이며, 어떻게 정해야 하는가?"
   ]
  },
  {
   "cell_type": "code",
   "execution_count": 14,
   "metadata": {},
   "outputs": [
    {
     "name": "stdout",
     "output_type": "stream",
     "text": [
      "Epoch 1/5\n",
      "30/30 [==============================] - 1s 2ms/step - loss: 0.4851 - accuracy: 0.8511\n",
      "Epoch 2/5\n",
      "30/30 [==============================] - 0s 2ms/step - loss: 0.4493 - accuracy: 0.8511\n",
      "Epoch 3/5\n",
      "30/30 [==============================] - 0s 2ms/step - loss: 0.4351 - accuracy: 0.8511\n",
      "Epoch 4/5\n",
      "30/30 [==============================] - 0s 2ms/step - loss: 0.4399 - accuracy: 0.8511\n",
      "Epoch 5/5\n",
      "30/30 [==============================] - 0s 2ms/step - loss: 0.4362 - accuracy: 0.8511\n"
     ]
    }
   ],
   "source": [
    "# 모델 실행\n",
    "# model.compile() : model의 설정을 그대로 실행하라는 의미\n",
    "# 함수 내부에 loss, optimizer, metrics 등은 딥러닝 구조를 어떤 방식으로 구동시키고 마무리할 것인지 관련된 옵션\n",
    "model.compile(loss = 'binary_crossentropy', optimizer = 'adam', metrics = ['accuracy'])\n",
    "\n",
    "# 딥러닝의 기본 방식은 층들을 위아래로 여러차례 오가며 최적의 모델을 찾는것\n",
    "# model.fit() : 몇 번을 오갈 것인지, 오갈 때 몇개의 데이터를 사용할 것인지 정하는 함수 \n",
    "history = model.fit(X, y, epochs = 5, batch_size = 16)"
   ]
  },
  {
   "cell_type": "markdown",
   "metadata": {},
   "source": [
    "### 진짜 딥러닝?\n",
    "- 파이썬 프로그래밍 뿐만 아니라 선형회귀, 로지스틱 회귀 등 기초 통계학 개념들도 필요\n",
    "- 딥러닝을 위한 기초 수학 개념들을 정리하길 바람"
   ]
  },
  {
   "cell_type": "markdown",
   "metadata": {},
   "source": []
  }
 ],
 "metadata": {
  "kernelspec": {
   "display_name": "Python 3.9.12 64-bit",
   "language": "python",
   "name": "python3"
  },
  "language_info": {
   "codemirror_mode": {
    "name": "ipython",
    "version": 3
   },
   "file_extension": ".py",
   "mimetype": "text/x-python",
   "name": "python",
   "nbconvert_exporter": "python",
   "pygments_lexer": "ipython3",
   "version": "3.9.12"
  },
  "orig_nbformat": 4,
  "vscode": {
   "interpreter": {
    "hash": "38ae1ba9371524da054e8e3fbefd778d16b5a8ac7937a3f395010f627bb73919"
   }
  }
 },
 "nbformat": 4,
 "nbformat_minor": 2
}
