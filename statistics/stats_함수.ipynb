{
 "cells": [
  {
   "cell_type": "code",
   "execution_count": null,
   "metadata": {},
   "outputs": [],
   "source": [
    "import numpy as np\n",
    "import pandas as pd\n",
    "import matplotlib.pyplot as plt\n",
    "import scipy.stats as stats\n",
    "import seaborn as sns"
   ]
  },
  {
   "cell_type": "code",
   "execution_count": null,
   "metadata": {},
   "outputs": [],
   "source": [
    "def one_stats(df, a):\n",
    "    tTestResult = stats.ttest_1samp(df, popmean = a)\n",
    "    print(\"한 집단 평균 검정 (단일 표본검정) =\",tTestResult)\n",
    "    print(\"t-검정 통계량 = %.3f, p-value = %.3f\" %(tTestResult))\n",
    "    if tTestResult[1] > 0.05:\n",
    "        print(\"<해석>\")\n",
    "        print(\"1. p-value = \",tTestResult[1].round(3),\" > 0.05 이므로, 귀무가설 채택\")\n",
    "        print(\"2. 귀무가설 채택 : 한개의 집단과 관측값의 평균은 서로 같다.\")\n",
    "    elif tTestResult[1] <= 0.05:\n",
    "        print(\" \")\n",
    "        print(\"<해석>\")\n",
    "        print(\"1. p-value = \",{tTestResult[1].round(3)},\" > 0.05 이므로, 귀무가설 기각\")\n",
    "        print(\"2. 대립가설 채택 : 한개의 집단과 관측값의 평균은 서로 다르다.\")\n",
    "    print(\" \")\n",
    "    resultSh = stats.shapiro(df)\n",
    "    print(\"정규성 검정 결과 = \", resultSh)\n",
    "    print(\"검정 통계량 = %.3f, p-value = %.3f\" %(resultSh))\n",
    "    if resultSh[1] > 0.05:\n",
    "        print(\"<해석>\")\n",
    "        print(\"p-value = \",round(resultSh[1],3),\" > 0.05 이므로, 정규성을 만족한다\")\n",
    "    elif resultSh[1] <= 0.05:\n",
    "        print(\"<해석>\")\n",
    "        print(\"p-value = \",round(resultSh[1],3),\" <= 0.05 이므로, 정규성을 불만족한다\")"
   ]
  },
  {
   "cell_type": "code",
   "execution_count": null,
   "metadata": {},
   "outputs": [],
   "source": [
    "def two_stats(df1, df2):\n",
    "    tResult = stats.ttest_ind(df1, df2)\n",
    "    print(\"한 집단 평균 검정 (단일 표본검정) = \", tResult)\n",
    "    print(\"t-검정 통계량 = %.3f, p-value = %.3f\" %(tResult))\n",
    "    \n",
    "    if tResult[1] > 0.05:\n",
    "        print(\"<해석>\")\n",
    "        print(\"1. p-value = \",tResult[1].round(3),\" > 0.05 이므로, 귀무가설 채택\")\n",
    "        print(\"2. 귀무가설 채택 : 한개의 집단과 관측값의 평균은 서로 같다.\")\n",
    "    elif tResult[1] <= 0.05:\n",
    "        print(\"<해석>\")\n",
    "        print(\"1. p-value = \",tResult[1].round(3),\" <= 0.05 이므로, 귀무가설 기각\")\n",
    "        print(\"2. 대립가설 채택 : 한개의 집단과 관측값의 평균은 서로 같지 않다.\")"
   ]
  }
 ],
 "metadata": {
  "language_info": {
   "name": "python"
  },
  "orig_nbformat": 4
 },
 "nbformat": 4,
 "nbformat_minor": 2
}
