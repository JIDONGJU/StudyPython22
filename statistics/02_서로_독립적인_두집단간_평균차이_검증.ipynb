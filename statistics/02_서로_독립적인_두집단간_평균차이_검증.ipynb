{
 "cells": [
  {
   "cell_type": "markdown",
   "metadata": {},
   "source": [
    "#### exe-1) 학생 키에 대한 두 집단 비교"
   ]
  },
  {
   "cell_type": "code",
   "execution_count": 1,
   "metadata": {},
   "outputs": [],
   "source": [
    "import numpy as np\n",
    "from scipy import stats"
   ]
  },
  {
   "cell_type": "code",
   "execution_count": 2,
   "metadata": {},
   "outputs": [
    {
     "name": "stdout",
     "output_type": "stream",
     "text": [
      "group1Height =  165.25\n",
      "group2Height =  171.25\n"
     ]
    }
   ],
   "source": [
    "# 데이터 생성하기\n",
    "# 최소값 157, 최대값 178 범위 중에 20개 생성\n",
    "group1Heights = np.random.randint(low=157, high=178, size=20)\n",
    "print(\"group1Height  =\", group1Heights.mean())\n",
    "\n",
    "# 최소값 162, 최대값 182 범위 중에 20개 생성\n",
    "group2Heights = np.random.randint(low=162, high=182, size=20)\n",
    "print(\"group2Height  =\", group2Heights.mean())"
   ]
  },
  {
   "cell_type": "code",
   "execution_count": 86,
   "metadata": {},
   "outputs": [
    {
     "name": "stdout",
     "output_type": "stream",
     "text": [
      "두 집단 평균 검정 = Ttest_indResult(statistic=-3.4027197804636904, pvalue=0.0015844334747243812)\n",
      "t-검정 통계량 = -3.403, p-value = 0.002\n",
      " \n",
      "해석\n",
      "1. p-value = 0.018 < 0.05 이므로, 귀무가설 기각\n",
      "2. 대립가설 채택 : 한개의 집단과 관측값의 평균은 서로 같지 않다.\n"
     ]
    }
   ],
   "source": [
    "# 검증하기\n",
    "# 첫번째 : 기준집단,\n",
    "# 두번째 : 관측집단\n",
    "tResult = stats.ttest_ind(group1Heights, group2Heights)\n",
    "\n",
    "print(\"두 집단 평균 검정 =\", tResult)\n",
    "print(\"t-검정 통계량 = %.3f, p-value = %.3f\" %(tResult))\n",
    "\n",
    "print(\" \")\n",
    "print('''해석\n",
    "1. p-value = 0.018 < 0.05 이므로, 귀무가설 기각\n",
    "2. 대립가설 채택 : 한개의 집단과 관측값의 평균은 서로 같지 않다.''')"
   ]
  },
  {
   "cell_type": "markdown",
   "metadata": {},
   "source": [
    "#### exe-2) 남녀 두 집단 간 파이썬 시험의 평균차이 검정\n",
    "- 귀무가설 : 남녀 두 집단 간 파이썬 시험의 평균에 차이가 없다\n",
    "- 대립가설 : 남녀 두 집단 간 파이썬 시험의 평균에 차이가 있다"
   ]
  },
  {
   "cell_type": "code",
   "execution_count": 4,
   "metadata": {},
   "outputs": [],
   "source": [
    "# 데이터 생성\n",
    "male = [75, 85, 100, 72.5, 86.5]\n",
    "female = [63.2, 76, 52, 100, 70]"
   ]
  },
  {
   "cell_type": "code",
   "execution_count": 84,
   "metadata": {},
   "outputs": [
    {
     "name": "stdout",
     "output_type": "stream",
     "text": [
      "두 집단 평균 검정 = Ttest_indResult(statistic=1.233193127514512, pvalue=0.25250768448532773)\n",
      "t-검정 통계량 = 1.233, p-value = 0.253\n",
      " \n",
      "해석\n",
      "1. p-value = 0.253 > 0.05 이므로, 귀무가설 채택\n",
      "2. 귀무가설 채택 : 남녀 두 집단 간 시험의 평균에 차이가 없다.\n"
     ]
    }
   ],
   "source": [
    "# 두 집단 검증하기\n",
    "tResult2 = stats.ttest_ind(male, female)\n",
    "print(\"두 집단 평균 검정 =\", tResult2)\n",
    "print(\"t-검정 통계량 = %.3f, p-value = %.3f\" %(tResult2))\n",
    "# 해석\n",
    "print(\" \")\n",
    "print('''해석\n",
    "1. p-value = 0.253 > 0.05 이므로, 귀무가설 채택\n",
    "2. 귀무가설 채택 : 남녀 두 집단 간 시험의 평균에 차이가 없다.''')"
   ]
  },
  {
   "cell_type": "code",
   "execution_count": 6,
   "metadata": {},
   "outputs": [
    {
     "name": "stdout",
     "output_type": "stream",
     "text": [
      "83.8\n",
      "72.24\n"
     ]
    }
   ],
   "source": [
    "print(np.array(male).mean())\n",
    "print(np.array(female).mean())"
   ]
  },
  {
   "cell_type": "markdown",
   "metadata": {},
   "source": [
    "#### exe-3) 두가지 교육방법에 따른 평균학점에 대한 차이 검정수행\n",
    "- 귀무가설 : 두 교육방법에 따른 평균학점에는 차이가 없다\n",
    "- 대립가설 : 두 교육방법에 따른 평균학점에는 차이가 있다"
   ]
  },
  {
   "cell_type": "code",
   "execution_count": 7,
   "metadata": {},
   "outputs": [],
   "source": [
    "# 데이터 생성 : tow_sample.csv 사용\n",
    "import pandas as pd\n",
    "file_path = './data/two_sample.csv'\n",
    "df = pd.read_csv(file_path)\n",
    "df\n",
    "# 교육방법 1과 2를 추출해주세요\n",
    "m1 = df[df['교육방법']==1]\n",
    "m2 = df[df['교육방법']==2]\n",
    "# 교육방법에 대한 학점만 추출한 데이터 변수\n",
    "scor1 = m1['학점']\n",
    "scor2 = m2['학점']\n",
    "# 결측치 처리까지 : 결측치는 평균으로 처리\n",
    "# 결측치 처리 후 -> 자기 변수에 저장(scor1, scor2)\n",
    "scor1 =scor1.fillna(scor1.mean())\n",
    "scor2 =scor2.fillna(scor2.mean())"
   ]
  },
  {
   "cell_type": "code",
   "execution_count": 82,
   "metadata": {},
   "outputs": [
    {
     "name": "stdout",
     "output_type": "stream",
     "text": [
      "두 집단 평균 검정 = Ttest_indResult(statistic=-0.9561271382392642, pvalue=0.3516741458629946)\n",
      "t-검정 통계량 = -0.956, p-value = 0.352\n",
      " \n",
      "해석\n",
      "1. p-value = 0.352 > 0.05 이므로, 귀무가설 채택\n",
      "2. 귀무가설 채택 : 두 교육방법에 따른 평균학점에는 차이가 없다.\n"
     ]
    }
   ],
   "source": [
    "# 두 집단 검증하기\n",
    "tResult3 = stats.ttest_ind(scor1, scor2)\n",
    "print(\"두 집단 평균 검정 =\",tResult3)\n",
    "print(\"t-검정 통계량 = %.3f, p-value = %.3f\" %(tResult3))\n",
    "# 해석\n",
    "print(\" \")\n",
    "print('''해석\n",
    "1. p-value = 0.352 > 0.05 이므로, 귀무가설 채택\n",
    "2. 귀무가설 채택 : 두 교육방법에 따른 평균학점에는 차이가 없다.''')"
   ]
  },
  {
   "cell_type": "code",
   "execution_count": 83,
   "metadata": {},
   "outputs": [
    {
     "name": "stdout",
     "output_type": "stream",
     "text": [
      "정규성 검정 결과 = ShapiroResult(statistic=0.9615017771720886, pvalue=0.8028531074523926)\n",
      "검정 통계량 = 0.962, p-value = 0.803\n",
      " \n",
      "(해석)\n",
      "p-value = 0.803 > 0.05 이므로, 정규성을 만족한다\n"
     ]
    }
   ],
   "source": [
    "# 정규성 검정\n",
    "resultSh1 = stats.shapiro(scor1)\n",
    "print(\"정규성 검정 결과 =\", resultSh1)\n",
    "print(\"검정 통계량 = %.3f, p-value = %.3f\" %(resultSh1))\n",
    "print(\" \")\n",
    "print(\"\"\"(해석)\n",
    "p-value = 0.803 > 0.05 이므로, 정규성을 만족한다\"\"\")"
   ]
  },
  {
   "cell_type": "code",
   "execution_count": 10,
   "metadata": {},
   "outputs": [
    {
     "name": "stdout",
     "output_type": "stream",
     "text": [
      "정규성 검정 결과 =  ShapiroResult(statistic=0.917387068271637, pvalue=0.3356764316558838)\n",
      "검정 통계량 = 0.917, p-value = 0.336\n",
      " \n",
      "(해석)\n",
      "p-value = 0.336 > 0.05 이므로, 정규성을 만족한다\n"
     ]
    }
   ],
   "source": [
    "# 정규성 검정\n",
    "resultSh2 = stats.shapiro(scor2)\n",
    "print(\"정규성 검정 결과  =\", resultSh2)\n",
    "print(\"검정 통계량 = %.3f, p-value = %.3f\" %(resultSh2))\n",
    "print(\" \")\n",
    "print(\"\"\"(해석)\n",
    "p-value = 0.336 > 0.05 이므로, 정규성을 만족한다\"\"\")"
   ]
  },
  {
   "cell_type": "code",
   "execution_count": 76,
   "metadata": {},
   "outputs": [
    {
     "name": "stderr",
     "output_type": "stream",
     "text": [
      "c:\\DEV\\Langs\\Python\\Python39\\lib\\site-packages\\seaborn\\distributions.py:2619: FutureWarning: `distplot` is a deprecated function and will be removed in a future version. Please adapt your code to use either `displot` (a figure-level function with similar flexibility) or `histplot` (an axes-level function for histograms).\n",
      "  warnings.warn(msg, FutureWarning)\n"
     ]
    },
    {
     "data": {
      "image/png": "[encoded data removed]",
      "text/plain": [
       "<Figure size 432x288 with 1 Axes>"
      ]
     },
     "metadata": {
      "needs_background": "light"
     },
     "output_type": "display_data"
    },
    {
     "name": "stderr",
     "output_type": "stream",
     "text": [
      "c:\\DEV\\Langs\\Python\\Python39\\lib\\site-packages\\seaborn\\distributions.py:2619: FutureWarning: `distplot` is a deprecated function and will be removed in a future version. Please adapt your code to use either `displot` (a figure-level function with similar flexibility) or `histplot` (an axes-level function for histograms).\n",
      "  warnings.warn(msg, FutureWarning)\n"
     ]
    },
    {
     "data": {
      "image/png": "[encoded data removed]",
      "text/plain": [
       "<Figure size 432x288 with 1 Axes>"
      ]
     },
     "metadata": {
      "needs_background": "light"
     },
     "output_type": "display_data"
    }
   ],
   "source": [
    "# 정규분포 시각화\n",
    "import seaborn as sns\n",
    "import matplotlib.pyplot as plt\n",
    "\n",
    "# 한글처리\n",
    "plt.rc(\"font\", family  =\"NanumGothic\")\n",
    "\n",
    "# x : 데이터 집합\n",
    "# stats.norm : 정규 분포 표시\n",
    "sns.distplot(scor1, fit=stats.norm, color='blue')\n",
    "plt.show()\n",
    "sns.distplot(scor2, fit=stats.norm, color='red')\n",
    "plt.show()"
   ]
  },
  {
   "cell_type": "markdown",
   "metadata": {},
   "source": [
    "##### 등분산성 검증\n",
    "- 귀무가설 : 두 집단간 분산이 동일하다. (p-value > 0.05)\n",
    "- 대립가설 : 두 집단간 분산이 동일하지 않다.\n",
    "\n",
    "- 등분산성 검증은 3가지 방법으로 진행됩니다.\n",
    "1. levene(레빈) 방법\n",
    "2. fligner(플리그너) 방법\n",
    "3. bartlett(바틀렛) 방법"
   ]
  },
  {
   "cell_type": "code",
   "execution_count": 79,
   "metadata": {},
   "outputs": [
    {
     "name": "stdout",
     "output_type": "stream",
     "text": [
      "등분산성 levene 검증결과 =  LeveneResult(statistic=0.11149825783972156, pvalue=0.7423035272233627)\n",
      "검정 통계량 = 0.111, p-value = 0.742\n",
      "(해석)\n",
      "p-value = 0.742 > 0.05 이므로, 등분산성을 만족한다\n",
      " \n",
      "등분산성 levene 검증결과 =  FlignerResult(statistic=0.009351524793910174, pvalue=0.9229620332079382)\n",
      "검정 통계량 = 0.009, p-value = 0.923\n",
      "(해석)\n",
      "p-value = 0.923 > 0.05 이므로, 등분산성을 만족한다\n",
      " \n",
      "등분산성 levene 검증결과 =  BartlettResult(statistic=0.3806502963312651, pvalue=0.537255414112449)\n",
      "검정 통계량 = 0.381, p-value = 0.537\n",
      "(해석)\n",
      "p-value = 0.537 > 0.05 이므로, 등분산성을 만족한다\n"
     ]
    }
   ],
   "source": [
    "# levene 방법\n",
    "\n",
    "sLevene = stats.levene(scor1, scor2)\n",
    "print(\"등분산성 levene 검증결과  =\", sLevene)\n",
    "print(\"검정 통계량 = %.3f, p-value = %.3f\" %(sLevene))\n",
    "print(\"\"\"(해석)\n",
    "p-value = 0.742 > 0.05 이므로, 등분산성을 만족한다\"\"\")\n",
    "print(\" \")\n",
    "\n",
    "# fligner 방법\n",
    "\n",
    "sFligner = stats.fligner(scor1, scor2)\n",
    "print(\"등분산성 levene 검증결과  =\", sFligner)\n",
    "print(\"검정 통계량 = %.3f, p-value = %.3f\" %(sFligner))\n",
    "print(\"\"\"(해석)\n",
    "p-value = 0.923 > 0.05 이므로, 등분산성을 만족한다\"\"\")\n",
    "print(\" \")\n",
    "\n",
    "# bartlett 방법\n",
    "\n",
    "sBartlett = stats.bartlett(scor1, scor2)\n",
    "print(\"등분산성 levene 검증결과  =\", sBartlett)\n",
    "print(\"검정 통계량 = %.3f, p-value = %.3f\" %(sBartlett))\n",
    "print(\"\"\"(해석)\n",
    "p-value = 0.537 > 0.05 이므로, 등분산성을 만족한다\"\"\")\n"
   ]
  },
  {
   "cell_type": "code",
   "execution_count": 77,
   "metadata": {},
   "outputs": [
    {
     "name": "stdout",
     "output_type": "stream",
     "text": [
      "한 집단 평균 검정 (단일 표본검정) =  Ttest_indResult(statistic=-0.9561271382392642, pvalue=0.3516741458629946)\n",
      "t-검정 통계량 = -0.956, p-value = 0.352\n",
      "해석\n",
      "1. p-value = 0.352 > 0.05 이므로, 귀무가설 채택\n",
      "2. 귀무가설 채택 : 두 교육방법에 따른 평균학점에는 차이가 없다.\n"
     ]
    }
   ],
   "source": [
    "# 두 집단 검증하기\n",
    "# equal_var : 정규성과 등분산성 모두를 만족하는 경우 작성\n",
    "tResult3 = stats.ttest_ind(scor1, scor2, equal_var = True)\n",
    "print(\"두 집단 평균 검정  =\", tResult3)\n",
    "print(\"t-검정 통계량 = %.3f, p-value = %.3f\" %(tResult3))\n",
    "\n",
    "# 해석\n",
    "print('''해석\n",
    "1. p-value = 0.352 > 0.05 이므로, 귀무가설 채택\n",
    "2. 귀무가설 채택 : 두 교육방법에 따른 평균학점에는 차이가 없다.''')"
   ]
  },
  {
   "cell_type": "markdown",
   "metadata": {},
   "source": [
    "#### exe-4) 어느 음식점의 매출자료와 날씨자료를 이용하여 강수 여부에 따른 매출의 차이에 대하여 분석\n",
    "- 집단 1 : 비가 올때의 매출\n",
    "- 집단 2 : 비가 안올때의 매출\n",
    "- 귀무가설 : 강수여부에 따라 매출액 평균에 차이가 없다.\n",
    "- 대립가설 : 강수여부에 따라 매출액 평균에 차이가 있다."
   ]
  },
  {
   "cell_type": "code",
   "execution_count": 16,
   "metadata": {},
   "outputs": [],
   "source": [
    "# 사용 라이브러리\n",
    "import numpy as np\n",
    "import scipy.stats as stats\n",
    "import pandas as pd\n",
    "import matplotlib.pyplot as plt"
   ]
  },
  {
   "cell_type": "code",
   "execution_count": 47,
   "metadata": {},
   "outputs": [
    {
     "data": {
      "text/html": [
       "<div>\n",
       "<style scoped>\n",
       "    .dataframe tbody tr th:only-of-type {\n",
       "        vertical-align: middle;\n",
       "    }\n",
       "\n",
       "    .dataframe tbody tr th {\n",
       "        vertical-align: top;\n",
       "    }\n",
       "\n",
       "    .dataframe thead th {\n",
       "        text-align: right;\n",
       "    }\n",
       "</style>\n",
       "<table border=\"1\" class=\"dataframe\">\n",
       "  <thead>\n",
       "    <tr style=\"text-align: right;\">\n",
       "      <th></th>\n",
       "      <th>YMD</th>\n",
       "      <th>AMT</th>\n",
       "      <th>CNT</th>\n",
       "    </tr>\n",
       "  </thead>\n",
       "  <tbody>\n",
       "    <tr>\n",
       "      <th>0</th>\n",
       "      <td>20190514</td>\n",
       "      <td>0</td>\n",
       "      <td>1</td>\n",
       "    </tr>\n",
       "    <tr>\n",
       "      <th>1</th>\n",
       "      <td>20190519</td>\n",
       "      <td>18000</td>\n",
       "      <td>1</td>\n",
       "    </tr>\n",
       "    <tr>\n",
       "      <th>2</th>\n",
       "      <td>20190521</td>\n",
       "      <td>50000</td>\n",
       "      <td>4</td>\n",
       "    </tr>\n",
       "    <tr>\n",
       "      <th>3</th>\n",
       "      <td>20190522</td>\n",
       "      <td>125000</td>\n",
       "      <td>7</td>\n",
       "    </tr>\n",
       "    <tr>\n",
       "      <th>4</th>\n",
       "      <td>20190523</td>\n",
       "      <td>222500</td>\n",
       "      <td>13</td>\n",
       "    </tr>\n",
       "    <tr>\n",
       "      <th>...</th>\n",
       "      <td>...</td>\n",
       "      <td>...</td>\n",
       "      <td>...</td>\n",
       "    </tr>\n",
       "    <tr>\n",
       "      <th>323</th>\n",
       "      <td>20200424</td>\n",
       "      <td>1092500</td>\n",
       "      <td>51</td>\n",
       "    </tr>\n",
       "    <tr>\n",
       "      <th>324</th>\n",
       "      <td>20200425</td>\n",
       "      <td>672500</td>\n",
       "      <td>34</td>\n",
       "    </tr>\n",
       "    <tr>\n",
       "      <th>325</th>\n",
       "      <td>20200426</td>\n",
       "      <td>1123500</td>\n",
       "      <td>55</td>\n",
       "    </tr>\n",
       "    <tr>\n",
       "      <th>326</th>\n",
       "      <td>20200427</td>\n",
       "      <td>819500</td>\n",
       "      <td>45</td>\n",
       "    </tr>\n",
       "    <tr>\n",
       "      <th>327</th>\n",
       "      <td>20200428</td>\n",
       "      <td>950500</td>\n",
       "      <td>45</td>\n",
       "    </tr>\n",
       "  </tbody>\n",
       "</table>\n",
       "<p>328 rows × 3 columns</p>\n",
       "</div>"
      ],
      "text/plain": [
       "          YMD      AMT  CNT\n",
       "0    20190514        0    1\n",
       "1    20190519    18000    1\n",
       "2    20190521    50000    4\n",
       "3    20190522   125000    7\n",
       "4    20190523   222500   13\n",
       "..        ...      ...  ...\n",
       "323  20200424  1092500   51\n",
       "324  20200425   672500   34\n",
       "325  20200426  1123500   55\n",
       "326  20200427   819500   45\n",
       "327  20200428   950500   45\n",
       "\n",
       "[328 rows x 3 columns]"
      ]
     },
     "execution_count": 47,
     "metadata": {},
     "output_type": "execute_result"
    }
   ],
   "source": [
    "# 매출데이터 : tsales.csv\n",
    "# YMD : 날짜, AMT : 매출, CNT : 매출건수\n",
    "\n",
    "file_path1 = './data/tsales.csv'\n",
    "\n",
    "df1 = pd.read_csv(file_path1, dtype={\"YMD\":\"object\"})\n",
    "\n",
    "df1_temp = df1[['YMD','AMT','CNT']]\n",
    "df1_temp"
   ]
  },
  {
   "cell_type": "code",
   "execution_count": 46,
   "metadata": {},
   "outputs": [
    {
     "data": {
      "text/html": [
       "<div>\n",
       "<style scoped>\n",
       "    .dataframe tbody tr th:only-of-type {\n",
       "        vertical-align: middle;\n",
       "    }\n",
       "\n",
       "    .dataframe tbody tr th {\n",
       "        vertical-align: top;\n",
       "    }\n",
       "\n",
       "    .dataframe thead th {\n",
       "        text-align: right;\n",
       "    }\n",
       "</style>\n",
       "<table border=\"1\" class=\"dataframe\">\n",
       "  <thead>\n",
       "    <tr style=\"text-align: right;\">\n",
       "      <th></th>\n",
       "      <th>tm</th>\n",
       "      <th>sumRn</th>\n",
       "    </tr>\n",
       "  </thead>\n",
       "  <tbody>\n",
       "    <tr>\n",
       "      <th>0</th>\n",
       "      <td>20180601</td>\n",
       "      <td>0.0</td>\n",
       "    </tr>\n",
       "    <tr>\n",
       "      <th>1</th>\n",
       "      <td>20180602</td>\n",
       "      <td>0.0</td>\n",
       "    </tr>\n",
       "    <tr>\n",
       "      <th>2</th>\n",
       "      <td>20180603</td>\n",
       "      <td>0.0</td>\n",
       "    </tr>\n",
       "    <tr>\n",
       "      <th>3</th>\n",
       "      <td>20180604</td>\n",
       "      <td>0.0</td>\n",
       "    </tr>\n",
       "    <tr>\n",
       "      <th>4</th>\n",
       "      <td>20180605</td>\n",
       "      <td>0.0</td>\n",
       "    </tr>\n",
       "    <tr>\n",
       "      <th>...</th>\n",
       "      <td>...</td>\n",
       "      <td>...</td>\n",
       "    </tr>\n",
       "    <tr>\n",
       "      <th>697</th>\n",
       "      <td>20200428</td>\n",
       "      <td>0.0</td>\n",
       "    </tr>\n",
       "    <tr>\n",
       "      <th>698</th>\n",
       "      <td>20200429</td>\n",
       "      <td>0.0</td>\n",
       "    </tr>\n",
       "    <tr>\n",
       "      <th>699</th>\n",
       "      <td>20200430</td>\n",
       "      <td>0.0</td>\n",
       "    </tr>\n",
       "    <tr>\n",
       "      <th>700</th>\n",
       "      <td>20200501</td>\n",
       "      <td>0.0</td>\n",
       "    </tr>\n",
       "    <tr>\n",
       "      <th>701</th>\n",
       "      <td>20200502</td>\n",
       "      <td>0.0</td>\n",
       "    </tr>\n",
       "  </tbody>\n",
       "</table>\n",
       "<p>702 rows × 2 columns</p>\n",
       "</div>"
      ],
      "text/plain": [
       "           tm  sumRn\n",
       "0    20180601    0.0\n",
       "1    20180602    0.0\n",
       "2    20180603    0.0\n",
       "3    20180604    0.0\n",
       "4    20180605    0.0\n",
       "..        ...    ...\n",
       "697  20200428    0.0\n",
       "698  20200429    0.0\n",
       "699  20200430    0.0\n",
       "700  20200501    0.0\n",
       "701  20200502    0.0\n",
       "\n",
       "[702 rows x 2 columns]"
      ]
     },
     "execution_count": 46,
     "metadata": {},
     "output_type": "execute_result"
    }
   ],
   "source": [
    "# 날씨데이터 : twearther.csv\n",
    "# tm : 날짜, sumRn : 강수량\n",
    "\n",
    "file_path2 = './data/tweather.csv'\n",
    "df2 = pd.read_csv(file_path2, dtype={'tm':'object'})\n",
    "\n",
    "df2[\"tm\"] = df2[\"tm\"].str.replace(\"-\",\"\")\n",
    "df2\n",
    "\n",
    "df2_temp = df2[['tm','sumRn']]\n",
    "df2_temp"
   ]
  },
  {
   "cell_type": "code",
   "execution_count": 48,
   "metadata": {},
   "outputs": [
    {
     "data": {
      "text/html": [
       "<div>\n",
       "<style scoped>\n",
       "    .dataframe tbody tr th:only-of-type {\n",
       "        vertical-align: middle;\n",
       "    }\n",
       "\n",
       "    .dataframe tbody tr th {\n",
       "        vertical-align: top;\n",
       "    }\n",
       "\n",
       "    .dataframe thead th {\n",
       "        text-align: right;\n",
       "    }\n",
       "</style>\n",
       "<table border=\"1\" class=\"dataframe\">\n",
       "  <thead>\n",
       "    <tr style=\"text-align: right;\">\n",
       "      <th></th>\n",
       "      <th>YMD</th>\n",
       "      <th>AMT</th>\n",
       "      <th>CNT</th>\n",
       "      <th>tm</th>\n",
       "      <th>sumRn</th>\n",
       "    </tr>\n",
       "  </thead>\n",
       "  <tbody>\n",
       "    <tr>\n",
       "      <th>0</th>\n",
       "      <td>20190514</td>\n",
       "      <td>0</td>\n",
       "      <td>1</td>\n",
       "      <td>20190514</td>\n",
       "      <td>0.0</td>\n",
       "    </tr>\n",
       "    <tr>\n",
       "      <th>1</th>\n",
       "      <td>20190519</td>\n",
       "      <td>18000</td>\n",
       "      <td>1</td>\n",
       "      <td>20190519</td>\n",
       "      <td>22.0</td>\n",
       "    </tr>\n",
       "    <tr>\n",
       "      <th>2</th>\n",
       "      <td>20190521</td>\n",
       "      <td>50000</td>\n",
       "      <td>4</td>\n",
       "      <td>20190521</td>\n",
       "      <td>0.0</td>\n",
       "    </tr>\n",
       "    <tr>\n",
       "      <th>3</th>\n",
       "      <td>20190522</td>\n",
       "      <td>125000</td>\n",
       "      <td>7</td>\n",
       "      <td>20190522</td>\n",
       "      <td>0.0</td>\n",
       "    </tr>\n",
       "    <tr>\n",
       "      <th>4</th>\n",
       "      <td>20190523</td>\n",
       "      <td>222500</td>\n",
       "      <td>13</td>\n",
       "      <td>20190523</td>\n",
       "      <td>0.0</td>\n",
       "    </tr>\n",
       "    <tr>\n",
       "      <th>...</th>\n",
       "      <td>...</td>\n",
       "      <td>...</td>\n",
       "      <td>...</td>\n",
       "      <td>...</td>\n",
       "      <td>...</td>\n",
       "    </tr>\n",
       "    <tr>\n",
       "      <th>323</th>\n",
       "      <td>20200424</td>\n",
       "      <td>1092500</td>\n",
       "      <td>51</td>\n",
       "      <td>20200424</td>\n",
       "      <td>0.0</td>\n",
       "    </tr>\n",
       "    <tr>\n",
       "      <th>324</th>\n",
       "      <td>20200425</td>\n",
       "      <td>672500</td>\n",
       "      <td>34</td>\n",
       "      <td>20200425</td>\n",
       "      <td>0.0</td>\n",
       "    </tr>\n",
       "    <tr>\n",
       "      <th>325</th>\n",
       "      <td>20200426</td>\n",
       "      <td>1123500</td>\n",
       "      <td>55</td>\n",
       "      <td>20200426</td>\n",
       "      <td>0.0</td>\n",
       "    </tr>\n",
       "    <tr>\n",
       "      <th>326</th>\n",
       "      <td>20200427</td>\n",
       "      <td>819500</td>\n",
       "      <td>45</td>\n",
       "      <td>20200427</td>\n",
       "      <td>0.0</td>\n",
       "    </tr>\n",
       "    <tr>\n",
       "      <th>327</th>\n",
       "      <td>20200428</td>\n",
       "      <td>950500</td>\n",
       "      <td>45</td>\n",
       "      <td>20200428</td>\n",
       "      <td>0.0</td>\n",
       "    </tr>\n",
       "  </tbody>\n",
       "</table>\n",
       "<p>328 rows × 5 columns</p>\n",
       "</div>"
      ],
      "text/plain": [
       "          YMD      AMT  CNT        tm  sumRn\n",
       "0    20190514        0    1  20190514    0.0\n",
       "1    20190519    18000    1  20190519   22.0\n",
       "2    20190521    50000    4  20190521    0.0\n",
       "3    20190522   125000    7  20190522    0.0\n",
       "4    20190523   222500   13  20190523    0.0\n",
       "..        ...      ...  ...       ...    ...\n",
       "323  20200424  1092500   51  20200424    0.0\n",
       "324  20200425   672500   34  20200425    0.0\n",
       "325  20200426  1123500   55  20200426    0.0\n",
       "326  20200427   819500   45  20200427    0.0\n",
       "327  20200428   950500   45  20200428    0.0\n",
       "\n",
       "[328 rows x 5 columns]"
      ]
     },
     "execution_count": 48,
     "metadata": {},
     "output_type": "execute_result"
    }
   ],
   "source": [
    "# 매출데이터와 날씨데이터 합치기\n",
    "data = df1_temp.merge(df2_temp, how='left', left_on='YMD', right_on='tm')\n",
    "data"
   ]
  },
  {
   "cell_type": "code",
   "execution_count": 51,
   "metadata": {},
   "outputs": [
    {
     "data": {
      "text/html": [
       "<div>\n",
       "<style scoped>\n",
       "    .dataframe tbody tr th:only-of-type {\n",
       "        vertical-align: middle;\n",
       "    }\n",
       "\n",
       "    .dataframe tbody tr th {\n",
       "        vertical-align: top;\n",
       "    }\n",
       "\n",
       "    .dataframe thead th {\n",
       "        text-align: right;\n",
       "    }\n",
       "</style>\n",
       "<table border=\"1\" class=\"dataframe\">\n",
       "  <thead>\n",
       "    <tr style=\"text-align: right;\">\n",
       "      <th></th>\n",
       "      <th>YMD</th>\n",
       "      <th>AMT</th>\n",
       "      <th>CNT</th>\n",
       "      <th>tm</th>\n",
       "      <th>sumRn</th>\n",
       "    </tr>\n",
       "  </thead>\n",
       "  <tbody>\n",
       "    <tr>\n",
       "      <th>0</th>\n",
       "      <td>20190514</td>\n",
       "      <td>0</td>\n",
       "      <td>1</td>\n",
       "      <td>20190514</td>\n",
       "      <td>0</td>\n",
       "    </tr>\n",
       "    <tr>\n",
       "      <th>1</th>\n",
       "      <td>20190519</td>\n",
       "      <td>18000</td>\n",
       "      <td>1</td>\n",
       "      <td>20190519</td>\n",
       "      <td>1</td>\n",
       "    </tr>\n",
       "    <tr>\n",
       "      <th>2</th>\n",
       "      <td>20190521</td>\n",
       "      <td>50000</td>\n",
       "      <td>4</td>\n",
       "      <td>20190521</td>\n",
       "      <td>0</td>\n",
       "    </tr>\n",
       "    <tr>\n",
       "      <th>3</th>\n",
       "      <td>20190522</td>\n",
       "      <td>125000</td>\n",
       "      <td>7</td>\n",
       "      <td>20190522</td>\n",
       "      <td>0</td>\n",
       "    </tr>\n",
       "    <tr>\n",
       "      <th>4</th>\n",
       "      <td>20190523</td>\n",
       "      <td>222500</td>\n",
       "      <td>13</td>\n",
       "      <td>20190523</td>\n",
       "      <td>0</td>\n",
       "    </tr>\n",
       "    <tr>\n",
       "      <th>...</th>\n",
       "      <td>...</td>\n",
       "      <td>...</td>\n",
       "      <td>...</td>\n",
       "      <td>...</td>\n",
       "      <td>...</td>\n",
       "    </tr>\n",
       "    <tr>\n",
       "      <th>323</th>\n",
       "      <td>20200424</td>\n",
       "      <td>1092500</td>\n",
       "      <td>51</td>\n",
       "      <td>20200424</td>\n",
       "      <td>0</td>\n",
       "    </tr>\n",
       "    <tr>\n",
       "      <th>324</th>\n",
       "      <td>20200425</td>\n",
       "      <td>672500</td>\n",
       "      <td>34</td>\n",
       "      <td>20200425</td>\n",
       "      <td>0</td>\n",
       "    </tr>\n",
       "    <tr>\n",
       "      <th>325</th>\n",
       "      <td>20200426</td>\n",
       "      <td>1123500</td>\n",
       "      <td>55</td>\n",
       "      <td>20200426</td>\n",
       "      <td>0</td>\n",
       "    </tr>\n",
       "    <tr>\n",
       "      <th>326</th>\n",
       "      <td>20200427</td>\n",
       "      <td>819500</td>\n",
       "      <td>45</td>\n",
       "      <td>20200427</td>\n",
       "      <td>0</td>\n",
       "    </tr>\n",
       "    <tr>\n",
       "      <th>327</th>\n",
       "      <td>20200428</td>\n",
       "      <td>950500</td>\n",
       "      <td>45</td>\n",
       "      <td>20200428</td>\n",
       "      <td>0</td>\n",
       "    </tr>\n",
       "  </tbody>\n",
       "</table>\n",
       "<p>328 rows × 5 columns</p>\n",
       "</div>"
      ],
      "text/plain": [
       "          YMD      AMT  CNT        tm  sumRn\n",
       "0    20190514        0    1  20190514      0\n",
       "1    20190519    18000    1  20190519      1\n",
       "2    20190521    50000    4  20190521      0\n",
       "3    20190522   125000    7  20190522      0\n",
       "4    20190523   222500   13  20190523      0\n",
       "..        ...      ...  ...       ...    ...\n",
       "323  20200424  1092500   51  20200424      0\n",
       "324  20200425   672500   34  20200425      0\n",
       "325  20200426  1123500   55  20200426      0\n",
       "326  20200427   819500   45  20200427      0\n",
       "327  20200428   950500   45  20200428      0\n",
       "\n",
       "[328 rows x 5 columns]"
      ]
     },
     "execution_count": 51,
     "metadata": {},
     "output_type": "execute_result"
    }
   ],
   "source": [
    "data['sumRn'] = (data['sumRn'] > 0).astype(int)\n",
    "data"
   ]
  },
  {
   "cell_type": "code",
   "execution_count": 55,
   "metadata": {},
   "outputs": [
    {
     "data": {
      "text/plain": [
       "0            0\n",
       "1        50000\n",
       "2       125000\n",
       "3       222500\n",
       "4       209000\n",
       "        ...   \n",
       "231    1092500\n",
       "232     672500\n",
       "233    1123500\n",
       "234     819500\n",
       "235     950500\n",
       "Name: AMT, Length: 236, dtype: int64"
      ]
     },
     "execution_count": 55,
     "metadata": {},
     "output_type": "execute_result"
    }
   ],
   "source": [
    "# 비가 안올때 매출값 추출하기\n",
    "rainNamt = data[data['sumRn']==0]['AMT']\n",
    "rainNamt = rainNamt.reset_index(drop=True)\n",
    "rainNamt"
   ]
  },
  {
   "cell_type": "code",
   "execution_count": 56,
   "metadata": {},
   "outputs": [
    {
     "data": {
      "text/plain": [
       "0      18000\n",
       "1     274000\n",
       "2     318000\n",
       "3     139500\n",
       "4     482500\n",
       "       ...  \n",
       "87    933000\n",
       "88    700000\n",
       "89    760500\n",
       "90    908000\n",
       "91    741000\n",
       "Name: AMT, Length: 92, dtype: int64"
      ]
     },
     "execution_count": 56,
     "metadata": {},
     "output_type": "execute_result"
    }
   ],
   "source": [
    "# 비가 올때 매출값 추출하기\n",
    "rainYamt = data[data['sumRn']==1]['AMT']\n",
    "rainYamt = rainYamt.reset_index(drop=True)\n",
    "rainYamt"
   ]
  },
  {
   "cell_type": "code",
   "execution_count": 59,
   "metadata": {},
   "outputs": [
    {
     "data": {
      "image/png": "[encoded data removed]",
      "text/plain": [
       "<Figure size 432x288 with 1 Axes>"
      ]
     },
     "metadata": {
      "needs_background": "light"
     },
     "output_type": "display_data"
    },
    {
     "data": {
      "image/png": "[encoded data removed]",
      "text/plain": [
       "<Figure size 432x288 with 1 Axes>"
      ]
     },
     "metadata": {
      "needs_background": "light"
     },
     "output_type": "display_data"
    }
   ],
   "source": [
    "plt.plot(rainNamt)\n",
    "plt.title(\"비가 안 올때 매출액 추이\")\n",
    "plt.xlabel('index 번호')\n",
    "plt.ylabel('매출액')\n",
    "plt.show()\n",
    "\n",
    "plt.plot(rainYamt)\n",
    "plt.title(\"비가 올때 매출액 추이\")\n",
    "plt.xlabel('index 번호')\n",
    "plt.ylabel('매출액')\n",
    "plt.show()"
   ]
  },
  {
   "cell_type": "code",
   "execution_count": 61,
   "metadata": {},
   "outputs": [
    {
     "data": {
      "image/png": "[encoded data removed]",
      "text/plain": [
       "<Figure size 432x288 with 1 Axes>"
      ]
     },
     "metadata": {
      "needs_background": "light"
     },
     "output_type": "display_data"
    }
   ],
   "source": [
    "# 평균(중앙점) 추이 분석 - 박스플롯 이용\n",
    "plt.boxplot([rainNamt,rainYamt],\n",
    " meanline = True,\n",
    " showmeans = True,\n",
    " notch = True)\n",
    "plt.show()"
   ]
  },
  {
   "cell_type": "code",
   "execution_count": 66,
   "metadata": {},
   "outputs": [
    {
     "name": "stdout",
     "output_type": "stream",
     "text": [
      "정규성 검정 결과 =  ShapiroResult(statistic=0.9884955883026123, pvalue=0.056049469858407974)\n",
      "검정 통계량 = 0.988, p-value = 0.056\n",
      "(해석)\n",
      "p-value = 0.056 > 0.05 이므로, 정규성을 만족한다\n",
      " \n",
      "정규성 검정 결과 =  ShapiroResult(statistic=0.9924222826957703, pvalue=0.882739782333374)\n",
      "검정 통계량 = 0.992, p-value = 0.883\n",
      "(해석)\n",
      "p-value = 0.883 > 0.05 이므로, 정규성을 만족한다\n"
     ]
    }
   ],
   "source": [
    "# 정규성 검정\n",
    "resultSh2 = stats.shapiro(rainNamt)\n",
    "print(\"정규성 검정 결과  =\", resultSh2)\n",
    "print(\"검정 통계량 = %.3f, p-value = %.3f\" %(resultSh2))\n",
    "print(\"\"\"(해석)\n",
    "p-value = 0.056 > 0.05 이므로, 정규성을 만족한다\"\"\")\n",
    "print(\" \")\n",
    "# 정규성 검정\n",
    "resultSh2 = stats.shapiro(rainYamt)\n",
    "print(\"정규성 검정 결과  =\", resultSh2)\n",
    "print(\"검정 통계량 = %.3f, p-value = %.3f\" %(resultSh2))\n",
    "print(\"\"\"(해석)\n",
    "p-value = 0.883 > 0.05 이므로, 정규성을 만족한다\"\"\")"
   ]
  },
  {
   "cell_type": "code",
   "execution_count": 68,
   "metadata": {},
   "outputs": [
    {
     "name": "stderr",
     "output_type": "stream",
     "text": [
      "c:\\DEV\\Langs\\Python\\Python39\\lib\\site-packages\\seaborn\\distributions.py:2619: FutureWarning: `distplot` is a deprecated function and will be removed in a future version. Please adapt your code to use either `displot` (a figure-level function with similar flexibility) or `histplot` (an axes-level function for histograms).\n",
      "  warnings.warn(msg, FutureWarning)\n",
      "c:\\DEV\\Langs\\Python\\Python39\\lib\\site-packages\\IPython\\core\\pylabtools.py:151: UserWarning: Glyph 8722 (\\N{MINUS SIGN}) missing from current font.\n",
      "  fig.canvas.print_figure(bytes_io, **kw)\n"
     ]
    },
    {
     "data": {
      "image/png": "[encoded data removed]",
      "text/plain": [
       "<Figure size 432x288 with 1 Axes>"
      ]
     },
     "metadata": {
      "needs_background": "light"
     },
     "output_type": "display_data"
    },
    {
     "name": "stderr",
     "output_type": "stream",
     "text": [
      "c:\\DEV\\Langs\\Python\\Python39\\lib\\site-packages\\seaborn\\distributions.py:2619: FutureWarning: `distplot` is a deprecated function and will be removed in a future version. Please adapt your code to use either `displot` (a figure-level function with similar flexibility) or `histplot` (an axes-level function for histograms).\n",
      "  warnings.warn(msg, FutureWarning)\n",
      "c:\\DEV\\Langs\\Python\\Python39\\lib\\site-packages\\IPython\\core\\pylabtools.py:151: UserWarning: Glyph 8722 (\\N{MINUS SIGN}) missing from current font.\n",
      "  fig.canvas.print_figure(bytes_io, **kw)\n"
     ]
    },
    {
     "data": {
      "image/png": "[encoded data removed]",
      "text/plain": [
       "<Figure size 432x288 with 1 Axes>"
      ]
     },
     "metadata": {
      "needs_background": "light"
     },
     "output_type": "display_data"
    }
   ],
   "source": [
    "# 정규분포 시각화\n",
    "import seaborn as sns\n",
    "import matplotlib.pyplot as plt\n",
    "\n",
    "# 한글처리\n",
    "plt.rc(\"font\", family  =\"NanumGothic\")\n",
    "\n",
    "# x : 데이터 집합\n",
    "# stats.norm : 정규 분포 표시\n",
    "sns.distplot(rainNamt, fit=stats.norm, color='blue')\n",
    "plt.show()\n",
    "sns.distplot(rainYamt, fit=stats.norm, color='red')\n",
    "plt.show()"
   ]
  },
  {
   "cell_type": "code",
   "execution_count": 71,
   "metadata": {},
   "outputs": [
    {
     "name": "stdout",
     "output_type": "stream",
     "text": [
      "등분산성 levene 검증결과 =  LeveneResult(statistic=0.13618283405945808, pvalue=0.7123452333011173)\n",
      "검정 통계량 = 0.136, p-value = 0.712\n",
      "(해석)\n",
      "p-value = 0.712 > 0.05 이므로, 등분산성을 만족한다\n",
      " \n",
      "등분산성 levene 검증결과 =  FlignerResult(statistic=0.14330809936064023, pvalue=0.705014212806607)\n",
      "검정 통계량 = 0.143, p-value = 0.705\n",
      "(해석)\n",
      "p-value = 0.705 > 0.05 이므로, 등분산성을 만족한다\n",
      " \n",
      "등분산성 levene 검증결과 =  BartlettResult(statistic=0.2688957613342281, pvalue=0.6040734684690022)\n",
      "검정 통계량 = 0.269, p-value = 0.604\n",
      "(해석)\n",
      "p-value = 0.604 > 0.05 이므로, 등분산성을 만족한다\n"
     ]
    }
   ],
   "source": [
    "# levene 방법\n",
    "\n",
    "sLevene = stats.levene(rainNamt, rainYamt)\n",
    "print(\"등분산성 levene 검증결과  =\", sLevene)\n",
    "print(\"검정 통계량 = %.3f, p-value = %.3f\" %(sLevene))\n",
    "print(\"\"\"(해석)\n",
    "p-value = 0.712 > 0.05 이므로, 등분산성을 만족한다\"\"\")\n",
    "print(\" \")\n",
    "\n",
    "# fligner 방법\n",
    "\n",
    "sFligner = stats.fligner(rainNamt, rainYamt)\n",
    "print(\"등분산성 levene 검증결과  =\", sFligner)\n",
    "print(\"검정 통계량 = %.3f, p-value = %.3f\" %(sFligner))\n",
    "print(\"\"\"(해석)\n",
    "p-value = 0.705 > 0.05 이므로, 등분산성을 만족한다\"\"\")\n",
    "print(\" \")\n",
    "\n",
    "# bartlett 방법\n",
    "\n",
    "sBartlett = stats.bartlett(rainNamt, rainYamt)\n",
    "print(\"등분산성 levene 검증결과  =\", sBartlett)\n",
    "print(\"검정 통계량 = %.3f, p-value = %.3f\" %(sBartlett))\n",
    "print(\"\"\"(해석)\n",
    "p-value = 0.604 > 0.05 이므로, 등분산성을 만족한다\"\"\")"
   ]
  },
  {
   "cell_type": "code",
   "execution_count": 75,
   "metadata": {},
   "outputs": [
    {
     "name": "stdout",
     "output_type": "stream",
     "text": [
      "한 집단 평균 검정 (단일 표본검정) =  Ttest_indResult(statistic=0.10109828602924716, pvalue=0.919534587722196)\n",
      "t-검정 통계량 = 0.101, p-value = 0.920\n",
      "해석\n",
      "1. p-value = 0.920 > 0.05 이므로, 귀무가설 채택\n",
      "2. 귀무가설 채택 : 두 집단간 평균의 차이가 없다.\n",
      "                   비가 올때와 안올때는 매출에 영향을 주지 않는다\n"
     ]
    }
   ],
   "source": [
    "# 두 집단 검증하기\n",
    "# equal_var : 정규성과 등분산성 모두를 만족하는 경우 작성\n",
    "tResult3 = stats.ttest_ind(rainNamt, rainYamt, equal_var = True)\n",
    "print(\"두 집단 평균 검정  =\", tResult3)\n",
    "print(\"t-검정 통계량 = %.3f, p-value = %.3f\" %(tResult3))\n",
    "\n",
    "# 해석\n",
    "print('''해석\n",
    "1. p-value = 0.920 > 0.05 이므로, 귀무가설 채택\n",
    "2. 귀무가설 채택 : 두 집단간 평균의 차이가 없다.\n",
    " 비가 올때와 안올때는 매출에 영향을 주지 않는다''')"
   ]
  },
  {
   "cell_type": "code",
   "execution_count": null,
   "metadata": {},
   "outputs": [],
   "source": []
  }
 ],
 "metadata": {
  "kernelspec": {
   "display_name": "Python 3.9.12 64-bit",
   "language": "python",
   "name": "python3"
  },
  "language_info": {
   "codemirror_mode": {
    "name": "ipython",
    "version": 3
   },
   "file_extension": ".py",
   "mimetype": "text/x-python",
   "name": "python",
   "nbconvert_exporter": "python",
   "pygments_lexer": "ipython3",
   "version": "3.9.12"
  },
  "orig_nbformat": 4,
  "vscode": {
   "interpreter": {
    "hash": "38ae1ba9371524da054e8e3fbefd778d16b5a8ac7937a3f395010f627bb73919"
   }
  }
 },
 "nbformat": 4,
 "nbformat_minor": 2
}
