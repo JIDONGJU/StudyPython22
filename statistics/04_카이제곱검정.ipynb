{
 "cells": [
  {
   "cell_type": "markdown",
   "metadata": {},
   "source": [
    "### 카이제곱검정(chi-squared test)\n",
    "- 교차분석 or X^2검정 이라고도 합니다.\n",
    "1. 데이터간의 연관성을 확인 할 때 사용\n",
    "    - 데이터간 얼마나 가까운지에 대한 연관성 의미 부여\n",
    "    - 인과관계와는 무관함\n",
    "    인과관계 : 특정 데이터가 다른 데이터 값의 변화에 영향을 미치는지를 의미함\n",
    "2. 카이제곱의 종류\n",
    "    - 일원카이제곱(chisquare) : 1개 집단에서 기대값과 관찰값 사이의 유의미한 차이 확인\n",
    "    - 이원카이제곱(chi2_contigency) : 2개 이상의 집단에서, 데이터 간의 연관성(차이) 확인 \\\n",
    "                                     분석 대상의 집단 수에 의해서 \"독립성 검정\"과 동질성 검정\"으로 나뉜다.\n"
   ]
  },
  {
   "cell_type": "markdown",
   "metadata": {},
   "source": [
    "### 일원카이제곱"
   ]
  },
  {
   "cell_type": "markdown",
   "metadata": {},
   "source": [
    "#### exe_1) 5개의 스포츠 음료에 대한 선호도에 차이가 있는지 검정\n",
    "- 귀무가설 : 스포츠 음료에 대한 선호도 차이가 없다.\n",
    "- 대립가설 : 스포츠 음료에 대한 선호도 차이가 있다."
   ]
  },
  {
   "cell_type": "code",
   "execution_count": 1,
   "metadata": {},
   "outputs": [],
   "source": [
    "import pandas as pd\n",
    "import numpy as np\n",
    "import scipy.stats as stats"
   ]
  },
  {
   "cell_type": "code",
   "execution_count": 3,
   "metadata": {},
   "outputs": [
    {
     "data": {
      "text/html": [
       "<div>\n",
       "<style scoped>\n",
       "    .dataframe tbody tr th:only-of-type {\n",
       "        vertical-align: middle;\n",
       "    }\n",
       "\n",
       "    .dataframe tbody tr th {\n",
       "        vertical-align: top;\n",
       "    }\n",
       "\n",
       "    .dataframe thead th {\n",
       "        text-align: right;\n",
       "    }\n",
       "</style>\n",
       "<table border=\"1\" class=\"dataframe\">\n",
       "  <thead>\n",
       "    <tr style=\"text-align: right;\">\n",
       "      <th></th>\n",
       "      <th>음료종류</th>\n",
       "      <th>관측도수</th>\n",
       "    </tr>\n",
       "  </thead>\n",
       "  <tbody>\n",
       "    <tr>\n",
       "      <th>0</th>\n",
       "      <td>s1</td>\n",
       "      <td>41</td>\n",
       "    </tr>\n",
       "    <tr>\n",
       "      <th>1</th>\n",
       "      <td>s2</td>\n",
       "      <td>30</td>\n",
       "    </tr>\n",
       "    <tr>\n",
       "      <th>2</th>\n",
       "      <td>s3</td>\n",
       "      <td>51</td>\n",
       "    </tr>\n",
       "    <tr>\n",
       "      <th>3</th>\n",
       "      <td>s4</td>\n",
       "      <td>71</td>\n",
       "    </tr>\n",
       "    <tr>\n",
       "      <th>4</th>\n",
       "      <td>s5</td>\n",
       "      <td>61</td>\n",
       "    </tr>\n",
       "  </tbody>\n",
       "</table>\n",
       "</div>"
      ],
      "text/plain": [
       "  음료종류  관측도수\n",
       "0   s1    41\n",
       "1   s2    30\n",
       "2   s3    51\n",
       "3   s4    71\n",
       "4   s5    61"
      ]
     },
     "execution_count": 3,
     "metadata": {},
     "output_type": "execute_result"
    }
   ],
   "source": [
    "# 데이터 생성\n",
    "file_path = './data2/drinkdata.csv'\n",
    "data = pd.read_csv(file_path)\n",
    "data"
   ]
  },
  {
   "cell_type": "code",
   "execution_count": 6,
   "metadata": {},
   "outputs": [
    {
     "name": "stdout",
     "output_type": "stream",
     "text": [
      "한 집단 평균 검정 (단일 표본검정) = Power_divergenceResult(statistic=20.488188976377952, pvalue=0.00039991784008227264)\n",
      "검정 통계량 = 20.488, p-value = 0.000\n",
      "<해석>\n",
      "p-value = 0.000 < 0.05 이므로, 귀무가설 기각\n",
      "대립가설 채택 : 스포츠 음료에 대한 선호도 차이가 있다\n"
     ]
    }
   ],
   "source": [
    "# 검증하기\n",
    "result = stats.chisquare(data['관측도수'])\n",
    "\n",
    "print(\"한 집단 평균 검정 (단일 표본검정) =\",result)\n",
    "print(\"검정 통계량 = %.3f, p-value = %.3f\" %(result))\n",
    "\n",
    "print('''<해석>\n",
    "p-value = 0.000 < 0.05 이므로, 귀무가설 기각\n",
    "대립가설 채택 : 스포츠 음료에 대한 선호도 차이가 있다''')"
   ]
  },
  {
   "cell_type": "markdown",
   "metadata": {},
   "source": [
    "### 이원카이제곱 - 독립성 검정"
   ]
  },
  {
   "cell_type": "markdown",
   "metadata": {},
   "source": [
    "#### exe_2) 교육수준과 흡연율 간의 연관성 분석\n",
    "- 2개 집단 : 교육수준, 흡연율\n",
    "- 귀무가설 : 교육수준과 흡연율 간에 관련성이 없다.\n",
    "- 대립가설 : 교육수준과 흡연율 간에 관련성이 있다."
   ]
  },
  {
   "cell_type": "code",
   "execution_count": 7,
   "metadata": {},
   "outputs": [
    {
     "data": {
      "text/html": [
       "<div>\n",
       "<style scoped>\n",
       "    .dataframe tbody tr th:only-of-type {\n",
       "        vertical-align: middle;\n",
       "    }\n",
       "\n",
       "    .dataframe tbody tr th {\n",
       "        vertical-align: top;\n",
       "    }\n",
       "\n",
       "    .dataframe thead th {\n",
       "        text-align: right;\n",
       "    }\n",
       "</style>\n",
       "<table border=\"1\" class=\"dataframe\">\n",
       "  <thead>\n",
       "    <tr style=\"text-align: right;\">\n",
       "      <th></th>\n",
       "      <th>education</th>\n",
       "      <th>smoking</th>\n",
       "    </tr>\n",
       "  </thead>\n",
       "  <tbody>\n",
       "    <tr>\n",
       "      <th>0</th>\n",
       "      <td>1</td>\n",
       "      <td>1</td>\n",
       "    </tr>\n",
       "    <tr>\n",
       "      <th>1</th>\n",
       "      <td>1</td>\n",
       "      <td>1</td>\n",
       "    </tr>\n",
       "    <tr>\n",
       "      <th>2</th>\n",
       "      <td>1</td>\n",
       "      <td>1</td>\n",
       "    </tr>\n",
       "    <tr>\n",
       "      <th>3</th>\n",
       "      <td>1</td>\n",
       "      <td>1</td>\n",
       "    </tr>\n",
       "    <tr>\n",
       "      <th>4</th>\n",
       "      <td>1</td>\n",
       "      <td>1</td>\n",
       "    </tr>\n",
       "    <tr>\n",
       "      <th>...</th>\n",
       "      <td>...</td>\n",
       "      <td>...</td>\n",
       "    </tr>\n",
       "    <tr>\n",
       "      <th>350</th>\n",
       "      <td>3</td>\n",
       "      <td>3</td>\n",
       "    </tr>\n",
       "    <tr>\n",
       "      <th>351</th>\n",
       "      <td>3</td>\n",
       "      <td>3</td>\n",
       "    </tr>\n",
       "    <tr>\n",
       "      <th>352</th>\n",
       "      <td>3</td>\n",
       "      <td>3</td>\n",
       "    </tr>\n",
       "    <tr>\n",
       "      <th>353</th>\n",
       "      <td>3</td>\n",
       "      <td>3</td>\n",
       "    </tr>\n",
       "    <tr>\n",
       "      <th>354</th>\n",
       "      <td>3</td>\n",
       "      <td>3</td>\n",
       "    </tr>\n",
       "  </tbody>\n",
       "</table>\n",
       "<p>355 rows × 2 columns</p>\n",
       "</div>"
      ],
      "text/plain": [
       "     education  smoking\n",
       "0            1        1\n",
       "1            1        1\n",
       "2            1        1\n",
       "3            1        1\n",
       "4            1        1\n",
       "..         ...      ...\n",
       "350          3        3\n",
       "351          3        3\n",
       "352          3        3\n",
       "353          3        3\n",
       "354          3        3\n",
       "\n",
       "[355 rows x 2 columns]"
      ]
     },
     "execution_count": 7,
     "metadata": {},
     "output_type": "execute_result"
    }
   ],
   "source": [
    "## 데이터 확인\n",
    "file_path = './data2/smoke.csv'\n",
    "data = pd.read_csv(file_path)\n",
    "data"
   ]
  },
  {
   "cell_type": "code",
   "execution_count": 15,
   "metadata": {},
   "outputs": [
    {
     "name": "stdout",
     "output_type": "stream",
     "text": [
      "education = [1 2 3]\n",
      "smoking = [1 2 3]\n"
     ]
    }
   ],
   "source": [
    "## 각 데이터 집단간 고유한 값 확인하기\n",
    "# 교육수준(education) : 1(대학원졸), 2(대졸), 3(고졸)\n",
    "print(\"education =\",data['education'].unique())\n",
    "# 흡연(smoking) : 1(골초), 2(보통), 3(노담)\n",
    "print(\"smoking =\",data['smoking'].unique())"
   ]
  },
  {
   "cell_type": "code",
   "execution_count": 17,
   "metadata": {},
   "outputs": [
    {
     "name": "stdout",
     "output_type": "stream",
     "text": [
      "smoking     1   2   3\n",
      "education            \n",
      "1          51  92  68\n",
      "2          22  21   9\n",
      "3          43  28  21\n",
      "\n",
      "      골초  보통  노담\n",
      "대학원졸  51  92  68\n",
      "대졸    22  21   9\n",
      "고졸    43  28  21\n"
     ]
    }
   ],
   "source": [
    "## 이원카이제곱은 두집단간의 교차표를 생성합니다.\n",
    "# 교차표 : 빈도 집계를 의미합니다.\n",
    "\n",
    "ctab = pd.crosstab(index=data['education'], columns=data['smoking'])\n",
    "print(ctab)\n",
    "print()\n",
    "\n",
    "# 인덱스값 한글로 변경\n",
    "ctab.index = ['대학원졸','대졸','고졸']\n",
    "ctab.columns = ['골초','보통','노담']\n",
    "print(ctab)"
   ]
  },
  {
   "cell_type": "code",
   "execution_count": 21,
   "metadata": {},
   "outputs": [
    {
     "name": "stdout",
     "output_type": "stream",
     "text": [
      "검정 결과 = (18.910915739853955, 0.0008182572832162924, 4, array([[68.94647887, 83.8056338 , 58.24788732],\n",
      "       [16.9915493 , 20.65352113, 14.35492958],\n",
      "       [30.06197183, 36.54084507, 25.3971831 ]]))\n",
      "검정 통계량 = 18.911, p-value = 0.001\n",
      "해석\n",
      "1. p-value = 0.001 < 0.05 이므로, 귀무가설 기각\n",
      "2. 대립가설 채택 : 교육수준과 흡연율 간에 관련성이 있다.\n",
      "                   독립적이지 않다.\n"
     ]
    }
   ],
   "source": [
    "## 검정\n",
    "result = stats.chi2_contingency(ctab)\n",
    "print(\"검정 결과 =\",result)\n",
    "print(\"검정 통계량 = %.3f, p-value = %.3f\" %(result[0],result[1]))\n",
    "print('''해석\n",
    "1. p-value = 0.001 < 0.05 이므로, 귀무가설 기각\n",
    "2. 대립가설 채택 : 교육수준과 흡연율 간에 관련성이 있다.\n",
    "                   독립적이지 않다.''')"
   ]
  },
  {
   "cell_type": "markdown",
   "metadata": {},
   "source": [
    "#### exe_3) 국가전체와 지역에 대한 인종 간 인원수는 관련성이 있는지?\n",
    "- 집단 2개 : 국가전체, 특정지역\n",
    "- 귀무가설 : 국가전체와 지역에 대한 인종 간 인원수는 관련성이 없다.\n",
    "- 대립가설 : 국가전체와 지역에 대한 인종 간 인원수는 관련성이 있다."
   ]
  },
  {
   "cell_type": "code",
   "execution_count": 23,
   "metadata": {},
   "outputs": [
    {
     "data": {
      "text/html": [
       "<div>\n",
       "<style scoped>\n",
       "    .dataframe tbody tr th:only-of-type {\n",
       "        vertical-align: middle;\n",
       "    }\n",
       "\n",
       "    .dataframe tbody tr th {\n",
       "        vertical-align: top;\n",
       "    }\n",
       "\n",
       "    .dataframe thead th {\n",
       "        text-align: right;\n",
       "    }\n",
       "</style>\n",
       "<table border=\"1\" class=\"dataframe\">\n",
       "  <thead>\n",
       "    <tr style=\"text-align: right;\">\n",
       "      <th></th>\n",
       "      <th>0</th>\n",
       "    </tr>\n",
       "  </thead>\n",
       "  <tbody>\n",
       "    <tr>\n",
       "      <th>0</th>\n",
       "      <td>white</td>\n",
       "    </tr>\n",
       "    <tr>\n",
       "      <th>1</th>\n",
       "      <td>white</td>\n",
       "    </tr>\n",
       "    <tr>\n",
       "      <th>2</th>\n",
       "      <td>white</td>\n",
       "    </tr>\n",
       "    <tr>\n",
       "      <th>3</th>\n",
       "      <td>white</td>\n",
       "    </tr>\n",
       "    <tr>\n",
       "      <th>4</th>\n",
       "      <td>white</td>\n",
       "    </tr>\n",
       "    <tr>\n",
       "      <th>...</th>\n",
       "      <td>...</td>\n",
       "    </tr>\n",
       "    <tr>\n",
       "      <th>1370</th>\n",
       "      <td>other</td>\n",
       "    </tr>\n",
       "    <tr>\n",
       "      <th>1371</th>\n",
       "      <td>other</td>\n",
       "    </tr>\n",
       "    <tr>\n",
       "      <th>1372</th>\n",
       "      <td>other</td>\n",
       "    </tr>\n",
       "    <tr>\n",
       "      <th>1373</th>\n",
       "      <td>other</td>\n",
       "    </tr>\n",
       "    <tr>\n",
       "      <th>1374</th>\n",
       "      <td>other</td>\n",
       "    </tr>\n",
       "  </tbody>\n",
       "</table>\n",
       "<p>1375 rows × 1 columns</p>\n",
       "</div>"
      ],
      "text/plain": [
       "          0\n",
       "0     white\n",
       "1     white\n",
       "2     white\n",
       "3     white\n",
       "4     white\n",
       "...     ...\n",
       "1370  other\n",
       "1371  other\n",
       "1372  other\n",
       "1373  other\n",
       "1374  other\n",
       "\n",
       "[1375 rows x 1 columns]"
      ]
     },
     "execution_count": 23,
     "metadata": {},
     "output_type": "execute_result"
    }
   ],
   "source": [
    "## 데이터 생성\n",
    "# 국가전체 데이터 생성\n",
    "national = pd.DataFrame(['white']*100000+['hispanic']*60000+['black']*50000+['asian']*15000+['other']*35000)\n",
    "national\n",
    "# 특정지역 데이터 생성\n",
    "la = pd.DataFrame(['white']*600+['hispanic']*300+['black']*250+['asian']*75+['other']*150)\n",
    "la"
   ]
  },
  {
   "cell_type": "code",
   "execution_count": 27,
   "metadata": {},
   "outputs": [
    {
     "name": "stdout",
     "output_type": "stream",
     "text": [
      "col_0      count\n",
      "0               \n",
      "asian      15000\n",
      "black      50000\n",
      "hispanic   60000\n",
      "other      35000\n",
      "white     100000\n",
      "col_0     count\n",
      "0              \n",
      "asian        75\n",
      "black       250\n",
      "hispanic    300\n",
      "other       150\n",
      "white       600\n"
     ]
    },
    {
     "data": {
      "text/html": [
       "<div>\n",
       "<style scoped>\n",
       "    .dataframe tbody tr th:only-of-type {\n",
       "        vertical-align: middle;\n",
       "    }\n",
       "\n",
       "    .dataframe tbody tr th {\n",
       "        vertical-align: top;\n",
       "    }\n",
       "\n",
       "    .dataframe thead th {\n",
       "        text-align: right;\n",
       "    }\n",
       "</style>\n",
       "<table border=\"1\" class=\"dataframe\">\n",
       "  <thead>\n",
       "    <tr style=\"text-align: right;\">\n",
       "      <th>col_0</th>\n",
       "      <th>count</th>\n",
       "      <th>count_la</th>\n",
       "    </tr>\n",
       "    <tr>\n",
       "      <th>0</th>\n",
       "      <th></th>\n",
       "      <th></th>\n",
       "    </tr>\n",
       "  </thead>\n",
       "  <tbody>\n",
       "    <tr>\n",
       "      <th>asian</th>\n",
       "      <td>15000</td>\n",
       "      <td>75</td>\n",
       "    </tr>\n",
       "    <tr>\n",
       "      <th>black</th>\n",
       "      <td>50000</td>\n",
       "      <td>250</td>\n",
       "    </tr>\n",
       "    <tr>\n",
       "      <th>hispanic</th>\n",
       "      <td>60000</td>\n",
       "      <td>300</td>\n",
       "    </tr>\n",
       "    <tr>\n",
       "      <th>other</th>\n",
       "      <td>35000</td>\n",
       "      <td>150</td>\n",
       "    </tr>\n",
       "    <tr>\n",
       "      <th>white</th>\n",
       "      <td>100000</td>\n",
       "      <td>600</td>\n",
       "    </tr>\n",
       "  </tbody>\n",
       "</table>\n",
       "</div>"
      ],
      "text/plain": [
       "col_0      count  count_la\n",
       "0                         \n",
       "asian      15000        75\n",
       "black      50000       250\n",
       "hispanic   60000       300\n",
       "other      35000       150\n",
       "white     100000       600"
      ]
     },
     "execution_count": 27,
     "metadata": {},
     "output_type": "execute_result"
    }
   ],
   "source": [
    "## 교차표 만들기\n",
    "# 국가전체에 대한 교차표 작성\n",
    "na_table = pd.crosstab(index=national[0], columns=\"count\")\n",
    "print(na_table)\n",
    "\n",
    "# 지역전체에 대한 교차표 작성\n",
    "la_table = pd.crosstab(index=la[0], columns=\"count\")\n",
    "print(la_table)\n",
    "\n",
    "# 두개 데이터 합치기\n",
    "na_table['count_la'] = la_table['count']\n",
    "na_table"
   ]
  },
  {
   "cell_type": "code",
   "execution_count": 29,
   "metadata": {},
   "outputs": [
    {
     "name": "stdout",
     "output_type": "stream",
     "text": [
      "검정 결과 = (18.099524243141698, 0.0011800326671747886, 4, array([[1.49956958e+04, 7.93041607e+01],\n",
      "       [4.99856528e+04, 2.64347202e+02],\n",
      "       [5.99827834e+04, 3.17216643e+02],\n",
      "       [3.49650885e+04, 1.84911526e+02],\n",
      "       [1.00070780e+05, 5.29220469e+02]]))\n",
      "검정 통계량 = 18.100, p-value = 0.001\n",
      "해석\n",
      "1. p-value = 0.001 < 0.05 이므로, 귀무가설 기각\n",
      "2. 대립가설 채택 : 국가전체와 지역에 대한 인종 간 인원수는 관련성이 있다.\n",
      "                   독립적이지 않다.\n"
     ]
    }
   ],
   "source": [
    "## 검정하기\n",
    "## 검정\n",
    "result = stats.chi2_contingency(na_table)\n",
    "print(\"검정 결과 =\",result)\n",
    "print(\"검정 통계량 = %.3f, p-value = %.3f\" %(result[0],result[1]))\n",
    "print('''해석\n",
    "1. p-value = 0.001 < 0.05 이므로, 귀무가설 기각\n",
    "2. 대립가설 채택 : 국가전체와 지역에 대한 인종 간 인원수는 관련성이 있다.\n",
    "                   독립적이지 않다.''')"
   ]
  },
  {
   "cell_type": "markdown",
   "metadata": {},
   "source": [
    "#### exe_4) 교육방법에 따른 교육생들의 만족도 분석\n",
    "- 2개 집단 : 교육방법, 만족도\n",
    "- 귀무가설 : 교육방법에 따른 교육생들의 만족도에 차이가 없다 (동질이다)\n",
    "- 대립가설 : 교육방법에 따른 교육생들의 만족도에 차이가 있다 (동질이 아니다)"
   ]
  },
  {
   "cell_type": "code",
   "execution_count": 42,
   "metadata": {},
   "outputs": [
    {
     "name": "stdout",
     "output_type": "stream",
     "text": [
      "      no  method  survey\n",
      "0      1       1       1\n",
      "1      2       2       2\n",
      "2      3       3       3\n",
      "3      4       1       4\n",
      "4      5       2       5\n",
      "..   ...     ...     ...\n",
      "145  146       2       3\n",
      "146  147       3       4\n",
      "147  148       1       3\n",
      "148  149       2       2\n",
      "149  150       3       1\n",
      "\n",
      "[150 rows x 3 columns]\n",
      "\n",
      "[1 2 3 4 5]\n",
      "\n",
      "[1 2 3]\n"
     ]
    }
   ],
   "source": [
    "# 데이터 생성하기\n",
    "\n",
    "# survey_method.csv 파일 읽어오기\n",
    "data = pd.read_csv('./data2/survey_method.csv')\n",
    "print(data)\n",
    "print()\n",
    "\n",
    "# 만족도(survey) 고윳값 조회\n",
    "print(data['survey'].unique())\n",
    "print()\n",
    "\n",
    "# (method) 고윳값 조회\n",
    "print(data['method'].unique())"
   ]
  },
  {
   "cell_type": "code",
   "execution_count": 50,
   "metadata": {},
   "outputs": [
    {
     "data": {
      "text/html": [
       "<div>\n",
       "<style scoped>\n",
       "    .dataframe tbody tr th:only-of-type {\n",
       "        vertical-align: middle;\n",
       "    }\n",
       "\n",
       "    .dataframe tbody tr th {\n",
       "        vertical-align: top;\n",
       "    }\n",
       "\n",
       "    .dataframe thead th {\n",
       "        text-align: right;\n",
       "    }\n",
       "</style>\n",
       "<table border=\"1\" class=\"dataframe\">\n",
       "  <thead>\n",
       "    <tr style=\"text-align: right;\">\n",
       "      <th>survey</th>\n",
       "      <th>1</th>\n",
       "      <th>2</th>\n",
       "      <th>3</th>\n",
       "      <th>4</th>\n",
       "      <th>5</th>\n",
       "    </tr>\n",
       "    <tr>\n",
       "      <th>method</th>\n",
       "      <th></th>\n",
       "      <th></th>\n",
       "      <th></th>\n",
       "      <th></th>\n",
       "      <th></th>\n",
       "    </tr>\n",
       "  </thead>\n",
       "  <tbody>\n",
       "    <tr>\n",
       "      <th>1</th>\n",
       "      <td>5</td>\n",
       "      <td>8</td>\n",
       "      <td>15</td>\n",
       "      <td>16</td>\n",
       "      <td>6</td>\n",
       "    </tr>\n",
       "    <tr>\n",
       "      <th>2</th>\n",
       "      <td>8</td>\n",
       "      <td>14</td>\n",
       "      <td>11</td>\n",
       "      <td>11</td>\n",
       "      <td>6</td>\n",
       "    </tr>\n",
       "    <tr>\n",
       "      <th>3</th>\n",
       "      <td>8</td>\n",
       "      <td>7</td>\n",
       "      <td>11</td>\n",
       "      <td>15</td>\n",
       "      <td>9</td>\n",
       "    </tr>\n",
       "  </tbody>\n",
       "</table>\n",
       "</div>"
      ],
      "text/plain": [
       "survey  1   2   3   4  5\n",
       "method                  \n",
       "1       5   8  15  16  6\n",
       "2       8  14  11  11  6\n",
       "3       8   7  11  15  9"
      ]
     },
     "execution_count": 50,
     "metadata": {},
     "output_type": "execute_result"
    }
   ],
   "source": [
    "## 교차표(빈도표) 작성\n",
    "# 교육방법에 대한 만족도 교차표 마들기\n",
    "edu= pd.crosstab(index=data['method'], columns=data['survey'])\n",
    "edu"
   ]
  },
  {
   "cell_type": "code",
   "execution_count": 52,
   "metadata": {},
   "outputs": [
    {
     "name": "stdout",
     "output_type": "stream",
     "text": [
      "검정 결과 = (6.544667820529891, 0.5864574374550608, 8, array([[ 7.        ,  9.66666667, 12.33333333, 14.        ,  7.        ],\n",
      "       [ 7.        ,  9.66666667, 12.33333333, 14.        ,  7.        ],\n",
      "       [ 7.        ,  9.66666667, 12.33333333, 14.        ,  7.        ]]))\n",
      "검정 통계량 = 6.545, p-value = 0.586\n",
      "해석\n",
      "1. p-value = 0.586 > 0.05 이므로, 귀무가설 채택\n",
      "2. 귀무가설 채택 : 교육방법에 대한 교육생들의 만족도에 차이는 없다.\n",
      "                   동질이다.\n"
     ]
    }
   ],
   "source": [
    "## 검증하기\n",
    "# <해석>\n",
    "result = stats.chi2_contingency(edu)\n",
    "\n",
    "print(\"검정 결과 =\",result)\n",
    "print(\"검정 통계량 = %.3f, p-value = %.3f\" %(result[0],result[1]))\n",
    "\n",
    "print('''해석\n",
    "1. p-value = 0.586 > 0.05 이므로, 귀무가설 채택\n",
    "2. 귀무가설 채택 : 교육방법에 대한 교육생들의 만족도에 차이는 없다.\n",
    "                   동질이다.''')"
   ]
  },
  {
   "cell_type": "markdown",
   "metadata": {},
   "source": [
    "#### exe_5) 연령대별 sns 이용률 차이 검증\n",
    "- 2개 집단 : 연령, sns\n",
    "- 귀무가설 : 연령대별로 sns 서비스 이용 현황에 차이가 없다 (동질하다)\n",
    "- 대립가설 : 연령대별로 sns 서비스 이용 현황에 차이가 있다 (동질하지않다)"
   ]
  },
  {
   "cell_type": "code",
   "execution_count": 59,
   "metadata": {},
   "outputs": [
    {
     "name": "stdout",
     "output_type": "stream",
     "text": [
      "[1 2 3]\n",
      "['F' 'T' 'K' 'C' 'E']\n",
      "\n",
      "service    C   E    F    K    T\n",
      "age                            \n",
      "1         81  16  207  111  117\n",
      "2        109  15  107  236  104\n",
      "3         32  17   78  133   76\n",
      "\n",
      "검정 결과 = (102.75202494484225, 1.1679064204212775e-18, 8, array([[ 82.07366227,  17.74565671, 144.9228631 , 177.45656706,\n",
      "        109.80125087],\n",
      "       [ 88.09034051,  19.04656011, 155.54690757, 190.46560111,\n",
      "        117.85059069],\n",
      "       [ 51.83599722,  11.20778318,  91.53022933, 112.07783183,\n",
      "         69.34815844]]))\n",
      "검정 통계량 = 102.752, p-value = 0.000\n",
      "해석\n",
      "1. p-value = 0.000 < 0.05 이므로, 귀무가설 기각\n",
      "2. 대립가설 채택 : 연령대별로 sns 서비스 이용 현황에 차이가 있다.\n",
      "                   (동질하지않다.)\n"
     ]
    }
   ],
   "source": [
    "## 데이터 생성\n",
    "# snsbyage.csv 파일 읽어오기\n",
    "data = pd.read_csv('./data2/snsbyage.csv')\n",
    "data\n",
    "\n",
    "print(data['age'].unique())\n",
    "print(data['service'].unique())\n",
    "print()\n",
    "\n",
    "# 교차표 작성\n",
    "# age : (1,청소년) (2,중년) (3,노년)\n",
    "t1 = pd.crosstab(index=data['age'], columns=data['service'])\n",
    "print(t1)\n",
    "print()\n",
    "\n",
    "## 검증하기\n",
    "# <해석>\n",
    "result = stats.chi2_contingency(t1)\n",
    "\n",
    "print(\"검정 결과 =\",result)\n",
    "print(\"검정 통계량 = %.3f, p-value = %.3f\" %(result[0],result[1]))\n",
    "\n",
    "print('''해석\n",
    "1. p-value = 0.000 < 0.05 이므로, 귀무가설 기각\n",
    "2. 대립가설 채택 : 연령대별로 sns 서비스 이용 현황에 차이가 있다.\n",
    "                   (동질하지않다.)''')"
   ]
  },
  {
   "cell_type": "code",
   "execution_count": null,
   "metadata": {},
   "outputs": [],
   "source": []
  }
 ],
 "metadata": {
  "kernelspec": {
   "display_name": "Python 3.9.12 64-bit",
   "language": "python",
   "name": "python3"
  },
  "language_info": {
   "codemirror_mode": {
    "name": "ipython",
    "version": 3
   },
   "file_extension": ".py",
   "mimetype": "text/x-python",
   "name": "python",
   "nbconvert_exporter": "python",
   "pygments_lexer": "ipython3",
   "version": "3.9.12"
  },
  "orig_nbformat": 4,
  "vscode": {
   "interpreter": {
    "hash": "38ae1ba9371524da054e8e3fbefd778d16b5a8ac7937a3f395010f627bb73919"
   }
  }
 },
 "nbformat": 4,
 "nbformat_minor": 2
}
